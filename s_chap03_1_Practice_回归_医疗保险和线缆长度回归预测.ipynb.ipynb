{
 "cells": [
  {
   "cell_type": "markdown",
   "metadata": {},
   "source": [
    "# chap01\n",
    "# chap02\n",
    "# chap03_1\n",
    "**本案例为《机器学习实践》课程第三章课件配套代码。主要介绍Sklearn中的回归算法。**\n",
    "\n",
    "**目录**\n",
    "\n",
    "* [1. 医疗保险费用数据集](#1)\n",
    "    * [1.1 数据预处理](#1.1)\n",
    "    * [1.2 线性回归](#1.2)\n",
    "    * [1.3 Ridge回归](#1.3)\n",
    "    * [1.4 Lasso回归](#1.4)\n",
    "    * [1.5 弹性网络回归](#1.5)\n",
    "* [2. 模拟数据集](#2)\n",
    "    * [2.1 RANSAC vs 线性回归](#2.1)\n",
    "* [3. 电缆数据集](#3)\n",
    "    * [3.1 数据读取](#3.1)\n",
    "    * [3.2 K近邻回归](#3.2)\n",
    "    * [3.3 决策树回归](#3.3)"
   ]
  },
  {
   "cell_type": "code",
   "execution_count": 2,
   "metadata": {},
   "outputs": [],
   "source": [
    "# 导入pandas\n",
    "import pandas as pd\n",
    "file_insurance = './dataSets/data_chap3/insurance.csv'"
   ]
  },
  {
   "cell_type": "markdown",
   "metadata": {},
   "source": [
    "<a id=1></a>\n",
    "\n",
    "# 1 医疗保险费用数据集\n",
    "> **数据介绍：** 数据集包含美国医疗保险费用及被保险人年龄、性别等7个特征，共1338个样本   \n",
    "**特征说明：**\n",
    ">> \n",
    "|特征|说明|\n",
    "|---:|---:|\n",
    "|age|\t被保险人的年龄|\n",
    "|sex|\t被保险人的性别|\n",
    "|bmi|\t身体质量指数，等于体重（公斤）除以身高（米）的平方|\n",
    "|children|\t保险计划中所包括的受抚养者数量|\n",
    "|smoker|\t被保险人是否吸烟|\n",
    "|region|\t被保险人的居住区域：northeast、northwest、southeast和southwest|\n",
    "|charges|\t医疗保险费用|\n",
    "\n",
    "\n",
    "<a id=1.1></a>\n",
    "## 1.1 数据预处理\n",
    "\n",
    "### 1.1.1 数据探索"
   ]
  },
  {
   "cell_type": "code",
   "execution_count": 3,
   "metadata": {},
   "outputs": [
    {
     "data": {
      "text/html": [
       "<div>\n",
       "<style scoped>\n",
       "    .dataframe tbody tr th:only-of-type {\n",
       "        vertical-align: middle;\n",
       "    }\n",
       "\n",
       "    .dataframe tbody tr th {\n",
       "        vertical-align: top;\n",
       "    }\n",
       "\n",
       "    .dataframe thead th {\n",
       "        text-align: right;\n",
       "    }\n",
       "</style>\n",
       "<table border=\"1\" class=\"dataframe\">\n",
       "  <thead>\n",
       "    <tr style=\"text-align: right;\">\n",
       "      <th></th>\n",
       "      <th>age</th>\n",
       "      <th>sex</th>\n",
       "      <th>bmi</th>\n",
       "      <th>children</th>\n",
       "      <th>smoker</th>\n",
       "      <th>region</th>\n",
       "      <th>charges</th>\n",
       "    </tr>\n",
       "  </thead>\n",
       "  <tbody>\n",
       "    <tr>\n",
       "      <td>764</td>\n",
       "      <td>45</td>\n",
       "      <td>female</td>\n",
       "      <td>25.175</td>\n",
       "      <td>2</td>\n",
       "      <td>no</td>\n",
       "      <td>northeast</td>\n",
       "      <td>9095.06825</td>\n",
       "    </tr>\n",
       "    <tr>\n",
       "      <td>887</td>\n",
       "      <td>36</td>\n",
       "      <td>female</td>\n",
       "      <td>30.020</td>\n",
       "      <td>0</td>\n",
       "      <td>no</td>\n",
       "      <td>northwest</td>\n",
       "      <td>5272.17580</td>\n",
       "    </tr>\n",
       "    <tr>\n",
       "      <td>890</td>\n",
       "      <td>64</td>\n",
       "      <td>female</td>\n",
       "      <td>26.885</td>\n",
       "      <td>0</td>\n",
       "      <td>yes</td>\n",
       "      <td>northwest</td>\n",
       "      <td>29330.98315</td>\n",
       "    </tr>\n",
       "    <tr>\n",
       "      <td>1293</td>\n",
       "      <td>46</td>\n",
       "      <td>male</td>\n",
       "      <td>25.745</td>\n",
       "      <td>3</td>\n",
       "      <td>no</td>\n",
       "      <td>northwest</td>\n",
       "      <td>9301.89355</td>\n",
       "    </tr>\n",
       "    <tr>\n",
       "      <td>259</td>\n",
       "      <td>19</td>\n",
       "      <td>male</td>\n",
       "      <td>31.920</td>\n",
       "      <td>0</td>\n",
       "      <td>yes</td>\n",
       "      <td>northwest</td>\n",
       "      <td>33750.29180</td>\n",
       "    </tr>\n",
       "  </tbody>\n",
       "</table>\n",
       "</div>"
      ],
      "text/plain": [
       "      age     sex     bmi  children smoker     region      charges\n",
       "764    45  female  25.175         2     no  northeast   9095.06825\n",
       "887    36  female  30.020         0     no  northwest   5272.17580\n",
       "890    64  female  26.885         0    yes  northwest  29330.98315\n",
       "1293   46    male  25.745         3     no  northwest   9301.89355\n",
       "259    19    male  31.920         0    yes  northwest  33750.29180"
      ]
     },
     "execution_count": 3,
     "metadata": {},
     "output_type": "execute_result"
    }
   ],
   "source": [
    "# 读取数据\n",
    "data1 = pd.read_csv(file_insurance)\n",
    "# 随机查看\n",
    "data1.sample(5,random_state=42)"
   ]
  },
  {
   "cell_type": "code",
   "execution_count": 4,
   "metadata": {},
   "outputs": [
    {
     "data": {
      "text/plain": [
       "(1338, 7)"
      ]
     },
     "execution_count": 4,
     "metadata": {},
     "output_type": "execute_result"
    }
   ],
   "source": [
    "data1.shape"
   ]
  },
  {
   "cell_type": "code",
   "execution_count": 5,
   "metadata": {
    "scrolled": true
   },
   "outputs": [
    {
     "name": "stdout",
     "output_type": "stream",
     "text": [
      "<class 'pandas.core.frame.DataFrame'>\n",
      "RangeIndex: 1338 entries, 0 to 1337\n",
      "Data columns (total 7 columns):\n",
      "age         1338 non-null int64\n",
      "sex         1338 non-null object\n",
      "bmi         1338 non-null float64\n",
      "children    1338 non-null int64\n",
      "smoker      1338 non-null object\n",
      "region      1338 non-null object\n",
      "charges     1338 non-null float64\n",
      "dtypes: float64(2), int64(2), object(3)\n",
      "memory usage: 73.3+ KB\n"
     ]
    }
   ],
   "source": [
    "# 查看info()\n",
    "data1.info()"
   ]
  },
  {
   "cell_type": "markdown",
   "metadata": {},
   "source": [
    "### 1.1.2 非数值型变量编码 \n",
    "> `sex/smoker/region`列为类别变量而非数值变量，需进行编码:\n",
    ">> - 将`sex`列`male/female`替换为`1/0`，   \n",
    "- 将`smoker`列`yes/no`替换为`1/0`，   \n",
    "- 由于`region`列类别间无序，于是对其应用`One-hot`编码!"
   ]
  },
  {
   "cell_type": "code",
   "execution_count": 6,
   "metadata": {},
   "outputs": [],
   "source": [
    "#将sex列male/female替换为1/0,int类型\n",
    "data1['sex'] = data1['sex'].map({'male':1,'female':0}).astype(\"int\")\n",
    "#将smoker列yes/no替换为1/0，int类型\n",
    "data1['smoker'] = data1['smoker'].map({'yes':1,'no':0}).astype(\"int\")"
   ]
  },
  {
   "cell_type": "code",
   "execution_count": 7,
   "metadata": {},
   "outputs": [
    {
     "data": {
      "text/html": [
       "<div>\n",
       "<style scoped>\n",
       "    .dataframe tbody tr th:only-of-type {\n",
       "        vertical-align: middle;\n",
       "    }\n",
       "\n",
       "    .dataframe tbody tr th {\n",
       "        vertical-align: top;\n",
       "    }\n",
       "\n",
       "    .dataframe thead th {\n",
       "        text-align: right;\n",
       "    }\n",
       "</style>\n",
       "<table border=\"1\" class=\"dataframe\">\n",
       "  <thead>\n",
       "    <tr style=\"text-align: right;\">\n",
       "      <th></th>\n",
       "      <th>age</th>\n",
       "      <th>sex</th>\n",
       "      <th>bmi</th>\n",
       "      <th>children</th>\n",
       "      <th>smoker</th>\n",
       "      <th>charges</th>\n",
       "      <th>region_northeast</th>\n",
       "      <th>region_northwest</th>\n",
       "      <th>region_southeast</th>\n",
       "      <th>region_southwest</th>\n",
       "    </tr>\n",
       "  </thead>\n",
       "  <tbody>\n",
       "    <tr>\n",
       "      <td>764</td>\n",
       "      <td>45</td>\n",
       "      <td>0</td>\n",
       "      <td>25.175</td>\n",
       "      <td>2</td>\n",
       "      <td>0</td>\n",
       "      <td>9095.06825</td>\n",
       "      <td>1</td>\n",
       "      <td>0</td>\n",
       "      <td>0</td>\n",
       "      <td>0</td>\n",
       "    </tr>\n",
       "    <tr>\n",
       "      <td>887</td>\n",
       "      <td>36</td>\n",
       "      <td>0</td>\n",
       "      <td>30.020</td>\n",
       "      <td>0</td>\n",
       "      <td>0</td>\n",
       "      <td>5272.17580</td>\n",
       "      <td>0</td>\n",
       "      <td>1</td>\n",
       "      <td>0</td>\n",
       "      <td>0</td>\n",
       "    </tr>\n",
       "    <tr>\n",
       "      <td>890</td>\n",
       "      <td>64</td>\n",
       "      <td>0</td>\n",
       "      <td>26.885</td>\n",
       "      <td>0</td>\n",
       "      <td>1</td>\n",
       "      <td>29330.98315</td>\n",
       "      <td>0</td>\n",
       "      <td>1</td>\n",
       "      <td>0</td>\n",
       "      <td>0</td>\n",
       "    </tr>\n",
       "    <tr>\n",
       "      <td>1293</td>\n",
       "      <td>46</td>\n",
       "      <td>1</td>\n",
       "      <td>25.745</td>\n",
       "      <td>3</td>\n",
       "      <td>0</td>\n",
       "      <td>9301.89355</td>\n",
       "      <td>0</td>\n",
       "      <td>1</td>\n",
       "      <td>0</td>\n",
       "      <td>0</td>\n",
       "    </tr>\n",
       "    <tr>\n",
       "      <td>259</td>\n",
       "      <td>19</td>\n",
       "      <td>1</td>\n",
       "      <td>31.920</td>\n",
       "      <td>0</td>\n",
       "      <td>1</td>\n",
       "      <td>33750.29180</td>\n",
       "      <td>0</td>\n",
       "      <td>1</td>\n",
       "      <td>0</td>\n",
       "      <td>0</td>\n",
       "    </tr>\n",
       "  </tbody>\n",
       "</table>\n",
       "</div>"
      ],
      "text/plain": [
       "      age  sex     bmi  children  smoker      charges  region_northeast  \\\n",
       "764    45    0  25.175         2       0   9095.06825                 1   \n",
       "887    36    0  30.020         0       0   5272.17580                 0   \n",
       "890    64    0  26.885         0       1  29330.98315                 0   \n",
       "1293   46    1  25.745         3       0   9301.89355                 0   \n",
       "259    19    1  31.920         0       1  33750.29180                 0   \n",
       "\n",
       "      region_northwest  region_southeast  region_southwest  \n",
       "764                  0                 0                 0  \n",
       "887                  1                 0                 0  \n",
       "890                  1                 0                 0  \n",
       "1293                 1                 0                 0  \n",
       "259                  1                 0                 0  "
      ]
     },
     "execution_count": 7,
     "metadata": {},
     "output_type": "execute_result"
    }
   ],
   "source": [
    "#对region列进行one-hot编码\n",
    "new_data1 = pd.get_dummies(data=data1, columns=['region'], prefix='region')\n",
    "# 随机查看new_data\n",
    "new_data1.sample(5,random_state=42)"
   ]
  },
  {
   "cell_type": "markdown",
   "metadata": {},
   "source": [
    "### 1.1.3  因果数据分离(X，y)"
   ]
  },
  {
   "cell_type": "code",
   "execution_count": 8,
   "metadata": {},
   "outputs": [
    {
     "data": {
      "text/html": [
       "<div>\n",
       "<style scoped>\n",
       "    .dataframe tbody tr th:only-of-type {\n",
       "        vertical-align: middle;\n",
       "    }\n",
       "\n",
       "    .dataframe tbody tr th {\n",
       "        vertical-align: top;\n",
       "    }\n",
       "\n",
       "    .dataframe thead th {\n",
       "        text-align: right;\n",
       "    }\n",
       "</style>\n",
       "<table border=\"1\" class=\"dataframe\">\n",
       "  <thead>\n",
       "    <tr style=\"text-align: right;\">\n",
       "      <th></th>\n",
       "      <th>age</th>\n",
       "      <th>sex</th>\n",
       "      <th>bmi</th>\n",
       "      <th>children</th>\n",
       "      <th>smoker</th>\n",
       "      <th>region_northeast</th>\n",
       "      <th>region_northwest</th>\n",
       "      <th>region_southeast</th>\n",
       "      <th>region_southwest</th>\n",
       "    </tr>\n",
       "  </thead>\n",
       "  <tbody>\n",
       "    <tr>\n",
       "      <td>764</td>\n",
       "      <td>45</td>\n",
       "      <td>0</td>\n",
       "      <td>25.175</td>\n",
       "      <td>2</td>\n",
       "      <td>0</td>\n",
       "      <td>1</td>\n",
       "      <td>0</td>\n",
       "      <td>0</td>\n",
       "      <td>0</td>\n",
       "    </tr>\n",
       "    <tr>\n",
       "      <td>887</td>\n",
       "      <td>36</td>\n",
       "      <td>0</td>\n",
       "      <td>30.020</td>\n",
       "      <td>0</td>\n",
       "      <td>0</td>\n",
       "      <td>0</td>\n",
       "      <td>1</td>\n",
       "      <td>0</td>\n",
       "      <td>0</td>\n",
       "    </tr>\n",
       "    <tr>\n",
       "      <td>890</td>\n",
       "      <td>64</td>\n",
       "      <td>0</td>\n",
       "      <td>26.885</td>\n",
       "      <td>0</td>\n",
       "      <td>1</td>\n",
       "      <td>0</td>\n",
       "      <td>1</td>\n",
       "      <td>0</td>\n",
       "      <td>0</td>\n",
       "    </tr>\n",
       "    <tr>\n",
       "      <td>1293</td>\n",
       "      <td>46</td>\n",
       "      <td>1</td>\n",
       "      <td>25.745</td>\n",
       "      <td>3</td>\n",
       "      <td>0</td>\n",
       "      <td>0</td>\n",
       "      <td>1</td>\n",
       "      <td>0</td>\n",
       "      <td>0</td>\n",
       "    </tr>\n",
       "    <tr>\n",
       "      <td>259</td>\n",
       "      <td>19</td>\n",
       "      <td>1</td>\n",
       "      <td>31.920</td>\n",
       "      <td>0</td>\n",
       "      <td>1</td>\n",
       "      <td>0</td>\n",
       "      <td>1</td>\n",
       "      <td>0</td>\n",
       "      <td>0</td>\n",
       "    </tr>\n",
       "  </tbody>\n",
       "</table>\n",
       "</div>"
      ],
      "text/plain": [
       "      age  sex     bmi  children  smoker  region_northeast  region_northwest  \\\n",
       "764    45    0  25.175         2       0                 1                 0   \n",
       "887    36    0  30.020         0       0                 0                 1   \n",
       "890    64    0  26.885         0       1                 0                 1   \n",
       "1293   46    1  25.745         3       0                 0                 1   \n",
       "259    19    1  31.920         0       1                 0                 1   \n",
       "\n",
       "      region_southeast  region_southwest  \n",
       "764                  0                 0  \n",
       "887                  0                 0  \n",
       "890                  0                 0  \n",
       "1293                 0                 0  \n",
       "259                  0                 0  "
      ]
     },
     "execution_count": 8,
     "metadata": {},
     "output_type": "execute_result"
    }
   ],
   "source": [
    "# X\n",
    "X = new_data1.drop(['charges'],axis=1)\n",
    "# y\n",
    "y = new_data1['charges']\n",
    "# 随机查看X\n",
    "X.sample(5,random_state=42)"
   ]
  },
  {
   "cell_type": "markdown",
   "metadata": {},
   "source": [
    "### 1.1.4 train-test 数据集分割(0.2)"
   ]
  },
  {
   "cell_type": "code",
   "execution_count": 9,
   "metadata": {},
   "outputs": [
    {
     "name": "stdout",
     "output_type": "stream",
     "text": [
      "训练集大小：1070\n",
      "测试集大小：268\n"
     ]
    }
   ],
   "source": [
    "# 导入train_test_split\n",
    "from sklearn.model_selection import train_test_split\n",
    "# train与test划分\n",
    "x_train,x_test,y_train,y_test = train_test_split(X,y,test_size=0.2,random_state=1)\n",
    "# 查看划分后数据集大小\n",
    "print('训练集大小：%s' % len(x_train))\n",
    "print('测试集大小：%s' % len(x_test))"
   ]
  },
  {
   "cell_type": "markdown",
   "metadata": {},
   "source": [
    "<a id=1.2></a>\n",
    "\n",
    "## 1.2 线性回归"
   ]
  },
  {
   "cell_type": "code",
   "execution_count": 10,
   "metadata": {},
   "outputs": [
    {
     "data": {
      "text/plain": [
       "LinearRegression(copy_X=True, fit_intercept=True, n_jobs=None, normalize=False)"
      ]
     },
     "execution_count": 10,
     "metadata": {},
     "output_type": "execute_result"
    }
   ],
   "source": [
    "# 导入LinearRegression\n",
    "from sklearn.linear_model import LinearRegression\n",
    "# s1: 实例化模型(构建模型)\n",
    "lr = LinearRegression()\n",
    "# s2: 训练\n",
    "lr.fit(x_train,y_train)"
   ]
  },
  {
   "cell_type": "code",
   "execution_count": 11,
   "metadata": {},
   "outputs": [],
   "source": [
    "# s3： 使用训练好的模型预测\n",
    "y_pred = lr.predict(x_test)"
   ]
  },
  {
   "cell_type": "code",
   "execution_count": 12,
   "metadata": {},
   "outputs": [
    {
     "data": {
      "text/plain": [
       "array([  257.49024669,  -242.15306559,   321.62189278,   408.06102001,\n",
       "       23786.48604536,   584.37636275,   188.27979919,  -453.99951691,\n",
       "        -318.65664503])"
      ]
     },
     "execution_count": 12,
     "metadata": {},
     "output_type": "execute_result"
    }
   ],
   "source": [
    "# 输出模型的系数\n",
    "lr.coef_"
   ]
  },
  {
   "cell_type": "code",
   "execution_count": 13,
   "metadata": {},
   "outputs": [
    {
     "data": {
      "text/plain": [
       "age                   257.0\n",
       "sex                  -242.0\n",
       "bmi                   322.0\n",
       "children              408.0\n",
       "smoker              23786.0\n",
       "region_northeast      584.0\n",
       "region_northwest      188.0\n",
       "region_southeast     -454.0\n",
       "region_southwest     -319.0\n",
       "dtype: float64"
      ]
     },
     "execution_count": 13,
     "metadata": {},
     "output_type": "execute_result"
    }
   ],
   "source": [
    "# 基于模型系数lr.coef_，构建一个系数Series,系数数值取2位小数\n",
    "import numpy as np\n",
    "series_coef = pd.Series(data=np.round(lr.coef_),index=X.columns)\n",
    "series_coef"
   ]
  },
  {
   "cell_type": "code",
   "execution_count": 14,
   "metadata": {},
   "outputs": [
    {
     "data": {
      "text/plain": [
       "35479352.80730364"
      ]
     },
     "execution_count": 14,
     "metadata": {},
     "output_type": "execute_result"
    }
   ],
   "source": [
    "# s4：效果评估(mse)\n",
    "from sklearn.metrics import mean_squared_error\n",
    "mean_squared_error(y_test,y_pred)"
   ]
  },
  {
   "cell_type": "code",
   "execution_count": 15,
   "metadata": {},
   "outputs": [
    {
     "name": "stdout",
     "output_type": "stream",
     "text": [
      "训练集的决定系数为：0.7478\n",
      "测试集的决定系数为：0.7623\n"
     ]
    }
   ],
   "source": [
    "# s4：效果评估(决定系数R2)\n",
    "print('训练集的决定系数为：%s'%round(lr.score(x_train,y_train),4))\n",
    "print('测试集的决定系数为：%s'%round(lr.score(x_test,y_test),4))"
   ]
  },
  {
   "cell_type": "code",
   "execution_count": 16,
   "metadata": {},
   "outputs": [
    {
     "data": {
      "text/plain": [
       "0.7623311844057112"
      ]
     },
     "execution_count": 16,
     "metadata": {},
     "output_type": "execute_result"
    }
   ],
   "source": [
    "# s4：效果评估(决定系数R2)\n",
    "from sklearn.metrics import r2_score\n",
    "r2_score(y_test,y_pred)    # 等价于测试集上的 lr.score(x_test,y_test)"
   ]
  },
  {
   "cell_type": "code",
   "execution_count": 17,
   "metadata": {},
   "outputs": [
    {
     "data": {
      "text/plain": [
       "[<matplotlib.lines.Line2D at 0x206f022bb88>]"
      ]
     },
     "execution_count": 17,
     "metadata": {},
     "output_type": "execute_result"
    },
    {
     "data": {
      "image/png": "[encoded data removed]",
      "text/plain": [
       "<Figure size 432x288 with 2 Axes>"
      ]
     },
     "metadata": {
      "needs_background": "light"
     },
     "output_type": "display_data"
    }
   ],
   "source": [
    "# 图显\n",
    "import matplotlib.pyplot as plt\n",
    "%matplotlib inline\n",
    "fig,ax = plt.subplots(2,1)\n",
    "ax[0].plot(np.array(y_test))\n",
    "ax[1].plot(y_pred)\n"
   ]
  },
  {
   "cell_type": "code",
   "execution_count": 18,
   "metadata": {},
   "outputs": [
    {
     "data": {
      "text/plain": [
       "(pandas.core.series.Series, numpy.ndarray)"
      ]
     },
     "execution_count": 18,
     "metadata": {},
     "output_type": "execute_result"
    }
   ],
   "source": [
    "# 注意一下y_test的类型，需要转成np.array()后，再绘图\n",
    "type(y_test),type(y_pred)"
   ]
  },
  {
   "cell_type": "markdown",
   "metadata": {},
   "source": [
    "<a id=1.3></a>\n",
    "\n",
    "## 1.3 Ridge回归"
   ]
  },
  {
   "cell_type": "markdown",
   "metadata": {},
   "source": [
    "### 1.3.1 Ridge模型构建"
   ]
  },
  {
   "cell_type": "code",
   "execution_count": 19,
   "metadata": {},
   "outputs": [
    {
     "name": "stdout",
     "output_type": "stream",
     "text": [
      "各自变量系数为：\n"
     ]
    },
    {
     "data": {
      "text/plain": [
       "age                   256.508759\n",
       "sex                   -88.131471\n",
       "bmi                   317.568805\n",
       "children              388.140081\n",
       "smoker              21322.664777\n",
       "region_northeast      544.013327\n",
       "region_northwest      129.953950\n",
       "region_southeast     -342.254060\n",
       "region_southwest     -331.713216\n",
       "dtype: float64"
      ]
     },
     "execution_count": 19,
     "metadata": {},
     "output_type": "execute_result"
    }
   ],
   "source": [
    "# S0： 导入Ridge\n",
    "from sklearn.linear_model import Ridge\n",
    "# S1： 构造模型,超参alpha=20\n",
    "rid = Ridge(alpha=20)\n",
    "# S2： 训练模型\n",
    "rid.fit(x_train,y_train)\n",
    "# S3： 使用模型\n",
    "y_rid_pred = rid.predict(x_test)\n",
    "\n",
    "print('各自变量系数为：')\n",
    "pd.Series(data=rid.coef_, index=X.columns)"
   ]
  },
  {
   "cell_type": "code",
   "execution_count": 20,
   "metadata": {},
   "outputs": [
    {
     "name": "stdout",
     "output_type": "stream",
     "text": [
      "训练集决定系数：0.741\n",
      "测试集决定系数：0.754\n"
     ]
    }
   ],
   "source": [
    "# S4：评估模型\n",
    "print('训练集决定系数：%s'%round(rid.score(x_train,y_train),4))\n",
    "print('测试集决定系数：%s'%round(rid.score(x_test,y_test),4))"
   ]
  },
  {
   "cell_type": "markdown",
   "metadata": {},
   "source": [
    "### 1.3.2 Ridge模型`alpha`调优"
   ]
  },
  {
   "cell_type": "code",
   "execution_count": 21,
   "metadata": {},
   "outputs": [
    {
     "data": {
      "text/plain": [
       "array([2.71828183e+00, 7.38905610e+00, 2.00855369e+01, 5.45981500e+01,\n",
       "       1.48413159e+02, 4.03428793e+02, 1.09663316e+03, 2.98095799e+03,\n",
       "       8.10308393e+03, 2.20264658e+04, 5.98741417e+04, 1.62754791e+05,\n",
       "       4.42413392e+05, 1.20260428e+06, 3.26901737e+06, 8.88611052e+06,\n",
       "       2.41549528e+07, 6.56599691e+07, 1.78482301e+08, 4.85165195e+08])"
      ]
     },
     "execution_count": 21,
     "metadata": {},
     "output_type": "execute_result"
    }
   ],
   "source": [
    "import numpy as np\n",
    "# 创建一个基为e，首项为e，末项为e^20的等比数列，使用np.logspace()\n",
    "alphas = np.logspace(1,20,20,base=np.exp(1))\n",
    "alphas"
   ]
  },
  {
   "cell_type": "code",
   "execution_count": 22,
   "metadata": {},
   "outputs": [
    {
     "data": {
      "text/html": [
       "<div>\n",
       "<style scoped>\n",
       "    .dataframe tbody tr th:only-of-type {\n",
       "        vertical-align: middle;\n",
       "    }\n",
       "\n",
       "    .dataframe tbody tr th {\n",
       "        vertical-align: top;\n",
       "    }\n",
       "\n",
       "    .dataframe thead th {\n",
       "        text-align: right;\n",
       "    }\n",
       "</style>\n",
       "<table border=\"1\" class=\"dataframe\">\n",
       "  <thead>\n",
       "    <tr style=\"text-align: right;\">\n",
       "      <th></th>\n",
       "      <th>age</th>\n",
       "      <th>sex</th>\n",
       "      <th>bmi</th>\n",
       "      <th>children</th>\n",
       "      <th>smoker</th>\n",
       "      <th>region_northeast</th>\n",
       "      <th>region_northwest</th>\n",
       "      <th>region_southeast</th>\n",
       "      <th>region_southwest</th>\n",
       "      <th>log(alpha)</th>\n",
       "    </tr>\n",
       "  </thead>\n",
       "  <tbody>\n",
       "    <tr>\n",
       "      <td>0</td>\n",
       "      <td>257.345448</td>\n",
       "      <td>-217.937430</td>\n",
       "      <td>321.001661</td>\n",
       "      <td>405.132398</td>\n",
       "      <td>23418.537524</td>\n",
       "      <td>578.529887</td>\n",
       "      <td>179.190089</td>\n",
       "      <td>-436.690555</td>\n",
       "      <td>-321.029421</td>\n",
       "      <td>1.0</td>\n",
       "    </tr>\n",
       "    <tr>\n",
       "      <td>1</td>\n",
       "      <td>257.105555</td>\n",
       "      <td>-178.948312</td>\n",
       "      <td>319.991039</td>\n",
       "      <td>400.273497</td>\n",
       "      <td>22812.313378</td>\n",
       "      <td>568.762187</td>\n",
       "      <td>164.498207</td>\n",
       "      <td>-408.637525</td>\n",
       "      <td>-324.622869</td>\n",
       "      <td>2.0</td>\n",
       "    </tr>\n",
       "    <tr>\n",
       "      <td>2</td>\n",
       "      <td>256.504943</td>\n",
       "      <td>-87.579503</td>\n",
       "      <td>317.553743</td>\n",
       "      <td>388.062271</td>\n",
       "      <td>21313.227673</td>\n",
       "      <td>543.853023</td>\n",
       "      <td>129.742387</td>\n",
       "      <td>-341.845440</td>\n",
       "      <td>-331.749970</td>\n",
       "      <td>3.0</td>\n",
       "    </tr>\n",
       "    <tr>\n",
       "      <td>3</td>\n",
       "      <td>255.172296</td>\n",
       "      <td>82.563931</td>\n",
       "      <td>312.621483</td>\n",
       "      <td>360.622112</td>\n",
       "      <td>18085.809351</td>\n",
       "      <td>486.194718</td>\n",
       "      <td>63.162957</td>\n",
       "      <td>-211.574652</td>\n",
       "      <td>-337.783023</td>\n",
       "      <td>4.0</td>\n",
       "    </tr>\n",
       "    <tr>\n",
       "      <td>4</td>\n",
       "      <td>252.852861</td>\n",
       "      <td>268.032574</td>\n",
       "      <td>305.559312</td>\n",
       "      <td>310.656464</td>\n",
       "      <td>12818.737802</td>\n",
       "      <td>377.745925</td>\n",
       "      <td>-17.199640</td>\n",
       "      <td>-45.566423</td>\n",
       "      <td>-314.979862</td>\n",
       "      <td>5.0</td>\n",
       "    </tr>\n",
       "    <tr>\n",
       "      <td>5</td>\n",
       "      <td>250.048105</td>\n",
       "      <td>303.332431</td>\n",
       "      <td>299.055763</td>\n",
       "      <td>241.140497</td>\n",
       "      <td>7161.229387</td>\n",
       "      <td>234.809780</td>\n",
       "      <td>-54.212444</td>\n",
       "      <td>50.956702</td>\n",
       "      <td>-231.554038</td>\n",
       "      <td>6.0</td>\n",
       "    </tr>\n",
       "    <tr>\n",
       "      <td>6</td>\n",
       "      <td>247.576506</td>\n",
       "      <td>196.694532</td>\n",
       "      <td>292.642667</td>\n",
       "      <td>162.769129</td>\n",
       "      <td>3257.690239</td>\n",
       "      <td>114.458486</td>\n",
       "      <td>-41.554080</td>\n",
       "      <td>53.337171</td>\n",
       "      <td>-126.241577</td>\n",
       "      <td>7.0</td>\n",
       "    </tr>\n",
       "    <tr>\n",
       "      <td>7</td>\n",
       "      <td>245.064552</td>\n",
       "      <td>93.116313</td>\n",
       "      <td>280.046624</td>\n",
       "      <td>90.588470</td>\n",
       "      <td>1312.873259</td>\n",
       "      <td>46.339189</td>\n",
       "      <td>-21.298992</td>\n",
       "      <td>30.361042</td>\n",
       "      <td>-55.401239</td>\n",
       "      <td>8.0</td>\n",
       "    </tr>\n",
       "    <tr>\n",
       "      <td>8</td>\n",
       "      <td>240.332424</td>\n",
       "      <td>38.221195</td>\n",
       "      <td>251.289175</td>\n",
       "      <td>41.659995</td>\n",
       "      <td>500.495949</td>\n",
       "      <td>16.422000</td>\n",
       "      <td>-9.792790</td>\n",
       "      <td>15.099289</td>\n",
       "      <td>-21.728499</td>\n",
       "      <td>9.0</td>\n",
       "    </tr>\n",
       "    <tr>\n",
       "      <td>9</td>\n",
       "      <td>228.213198</td>\n",
       "      <td>14.890372</td>\n",
       "      <td>197.074096</td>\n",
       "      <td>16.990855</td>\n",
       "      <td>186.542067</td>\n",
       "      <td>5.070417</td>\n",
       "      <td>-4.546824</td>\n",
       "      <td>7.550947</td>\n",
       "      <td>-8.074540</td>\n",
       "      <td>10.0</td>\n",
       "    </tr>\n",
       "  </tbody>\n",
       "</table>\n",
       "</div>"
      ],
      "text/plain": [
       "          age         sex         bmi    children        smoker  \\\n",
       "0  257.345448 -217.937430  321.001661  405.132398  23418.537524   \n",
       "1  257.105555 -178.948312  319.991039  400.273497  22812.313378   \n",
       "2  256.504943  -87.579503  317.553743  388.062271  21313.227673   \n",
       "3  255.172296   82.563931  312.621483  360.622112  18085.809351   \n",
       "4  252.852861  268.032574  305.559312  310.656464  12818.737802   \n",
       "5  250.048105  303.332431  299.055763  241.140497   7161.229387   \n",
       "6  247.576506  196.694532  292.642667  162.769129   3257.690239   \n",
       "7  245.064552   93.116313  280.046624   90.588470   1312.873259   \n",
       "8  240.332424   38.221195  251.289175   41.659995    500.495949   \n",
       "9  228.213198   14.890372  197.074096   16.990855    186.542067   \n",
       "\n",
       "   region_northeast  region_northwest  region_southeast  region_southwest  \\\n",
       "0        578.529887        179.190089       -436.690555       -321.029421   \n",
       "1        568.762187        164.498207       -408.637525       -324.622869   \n",
       "2        543.853023        129.742387       -341.845440       -331.749970   \n",
       "3        486.194718         63.162957       -211.574652       -337.783023   \n",
       "4        377.745925        -17.199640        -45.566423       -314.979862   \n",
       "5        234.809780        -54.212444         50.956702       -231.554038   \n",
       "6        114.458486        -41.554080         53.337171       -126.241577   \n",
       "7         46.339189        -21.298992         30.361042        -55.401239   \n",
       "8         16.422000         -9.792790         15.099289        -21.728499   \n",
       "9          5.070417         -4.546824          7.550947         -8.074540   \n",
       "\n",
       "   log(alpha)  \n",
       "0         1.0  \n",
       "1         2.0  \n",
       "2         3.0  \n",
       "3         4.0  \n",
       "4         5.0  \n",
       "5         6.0  \n",
       "6         7.0  \n",
       "7         8.0  \n",
       "8         9.0  \n",
       "9        10.0  "
      ]
     },
     "execution_count": 22,
     "metadata": {},
     "output_type": "execute_result"
    }
   ],
   "source": [
    "#创建一个DataFrame以整合结果\n",
    "coef_rid = pd.DataFrame()\n",
    "#计算各惩罚系数下的各自变量系数\n",
    "for alpha in alphas:\n",
    "    rid = Ridge(alpha=alpha)\n",
    "    rid.fit(x_train,y_train)\n",
    "    df = pd.DataFrame([rid.coef_], columns=X.columns)\n",
    "    #为便于观察结果，我们将alpha以对数形式显示\n",
    "    df['log(alpha)'] = np.log(alpha)\n",
    "    coef_rid = coef_rid.append(df,ignore_index=True)\n",
    "    \n",
    "coef_rid.head(10)"
   ]
  },
  {
   "cell_type": "code",
   "execution_count": 23,
   "metadata": {},
   "outputs": [],
   "source": [
    "#绘图基本设置\n",
    "import matplotlib.pyplot as plt\n",
    "plt.rcParams['font.sans-serif'] = ['SimHei']   # 显示中文\n",
    "plt.rcParams['axes.unicode_minus']=False       # 用来正常显示负号\n",
    "%matplotlib inline"
   ]
  },
  {
   "cell_type": "code",
   "execution_count": 24,
   "metadata": {},
   "outputs": [],
   "source": [
    "plt.plot?\n",
    "# **Plotting labelled data**: plot('xlabel', 'ylabel', data=obj)"
   ]
  },
  {
   "cell_type": "code",
   "execution_count": 25,
   "metadata": {},
   "outputs": [
    {
     "data": {
      "image/png": "[encoded data removed]",
      "text/plain": [
       "<Figure size 432x288 with 1 Axes>"
      ]
     },
     "metadata": {
      "needs_background": "light"
     },
     "output_type": "display_data"
    }
   ],
   "source": [
    "# 绘制各个系数的变化趋势图\n",
    "## 遍历每一个特征->绘图'log(alpha)'与每个特征的折线图\n",
    "for feature in X.columns:\n",
    "    plt.plot('log(alpha)',feature,data=coef_rid)\n",
    "    \n",
    "plt.legend()\n",
    "plt.xlabel(r'log($\\alpha$)',fontsize=15)\n",
    "plt.ylabel('系数',fontsize=15)\n",
    "plt.show()"
   ]
  },
  {
   "cell_type": "markdown",
   "metadata": {},
   "source": [
    "**分析：** 从图上可发现`smoker`系数相对其他系数过大，导致无法观测各系数的收敛情况，因此对各系数做如下处理，\n",
    "> + $log\\_coef = np.sign(coef) * np.log(np.abs(coef)+1)$ \n",
    "\n",
    "> + `np.log1p(x)` --> `log(x+1)`"
   ]
  },
  {
   "cell_type": "code",
   "execution_count": 26,
   "metadata": {},
   "outputs": [
    {
     "data": {
      "text/plain": [
       "0     2.718282e+00\n",
       "1     7.389056e+00\n",
       "2     2.008554e+01\n",
       "3     5.459815e+01\n",
       "4     1.484132e+02\n",
       "5     4.034288e+02\n",
       "6     1.096633e+03\n",
       "7     2.980958e+03\n",
       "8     8.103084e+03\n",
       "9     2.202647e+04\n",
       "10    5.987414e+04\n",
       "11    1.627548e+05\n",
       "12    4.424134e+05\n",
       "13    1.202604e+06\n",
       "14    3.269017e+06\n",
       "15    8.886111e+06\n",
       "16    2.415495e+07\n",
       "17    6.565997e+07\n",
       "18    1.784823e+08\n",
       "19    4.851652e+08\n",
       "Name: alpha, dtype: float64"
      ]
     },
     "execution_count": 26,
     "metadata": {},
     "output_type": "execute_result"
    }
   ],
   "source": [
    "# 转换实例：np.exp()与np.log()互逆\n",
    "coef_rid['alpha'] = np.exp(coef_rid['log(alpha)'])\n",
    "coef_rid['alpha']"
   ]
  },
  {
   "cell_type": "code",
   "execution_count": 27,
   "metadata": {},
   "outputs": [
    {
     "data": {
      "image/png": "[encoded data removed]",
      "text/plain": [
       "<Figure size 432x288 with 1 Axes>"
      ]
     },
     "metadata": {
      "needs_background": "light"
     },
     "output_type": "display_data"
    }
   ],
   "source": [
    "#绘图 log(X+1)图\n",
    "## (1) 先将横轴升级成指数np.exp()以便后续np.log(),即先放后缩以保证横轴的间隔不变\n",
    "coef_rid['alpha'] =  np.exp(coef_rid['log(alpha)'])\n",
    "## (2) 使用np.log()将coef_rid转成log_coef_rid\n",
    "### (2_1)利用对数对纵轴值进行缩放\n",
    "log_coef_rid = np.sign(coef_rid) * np.log(np.abs(coef_rid)+1)\n",
    "### (2_2)遍历每个特征并绘图,可以查看一下X.columns的内容\n",
    "for feature in X.columns:\n",
    "    plt.plot('alpha',feature,data=log_coef_rid)\n",
    "    \n",
    "plt.legend(loc='upper right')\n",
    "plt.xlabel(r'log($\\alpha$)',fontsize=15)\n",
    "plt.ylabel('系数',fontsize=15)\n",
    "plt.show()"
   ]
  },
  {
   "cell_type": "code",
   "execution_count": 28,
   "metadata": {},
   "outputs": [
    {
     "data": {
      "text/html": [
       "<div>\n",
       "<style scoped>\n",
       "    .dataframe tbody tr th:only-of-type {\n",
       "        vertical-align: middle;\n",
       "    }\n",
       "\n",
       "    .dataframe tbody tr th {\n",
       "        vertical-align: top;\n",
       "    }\n",
       "\n",
       "    .dataframe thead th {\n",
       "        text-align: right;\n",
       "    }\n",
       "</style>\n",
       "<table border=\"1\" class=\"dataframe\">\n",
       "  <thead>\n",
       "    <tr style=\"text-align: right;\">\n",
       "      <th></th>\n",
       "      <th>age</th>\n",
       "      <th>sex</th>\n",
       "      <th>bmi</th>\n",
       "      <th>children</th>\n",
       "      <th>smoker</th>\n",
       "      <th>region_northeast</th>\n",
       "      <th>region_northwest</th>\n",
       "      <th>region_southeast</th>\n",
       "      <th>region_southwest</th>\n",
       "      <th>log(alpha)</th>\n",
       "      <th>alpha</th>\n",
       "    </tr>\n",
       "  </thead>\n",
       "  <tbody>\n",
       "    <tr>\n",
       "      <td>0</td>\n",
       "      <td>257.345448</td>\n",
       "      <td>-217.937430</td>\n",
       "      <td>321.001661</td>\n",
       "      <td>405.132398</td>\n",
       "      <td>23418.537524</td>\n",
       "      <td>578.529887</td>\n",
       "      <td>179.190089</td>\n",
       "      <td>-436.690555</td>\n",
       "      <td>-321.029421</td>\n",
       "      <td>1.0</td>\n",
       "      <td>2.718282</td>\n",
       "    </tr>\n",
       "    <tr>\n",
       "      <td>1</td>\n",
       "      <td>257.105555</td>\n",
       "      <td>-178.948312</td>\n",
       "      <td>319.991039</td>\n",
       "      <td>400.273497</td>\n",
       "      <td>22812.313378</td>\n",
       "      <td>568.762187</td>\n",
       "      <td>164.498207</td>\n",
       "      <td>-408.637525</td>\n",
       "      <td>-324.622869</td>\n",
       "      <td>2.0</td>\n",
       "      <td>7.389056</td>\n",
       "    </tr>\n",
       "    <tr>\n",
       "      <td>2</td>\n",
       "      <td>256.504943</td>\n",
       "      <td>-87.579503</td>\n",
       "      <td>317.553743</td>\n",
       "      <td>388.062271</td>\n",
       "      <td>21313.227673</td>\n",
       "      <td>543.853023</td>\n",
       "      <td>129.742387</td>\n",
       "      <td>-341.845440</td>\n",
       "      <td>-331.749970</td>\n",
       "      <td>3.0</td>\n",
       "      <td>20.085537</td>\n",
       "    </tr>\n",
       "    <tr>\n",
       "      <td>3</td>\n",
       "      <td>255.172296</td>\n",
       "      <td>82.563931</td>\n",
       "      <td>312.621483</td>\n",
       "      <td>360.622112</td>\n",
       "      <td>18085.809351</td>\n",
       "      <td>486.194718</td>\n",
       "      <td>63.162957</td>\n",
       "      <td>-211.574652</td>\n",
       "      <td>-337.783023</td>\n",
       "      <td>4.0</td>\n",
       "      <td>54.598150</td>\n",
       "    </tr>\n",
       "    <tr>\n",
       "      <td>4</td>\n",
       "      <td>252.852861</td>\n",
       "      <td>268.032574</td>\n",
       "      <td>305.559312</td>\n",
       "      <td>310.656464</td>\n",
       "      <td>12818.737802</td>\n",
       "      <td>377.745925</td>\n",
       "      <td>-17.199640</td>\n",
       "      <td>-45.566423</td>\n",
       "      <td>-314.979862</td>\n",
       "      <td>5.0</td>\n",
       "      <td>148.413159</td>\n",
       "    </tr>\n",
       "  </tbody>\n",
       "</table>\n",
       "</div>"
      ],
      "text/plain": [
       "          age         sex         bmi    children        smoker  \\\n",
       "0  257.345448 -217.937430  321.001661  405.132398  23418.537524   \n",
       "1  257.105555 -178.948312  319.991039  400.273497  22812.313378   \n",
       "2  256.504943  -87.579503  317.553743  388.062271  21313.227673   \n",
       "3  255.172296   82.563931  312.621483  360.622112  18085.809351   \n",
       "4  252.852861  268.032574  305.559312  310.656464  12818.737802   \n",
       "\n",
       "   region_northeast  region_northwest  region_southeast  region_southwest  \\\n",
       "0        578.529887        179.190089       -436.690555       -321.029421   \n",
       "1        568.762187        164.498207       -408.637525       -324.622869   \n",
       "2        543.853023        129.742387       -341.845440       -331.749970   \n",
       "3        486.194718         63.162957       -211.574652       -337.783023   \n",
       "4        377.745925        -17.199640        -45.566423       -314.979862   \n",
       "\n",
       "   log(alpha)       alpha  \n",
       "0         1.0    2.718282  \n",
       "1         2.0    7.389056  \n",
       "2         3.0   20.085537  \n",
       "3         4.0   54.598150  \n",
       "4         5.0  148.413159  "
      ]
     },
     "execution_count": 28,
     "metadata": {},
     "output_type": "execute_result"
    }
   ],
   "source": [
    "# 查看DF系数coef_rid的前5行\n",
    "coef_rid.head()"
   ]
  },
  {
   "cell_type": "code",
   "execution_count": 29,
   "metadata": {},
   "outputs": [
    {
     "data": {
      "text/html": [
       "<div>\n",
       "<style scoped>\n",
       "    .dataframe tbody tr th:only-of-type {\n",
       "        vertical-align: middle;\n",
       "    }\n",
       "\n",
       "    .dataframe tbody tr th {\n",
       "        vertical-align: top;\n",
       "    }\n",
       "\n",
       "    .dataframe thead th {\n",
       "        text-align: right;\n",
       "    }\n",
       "</style>\n",
       "<table border=\"1\" class=\"dataframe\">\n",
       "  <thead>\n",
       "    <tr style=\"text-align: right;\">\n",
       "      <th></th>\n",
       "      <th>age</th>\n",
       "      <th>sex</th>\n",
       "      <th>bmi</th>\n",
       "      <th>children</th>\n",
       "      <th>smoker</th>\n",
       "      <th>region_northeast</th>\n",
       "      <th>region_northwest</th>\n",
       "      <th>region_southeast</th>\n",
       "      <th>region_southwest</th>\n",
       "      <th>log(alpha)</th>\n",
       "      <th>alpha</th>\n",
       "    </tr>\n",
       "  </thead>\n",
       "  <tbody>\n",
       "    <tr>\n",
       "      <td>0</td>\n",
       "      <td>5.554298</td>\n",
       "      <td>-5.388786</td>\n",
       "      <td>5.774557</td>\n",
       "      <td>6.006679</td>\n",
       "      <td>10.061326</td>\n",
       "      <td>6.362217</td>\n",
       "      <td>5.194012</td>\n",
       "      <td>-6.081512</td>\n",
       "      <td>-5.774643</td>\n",
       "      <td>0.693147</td>\n",
       "      <td>1.313262</td>\n",
       "    </tr>\n",
       "    <tr>\n",
       "      <td>1</td>\n",
       "      <td>5.553369</td>\n",
       "      <td>-5.192670</td>\n",
       "      <td>5.771413</td>\n",
       "      <td>5.994643</td>\n",
       "      <td>10.035100</td>\n",
       "      <td>6.345219</td>\n",
       "      <td>5.108960</td>\n",
       "      <td>-6.015273</td>\n",
       "      <td>-5.785740</td>\n",
       "      <td>1.098612</td>\n",
       "      <td>2.126928</td>\n",
       "    </tr>\n",
       "    <tr>\n",
       "      <td>2</td>\n",
       "      <td>5.551039</td>\n",
       "      <td>-4.483900</td>\n",
       "      <td>5.763791</td>\n",
       "      <td>5.963739</td>\n",
       "      <td>9.967130</td>\n",
       "      <td>6.300516</td>\n",
       "      <td>4.873229</td>\n",
       "      <td>-5.837280</td>\n",
       "      <td>-5.807391</td>\n",
       "      <td>1.386294</td>\n",
       "      <td>3.048587</td>\n",
       "    </tr>\n",
       "    <tr>\n",
       "      <td>3</td>\n",
       "      <td>5.545850</td>\n",
       "      <td>4.425612</td>\n",
       "      <td>5.748187</td>\n",
       "      <td>5.890600</td>\n",
       "      <td>9.802938</td>\n",
       "      <td>6.188664</td>\n",
       "      <td>4.161426</td>\n",
       "      <td>-5.359293</td>\n",
       "      <td>-5.825360</td>\n",
       "      <td>1.609438</td>\n",
       "      <td>4.018150</td>\n",
       "    </tr>\n",
       "    <tr>\n",
       "      <td>4</td>\n",
       "      <td>5.536755</td>\n",
       "      <td>5.594832</td>\n",
       "      <td>5.725411</td>\n",
       "      <td>5.741902</td>\n",
       "      <td>9.458741</td>\n",
       "      <td>5.936866</td>\n",
       "      <td>-2.901402</td>\n",
       "      <td>-3.840880</td>\n",
       "      <td>-5.755678</td>\n",
       "      <td>1.791759</td>\n",
       "      <td>5.006715</td>\n",
       "    </tr>\n",
       "  </tbody>\n",
       "</table>\n",
       "</div>"
      ],
      "text/plain": [
       "        age       sex       bmi  children     smoker  region_northeast  \\\n",
       "0  5.554298 -5.388786  5.774557  6.006679  10.061326          6.362217   \n",
       "1  5.553369 -5.192670  5.771413  5.994643  10.035100          6.345219   \n",
       "2  5.551039 -4.483900  5.763791  5.963739   9.967130          6.300516   \n",
       "3  5.545850  4.425612  5.748187  5.890600   9.802938          6.188664   \n",
       "4  5.536755  5.594832  5.725411  5.741902   9.458741          5.936866   \n",
       "\n",
       "   region_northwest  region_southeast  region_southwest  log(alpha)     alpha  \n",
       "0          5.194012         -6.081512         -5.774643    0.693147  1.313262  \n",
       "1          5.108960         -6.015273         -5.785740    1.098612  2.126928  \n",
       "2          4.873229         -5.837280         -5.807391    1.386294  3.048587  \n",
       "3          4.161426         -5.359293         -5.825360    1.609438  4.018150  \n",
       "4         -2.901402         -3.840880         -5.755678    1.791759  5.006715  "
      ]
     },
     "execution_count": 29,
     "metadata": {},
     "output_type": "execute_result"
    }
   ],
   "source": [
    "# 查看DF系数log_coef_rid的前5行\n",
    "log_coef_rid.head()"
   ]
  },
  {
   "cell_type": "markdown",
   "metadata": {},
   "source": [
    "↑♎注意：`log_coef_rid`中的特征`log(alpha)`没有参与制图。"
   ]
  },
  {
   "cell_type": "markdown",
   "metadata": {},
   "source": [
    "<a id=1.4></a>\n",
    "\n",
    "## 1.4 Lasso回归"
   ]
  },
  {
   "cell_type": "markdown",
   "metadata": {},
   "source": [
    "### 1.4.1 Lasso模型构建"
   ]
  },
  {
   "cell_type": "code",
   "execution_count": 30,
   "metadata": {},
   "outputs": [
    {
     "name": "stdout",
     "output_type": "stream",
     "text": [
      "各自变量系数为：\n"
     ]
    },
    {
     "data": {
      "text/plain": [
       "age                   257.491172\n",
       "sex                  -241.697933\n",
       "bmi                   321.600541\n",
       "children              407.988229\n",
       "smoker              23785.804615\n",
       "region_northeast      868.264429\n",
       "region_northwest      472.175816\n",
       "region_southeast     -169.214597\n",
       "region_southwest      -33.919381\n",
       "dtype: float64"
      ]
     },
     "execution_count": 30,
     "metadata": {},
     "output_type": "execute_result"
    }
   ],
   "source": [
    "# S0: 导入模块\n",
    "from sklearn.linear_model import Lasso\n",
    "# S1: 模型构造,alpha=0.1\n",
    "las = Lasso(alpha=0.1)\n",
    "# S2: 模型训练\n",
    "las.fit(x_train,y_train)\n",
    "# S3: 模型预测\n",
    "y_las_pred = las.predict(x_test)\n",
    "\n",
    "print('各自变量系数为：')\n",
    "pd.Series(data=las.coef_,index=X.columns)"
   ]
  },
  {
   "cell_type": "code",
   "execution_count": 31,
   "metadata": {},
   "outputs": [
    {
     "name": "stdout",
     "output_type": "stream",
     "text": [
      "训练集决定系数：0.7478\n",
      "测试集决定系数：0.7623\n"
     ]
    }
   ],
   "source": [
    "#模型效果评估\n",
    "print('训练集决定系数：%s'%round(las.score(x_train,y_train),4))\n",
    "print('测试集决定系数：%s'%round(las.score(x_test,y_test),4))"
   ]
  },
  {
   "cell_type": "markdown",
   "metadata": {},
   "source": [
    "### 1.4.2 Lasso模型参数调优"
   ]
  },
  {
   "cell_type": "code",
   "execution_count": 32,
   "metadata": {},
   "outputs": [
    {
     "data": {
      "text/html": [
       "<div>\n",
       "<style scoped>\n",
       "    .dataframe tbody tr th:only-of-type {\n",
       "        vertical-align: middle;\n",
       "    }\n",
       "\n",
       "    .dataframe tbody tr th {\n",
       "        vertical-align: top;\n",
       "    }\n",
       "\n",
       "    .dataframe thead th {\n",
       "        text-align: right;\n",
       "    }\n",
       "</style>\n",
       "<table border=\"1\" class=\"dataframe\">\n",
       "  <thead>\n",
       "    <tr style=\"text-align: right;\">\n",
       "      <th></th>\n",
       "      <th>age</th>\n",
       "      <th>sex</th>\n",
       "      <th>bmi</th>\n",
       "      <th>children</th>\n",
       "      <th>smoker</th>\n",
       "      <th>region_northeast</th>\n",
       "      <th>region_northwest</th>\n",
       "      <th>region_southeast</th>\n",
       "      <th>region_southwest</th>\n",
       "      <th>log(alpha)</th>\n",
       "    </tr>\n",
       "  </thead>\n",
       "  <tbody>\n",
       "    <tr>\n",
       "      <td>0</td>\n",
       "      <td>257.50</td>\n",
       "      <td>-229.96</td>\n",
       "      <td>321.03</td>\n",
       "      <td>406.08</td>\n",
       "      <td>23767.96</td>\n",
       "      <td>849.12</td>\n",
       "      <td>453.23</td>\n",
       "      <td>-164.92</td>\n",
       "      <td>-30.84</td>\n",
       "      <td>1.0</td>\n",
       "    </tr>\n",
       "    <tr>\n",
       "      <td>1</td>\n",
       "      <td>257.51</td>\n",
       "      <td>-209.02</td>\n",
       "      <td>320.02</td>\n",
       "      <td>402.67</td>\n",
       "      <td>23736.12</td>\n",
       "      <td>814.96</td>\n",
       "      <td>419.44</td>\n",
       "      <td>-157.27</td>\n",
       "      <td>-25.35</td>\n",
       "      <td>2.0</td>\n",
       "    </tr>\n",
       "    <tr>\n",
       "      <td>2</td>\n",
       "      <td>257.55</td>\n",
       "      <td>-152.03</td>\n",
       "      <td>317.26</td>\n",
       "      <td>393.40</td>\n",
       "      <td>23649.58</td>\n",
       "      <td>722.14</td>\n",
       "      <td>327.58</td>\n",
       "      <td>-136.47</td>\n",
       "      <td>-10.40</td>\n",
       "      <td>3.0</td>\n",
       "    </tr>\n",
       "    <tr>\n",
       "      <td>3</td>\n",
       "      <td>257.64</td>\n",
       "      <td>-0.00</td>\n",
       "      <td>309.83</td>\n",
       "      <td>368.31</td>\n",
       "      <td>23414.57</td>\n",
       "      <td>440.62</td>\n",
       "      <td>48.51</td>\n",
       "      <td>-109.50</td>\n",
       "      <td>-0.00</td>\n",
       "      <td>4.0</td>\n",
       "    </tr>\n",
       "    <tr>\n",
       "      <td>4</td>\n",
       "      <td>257.38</td>\n",
       "      <td>-0.00</td>\n",
       "      <td>300.02</td>\n",
       "      <td>295.97</td>\n",
       "      <td>22830.55</td>\n",
       "      <td>0.00</td>\n",
       "      <td>0.00</td>\n",
       "      <td>-0.00</td>\n",
       "      <td>-0.00</td>\n",
       "      <td>5.0</td>\n",
       "    </tr>\n",
       "    <tr>\n",
       "      <td>5</td>\n",
       "      <td>255.97</td>\n",
       "      <td>-0.00</td>\n",
       "      <td>292.92</td>\n",
       "      <td>111.13</td>\n",
       "      <td>21257.39</td>\n",
       "      <td>0.00</td>\n",
       "      <td>0.00</td>\n",
       "      <td>-0.00</td>\n",
       "      <td>-0.00</td>\n",
       "      <td>6.0</td>\n",
       "    </tr>\n",
       "    <tr>\n",
       "      <td>6</td>\n",
       "      <td>251.38</td>\n",
       "      <td>0.00</td>\n",
       "      <td>274.39</td>\n",
       "      <td>0.00</td>\n",
       "      <td>17003.02</td>\n",
       "      <td>0.00</td>\n",
       "      <td>0.00</td>\n",
       "      <td>-0.00</td>\n",
       "      <td>-0.00</td>\n",
       "      <td>7.0</td>\n",
       "    </tr>\n",
       "    <tr>\n",
       "      <td>7</td>\n",
       "      <td>238.34</td>\n",
       "      <td>0.00</td>\n",
       "      <td>224.59</td>\n",
       "      <td>0.00</td>\n",
       "      <td>5455.35</td>\n",
       "      <td>0.00</td>\n",
       "      <td>-0.00</td>\n",
       "      <td>0.00</td>\n",
       "      <td>-0.00</td>\n",
       "      <td>8.0</td>\n",
       "    </tr>\n",
       "    <tr>\n",
       "      <td>8</td>\n",
       "      <td>216.02</td>\n",
       "      <td>0.00</td>\n",
       "      <td>92.48</td>\n",
       "      <td>0.00</td>\n",
       "      <td>0.00</td>\n",
       "      <td>0.00</td>\n",
       "      <td>-0.00</td>\n",
       "      <td>0.00</td>\n",
       "      <td>-0.00</td>\n",
       "      <td>9.0</td>\n",
       "    </tr>\n",
       "    <tr>\n",
       "      <td>9</td>\n",
       "      <td>149.35</td>\n",
       "      <td>0.00</td>\n",
       "      <td>0.00</td>\n",
       "      <td>0.00</td>\n",
       "      <td>0.00</td>\n",
       "      <td>0.00</td>\n",
       "      <td>-0.00</td>\n",
       "      <td>0.00</td>\n",
       "      <td>-0.00</td>\n",
       "      <td>10.0</td>\n",
       "    </tr>\n",
       "  </tbody>\n",
       "</table>\n",
       "</div>"
      ],
      "text/plain": [
       "      age     sex     bmi  children    smoker  region_northeast  \\\n",
       "0  257.50 -229.96  321.03    406.08  23767.96            849.12   \n",
       "1  257.51 -209.02  320.02    402.67  23736.12            814.96   \n",
       "2  257.55 -152.03  317.26    393.40  23649.58            722.14   \n",
       "3  257.64   -0.00  309.83    368.31  23414.57            440.62   \n",
       "4  257.38   -0.00  300.02    295.97  22830.55              0.00   \n",
       "5  255.97   -0.00  292.92    111.13  21257.39              0.00   \n",
       "6  251.38    0.00  274.39      0.00  17003.02              0.00   \n",
       "7  238.34    0.00  224.59      0.00   5455.35              0.00   \n",
       "8  216.02    0.00   92.48      0.00      0.00              0.00   \n",
       "9  149.35    0.00    0.00      0.00      0.00              0.00   \n",
       "\n",
       "   region_northwest  region_southeast  region_southwest  log(alpha)  \n",
       "0            453.23           -164.92            -30.84         1.0  \n",
       "1            419.44           -157.27            -25.35         2.0  \n",
       "2            327.58           -136.47            -10.40         3.0  \n",
       "3             48.51           -109.50             -0.00         4.0  \n",
       "4              0.00             -0.00             -0.00         5.0  \n",
       "5              0.00             -0.00             -0.00         6.0  \n",
       "6              0.00             -0.00             -0.00         7.0  \n",
       "7             -0.00              0.00             -0.00         8.0  \n",
       "8             -0.00              0.00             -0.00         9.0  \n",
       "9             -0.00              0.00             -0.00        10.0  "
      ]
     },
     "execution_count": 32,
     "metadata": {},
     "output_type": "execute_result"
    }
   ],
   "source": [
    "import numpy as np\n",
    "#创建一个基为e，首项为e，末项为e^15的等比数列，\n",
    "alphas = np.logspace(1,15,15,base=np.exp(1))\n",
    "#创建一个DataFrame以整合结果\n",
    "coef_las = pd.DataFrame()\n",
    "#计算各惩罚系数下的各自变量系数\n",
    "for alpha in alphas:\n",
    "    las = Lasso(alpha=alpha)\n",
    "    las.fit(x_train,y_train)\n",
    "    df = pd.DataFrame([np.round(las.coef_,2)],columns=X.columns)\n",
    "    #为便于观察结果，我们将alpha以对数形式显示\n",
    "    df['log(alpha)'] = np.log(alpha)\n",
    "    coef_las = coef_las.append(df, ignore_index=True)\n",
    "coef_las.head(10)"
   ]
  },
  {
   "cell_type": "code",
   "execution_count": 33,
   "metadata": {},
   "outputs": [
    {
     "data": {
      "image/png": "[encoded data removed]",
      "text/plain": [
       "<Figure size 432x288 with 1 Axes>"
      ]
     },
     "metadata": {
      "needs_background": "light"
     },
     "output_type": "display_data"
    }
   ],
   "source": [
    "#绘图\n",
    "import matplotlib.pyplot as plt\n",
    "%matplotlib inline\n",
    "\n",
    "for feature in X.columns:\n",
    "    plt.plot('log(alpha)',feature,data=coef_las)\n",
    "plt.legend()\n",
    "plt.xlabel(r'log($\\alpha$)',fontsize=15)\n",
    "plt.ylabel('系数',fontsize=15)\n",
    "plt.show()"
   ]
  },
  {
   "cell_type": "markdown",
   "metadata": {},
   "source": [
    "↑♎分析：从图上可发现`smoker`系数相对其他系数过大，导致无法观测各系数的收敛情况，因此对各系数做处理"
   ]
  },
  {
   "cell_type": "code",
   "execution_count": 34,
   "metadata": {},
   "outputs": [
    {
     "data": {
      "image/png": "[encoded data removed]",
      "text/plain": [
       "<Figure size 432x288 with 1 Axes>"
      ]
     },
     "metadata": {
      "needs_background": "light"
     },
     "output_type": "display_data"
    }
   ],
   "source": [
    "#绘图\n",
    "coef_las['alpha'] = np.exp(coef_las['log(alpha)'])\n",
    "import matplotlib.pyplot as plt\n",
    "%matplotlib inline\n",
    "#利用对数对纵轴值进行缩放\n",
    "log_coef_las = np.sign(coef_las) * np.log(np.abs(coef_las)+1)\n",
    "for feature in X.columns:\n",
    "    plt.plot('alpha',feature,data=log_coef_las)\n",
    "plt.legend()\n",
    "plt.xlabel(r'log($\\alpha$)',fontsize=15)\n",
    "plt.ylabel('系数',fontsize=15)\n",
    "plt.show()"
   ]
  },
  {
   "cell_type": "code",
   "execution_count": 35,
   "metadata": {},
   "outputs": [
    {
     "data": {
      "text/html": [
       "<div>\n",
       "<style scoped>\n",
       "    .dataframe tbody tr th:only-of-type {\n",
       "        vertical-align: middle;\n",
       "    }\n",
       "\n",
       "    .dataframe tbody tr th {\n",
       "        vertical-align: top;\n",
       "    }\n",
       "\n",
       "    .dataframe thead th {\n",
       "        text-align: right;\n",
       "    }\n",
       "</style>\n",
       "<table border=\"1\" class=\"dataframe\">\n",
       "  <thead>\n",
       "    <tr style=\"text-align: right;\">\n",
       "      <th></th>\n",
       "      <th>age</th>\n",
       "      <th>sex</th>\n",
       "      <th>bmi</th>\n",
       "      <th>children</th>\n",
       "      <th>smoker</th>\n",
       "      <th>region_northeast</th>\n",
       "      <th>region_northwest</th>\n",
       "      <th>region_southeast</th>\n",
       "      <th>region_southwest</th>\n",
       "      <th>log(alpha)</th>\n",
       "      <th>alpha</th>\n",
       "    </tr>\n",
       "  </thead>\n",
       "  <tbody>\n",
       "    <tr>\n",
       "      <td>0</td>\n",
       "      <td>257.50</td>\n",
       "      <td>-229.96</td>\n",
       "      <td>321.03</td>\n",
       "      <td>406.08</td>\n",
       "      <td>23767.96</td>\n",
       "      <td>849.12</td>\n",
       "      <td>453.23</td>\n",
       "      <td>-164.92</td>\n",
       "      <td>-30.84</td>\n",
       "      <td>1.0</td>\n",
       "      <td>2.718282</td>\n",
       "    </tr>\n",
       "    <tr>\n",
       "      <td>1</td>\n",
       "      <td>257.51</td>\n",
       "      <td>-209.02</td>\n",
       "      <td>320.02</td>\n",
       "      <td>402.67</td>\n",
       "      <td>23736.12</td>\n",
       "      <td>814.96</td>\n",
       "      <td>419.44</td>\n",
       "      <td>-157.27</td>\n",
       "      <td>-25.35</td>\n",
       "      <td>2.0</td>\n",
       "      <td>7.389056</td>\n",
       "    </tr>\n",
       "    <tr>\n",
       "      <td>2</td>\n",
       "      <td>257.55</td>\n",
       "      <td>-152.03</td>\n",
       "      <td>317.26</td>\n",
       "      <td>393.40</td>\n",
       "      <td>23649.58</td>\n",
       "      <td>722.14</td>\n",
       "      <td>327.58</td>\n",
       "      <td>-136.47</td>\n",
       "      <td>-10.40</td>\n",
       "      <td>3.0</td>\n",
       "      <td>20.085537</td>\n",
       "    </tr>\n",
       "    <tr>\n",
       "      <td>3</td>\n",
       "      <td>257.64</td>\n",
       "      <td>-0.00</td>\n",
       "      <td>309.83</td>\n",
       "      <td>368.31</td>\n",
       "      <td>23414.57</td>\n",
       "      <td>440.62</td>\n",
       "      <td>48.51</td>\n",
       "      <td>-109.50</td>\n",
       "      <td>-0.00</td>\n",
       "      <td>4.0</td>\n",
       "      <td>54.598150</td>\n",
       "    </tr>\n",
       "    <tr>\n",
       "      <td>4</td>\n",
       "      <td>257.38</td>\n",
       "      <td>-0.00</td>\n",
       "      <td>300.02</td>\n",
       "      <td>295.97</td>\n",
       "      <td>22830.55</td>\n",
       "      <td>0.00</td>\n",
       "      <td>0.00</td>\n",
       "      <td>-0.00</td>\n",
       "      <td>-0.00</td>\n",
       "      <td>5.0</td>\n",
       "      <td>148.413159</td>\n",
       "    </tr>\n",
       "  </tbody>\n",
       "</table>\n",
       "</div>"
      ],
      "text/plain": [
       "      age     sex     bmi  children    smoker  region_northeast  \\\n",
       "0  257.50 -229.96  321.03    406.08  23767.96            849.12   \n",
       "1  257.51 -209.02  320.02    402.67  23736.12            814.96   \n",
       "2  257.55 -152.03  317.26    393.40  23649.58            722.14   \n",
       "3  257.64   -0.00  309.83    368.31  23414.57            440.62   \n",
       "4  257.38   -0.00  300.02    295.97  22830.55              0.00   \n",
       "\n",
       "   region_northwest  region_southeast  region_southwest  log(alpha)  \\\n",
       "0            453.23           -164.92            -30.84         1.0   \n",
       "1            419.44           -157.27            -25.35         2.0   \n",
       "2            327.58           -136.47            -10.40         3.0   \n",
       "3             48.51           -109.50             -0.00         4.0   \n",
       "4              0.00             -0.00             -0.00         5.0   \n",
       "\n",
       "        alpha  \n",
       "0    2.718282  \n",
       "1    7.389056  \n",
       "2   20.085537  \n",
       "3   54.598150  \n",
       "4  148.413159  "
      ]
     },
     "execution_count": 35,
     "metadata": {},
     "output_type": "execute_result"
    }
   ],
   "source": [
    "# 查看DF系数coef_las的前5行\n",
    "coef_las.head()"
   ]
  },
  {
   "cell_type": "code",
   "execution_count": 36,
   "metadata": {},
   "outputs": [
    {
     "data": {
      "text/html": [
       "<div>\n",
       "<style scoped>\n",
       "    .dataframe tbody tr th:only-of-type {\n",
       "        vertical-align: middle;\n",
       "    }\n",
       "\n",
       "    .dataframe tbody tr th {\n",
       "        vertical-align: top;\n",
       "    }\n",
       "\n",
       "    .dataframe thead th {\n",
       "        text-align: right;\n",
       "    }\n",
       "</style>\n",
       "<table border=\"1\" class=\"dataframe\">\n",
       "  <thead>\n",
       "    <tr style=\"text-align: right;\">\n",
       "      <th></th>\n",
       "      <th>age</th>\n",
       "      <th>sex</th>\n",
       "      <th>bmi</th>\n",
       "      <th>children</th>\n",
       "      <th>smoker</th>\n",
       "      <th>region_northeast</th>\n",
       "      <th>region_northwest</th>\n",
       "      <th>region_southeast</th>\n",
       "      <th>region_southwest</th>\n",
       "      <th>log(alpha)</th>\n",
       "      <th>alpha</th>\n",
       "    </tr>\n",
       "  </thead>\n",
       "  <tbody>\n",
       "    <tr>\n",
       "      <td>0</td>\n",
       "      <td>5.554896</td>\n",
       "      <td>-5.442245</td>\n",
       "      <td>5.774645</td>\n",
       "      <td>6.009010</td>\n",
       "      <td>10.076136</td>\n",
       "      <td>6.745378</td>\n",
       "      <td>6.118604</td>\n",
       "      <td>-5.111506</td>\n",
       "      <td>-3.460723</td>\n",
       "      <td>0.693147</td>\n",
       "      <td>1.313262</td>\n",
       "    </tr>\n",
       "    <tr>\n",
       "      <td>1</td>\n",
       "      <td>5.554934</td>\n",
       "      <td>-5.347203</td>\n",
       "      <td>5.771503</td>\n",
       "      <td>6.000598</td>\n",
       "      <td>10.074795</td>\n",
       "      <td>6.704365</td>\n",
       "      <td>6.041302</td>\n",
       "      <td>-5.064302</td>\n",
       "      <td>-3.271468</td>\n",
       "      <td>1.098612</td>\n",
       "      <td>2.126928</td>\n",
       "    </tr>\n",
       "    <tr>\n",
       "      <td>2</td>\n",
       "      <td>5.555089</td>\n",
       "      <td>-5.030634</td>\n",
       "      <td>5.762869</td>\n",
       "      <td>5.977366</td>\n",
       "      <td>10.071143</td>\n",
       "      <td>6.583603</td>\n",
       "      <td>5.794780</td>\n",
       "      <td>-4.923406</td>\n",
       "      <td>-2.433613</td>\n",
       "      <td>1.386294</td>\n",
       "      <td>3.048587</td>\n",
       "    </tr>\n",
       "    <tr>\n",
       "      <td>3</td>\n",
       "      <td>5.555437</td>\n",
       "      <td>0.000000</td>\n",
       "      <td>5.739246</td>\n",
       "      <td>5.911636</td>\n",
       "      <td>10.061156</td>\n",
       "      <td>6.090450</td>\n",
       "      <td>3.902175</td>\n",
       "      <td>-4.705016</td>\n",
       "      <td>0.000000</td>\n",
       "      <td>1.609438</td>\n",
       "      <td>4.018150</td>\n",
       "    </tr>\n",
       "    <tr>\n",
       "      <td>4</td>\n",
       "      <td>5.554431</td>\n",
       "      <td>0.000000</td>\n",
       "      <td>5.707177</td>\n",
       "      <td>5.693631</td>\n",
       "      <td>10.035899</td>\n",
       "      <td>0.000000</td>\n",
       "      <td>0.000000</td>\n",
       "      <td>0.000000</td>\n",
       "      <td>0.000000</td>\n",
       "      <td>1.791759</td>\n",
       "      <td>5.006715</td>\n",
       "    </tr>\n",
       "  </tbody>\n",
       "</table>\n",
       "</div>"
      ],
      "text/plain": [
       "        age       sex       bmi  children     smoker  region_northeast  \\\n",
       "0  5.554896 -5.442245  5.774645  6.009010  10.076136          6.745378   \n",
       "1  5.554934 -5.347203  5.771503  6.000598  10.074795          6.704365   \n",
       "2  5.555089 -5.030634  5.762869  5.977366  10.071143          6.583603   \n",
       "3  5.555437  0.000000  5.739246  5.911636  10.061156          6.090450   \n",
       "4  5.554431  0.000000  5.707177  5.693631  10.035899          0.000000   \n",
       "\n",
       "   region_northwest  region_southeast  region_southwest  log(alpha)     alpha  \n",
       "0          6.118604         -5.111506         -3.460723    0.693147  1.313262  \n",
       "1          6.041302         -5.064302         -3.271468    1.098612  2.126928  \n",
       "2          5.794780         -4.923406         -2.433613    1.386294  3.048587  \n",
       "3          3.902175         -4.705016          0.000000    1.609438  4.018150  \n",
       "4          0.000000          0.000000          0.000000    1.791759  5.006715  "
      ]
     },
     "execution_count": 36,
     "metadata": {},
     "output_type": "execute_result"
    }
   ],
   "source": [
    "# 查看DF系数log_coef_las的前5行\n",
    "log_coef_las.head()"
   ]
  },
  {
   "cell_type": "markdown",
   "metadata": {},
   "source": [
    "↑♎分析：对于以上两个DF的特征值"
   ]
  },
  {
   "cell_type": "markdown",
   "metadata": {},
   "source": [
    "<a id=1.5></a>\n",
    "\n",
    "## 1.5 弹性网络回归"
   ]
  },
  {
   "cell_type": "code",
   "execution_count": 37,
   "metadata": {},
   "outputs": [
    {
     "name": "stdout",
     "output_type": "stream",
     "text": [
      "训练集决定系数：0.3888\n",
      "测试集决定系数：0.4009\n"
     ]
    }
   ],
   "source": [
    "# 导入模型\n",
    "from sklearn.linear_model import ElasticNet\n",
    "EN = ElasticNet(alpha=1,l1_ratio=0.5)\n",
    "EN.fit(x_train,y_train)\n",
    "print('训练集决定系数：%s'% np.round(EN.score(x_train,y_train),4))\n",
    "print('测试集决定系数：%s'% np.round(EN.score(x_test,y_test),4))"
   ]
  },
  {
   "cell_type": "markdown",
   "metadata": {},
   "source": [
    "<a id=2></a>\n",
    "# 2 模拟数据集\n",
    "<a id=2.1></a>\n",
    "## 2.1 RANSAC vs 线性回归\n",
    "> RANdom SAmple Consensus    \n",
    "> 为体现RANSAC相比于线性回归的优势，我们创建一个包含部分离群强影响点的数据集"
   ]
  },
  {
   "cell_type": "code",
   "execution_count": 38,
   "metadata": {},
   "outputs": [],
   "source": [
    "import numpy as np\n",
    "import matplotlib.pyplot as plt\n",
    "from sklearn.linear_model import LinearRegression,RANSACRegressor\n",
    "from sklearn import datasets\n",
    "\n",
    "plt.rcParams['font.sans-serif'] = ['SimHei']   # 显示中文\n",
    "plt.rcParams['axes.unicode_minus']=False       # 用来正常显示负号\n",
    "%matplotlib inline\n",
    "\n",
    "n_samples = 2000\n",
    "n_outliers = 200\n",
    "#创建用于一元回归的数据\n",
    "X,Y,coef = datasets.make_regression(n_samples=n_samples,n_features=1,n_informative=1,noise=20,random_state=1,coef=True)\n",
    "#添加噪音数据\n",
    "X[:n_outliers] = 3 + 0.5*np.random.normal(size=(n_outliers,1))\n",
    "Y[:n_outliers] = -3 + np.random.normal(size=n_outliers)"
   ]
  },
  {
   "cell_type": "code",
   "execution_count": 39,
   "metadata": {},
   "outputs": [
    {
     "data": {
      "image/png": "[encoded data removed]",
      "text/plain": [
       "<Figure size 576x576 with 1 Axes>"
      ]
     },
     "metadata": {
      "needs_background": "light"
     },
     "output_type": "display_data"
    },
    {
     "name": "stdout",
     "output_type": "stream",
     "text": [
      "未添加噪音数据的线性回归系数: 87.91985605365954\n",
      "添加噪音数据的线性回归系数: [46.72908698]\n",
      "添加噪音数据的RANSAC回归系数: [88.78617554]\n"
     ]
    }
   ],
   "source": [
    "#线性回归\n",
    "lr = LinearRegression()\n",
    "lr.fit(X,Y)\n",
    "#RANSAC回归\n",
    "RAN = RANSACRegressor(random_state=1)\n",
    "RAN.fit(X,Y)\n",
    "# 获取内点与外点\n",
    "inlier = RAN.inlier_mask_\n",
    "outlier = np.logical_not(inlier)\n",
    "\n",
    "#生成两个回归模型的预测结果\n",
    "line_X = np.arange(X.min(), X.max())[:, np.newaxis]\n",
    "lr_Y = lr.predict(line_X)\n",
    "RAN_Y = RAN.predict(line_X)\n",
    "\n",
    "#绘图\n",
    "fig = plt.figure(figsize=(8,8))\n",
    "plt.scatter(X[inlier], Y[inlier], color='yellowgreen', marker='.',label='Inliers')\n",
    "plt.scatter(X[outlier], Y[outlier], color='gold', marker='.',label='Outliers')\n",
    "plt.plot(line_X, lr_Y, color='navy', linewidth=2, label='Linear regressor')\n",
    "plt.plot(line_X, RAN_Y, color='cornflowerblue', linewidth=2,label='RANSAC regressor')\n",
    "plt.legend(loc='lower right',fontsize=15)\n",
    "plt.xlabel('自变量',fontsize=15)\n",
    "plt.ylabel('因变量',fontsize=15)\n",
    "plt.show()\n",
    "#输出两模型自变量系数\n",
    "print('未添加噪音数据的线性回归系数:', coef)\n",
    "print('添加噪音数据的线性回归系数:', lr.coef_)\n",
    "print('添加噪音数据的RANSAC回归系数:', RAN.estimator_.coef_)"
   ]
  },
  {
   "cell_type": "markdown",
   "metadata": {},
   "source": [
    "<a id=3></a>\n",
    "\n",
    "# 3 非线性回归方法\n",
    "> 用分类的方法做回归\n",
    "- **K近邻回归**\n",
    "- **支持向量回归（SVR）**\n",
    "- **决策树回归**\n",
    "- 样条回归  \n",
    "- 径向基网络 \n",
    "- 高斯过程\n"
   ]
  },
  {
   "cell_type": "markdown",
   "metadata": {},
   "source": [
    "<a id=3.1></a>\n",
    "\n",
    "## 3.1 数据探索\n",
    "> 电缆数据集:\n",
    ">> + 来自KEEL [Electrical Length]，共495个样本，\n",
    ">> + 特征`X`:住户数量和电缆传输距离； 目标`y`:电缆的电长度\n",
    ">> + 利用该数据集，我们可基于两个特征预测电缆的总长度。\n",
    "\n",
    "|特征|说明|\n",
    "|---:|---:|\n",
    "|Inhabitants|住户数量|\n",
    "|Distance|电缆传输距离|\n",
    "|Electrical Length|电缆的电长度|"
   ]
  },
  {
   "cell_type": "code",
   "execution_count": 40,
   "metadata": {},
   "outputs": [],
   "source": [
    "# 电缆数据集\n",
    "import pandas as pd\n",
    "file_electric = './dataSets/data_chap3/Electrical_Length.csv'"
   ]
  },
  {
   "cell_type": "code",
   "execution_count": 41,
   "metadata": {},
   "outputs": [
    {
     "data": {
      "text/html": [
       "<div>\n",
       "<style scoped>\n",
       "    .dataframe tbody tr th:only-of-type {\n",
       "        vertical-align: middle;\n",
       "    }\n",
       "\n",
       "    .dataframe tbody tr th {\n",
       "        vertical-align: top;\n",
       "    }\n",
       "\n",
       "    .dataframe thead th {\n",
       "        text-align: right;\n",
       "    }\n",
       "</style>\n",
       "<table border=\"1\" class=\"dataframe\">\n",
       "  <thead>\n",
       "    <tr style=\"text-align: right;\">\n",
       "      <th></th>\n",
       "      <th>Inhabitants</th>\n",
       "      <th>Distance</th>\n",
       "      <th>Length</th>\n",
       "    </tr>\n",
       "  </thead>\n",
       "  <tbody>\n",
       "    <tr>\n",
       "      <td>275</td>\n",
       "      <td>41</td>\n",
       "      <td>926.669983</td>\n",
       "      <td>3552</td>\n",
       "    </tr>\n",
       "    <tr>\n",
       "      <td>343</td>\n",
       "      <td>55</td>\n",
       "      <td>420.000000</td>\n",
       "      <td>1520</td>\n",
       "    </tr>\n",
       "    <tr>\n",
       "      <td>152</td>\n",
       "      <td>130</td>\n",
       "      <td>668.330017</td>\n",
       "      <td>5589</td>\n",
       "    </tr>\n",
       "    <tr>\n",
       "      <td>304</td>\n",
       "      <td>35</td>\n",
       "      <td>330.000000</td>\n",
       "      <td>1084</td>\n",
       "    </tr>\n",
       "    <tr>\n",
       "      <td>146</td>\n",
       "      <td>15</td>\n",
       "      <td>563.330017</td>\n",
       "      <td>2010</td>\n",
       "    </tr>\n",
       "  </tbody>\n",
       "</table>\n",
       "</div>"
      ],
      "text/plain": [
       "     Inhabitants    Distance  Length\n",
       "275           41  926.669983    3552\n",
       "343           55  420.000000    1520\n",
       "152          130  668.330017    5589\n",
       "304           35  330.000000    1084\n",
       "146           15  563.330017    2010"
      ]
     },
     "execution_count": 41,
     "metadata": {},
     "output_type": "execute_result"
    }
   ],
   "source": [
    "# 读取数据，查看数据\n",
    "data2 = pd.read_csv(file_electric)\n",
    "data2.sample(5,random_state=10)"
   ]
  },
  {
   "cell_type": "code",
   "execution_count": 42,
   "metadata": {},
   "outputs": [
    {
     "name": "stdout",
     "output_type": "stream",
     "text": [
      "<class 'pandas.core.frame.DataFrame'>\n",
      "RangeIndex: 495 entries, 0 to 494\n",
      "Data columns (total 3 columns):\n",
      "Inhabitants    495 non-null int64\n",
      "Distance       495 non-null float64\n",
      "Length         495 non-null int64\n",
      "dtypes: float64(1), int64(2)\n",
      "memory usage: 11.7 KB\n"
     ]
    }
   ],
   "source": [
    "# 探索数据info\n",
    "data2.info()"
   ]
  },
  {
   "cell_type": "code",
   "execution_count": 43,
   "metadata": {},
   "outputs": [
    {
     "data": {
      "text/html": [
       "<div>\n",
       "<style scoped>\n",
       "    .dataframe tbody tr th:only-of-type {\n",
       "        vertical-align: middle;\n",
       "    }\n",
       "\n",
       "    .dataframe tbody tr th {\n",
       "        vertical-align: top;\n",
       "    }\n",
       "\n",
       "    .dataframe thead th {\n",
       "        text-align: right;\n",
       "    }\n",
       "</style>\n",
       "<table border=\"1\" class=\"dataframe\">\n",
       "  <thead>\n",
       "    <tr style=\"text-align: right;\">\n",
       "      <th></th>\n",
       "      <th>Inhabitants</th>\n",
       "      <th>Distance</th>\n",
       "      <th>Length</th>\n",
       "    </tr>\n",
       "  </thead>\n",
       "  <tbody>\n",
       "    <tr>\n",
       "      <td>count</td>\n",
       "      <td>495.000000</td>\n",
       "      <td>495.000000</td>\n",
       "      <td>495.000000</td>\n",
       "    </tr>\n",
       "    <tr>\n",
       "      <td>mean</td>\n",
       "      <td>35.262626</td>\n",
       "      <td>498.855152</td>\n",
       "      <td>1726.428283</td>\n",
       "    </tr>\n",
       "    <tr>\n",
       "      <td>std</td>\n",
       "      <td>30.969485</td>\n",
       "      <td>249.865583</td>\n",
       "      <td>1154.450763</td>\n",
       "    </tr>\n",
       "    <tr>\n",
       "      <td>min</td>\n",
       "      <td>1.000000</td>\n",
       "      <td>60.000000</td>\n",
       "      <td>80.000000</td>\n",
       "    </tr>\n",
       "    <tr>\n",
       "      <td>25%</td>\n",
       "      <td>16.000000</td>\n",
       "      <td>323.329987</td>\n",
       "      <td>911.500000</td>\n",
       "    </tr>\n",
       "    <tr>\n",
       "      <td>50%</td>\n",
       "      <td>27.000000</td>\n",
       "      <td>460.000000</td>\n",
       "      <td>1491.000000</td>\n",
       "    </tr>\n",
       "    <tr>\n",
       "      <td>75%</td>\n",
       "      <td>45.000000</td>\n",
       "      <td>633.330017</td>\n",
       "      <td>2211.000000</td>\n",
       "    </tr>\n",
       "    <tr>\n",
       "      <td>max</td>\n",
       "      <td>320.000000</td>\n",
       "      <td>1673.329956</td>\n",
       "      <td>7675.000000</td>\n",
       "    </tr>\n",
       "  </tbody>\n",
       "</table>\n",
       "</div>"
      ],
      "text/plain": [
       "       Inhabitants     Distance       Length\n",
       "count   495.000000   495.000000   495.000000\n",
       "mean     35.262626   498.855152  1726.428283\n",
       "std      30.969485   249.865583  1154.450763\n",
       "min       1.000000    60.000000    80.000000\n",
       "25%      16.000000   323.329987   911.500000\n",
       "50%      27.000000   460.000000  1491.000000\n",
       "75%      45.000000   633.330017  2211.000000\n",
       "max     320.000000  1673.329956  7675.000000"
      ]
     },
     "execution_count": 43,
     "metadata": {},
     "output_type": "execute_result"
    }
   ],
   "source": [
    "# 探索数据describe\n",
    "data2.describe()"
   ]
  },
  {
   "cell_type": "code",
   "execution_count": 44,
   "metadata": {},
   "outputs": [
    {
     "name": "stdout",
     "output_type": "stream",
     "text": [
      "<class 'pandas.core.frame.DataFrame'>\n"
     ]
    },
    {
     "data": {
      "text/html": [
       "<div>\n",
       "<style scoped>\n",
       "    .dataframe tbody tr th:only-of-type {\n",
       "        vertical-align: middle;\n",
       "    }\n",
       "\n",
       "    .dataframe tbody tr th {\n",
       "        vertical-align: top;\n",
       "    }\n",
       "\n",
       "    .dataframe thead th {\n",
       "        text-align: right;\n",
       "    }\n",
       "</style>\n",
       "<table border=\"1\" class=\"dataframe\">\n",
       "  <thead>\n",
       "    <tr style=\"text-align: right;\">\n",
       "      <th></th>\n",
       "      <th>Distance</th>\n",
       "    </tr>\n",
       "  </thead>\n",
       "  <tbody>\n",
       "    <tr>\n",
       "      <td>0</td>\n",
       "      <td>605.000000</td>\n",
       "    </tr>\n",
       "    <tr>\n",
       "      <td>1</td>\n",
       "      <td>696.669983</td>\n",
       "    </tr>\n",
       "    <tr>\n",
       "      <td>2</td>\n",
       "      <td>443.329987</td>\n",
       "    </tr>\n",
       "    <tr>\n",
       "      <td>3</td>\n",
       "      <td>373.329987</td>\n",
       "    </tr>\n",
       "    <tr>\n",
       "      <td>4</td>\n",
       "      <td>340.000000</td>\n",
       "    </tr>\n",
       "  </tbody>\n",
       "</table>\n",
       "</div>"
      ],
      "text/plain": [
       "     Distance\n",
       "0  605.000000\n",
       "1  696.669983\n",
       "2  443.329987\n",
       "3  373.329987\n",
       "4  340.000000"
      ]
     },
     "execution_count": 44,
     "metadata": {},
     "output_type": "execute_result"
    }
   ],
   "source": [
    "print(type(data2[['Distance']]))\n",
    "data2[['Distance']].head()"
   ]
  },
  {
   "cell_type": "code",
   "execution_count": 45,
   "metadata": {},
   "outputs": [
    {
     "name": "stdout",
     "output_type": "stream",
     "text": [
      "<class 'pandas.core.series.Series'>\n"
     ]
    },
    {
     "data": {
      "text/html": [
       "<div>\n",
       "<style scoped>\n",
       "    .dataframe tbody tr th:only-of-type {\n",
       "        vertical-align: middle;\n",
       "    }\n",
       "\n",
       "    .dataframe tbody tr th {\n",
       "        vertical-align: top;\n",
       "    }\n",
       "\n",
       "    .dataframe thead th {\n",
       "        text-align: right;\n",
       "    }\n",
       "</style>\n",
       "<table border=\"1\" class=\"dataframe\">\n",
       "  <thead>\n",
       "    <tr style=\"text-align: right;\">\n",
       "      <th></th>\n",
       "      <th>Distance</th>\n",
       "    </tr>\n",
       "  </thead>\n",
       "  <tbody>\n",
       "    <tr>\n",
       "      <td>0</td>\n",
       "      <td>605.000000</td>\n",
       "    </tr>\n",
       "    <tr>\n",
       "      <td>1</td>\n",
       "      <td>696.669983</td>\n",
       "    </tr>\n",
       "    <tr>\n",
       "      <td>2</td>\n",
       "      <td>443.329987</td>\n",
       "    </tr>\n",
       "    <tr>\n",
       "      <td>3</td>\n",
       "      <td>373.329987</td>\n",
       "    </tr>\n",
       "    <tr>\n",
       "      <td>4</td>\n",
       "      <td>340.000000</td>\n",
       "    </tr>\n",
       "  </tbody>\n",
       "</table>\n",
       "</div>"
      ],
      "text/plain": [
       "     Distance\n",
       "0  605.000000\n",
       "1  696.669983\n",
       "2  443.329987\n",
       "3  373.329987\n",
       "4  340.000000"
      ]
     },
     "execution_count": 45,
     "metadata": {},
     "output_type": "execute_result"
    }
   ],
   "source": [
    "print(type(data2['Distance']))\n",
    "data2[['Distance']].head()"
   ]
  },
  {
   "cell_type": "markdown",
   "metadata": {},
   "source": [
    "**数据X,y分离，train与test分割**"
   ]
  },
  {
   "cell_type": "code",
   "execution_count": 46,
   "metadata": {},
   "outputs": [],
   "source": [
    "# 分离X，y\n",
    "y = data2['Length']\n",
    "X = data2.drop('Length',axis=1)\n",
    "\n",
    "# 导入train_test_split，train:test=8:2\n",
    "from sklearn.model_selection import train_test_split\n",
    "x_train,x_test,y_train,y_test = train_test_split(X,y,test_size=0.2,random_state=1)"
   ]
  },
  {
   "cell_type": "markdown",
   "metadata": {},
   "source": [
    "<a id=3.2></a>\n",
    "\n",
    "## 3.2 K近邻回归\n",
    "\n",
    "### 3.2.1 Modle:KneighborsRegressor"
   ]
  },
  {
   "cell_type": "code",
   "execution_count": 47,
   "metadata": {},
   "outputs": [
    {
     "name": "stdout",
     "output_type": "stream",
     "text": [
      "训练集决定系数(4位小数点)：0.7738\n",
      "测试集决定系数(4位小数点)：0.7237\n"
     ]
    }
   ],
   "source": [
    "# 导入KNeighborsRegressor\n",
    "from sklearn.neighbors import KNeighborsRegressor\n",
    "# s1: 模型构造\n",
    "KNR = KNeighborsRegressor()\n",
    "# s2: 模型训练\n",
    "KNR.fit(x_train,y_train)\n",
    "# s3: 模型预测\n",
    "y_pred_KNR = KNR.predict(x_test)\n",
    "# s4: 模型评价\n",
    "print('训练集决定系数(4位小数点)：%s'%round(KNR.score(x_train,y_train),4))\n",
    "print('测试集决定系数(4位小数点)：%s'%round(KNR.score(x_test,y_test),4))"
   ]
  },
  {
   "cell_type": "code",
   "execution_count": 48,
   "metadata": {},
   "outputs": [
    {
     "ename": "SyntaxError",
     "evalue": "invalid syntax (<ipython-input-48-f4a8c449e54a>, line 1)",
     "output_type": "error",
     "traceback": [
      "\u001b[1;36m  File \u001b[1;32m\"<ipython-input-48-f4a8c449e54a>\"\u001b[1;36m, line \u001b[1;32m1\u001b[0m\n\u001b[1;33m    round()?\u001b[0m\n\u001b[1;37m           ^\u001b[0m\n\u001b[1;31mSyntaxError\u001b[0m\u001b[1;31m:\u001b[0m invalid syntax\n"
     ]
    }
   ],
   "source": [
    "round()?\n",
    "# 函数将数字四舍五入到指定的位数"
   ]
  },
  {
   "cell_type": "markdown",
   "metadata": {},
   "source": [
    "### 3.2.2 ParametersOptimizing:Grid-searching\n",
    "> 调整两个重要参数\n",
    "- n_neighbors:`[2,3,4,...14]`\n",
    "- weights:`['uniform','distance']`"
   ]
  },
  {
   "cell_type": "code",
   "execution_count": 49,
   "metadata": {},
   "outputs": [],
   "source": [
    "KNeighborsRegressor?"
   ]
  },
  {
   "cell_type": "code",
   "execution_count": 50,
   "metadata": {},
   "outputs": [],
   "source": [
    "np.linspace?\n",
    "#用于在线性空间中以均匀步长生成数字序列\n",
    "#numpy.linspace(start, end, num=num_points)\n",
    "#在start和end之间生成一个统一的序列，共有num_points个元素。"
   ]
  },
  {
   "cell_type": "code",
   "execution_count": 51,
   "metadata": {},
   "outputs": [
    {
     "data": {
      "text/plain": [
       "[(2, 'uniform'),\n",
       " (2, 'distance'),\n",
       " (3, 'uniform'),\n",
       " (3, 'distance'),\n",
       " (4, 'uniform')]"
      ]
     },
     "execution_count": 51,
     "metadata": {},
     "output_type": "execute_result"
    }
   ],
   "source": [
    "# 生成超参的元组列表，因为有两个超参，所以使用元组的形式\n",
    "neighbors = np.linspace(2,15,14).astype(int)\n",
    "weights = ['uniform','distance']\n",
    "# 构造超参列表，列表中每个元素为一个tuple\n",
    "parameters = [(neighbor,weight) for neighbor in neighbors for weight in weights]\n",
    "parameters[:5]"
   ]
  },
  {
   "cell_type": "code",
   "execution_count": 52,
   "metadata": {},
   "outputs": [
    {
     "data": {
      "text/plain": [
       "{}"
      ]
     },
     "execution_count": 52,
     "metadata": {},
     "output_type": "execute_result"
    }
   ],
   "source": [
    "dict()\n",
    "#用于创建一个字典。"
   ]
  },
  {
   "cell_type": "code",
   "execution_count": 53,
   "metadata": {},
   "outputs": [],
   "source": [
    "# grid searching，并记录score \n",
    "## 构造评分dict\n",
    "test_score = dict()\n",
    "## 遍历超参 -> 构造、训练、评估模型 -> 记录评估结果到评分dict\n",
    "for parameter in parameters:\n",
    "    KNR = KNeighborsRegressor(n_neighbors=parameter[0],weights=parameter[1]).fit(x_train,y_train)\n",
    "    test_score[parameter] = KNR.score(x_test,y_test)"
   ]
  },
  {
   "cell_type": "code",
   "execution_count": 54,
   "metadata": {},
   "outputs": [
    {
     "ename": "SyntaxError",
     "evalue": "invalid syntax (<ipython-input-54-7bc3b06cc9f1>, line 1)",
     "output_type": "error",
     "traceback": [
      "\u001b[1;36m  File \u001b[1;32m\"<ipython-input-54-7bc3b06cc9f1>\"\u001b[1;36m, line \u001b[1;32m1\u001b[0m\n\u001b[1;33m    pd.DataFrame()?\u001b[0m\n\u001b[1;37m                  ^\u001b[0m\n\u001b[1;31mSyntaxError\u001b[0m\u001b[1;31m:\u001b[0m invalid syntax\n"
     ]
    }
   ],
   "source": [
    "pd.DataFrame()?\n",
    "#pd.DataFrame   单元格可以存放数值、字符串等\n",
    "#(\n",
    "#list(test_score.items()),   第一个参数是存放在DataFrame里的数据\n",
    "#columns=['parameter','test_score']   columns列名\n",
    "#)\n",
    "sort_values()\n",
    "#DataFrame.sort_values  排序函数\n",
    "#(\n",
    "#by=‘##’,             指定列名\n",
    "#axis=0,                若axis=0或’index’，则按照指定列中数据大小排序；\n",
    "#                       若axis=1或’columns’，则按照指定索引中数据大小排序，默认axis=0\n",
    "#ascending=True,        是否按指定列的数组升序排列，默认为True，即升序排列\n",
    "#inplace=False,         是否用排序后的数据集替换原来的数据，默认为False，即不替换\n",
    "#na_position=‘last’、 first或last，设定缺失值的显示位置\n",
    "#)"
   ]
  },
  {
   "cell_type": "code",
   "execution_count": 55,
   "metadata": {},
   "outputs": [
    {
     "data": {
      "text/html": [
       "<div>\n",
       "<style scoped>\n",
       "    .dataframe tbody tr th:only-of-type {\n",
       "        vertical-align: middle;\n",
       "    }\n",
       "\n",
       "    .dataframe tbody tr th {\n",
       "        vertical-align: top;\n",
       "    }\n",
       "\n",
       "    .dataframe thead th {\n",
       "        text-align: right;\n",
       "    }\n",
       "</style>\n",
       "<table border=\"1\" class=\"dataframe\">\n",
       "  <thead>\n",
       "    <tr style=\"text-align: right;\">\n",
       "      <th></th>\n",
       "      <th>parameter</th>\n",
       "      <th>test_score</th>\n",
       "    </tr>\n",
       "  </thead>\n",
       "  <tbody>\n",
       "    <tr>\n",
       "      <td>0</td>\n",
       "      <td>(15, uniform)</td>\n",
       "      <td>0.779680</td>\n",
       "    </tr>\n",
       "    <tr>\n",
       "      <td>1</td>\n",
       "      <td>(14, uniform)</td>\n",
       "      <td>0.775354</td>\n",
       "    </tr>\n",
       "    <tr>\n",
       "      <td>2</td>\n",
       "      <td>(13, uniform)</td>\n",
       "      <td>0.774687</td>\n",
       "    </tr>\n",
       "    <tr>\n",
       "      <td>3</td>\n",
       "      <td>(15, distance)</td>\n",
       "      <td>0.767806</td>\n",
       "    </tr>\n",
       "    <tr>\n",
       "      <td>4</td>\n",
       "      <td>(14, distance)</td>\n",
       "      <td>0.765607</td>\n",
       "    </tr>\n",
       "  </tbody>\n",
       "</table>\n",
       "</div>"
      ],
      "text/plain": [
       "        parameter  test_score\n",
       "0   (15, uniform)    0.779680\n",
       "1   (14, uniform)    0.775354\n",
       "2   (13, uniform)    0.774687\n",
       "3  (15, distance)    0.767806\n",
       "4  (14, distance)    0.765607"
      ]
     },
     "execution_count": 55,
     "metadata": {},
     "output_type": "execute_result"
    }
   ],
   "source": [
    "# 整理结果到DF并输出\n",
    "k_result = pd.DataFrame(list(test_score.items()),columns=['parameter','test_score']).sort_values(by='test_score',ascending=False)\n",
    "k_result.reset_index(drop=True)[:5]"
   ]
  },
  {
   "cell_type": "code",
   "execution_count": 56,
   "metadata": {},
   "outputs": [
    {
     "data": {
      "text/plain": [
       "<matplotlib.axes._subplots.AxesSubplot at 0x206f06a59c8>"
      ]
     },
     "execution_count": 56,
     "metadata": {},
     "output_type": "execute_result"
    },
    {
     "data": {
      "image/png": "[encoded data removed]",
      "text/plain": [
       "<Figure size 432x288 with 1 Axes>"
      ]
     },
     "metadata": {
      "needs_background": "light"
     },
     "output_type": "display_data"
    }
   ],
   "source": [
    "# 可视化\n",
    "k_result.plot(x='parameter',y='test_score')"
   ]
  },
  {
   "cell_type": "markdown",
   "metadata": {},
   "source": [
    "↑♎分析：自己分析以上结果，给出结论"
   ]
  },
  {
   "cell_type": "markdown",
   "metadata": {},
   "source": [
    "<a id=3.3></a>\n",
    "## 3.3 决策树回归\n",
    "\n",
    "### 3.3.1 Model: DecisionTreeRegressor"
   ]
  },
  {
   "cell_type": "code",
   "execution_count": 57,
   "metadata": {},
   "outputs": [
    {
     "name": "stdout",
     "output_type": "stream",
     "text": [
      "训练集决定系数：0.8345\n",
      "测试集决定系数：0.6971\n",
      "特征重要性：[0.26407354 0.73592646]\n"
     ]
    }
   ],
   "source": [
    "# s1: 导入模型DecisionTreeRegressor\n",
    "from sklearn.tree import DecisionTreeRegressor\n",
    "# s1: 模型构造\n",
    "Tree = DecisionTreeRegressor(max_depth=5)\n",
    "# s2: 模型训练\n",
    "Tree.fit(x_train,y_train)\n",
    "# s3: 模型预测\n",
    "y_pred_Tree = Tree.predict(x_test)\n",
    "# s4: 模型评估\n",
    "print('训练集决定系数：%s'%round(Tree.score(x_train,y_train),4))\n",
    "print('测试集决定系数：%s'%round(Tree.score(x_test,y_test),4))\n",
    "print('特征重要性：%s'%Tree.feature_importances_)"
   ]
  },
  {
   "cell_type": "markdown",
   "metadata": {},
   "source": [
    "### 3.3.2 ParametersOptimizing:List-searching\n",
    "> 调整一个重要参数\n",
    "- max_depth:`[2,3,4,...14]`"
   ]
  },
  {
   "cell_type": "code",
   "execution_count": 61,
   "metadata": {},
   "outputs": [],
   "source": [
    "# 调参\n",
    "## 构造超参列表\n",
    "max_depths = np.linspace(2,15,14).astype(int)\n",
    "## 构造评分dict\n",
    "test_score={}\n",
    "## 遍历超参 -> 构造、训练、评估模型 -> 记录评估结果到评分dict\n",
    "for n in max_depths:\n",
    "    test_score[n] = DecisionTreeRegressor(max_depth=n).fit(x_train,y_train).score(x_test,y_test)"
   ]
  },
  {
   "cell_type": "code",
   "execution_count": 62,
   "metadata": {},
   "outputs": [
    {
     "data": {
      "text/html": [
       "<div>\n",
       "<style scoped>\n",
       "    .dataframe tbody tr th:only-of-type {\n",
       "        vertical-align: middle;\n",
       "    }\n",
       "\n",
       "    .dataframe tbody tr th {\n",
       "        vertical-align: top;\n",
       "    }\n",
       "\n",
       "    .dataframe thead th {\n",
       "        text-align: right;\n",
       "    }\n",
       "</style>\n",
       "<table border=\"1\" class=\"dataframe\">\n",
       "  <thead>\n",
       "    <tr style=\"text-align: right;\">\n",
       "      <th></th>\n",
       "      <th>max_depth</th>\n",
       "      <th>test_score</th>\n",
       "    </tr>\n",
       "  </thead>\n",
       "  <tbody>\n",
       "    <tr>\n",
       "      <td>0</td>\n",
       "      <td>4</td>\n",
       "      <td>0.726542</td>\n",
       "    </tr>\n",
       "    <tr>\n",
       "      <td>1</td>\n",
       "      <td>6</td>\n",
       "      <td>0.705437</td>\n",
       "    </tr>\n",
       "    <tr>\n",
       "      <td>2</td>\n",
       "      <td>5</td>\n",
       "      <td>0.697132</td>\n",
       "    </tr>\n",
       "    <tr>\n",
       "      <td>3</td>\n",
       "      <td>8</td>\n",
       "      <td>0.679409</td>\n",
       "    </tr>\n",
       "    <tr>\n",
       "      <td>4</td>\n",
       "      <td>3</td>\n",
       "      <td>0.669781</td>\n",
       "    </tr>\n",
       "  </tbody>\n",
       "</table>\n",
       "</div>"
      ],
      "text/plain": [
       "   max_depth  test_score\n",
       "0          4    0.726542\n",
       "1          6    0.705437\n",
       "2          5    0.697132\n",
       "3          8    0.679409\n",
       "4          3    0.669781"
      ]
     },
     "execution_count": 62,
     "metadata": {},
     "output_type": "execute_result"
    }
   ],
   "source": [
    "# 整理结果到DF并输出\n",
    "tree_result = pd.DataFrame(list(test_score.items()),columns=['max_depth','test_score'])\\\n",
    "                            .sort_values(by='test_score',ascending=False)\n",
    "tree_result.reset_index(drop=True)[:5]"
   ]
  },
  {
   "cell_type": "code",
   "execution_count": 63,
   "metadata": {
    "code_folding": []
   },
   "outputs": [
    {
     "data": {
      "text/plain": [
       "<matplotlib.axes._subplots.AxesSubplot at 0x206f086ee08>"
      ]
     },
     "execution_count": 63,
     "metadata": {},
     "output_type": "execute_result"
    },
    {
     "data": {
      "image/png": "[encoded data removed]",
      "text/plain": [
       "<Figure size 432x288 with 1 Axes>"
      ]
     },
     "metadata": {
      "needs_background": "light"
     },
     "output_type": "display_data"
    }
   ],
   "source": [
    "# 可视化\n",
    "tree_result.plot(x='max_depth',y='test_score')"
   ]
  },
  {
   "cell_type": "markdown",
   "metadata": {},
   "source": [
    "↑♎分析：自己分析以上结果，给出结论"
   ]
  }
 ],
 "metadata": {
  "kernelspec": {
   "display_name": "Python 3",
   "language": "python",
   "name": "python3"
  },
  "language_info": {
   "codemirror_mode": {
    "name": "ipython",
    "version": 3
   },
   "file_extension": ".py",
   "mimetype": "text/x-python",
   "name": "python",
   "nbconvert_exporter": "python",
   "pygments_lexer": "ipython3",
   "version": "3.7.4"
  },
  "latex_envs": {
   "LaTeX_envs_menu_present": true,
   "autoclose": false,
   "autocomplete": true,
   "bibliofile": "biblio.bib",
   "cite_by": "apalike",
   "current_citInitial": 1,
   "eqLabelWithNumbers": true,
   "eqNumInitial": 1,
   "hotkeys": {
    "equation": "Ctrl-E",
    "itemize": "Ctrl-I"
   },
   "labels_anchors": false,
   "latex_user_defs": false,
   "report_style_numbering": false,
   "user_envs_cfg": false
  },
  "toc": {
   "base_numbering": 1,
   "nav_menu": {},
   "number_sections": false,
   "sideBar": true,
   "skip_h1_title": false,
   "title_cell": "Table of Contents",
   "title_sidebar": "Contents",
   "toc_cell": false,
   "toc_position": {
    "height": "calc(100% - 180px)",
    "left": "10px",
    "top": "150px",
    "width": "195.073px"
   },
   "toc_section_display": true,
   "toc_window_display": false
  },
  "varInspector": {
   "cols": {
    "lenName": 16,
    "lenType": 16,
    "lenVar": 40
   },
   "kernels_config": {
    "python": {
     "delete_cmd_postfix": "",
     "delete_cmd_prefix": "del ",
     "library": "var_list.py",
     "varRefreshCmd": "print(var_dic_list())"
    },
    "r": {
     "delete_cmd_postfix": ") ",
     "delete_cmd_prefix": "rm(",
     "library": "var_list.r",
     "varRefreshCmd": "cat(var_dic_list()) "
    }
   },
   "types_to_exclude": [
    "module",
    "function",
    "builtin_function_or_method",
    "instance",
    "_Feature"
   ],
   "window_display": false
  }
 },
 "nbformat": 4,
 "nbformat_minor": 2
}
