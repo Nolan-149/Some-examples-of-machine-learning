{
 "cells": [
  {
   "cell_type": "markdown",
   "metadata": {
    "toc": true
   },
   "source": [
    "<h1>chap05_2_Contents<span class=\"tocSkip\"></span></h1>\n",
    "<div class=\"toc\"><ul class=\"toc-item\"><li><span><a href=\"#数据导入\" data-toc-modified-id=\"数据导入-1\"><span class=\"toc-item-num\">1&nbsp;&nbsp;</span>数据导入</a></span><ul class=\"toc-item\"><li><span><a href=\"#导入数据\" data-toc-modified-id=\"导入数据-1.1\"><span class=\"toc-item-num\">1.1&nbsp;&nbsp;</span>导入数据</a></span></li><li><span><a href=\"#特征说明\" data-toc-modified-id=\"特征说明-1.2\"><span class=\"toc-item-num\">1.2&nbsp;&nbsp;</span>特征说明</a></span></li></ul></li><li><span><a href=\"#数据预处理\" data-toc-modified-id=\"数据预处理-2\"><span class=\"toc-item-num\">2&nbsp;&nbsp;</span>数据预处理</a></span><ul class=\"toc-item\"><li><span><a href=\"#数据清洗\" data-toc-modified-id=\"数据清洗-2.1\"><span class=\"toc-item-num\">2.1&nbsp;&nbsp;</span>数据清洗</a></span><ul class=\"toc-item\"><li><span><a href=\"#去掉无关特征\" data-toc-modified-id=\"去掉无关特征-2.1.1\"><span class=\"toc-item-num\">2.1.1&nbsp;&nbsp;</span>去掉无关特征</a></span></li><li><span><a href=\"#缺失值处理\" data-toc-modified-id=\"缺失值处理-2.1.2\"><span class=\"toc-item-num\">2.1.2&nbsp;&nbsp;</span>缺失值处理</a></span><ul class=\"toc-item\"><li><span><a href=\"#缺失值填充1\" data-toc-modified-id=\"缺失值填充1-2.1.2.1\"><span class=\"toc-item-num\">2.1.2.1&nbsp;&nbsp;</span>缺失值填充1</a></span></li><li><span><a href=\"#缺失值填充2\" data-toc-modified-id=\"缺失值填充2-2.1.2.2\"><span class=\"toc-item-num\">2.1.2.2&nbsp;&nbsp;</span>缺失值填充2</a></span></li><li><span><a href=\"#验证填充结果\" data-toc-modified-id=\"验证填充结果-2.1.2.3\"><span class=\"toc-item-num\">2.1.2.3&nbsp;&nbsp;</span>验证填充结果</a></span></li></ul></li><li><span><a href=\"#特征值探索及一致性处理\" data-toc-modified-id=\"特征值探索及一致性处理-2.1.3\"><span class=\"toc-item-num\">2.1.3&nbsp;&nbsp;</span>特征值探索及一致性处理</a></span><ul class=\"toc-item\"><li><span><a href=\"#查看特征的unique取值\" data-toc-modified-id=\"查看特征的unique取值-2.1.3.1\"><span class=\"toc-item-num\">2.1.3.1&nbsp;&nbsp;</span>查看特征的unique取值</a></span></li><li><span><a href=\"#特征值表述一致性处理\" data-toc-modified-id=\"特征值表述一致性处理-2.1.3.2\"><span class=\"toc-item-num\">2.1.3.2&nbsp;&nbsp;</span>特征值表述一致性处理</a></span></li><li><span><a href=\"#验证一致性表示结果\" data-toc-modified-id=\"验证一致性表示结果-2.1.3.3\"><span class=\"toc-item-num\">2.1.3.3&nbsp;&nbsp;</span>验证一致性表示结果</a></span></li></ul></li><li><span><a href=\"#保存清洗后数据\" data-toc-modified-id=\"保存清洗后数据-2.1.4\"><span class=\"toc-item-num\">2.1.4&nbsp;&nbsp;</span>保存清洗后数据</a></span></li></ul></li><li><span><a href=\"#object特征的数值编码\" data-toc-modified-id=\"object特征的数值编码-2.2\"><span class=\"toc-item-num\">2.2&nbsp;&nbsp;</span>object特征的数值编码</a></span><ul class=\"toc-item\"><li><span><a href=\"#有序特征进行数值编码\" data-toc-modified-id=\"有序特征进行数值编码-2.2.1\"><span class=\"toc-item-num\">2.2.1&nbsp;&nbsp;</span>有序特征进行数值编码</a></span></li><li><span><a href=\"#无序特征进行OneHot编码\" data-toc-modified-id=\"无序特征进行OneHot编码-2.2.2\"><span class=\"toc-item-num\">2.2.2&nbsp;&nbsp;</span>无序特征进行OneHot编码</a></span></li></ul></li></ul></li><li><span><a href=\"#描述性统计\" data-toc-modified-id=\"描述性统计-3\"><span class=\"toc-item-num\">3&nbsp;&nbsp;</span>描述性统计</a></span><ul class=\"toc-item\"><li><span><a href=\"#单特征统计\" data-toc-modified-id=\"单特征统计-3.1\"><span class=\"toc-item-num\">3.1&nbsp;&nbsp;</span>单特征统计</a></span></li><li><span><a href=\"#多特征统计\" data-toc-modified-id=\"多特征统计-3.2\"><span class=\"toc-item-num\">3.2&nbsp;&nbsp;</span>多特征统计</a></span></li></ul></li><li><span><a href=\"#聚类分析\" data-toc-modified-id=\"聚类分析-4\"><span class=\"toc-item-num\">4&nbsp;&nbsp;</span>聚类分析</a></span><ul class=\"toc-item\"><li><span><a href=\"#K-Means聚类分析\" data-toc-modified-id=\"K-Means聚类分析-4.1\"><span class=\"toc-item-num\">4.1&nbsp;&nbsp;</span>K-Means聚类分析</a></span><ul class=\"toc-item\"><li><span><a href=\"#组模型创建与评价\" data-toc-modified-id=\"组模型创建与评价-4.1.1\"><span class=\"toc-item-num\">4.1.1&nbsp;&nbsp;</span>组模型创建与评价</a></span></li><li><span><a href=\"#组模型分析及最优模型选择\" data-toc-modified-id=\"组模型分析及最优模型选择-4.1.2\"><span class=\"toc-item-num\">4.1.2&nbsp;&nbsp;</span>组模型分析及最优模型选择</a></span></li><li><span><a href=\"#最优模型及聚类结果解析\" data-toc-modified-id=\"最优模型及聚类结果解析-4.1.3\"><span class=\"toc-item-num\">4.1.3&nbsp;&nbsp;</span>最优模型及聚类结果解析</a></span></li></ul></li><li><span><a href=\"#层次聚类分析\" data-toc-modified-id=\"层次聚类分析-4.2\"><span class=\"toc-item-num\">4.2&nbsp;&nbsp;</span>层次聚类分析</a></span><ul class=\"toc-item\"><li><span><a href=\"#组模型创建与评价\" data-toc-modified-id=\"组模型创建与评价-4.2.1\"><span class=\"toc-item-num\">4.2.1&nbsp;&nbsp;</span>组模型创建与评价</a></span></li><li><span><a href=\"#组模型效果分析与选择\" data-toc-modified-id=\"组模型效果分析与选择-4.2.2\"><span class=\"toc-item-num\">4.2.2&nbsp;&nbsp;</span>组模型效果分析与选择</a></span></li><li><span><a href=\"#优模型及聚类结果解析\" data-toc-modified-id=\"优模型及聚类结果解析-4.2.3\"><span class=\"toc-item-num\">4.2.3&nbsp;&nbsp;</span>优模型及聚类结果解析</a></span><ul class=\"toc-item\"><li><span><a href=\"#优模构建\" data-toc-modified-id=\"优模构建-4.2.3.1\"><span class=\"toc-item-num\">4.2.3.1&nbsp;&nbsp;</span>优模构建</a></span></li><li><span><a href=\"#查看轮廓系数和聚类标签\" data-toc-modified-id=\"查看轮廓系数和聚类标签-4.2.3.2\"><span class=\"toc-item-num\">4.2.3.2&nbsp;&nbsp;</span>查看轮廓系数和聚类标签</a></span></li><li><span><a href=\"#构建聚类中心\" data-toc-modified-id=\"构建聚类中心-4.2.3.3\"><span class=\"toc-item-num\">4.2.3.3&nbsp;&nbsp;</span>构建聚类中心</a></span></li><li><span><a href=\"#聚类结果可视化\" data-toc-modified-id=\"聚类结果可视化-4.2.3.4\"><span class=\"toc-item-num\">4.2.3.4&nbsp;&nbsp;</span>聚类结果可视化</a></span></li><li><span><a href=\"#谱系图\" data-toc-modified-id=\"谱系图-4.2.3.5\"><span class=\"toc-item-num\">4.2.3.5&nbsp;&nbsp;</span>谱系图</a></span></li></ul></li></ul></li><li><span><a href=\"#MeanShift聚类分析\" data-toc-modified-id=\"MeanShift聚类分析-4.3\"><span class=\"toc-item-num\">4.3&nbsp;&nbsp;</span>MeanShift聚类分析</a></span><ul class=\"toc-item\"><li><span><a href=\"#组模型创建与评价\" data-toc-modified-id=\"组模型创建与评价-4.3.1\"><span class=\"toc-item-num\">4.3.1&nbsp;&nbsp;</span>组模型创建与评价</a></span></li><li><span><a href=\"#优模型及聚类结果\" data-toc-modified-id=\"优模型及聚类结果-4.3.2\"><span class=\"toc-item-num\">4.3.2&nbsp;&nbsp;</span>优模型及聚类结果</a></span><ul class=\"toc-item\"><li><span><a href=\"#优模型构建\" data-toc-modified-id=\"优模型构建-4.3.2.1\"><span class=\"toc-item-num\">4.3.2.1&nbsp;&nbsp;</span>优模型构建</a></span></li><li><span><a href=\"#查看silhouette和labels\" data-toc-modified-id=\"查看silhouette和labels-4.3.2.2\"><span class=\"toc-item-num\">4.3.2.2&nbsp;&nbsp;</span>查看silhouette和labels</a></span></li><li><span><a href=\"#统计类别数目\" data-toc-modified-id=\"统计类别数目-4.3.2.3\"><span class=\"toc-item-num\">4.3.2.3&nbsp;&nbsp;</span>统计类别数目</a></span></li><li><span><a href=\"#构建聚类中心\" data-toc-modified-id=\"构建聚类中心-4.3.2.4\"><span class=\"toc-item-num\">4.3.2.4&nbsp;&nbsp;</span>构建聚类中心</a></span></li><li><span><a href=\"#聚类结果可视化\" data-toc-modified-id=\"聚类结果可视化-4.3.2.5\"><span class=\"toc-item-num\">4.3.2.5&nbsp;&nbsp;</span>聚类结果可视化</a></span></li></ul></li></ul></li><li><span><a href=\"#聚类结果与特征变量的关系\" data-toc-modified-id=\"聚类结果与特征变量的关系-4.4\"><span class=\"toc-item-num\">4.4&nbsp;&nbsp;</span>聚类结果与特征变量的关系</a></span><ul class=\"toc-item\"><li><span><a href=\"#构建最优模型\" data-toc-modified-id=\"构建最优模型-4.4.1\"><span class=\"toc-item-num\">4.4.1&nbsp;&nbsp;</span>构建最优模型</a></span></li><li><span><a href=\"#构建带类别标签的DF\" data-toc-modified-id=\"构建带类别标签的DF-4.4.2\"><span class=\"toc-item-num\">4.4.2&nbsp;&nbsp;</span>构建带类别标签的DF</a></span></li><li><span><a href=\"#特征与聚类结果的关系\" data-toc-modified-id=\"特征与聚类结果的关系-4.4.3\"><span class=\"toc-item-num\">4.4.3&nbsp;&nbsp;</span>特征与聚类结果的关系</a></span><ul class=\"toc-item\"><li><span><a href=\"#单个连续特征与结果的关系\" data-toc-modified-id=\"单个连续特征与结果的关系-4.4.3.1\"><span class=\"toc-item-num\">4.4.3.1&nbsp;&nbsp;</span>单个连续特征与结果的关系</a></span></li><li><span><a href=\"#单个非连续特征与结果关系\" data-toc-modified-id=\"单个非连续特征与结果关系-4.4.3.2\"><span class=\"toc-item-num\">4.4.3.2&nbsp;&nbsp;</span>单个非连续特征与结果关系</a></span></li><li><span><a href=\"#两个特征与聚类结果的关系\" data-toc-modified-id=\"两个特征与聚类结果的关系-4.4.3.3\"><span class=\"toc-item-num\">4.4.3.3&nbsp;&nbsp;</span>两个特征与聚类结果的关系</a></span></li></ul></li></ul></li></ul></li><li><span><a href=\"#小结\" data-toc-modified-id=\"小结-5\"><span class=\"toc-item-num\">5&nbsp;&nbsp;</span>小结</a></span></li></ul></div>"
   ]
  },
  {
   "cell_type": "markdown",
   "metadata": {},
   "source": [
    "chap05_2_Project\n",
    "\n",
    "**案例描述：**\n",
    "> **Dress**数据集包含500个样本，14个特征，描述了部分服装销售的相关信息，包括价格、尺码和风格等。<br> 本案例利用KMeans、MeanShift以及层次聚类算法分别对服装进行聚类分析，并作出评价\n",
    " <img src=\"./imgs/chap05/fig05_0.jpg\" width=50%>\n",
    "\n",
    "**数据集：**\n",
    "> 本地有两种类型的数据，一种是tab分割，一种是逗号分割：\n",
    ">> + `file_tab = \"./dataSets/data_chap5/AttributeDataSet.tab\"`  <br>\n",
    ">> + `file_csv = \"./dataSets/data_chap5/AttributeDataSet.csv\"`"
   ]
  },
  {
   "cell_type": "markdown",
   "metadata": {},
   "source": [
    "**0.导入包**"
   ]
  },
  {
   "cell_type": "code",
   "execution_count": 79,
   "metadata": {},
   "outputs": [],
   "source": [
    "## 三剑客\n",
    "import numpy as np\n",
    "import pandas as pd\n",
    "import matplotlib.pyplot as plt\n",
    "import seaborn as sns\n",
    "\n",
    "%matplotlib inline\n",
    "plt.rcParams['font.sans-serif'] = ['SimHei']\n",
    "plt.rcParams['axes.unicode_minus'] = False"
   ]
  },
  {
   "cell_type": "code",
   "execution_count": 80,
   "metadata": {},
   "outputs": [],
   "source": [
    "## 数据预处理\n",
    "from sklearn.preprocessing import LabelEncoder\n",
    "## 聚类包\n",
    "from sklearn.cluster import KMeans,MeanShift,AgglomerativeClustering,DBSCAN\n",
    "## 评价包（轮廓系数）\n",
    "from sklearn.metrics import silhouette_score"
   ]
  },
  {
   "cell_type": "markdown",
   "metadata": {},
   "source": [
    "# 数据导入"
   ]
  },
  {
   "cell_type": "markdown",
   "metadata": {},
   "source": [
    "## 导入数据"
   ]
  },
  {
   "cell_type": "code",
   "execution_count": 81,
   "metadata": {},
   "outputs": [],
   "source": [
    "# 文件路径\n",
    "file_tab = \"./dataSets/data_chap5/AttributeDataSet.tab\"\n",
    "file_csv = \"./dataSets/data_chap5/AttributeDataSet.csv\""
   ]
  },
  {
   "cell_type": "code",
   "execution_count": 82,
   "metadata": {},
   "outputs": [
    {
     "data": {
      "text/html": [
       "<div>\n",
       "<style scoped>\n",
       "    .dataframe tbody tr th:only-of-type {\n",
       "        vertical-align: middle;\n",
       "    }\n",
       "\n",
       "    .dataframe tbody tr th {\n",
       "        vertical-align: top;\n",
       "    }\n",
       "\n",
       "    .dataframe thead th {\n",
       "        text-align: right;\n",
       "    }\n",
       "</style>\n",
       "<table border=\"1\" class=\"dataframe\">\n",
       "  <thead>\n",
       "    <tr style=\"text-align: right;\">\n",
       "      <th></th>\n",
       "      <th>Dress_ID</th>\n",
       "      <th>Style</th>\n",
       "      <th>Price</th>\n",
       "      <th>Rating</th>\n",
       "      <th>Size</th>\n",
       "      <th>Season</th>\n",
       "      <th>NeckLine</th>\n",
       "      <th>SleeveLength</th>\n",
       "      <th>waiseline</th>\n",
       "      <th>Material</th>\n",
       "      <th>FabricType</th>\n",
       "      <th>Decoration</th>\n",
       "      <th>Pattern Type</th>\n",
       "      <th>Recommendation</th>\n",
       "    </tr>\n",
       "  </thead>\n",
       "  <tbody>\n",
       "    <tr>\n",
       "      <th>0</th>\n",
       "      <td>1006032852</td>\n",
       "      <td>Sexy</td>\n",
       "      <td>Low</td>\n",
       "      <td>4.6</td>\n",
       "      <td>M</td>\n",
       "      <td>Summer</td>\n",
       "      <td>o-neck</td>\n",
       "      <td>sleevless</td>\n",
       "      <td>empire</td>\n",
       "      <td>NaN</td>\n",
       "      <td>chiffon</td>\n",
       "      <td>ruffles</td>\n",
       "      <td>animal</td>\n",
       "      <td>1</td>\n",
       "    </tr>\n",
       "    <tr>\n",
       "      <th>1</th>\n",
       "      <td>1212192089</td>\n",
       "      <td>Casual</td>\n",
       "      <td>Low</td>\n",
       "      <td>0.0</td>\n",
       "      <td>L</td>\n",
       "      <td>Summer</td>\n",
       "      <td>o-neck</td>\n",
       "      <td>Petal</td>\n",
       "      <td>natural</td>\n",
       "      <td>microfiber</td>\n",
       "      <td>NaN</td>\n",
       "      <td>ruffles</td>\n",
       "      <td>animal</td>\n",
       "      <td>0</td>\n",
       "    </tr>\n",
       "    <tr>\n",
       "      <th>2</th>\n",
       "      <td>1190380701</td>\n",
       "      <td>vintage</td>\n",
       "      <td>High</td>\n",
       "      <td>0.0</td>\n",
       "      <td>L</td>\n",
       "      <td>Automn</td>\n",
       "      <td>o-neck</td>\n",
       "      <td>full</td>\n",
       "      <td>natural</td>\n",
       "      <td>polyster</td>\n",
       "      <td>NaN</td>\n",
       "      <td>NaN</td>\n",
       "      <td>print</td>\n",
       "      <td>0</td>\n",
       "    </tr>\n",
       "    <tr>\n",
       "      <th>3</th>\n",
       "      <td>966005983</td>\n",
       "      <td>Brief</td>\n",
       "      <td>Average</td>\n",
       "      <td>4.6</td>\n",
       "      <td>L</td>\n",
       "      <td>Spring</td>\n",
       "      <td>o-neck</td>\n",
       "      <td>full</td>\n",
       "      <td>natural</td>\n",
       "      <td>silk</td>\n",
       "      <td>chiffon</td>\n",
       "      <td>embroidary</td>\n",
       "      <td>print</td>\n",
       "      <td>1</td>\n",
       "    </tr>\n",
       "    <tr>\n",
       "      <th>4</th>\n",
       "      <td>876339541</td>\n",
       "      <td>cute</td>\n",
       "      <td>Low</td>\n",
       "      <td>4.5</td>\n",
       "      <td>M</td>\n",
       "      <td>Summer</td>\n",
       "      <td>o-neck</td>\n",
       "      <td>butterfly</td>\n",
       "      <td>natural</td>\n",
       "      <td>chiffonfabric</td>\n",
       "      <td>chiffon</td>\n",
       "      <td>bow</td>\n",
       "      <td>dot</td>\n",
       "      <td>0</td>\n",
       "    </tr>\n",
       "  </tbody>\n",
       "</table>\n",
       "</div>"
      ],
      "text/plain": [
       "     Dress_ID    Style    Price  Rating Size  Season NeckLine SleeveLength  \\\n",
       "0  1006032852     Sexy      Low     4.6    M  Summer   o-neck    sleevless   \n",
       "1  1212192089   Casual      Low     0.0    L  Summer   o-neck        Petal   \n",
       "2  1190380701  vintage     High     0.0    L  Automn   o-neck         full   \n",
       "3   966005983    Brief  Average     4.6    L  Spring   o-neck         full   \n",
       "4   876339541     cute      Low     4.5    M  Summer   o-neck    butterfly   \n",
       "\n",
       "  waiseline       Material FabricType  Decoration Pattern Type  Recommendation  \n",
       "0    empire            NaN    chiffon     ruffles       animal               1  \n",
       "1   natural     microfiber        NaN     ruffles       animal               0  \n",
       "2   natural       polyster        NaN         NaN        print               0  \n",
       "3   natural           silk    chiffon  embroidary        print               1  \n",
       "4   natural  chiffonfabric    chiffon         bow          dot               0  "
      ]
     },
     "execution_count": 82,
     "metadata": {},
     "output_type": "execute_result"
    }
   ],
   "source": [
    "# 读取tab文件\n",
    "data1 = pd.read_csv(file_tab,sep='\\t')\n",
    "data1.head()"
   ]
  },
  {
   "cell_type": "code",
   "execution_count": 83,
   "metadata": {},
   "outputs": [
    {
     "data": {
      "text/html": [
       "<div>\n",
       "<style scoped>\n",
       "    .dataframe tbody tr th:only-of-type {\n",
       "        vertical-align: middle;\n",
       "    }\n",
       "\n",
       "    .dataframe tbody tr th {\n",
       "        vertical-align: top;\n",
       "    }\n",
       "\n",
       "    .dataframe thead th {\n",
       "        text-align: right;\n",
       "    }\n",
       "</style>\n",
       "<table border=\"1\" class=\"dataframe\">\n",
       "  <thead>\n",
       "    <tr style=\"text-align: right;\">\n",
       "      <th></th>\n",
       "      <th>Dress_ID</th>\n",
       "      <th>Style</th>\n",
       "      <th>Price</th>\n",
       "      <th>Rating</th>\n",
       "      <th>Size</th>\n",
       "      <th>Season</th>\n",
       "      <th>NeckLine</th>\n",
       "      <th>SleeveLength</th>\n",
       "      <th>waiseline</th>\n",
       "      <th>Material</th>\n",
       "      <th>FabricType</th>\n",
       "      <th>Decoration</th>\n",
       "      <th>Pattern Type</th>\n",
       "      <th>Recommendation</th>\n",
       "    </tr>\n",
       "  </thead>\n",
       "  <tbody>\n",
       "    <tr>\n",
       "      <th>0</th>\n",
       "      <td>1006032852</td>\n",
       "      <td>Sexy</td>\n",
       "      <td>Low</td>\n",
       "      <td>4.6</td>\n",
       "      <td>M</td>\n",
       "      <td>Summer</td>\n",
       "      <td>o-neck</td>\n",
       "      <td>sleevless</td>\n",
       "      <td>empire</td>\n",
       "      <td>NaN</td>\n",
       "      <td>chiffon</td>\n",
       "      <td>ruffles</td>\n",
       "      <td>animal</td>\n",
       "      <td>1</td>\n",
       "    </tr>\n",
       "    <tr>\n",
       "      <th>1</th>\n",
       "      <td>1212192089</td>\n",
       "      <td>Casual</td>\n",
       "      <td>Low</td>\n",
       "      <td>0.0</td>\n",
       "      <td>L</td>\n",
       "      <td>Summer</td>\n",
       "      <td>o-neck</td>\n",
       "      <td>Petal</td>\n",
       "      <td>natural</td>\n",
       "      <td>microfiber</td>\n",
       "      <td>NaN</td>\n",
       "      <td>ruffles</td>\n",
       "      <td>animal</td>\n",
       "      <td>0</td>\n",
       "    </tr>\n",
       "    <tr>\n",
       "      <th>2</th>\n",
       "      <td>1190380701</td>\n",
       "      <td>vintage</td>\n",
       "      <td>High</td>\n",
       "      <td>0.0</td>\n",
       "      <td>L</td>\n",
       "      <td>Automn</td>\n",
       "      <td>o-neck</td>\n",
       "      <td>full</td>\n",
       "      <td>natural</td>\n",
       "      <td>polyster</td>\n",
       "      <td>NaN</td>\n",
       "      <td>NaN</td>\n",
       "      <td>print</td>\n",
       "      <td>0</td>\n",
       "    </tr>\n",
       "    <tr>\n",
       "      <th>3</th>\n",
       "      <td>966005983</td>\n",
       "      <td>Brief</td>\n",
       "      <td>Average</td>\n",
       "      <td>4.6</td>\n",
       "      <td>L</td>\n",
       "      <td>Spring</td>\n",
       "      <td>o-neck</td>\n",
       "      <td>full</td>\n",
       "      <td>natural</td>\n",
       "      <td>silk</td>\n",
       "      <td>chiffon</td>\n",
       "      <td>embroidary</td>\n",
       "      <td>print</td>\n",
       "      <td>1</td>\n",
       "    </tr>\n",
       "    <tr>\n",
       "      <th>4</th>\n",
       "      <td>876339541</td>\n",
       "      <td>cute</td>\n",
       "      <td>Low</td>\n",
       "      <td>4.5</td>\n",
       "      <td>M</td>\n",
       "      <td>Summer</td>\n",
       "      <td>o-neck</td>\n",
       "      <td>butterfly</td>\n",
       "      <td>natural</td>\n",
       "      <td>chiffonfabric</td>\n",
       "      <td>chiffon</td>\n",
       "      <td>bow</td>\n",
       "      <td>dot</td>\n",
       "      <td>0</td>\n",
       "    </tr>\n",
       "  </tbody>\n",
       "</table>\n",
       "</div>"
      ],
      "text/plain": [
       "     Dress_ID    Style    Price  Rating Size  Season NeckLine SleeveLength  \\\n",
       "0  1006032852     Sexy      Low     4.6    M  Summer   o-neck    sleevless   \n",
       "1  1212192089   Casual      Low     0.0    L  Summer   o-neck        Petal   \n",
       "2  1190380701  vintage     High     0.0    L  Automn   o-neck         full   \n",
       "3   966005983    Brief  Average     4.6    L  Spring   o-neck         full   \n",
       "4   876339541     cute      Low     4.5    M  Summer   o-neck    butterfly   \n",
       "\n",
       "  waiseline       Material FabricType  Decoration Pattern Type  Recommendation  \n",
       "0    empire            NaN    chiffon     ruffles       animal               1  \n",
       "1   natural     microfiber        NaN     ruffles       animal               0  \n",
       "2   natural       polyster        NaN         NaN        print               0  \n",
       "3   natural           silk    chiffon  embroidary        print               1  \n",
       "4   natural  chiffonfabric    chiffon         bow          dot               0  "
      ]
     },
     "execution_count": 83,
     "metadata": {},
     "output_type": "execute_result"
    }
   ],
   "source": [
    "# 读取csv文件\n",
    "# 逗号可以去掉\n",
    "data2 = pd.read_csv(file_csv,sep=',')\n",
    "data2.head()"
   ]
  },
  {
   "cell_type": "code",
   "execution_count": 84,
   "metadata": {},
   "outputs": [
    {
     "data": {
      "text/html": [
       "<div>\n",
       "<style scoped>\n",
       "    .dataframe tbody tr th:only-of-type {\n",
       "        vertical-align: middle;\n",
       "    }\n",
       "\n",
       "    .dataframe tbody tr th {\n",
       "        vertical-align: top;\n",
       "    }\n",
       "\n",
       "    .dataframe thead th {\n",
       "        text-align: right;\n",
       "    }\n",
       "</style>\n",
       "<table border=\"1\" class=\"dataframe\">\n",
       "  <thead>\n",
       "    <tr style=\"text-align: right;\">\n",
       "      <th></th>\n",
       "      <th>Dress_ID</th>\n",
       "      <th>Style</th>\n",
       "      <th>Price</th>\n",
       "      <th>Rating</th>\n",
       "      <th>Size</th>\n",
       "      <th>Season</th>\n",
       "      <th>NeckLine</th>\n",
       "      <th>SleeveLength</th>\n",
       "      <th>waiseline</th>\n",
       "      <th>Material</th>\n",
       "      <th>FabricType</th>\n",
       "      <th>Decoration</th>\n",
       "      <th>Pattern Type</th>\n",
       "      <th>Recommendation</th>\n",
       "    </tr>\n",
       "  </thead>\n",
       "  <tbody>\n",
       "    <tr>\n",
       "      <th>151</th>\n",
       "      <td>1097548715</td>\n",
       "      <td>vintage</td>\n",
       "      <td>Medium</td>\n",
       "      <td>0.0</td>\n",
       "      <td>S</td>\n",
       "      <td>Winter</td>\n",
       "      <td>turndowncollor</td>\n",
       "      <td>halfsleeve</td>\n",
       "      <td>natural</td>\n",
       "      <td>cotton</td>\n",
       "      <td>broadcloth</td>\n",
       "      <td>NaN</td>\n",
       "      <td>plaid</td>\n",
       "      <td>0</td>\n",
       "    </tr>\n",
       "    <tr>\n",
       "      <th>331</th>\n",
       "      <td>886501087</td>\n",
       "      <td>cute</td>\n",
       "      <td>low</td>\n",
       "      <td>0.0</td>\n",
       "      <td>L</td>\n",
       "      <td>Spring</td>\n",
       "      <td>o-neck</td>\n",
       "      <td>sleevless</td>\n",
       "      <td>empire</td>\n",
       "      <td>NaN</td>\n",
       "      <td>NaN</td>\n",
       "      <td>NaN</td>\n",
       "      <td>NaN</td>\n",
       "      <td>1</td>\n",
       "    </tr>\n",
       "    <tr>\n",
       "      <th>233</th>\n",
       "      <td>1216538883</td>\n",
       "      <td>cute</td>\n",
       "      <td>Average</td>\n",
       "      <td>0.0</td>\n",
       "      <td>M</td>\n",
       "      <td>Winter</td>\n",
       "      <td>o-neck</td>\n",
       "      <td>short</td>\n",
       "      <td>natural</td>\n",
       "      <td>polyster</td>\n",
       "      <td>chiffon</td>\n",
       "      <td>sashes</td>\n",
       "      <td>solid</td>\n",
       "      <td>0</td>\n",
       "    </tr>\n",
       "    <tr>\n",
       "      <th>22</th>\n",
       "      <td>1122989777</td>\n",
       "      <td>Brief</td>\n",
       "      <td>Low</td>\n",
       "      <td>4.0</td>\n",
       "      <td>XL</td>\n",
       "      <td>Summer</td>\n",
       "      <td>v-neck</td>\n",
       "      <td>short</td>\n",
       "      <td>natural</td>\n",
       "      <td>cotton</td>\n",
       "      <td>NaN</td>\n",
       "      <td>pockets</td>\n",
       "      <td>solid</td>\n",
       "      <td>0</td>\n",
       "    </tr>\n",
       "    <tr>\n",
       "      <th>53</th>\n",
       "      <td>828623528</td>\n",
       "      <td>Casual</td>\n",
       "      <td>Average</td>\n",
       "      <td>4.6</td>\n",
       "      <td>free</td>\n",
       "      <td>Automn</td>\n",
       "      <td>o-neck</td>\n",
       "      <td>sleevless</td>\n",
       "      <td>natural</td>\n",
       "      <td>polyster</td>\n",
       "      <td>chiffon</td>\n",
       "      <td>sashes</td>\n",
       "      <td>solid</td>\n",
       "      <td>1</td>\n",
       "    </tr>\n",
       "  </tbody>\n",
       "</table>\n",
       "</div>"
      ],
      "text/plain": [
       "       Dress_ID    Style    Price  Rating  Size  Season        NeckLine  \\\n",
       "151  1097548715  vintage   Medium     0.0     S  Winter  turndowncollor   \n",
       "331   886501087     cute      low     0.0     L  Spring          o-neck   \n",
       "233  1216538883     cute  Average     0.0     M  Winter          o-neck   \n",
       "22   1122989777    Brief      Low     4.0    XL  Summer          v-neck   \n",
       "53    828623528   Casual  Average     4.6  free  Automn          o-neck   \n",
       "\n",
       "    SleeveLength waiseline  Material  FabricType Decoration Pattern Type  \\\n",
       "151   halfsleeve   natural    cotton  broadcloth        NaN        plaid   \n",
       "331    sleevless    empire       NaN         NaN        NaN          NaN   \n",
       "233        short   natural  polyster     chiffon     sashes        solid   \n",
       "22         short   natural    cotton         NaN    pockets        solid   \n",
       "53     sleevless   natural  polyster     chiffon     sashes        solid   \n",
       "\n",
       "     Recommendation  \n",
       "151               0  \n",
       "331               1  \n",
       "233               0  \n",
       "22                0  \n",
       "53                1  "
      ]
     },
     "execution_count": 84,
     "metadata": {},
     "output_type": "execute_result"
    }
   ],
   "source": [
    "# 使用dress变量\n",
    "dress = data2\n",
    "# 随机查看5行\n",
    "dress.sample(5)"
   ]
  },
  {
   "cell_type": "markdown",
   "metadata": {},
   "source": [
    "## 特征说明\n",
    "> | 特征 | 描述 |\n",
    "| :--------:| :--------:|\n",
    "| Dress ID | 衣物ID |\n",
    "| Style | 风格 |\n",
    "| Price | 价格 |\n",
    "| Rating | 评分 |\n",
    "| Size | 尺码 |\n",
    "| Season | 季节 |\n",
    "| Neck Line | 衣领类型 |\n",
    "| SleevelLength | 衣袖长度 |\n",
    "| Waiseline | 腰身 |\n",
    "| Material | 材质 |\n",
    "| FabricType | 织物类型 |\n",
    "| Decoration | 图案类型 |\n",
    "| Pattern Type|样式类型|\n",
    "| Recommendation | 是否是店家推荐产品 |"
   ]
  },
  {
   "cell_type": "code",
   "execution_count": 85,
   "metadata": {},
   "outputs": [
    {
     "name": "stdout",
     "output_type": "stream",
     "text": [
      "<class 'pandas.core.frame.DataFrame'>\n",
      "RangeIndex: 500 entries, 0 to 499\n",
      "Data columns (total 14 columns):\n",
      " #   Column          Non-Null Count  Dtype  \n",
      "---  ------          --------------  -----  \n",
      " 0   Dress_ID        500 non-null    int64  \n",
      " 1   Style           500 non-null    object \n",
      " 2   Price           498 non-null    object \n",
      " 3   Rating          500 non-null    float64\n",
      " 4   Size            500 non-null    object \n",
      " 5   Season          498 non-null    object \n",
      " 6   NeckLine        497 non-null    object \n",
      " 7   SleeveLength    498 non-null    object \n",
      " 8   waiseline       413 non-null    object \n",
      " 9   Material        372 non-null    object \n",
      " 10  FabricType      234 non-null    object \n",
      " 11  Decoration      264 non-null    object \n",
      " 12  Pattern Type    391 non-null    object \n",
      " 13  Recommendation  500 non-null    int64  \n",
      "dtypes: float64(1), int64(2), object(11)\n",
      "memory usage: 54.8+ KB\n"
     ]
    }
   ],
   "source": [
    "## 查看基本信息\n",
    "dress.info()"
   ]
  },
  {
   "cell_type": "markdown",
   "metadata": {},
   "source": [
    "object:可以都是string，也可以是混合类型"
   ]
  },
  {
   "cell_type": "markdown",
   "metadata": {},
   "source": [
    "**↑♎分析：**可以看到，\n",
    "> + 缺失值情况：该数据集有500个样本，`Price`等几个特征存在缺失值，这意味着我们需要进行缺失值处理;\n",
    "> + Feature数据类型情况：`Rating`为float，`Recommendation`为int，其余均为object。\n",
    "> + Feature名情况：`waiseline`,首字符没有大写,单词错误；`Pattern Type`，中间有个空格，跟其他Feature名不一致，最好改过来，当然也可以不改。"
   ]
  },
  {
   "cell_type": "code",
   "execution_count": 86,
   "metadata": {},
   "outputs": [
    {
     "data": {
      "text/plain": [
       "Index(['Dress_ID', 'Style', 'Price', 'Rating', 'Size', 'Season', 'NeckLine',\n",
       "       'SleeveLength', 'WaistLine', 'Material', 'FabricType', 'Decoration',\n",
       "       'PatternType', 'Recommendation'],\n",
       "      dtype='object')"
      ]
     },
     "execution_count": 86,
     "metadata": {},
     "output_type": "execute_result"
    }
   ],
   "source": [
    "# 原地改名：\"waiseline\":\"WaistLine\",\"Pattern Type\":\"PatternType\"\n",
    "dress.rename(columns={\"waiseline\":\"WaistLine\",\"Pattern Type\":\"PatternType\"},inplace=True)\n",
    "dress.columns"
   ]
  },
  {
   "cell_type": "markdown",
   "metadata": {},
   "source": [
    "# 数据预处理\n",
    "\n",
    "## 数据清洗"
   ]
  },
  {
   "cell_type": "markdown",
   "metadata": {},
   "source": [
    "### 去掉无关特征\n",
    "> 特征`Dress_ID`与分类无关，首先去掉。"
   ]
  },
  {
   "cell_type": "code",
   "execution_count": 87,
   "metadata": {},
   "outputs": [
    {
     "data": {
      "text/html": [
       "<div>\n",
       "<style scoped>\n",
       "    .dataframe tbody tr th:only-of-type {\n",
       "        vertical-align: middle;\n",
       "    }\n",
       "\n",
       "    .dataframe tbody tr th {\n",
       "        vertical-align: top;\n",
       "    }\n",
       "\n",
       "    .dataframe thead th {\n",
       "        text-align: right;\n",
       "    }\n",
       "</style>\n",
       "<table border=\"1\" class=\"dataframe\">\n",
       "  <thead>\n",
       "    <tr style=\"text-align: right;\">\n",
       "      <th></th>\n",
       "      <th>Style</th>\n",
       "      <th>Price</th>\n",
       "      <th>Rating</th>\n",
       "      <th>Size</th>\n",
       "      <th>Season</th>\n",
       "      <th>NeckLine</th>\n",
       "      <th>SleeveLength</th>\n",
       "      <th>WaistLine</th>\n",
       "      <th>Material</th>\n",
       "      <th>FabricType</th>\n",
       "      <th>Decoration</th>\n",
       "      <th>PatternType</th>\n",
       "      <th>Recommendation</th>\n",
       "    </tr>\n",
       "  </thead>\n",
       "  <tbody>\n",
       "    <tr>\n",
       "      <th>0</th>\n",
       "      <td>Sexy</td>\n",
       "      <td>Low</td>\n",
       "      <td>4.6</td>\n",
       "      <td>M</td>\n",
       "      <td>Summer</td>\n",
       "      <td>o-neck</td>\n",
       "      <td>sleevless</td>\n",
       "      <td>empire</td>\n",
       "      <td>NaN</td>\n",
       "      <td>chiffon</td>\n",
       "      <td>ruffles</td>\n",
       "      <td>animal</td>\n",
       "      <td>1</td>\n",
       "    </tr>\n",
       "    <tr>\n",
       "      <th>1</th>\n",
       "      <td>Casual</td>\n",
       "      <td>Low</td>\n",
       "      <td>0.0</td>\n",
       "      <td>L</td>\n",
       "      <td>Summer</td>\n",
       "      <td>o-neck</td>\n",
       "      <td>Petal</td>\n",
       "      <td>natural</td>\n",
       "      <td>microfiber</td>\n",
       "      <td>NaN</td>\n",
       "      <td>ruffles</td>\n",
       "      <td>animal</td>\n",
       "      <td>0</td>\n",
       "    </tr>\n",
       "    <tr>\n",
       "      <th>2</th>\n",
       "      <td>vintage</td>\n",
       "      <td>High</td>\n",
       "      <td>0.0</td>\n",
       "      <td>L</td>\n",
       "      <td>Automn</td>\n",
       "      <td>o-neck</td>\n",
       "      <td>full</td>\n",
       "      <td>natural</td>\n",
       "      <td>polyster</td>\n",
       "      <td>NaN</td>\n",
       "      <td>NaN</td>\n",
       "      <td>print</td>\n",
       "      <td>0</td>\n",
       "    </tr>\n",
       "    <tr>\n",
       "      <th>3</th>\n",
       "      <td>Brief</td>\n",
       "      <td>Average</td>\n",
       "      <td>4.6</td>\n",
       "      <td>L</td>\n",
       "      <td>Spring</td>\n",
       "      <td>o-neck</td>\n",
       "      <td>full</td>\n",
       "      <td>natural</td>\n",
       "      <td>silk</td>\n",
       "      <td>chiffon</td>\n",
       "      <td>embroidary</td>\n",
       "      <td>print</td>\n",
       "      <td>1</td>\n",
       "    </tr>\n",
       "    <tr>\n",
       "      <th>4</th>\n",
       "      <td>cute</td>\n",
       "      <td>Low</td>\n",
       "      <td>4.5</td>\n",
       "      <td>M</td>\n",
       "      <td>Summer</td>\n",
       "      <td>o-neck</td>\n",
       "      <td>butterfly</td>\n",
       "      <td>natural</td>\n",
       "      <td>chiffonfabric</td>\n",
       "      <td>chiffon</td>\n",
       "      <td>bow</td>\n",
       "      <td>dot</td>\n",
       "      <td>0</td>\n",
       "    </tr>\n",
       "    <tr>\n",
       "      <th>...</th>\n",
       "      <td>...</td>\n",
       "      <td>...</td>\n",
       "      <td>...</td>\n",
       "      <td>...</td>\n",
       "      <td>...</td>\n",
       "      <td>...</td>\n",
       "      <td>...</td>\n",
       "      <td>...</td>\n",
       "      <td>...</td>\n",
       "      <td>...</td>\n",
       "      <td>...</td>\n",
       "      <td>...</td>\n",
       "      <td>...</td>\n",
       "    </tr>\n",
       "    <tr>\n",
       "      <th>495</th>\n",
       "      <td>Casual</td>\n",
       "      <td>Low</td>\n",
       "      <td>4.7</td>\n",
       "      <td>M</td>\n",
       "      <td>Spring</td>\n",
       "      <td>o-neck</td>\n",
       "      <td>full</td>\n",
       "      <td>natural</td>\n",
       "      <td>polyster</td>\n",
       "      <td>NaN</td>\n",
       "      <td>NaN</td>\n",
       "      <td>solid</td>\n",
       "      <td>1</td>\n",
       "    </tr>\n",
       "    <tr>\n",
       "      <th>496</th>\n",
       "      <td>Sexy</td>\n",
       "      <td>Low</td>\n",
       "      <td>4.3</td>\n",
       "      <td>free</td>\n",
       "      <td>Summer</td>\n",
       "      <td>o-neck</td>\n",
       "      <td>full</td>\n",
       "      <td>empire</td>\n",
       "      <td>cotton</td>\n",
       "      <td>NaN</td>\n",
       "      <td>NaN</td>\n",
       "      <td>NaN</td>\n",
       "      <td>0</td>\n",
       "    </tr>\n",
       "    <tr>\n",
       "      <th>497</th>\n",
       "      <td>Casual</td>\n",
       "      <td>Average</td>\n",
       "      <td>4.7</td>\n",
       "      <td>M</td>\n",
       "      <td>Summer</td>\n",
       "      <td>v-neck</td>\n",
       "      <td>full</td>\n",
       "      <td>empire</td>\n",
       "      <td>cotton</td>\n",
       "      <td>NaN</td>\n",
       "      <td>lace</td>\n",
       "      <td>solid</td>\n",
       "      <td>1</td>\n",
       "    </tr>\n",
       "    <tr>\n",
       "      <th>498</th>\n",
       "      <td>Casual</td>\n",
       "      <td>Average</td>\n",
       "      <td>4.6</td>\n",
       "      <td>L</td>\n",
       "      <td>winter</td>\n",
       "      <td>boat-neck</td>\n",
       "      <td>sleevless</td>\n",
       "      <td>empire</td>\n",
       "      <td>silk</td>\n",
       "      <td>broadcloth</td>\n",
       "      <td>applique</td>\n",
       "      <td>print</td>\n",
       "      <td>1</td>\n",
       "    </tr>\n",
       "    <tr>\n",
       "      <th>499</th>\n",
       "      <td>Casual</td>\n",
       "      <td>Low</td>\n",
       "      <td>4.4</td>\n",
       "      <td>free</td>\n",
       "      <td>Summer</td>\n",
       "      <td>v-neck</td>\n",
       "      <td>short</td>\n",
       "      <td>empire</td>\n",
       "      <td>cotton</td>\n",
       "      <td>Corduroy</td>\n",
       "      <td>lace</td>\n",
       "      <td>solid</td>\n",
       "      <td>0</td>\n",
       "    </tr>\n",
       "  </tbody>\n",
       "</table>\n",
       "<p>500 rows × 13 columns</p>\n",
       "</div>"
      ],
      "text/plain": [
       "       Style    Price  Rating  Size  Season   NeckLine SleeveLength WaistLine  \\\n",
       "0       Sexy      Low     4.6     M  Summer     o-neck    sleevless    empire   \n",
       "1     Casual      Low     0.0     L  Summer     o-neck        Petal   natural   \n",
       "2    vintage     High     0.0     L  Automn     o-neck         full   natural   \n",
       "3      Brief  Average     4.6     L  Spring     o-neck         full   natural   \n",
       "4       cute      Low     4.5     M  Summer     o-neck    butterfly   natural   \n",
       "..       ...      ...     ...   ...     ...        ...          ...       ...   \n",
       "495   Casual      Low     4.7     M  Spring     o-neck         full   natural   \n",
       "496     Sexy      Low     4.3  free  Summer     o-neck         full    empire   \n",
       "497   Casual  Average     4.7     M  Summer     v-neck         full    empire   \n",
       "498   Casual  Average     4.6     L  winter  boat-neck    sleevless    empire   \n",
       "499   Casual      Low     4.4  free  Summer     v-neck        short    empire   \n",
       "\n",
       "          Material  FabricType  Decoration PatternType  Recommendation  \n",
       "0              NaN     chiffon     ruffles      animal               1  \n",
       "1       microfiber         NaN     ruffles      animal               0  \n",
       "2         polyster         NaN         NaN       print               0  \n",
       "3             silk     chiffon  embroidary       print               1  \n",
       "4    chiffonfabric     chiffon         bow         dot               0  \n",
       "..             ...         ...         ...         ...             ...  \n",
       "495       polyster         NaN         NaN       solid               1  \n",
       "496         cotton         NaN         NaN         NaN               0  \n",
       "497         cotton         NaN        lace       solid               1  \n",
       "498           silk  broadcloth    applique       print               1  \n",
       "499         cotton    Corduroy        lace       solid               0  \n",
       "\n",
       "[500 rows x 13 columns]"
      ]
     },
     "execution_count": 87,
     "metadata": {},
     "output_type": "execute_result"
    }
   ],
   "source": [
    "# drop掉'Dress_ID'\n",
    "dress = dress.drop(\"Dress_ID\",axis=1)\n",
    "dress"
   ]
  },
  {
   "cell_type": "code",
   "execution_count": 88,
   "metadata": {},
   "outputs": [
    {
     "data": {
      "text/plain": [
       "Index(['Style', 'Price', 'Rating', 'Size', 'Season', 'NeckLine',\n",
       "       'SleeveLength', 'WaistLine', 'Material', 'FabricType', 'Decoration',\n",
       "       'PatternType', 'Recommendation'],\n",
       "      dtype='object')"
      ]
     },
     "execution_count": 88,
     "metadata": {},
     "output_type": "execute_result"
    }
   ],
   "source": [
    "# 查看`dress`的columns\n",
    "dress.columns"
   ]
  },
  {
   "cell_type": "markdown",
   "metadata": {},
   "source": [
    "### 缺失值处理"
   ]
  },
  {
   "cell_type": "code",
   "execution_count": 89,
   "metadata": {},
   "outputs": [
    {
     "data": {
      "text/plain": [
       "Style               0\n",
       "Price               2\n",
       "Rating              0\n",
       "Size                0\n",
       "Season              2\n",
       "NeckLine            3\n",
       "SleeveLength        2\n",
       "WaistLine          87\n",
       "Material          128\n",
       "FabricType        266\n",
       "Decoration        236\n",
       "PatternType       109\n",
       "Recommendation      0\n",
       "dtype: int64"
      ]
     },
     "execution_count": 89,
     "metadata": {},
     "output_type": "execute_result"
    }
   ],
   "source": [
    "# 查看`dress`中有缺失值的样本量\n",
    "dress.isnull().sum()"
   ]
  },
  {
   "cell_type": "code",
   "execution_count": 90,
   "metadata": {},
   "outputs": [
    {
     "data": {
      "text/plain": [
       "Style             False\n",
       "Price              True\n",
       "Rating            False\n",
       "Size              False\n",
       "Season             True\n",
       "NeckLine           True\n",
       "SleeveLength       True\n",
       "WaistLine          True\n",
       "Material           True\n",
       "FabricType         True\n",
       "Decoration         True\n",
       "PatternType        True\n",
       "Recommendation    False\n",
       "dtype: bool"
      ]
     },
     "execution_count": 90,
     "metadata": {},
     "output_type": "execute_result"
    }
   ],
   "source": [
    "# 查看`dress`中有缺失值的特征，只要特征值中有一个缺失值，就得查出来\n",
    "dress.isnull().any()"
   ]
  },
  {
   "cell_type": "code",
   "execution_count": 91,
   "metadata": {},
   "outputs": [
    {
     "data": {
      "text/plain": [
       "Index(['Price', 'Season', 'NeckLine', 'SleeveLength', 'WaistLine', 'Material',\n",
       "       'FabricType', 'Decoration', 'PatternType'],\n",
       "      dtype='object')"
      ]
     },
     "execution_count": 91,
     "metadata": {},
     "output_type": "execute_result"
    }
   ],
   "source": [
    "# 提出存在缺失值的特征\n",
    "#空的列\n",
    "null_columns = dress.isnull().any()[dress.isnull().any()==True].index\n",
    "null_columns"
   ]
  },
  {
   "cell_type": "markdown",
   "metadata": {},
   "source": [
    "#### 缺失值填充1\n",
    "> **使用众数对`Price`中存在的缺失值进行插补**"
   ]
  },
  {
   "cell_type": "code",
   "execution_count": 92,
   "metadata": {},
   "outputs": [
    {
     "data": {
      "text/plain": [
       "0    Average\n",
       "dtype: object"
      ]
     },
     "execution_count": 92,
     "metadata": {},
     "output_type": "execute_result"
    }
   ],
   "source": [
    "# 求众数\n",
    "dress['Price'].mode()"
   ]
  },
  {
   "cell_type": "code",
   "execution_count": 93,
   "metadata": {},
   "outputs": [
    {
     "data": {
      "text/plain": [
       "0          Low\n",
       "1          Low\n",
       "2         High\n",
       "3      Average\n",
       "4          Low\n",
       "        ...   \n",
       "495        Low\n",
       "496        Low\n",
       "497    Average\n",
       "498    Average\n",
       "499        Low\n",
       "Name: Price, Length: 500, dtype: object"
      ]
     },
     "execution_count": 93,
     "metadata": {},
     "output_type": "execute_result"
    }
   ],
   "source": [
    "dress['Price']"
   ]
  },
  {
   "cell_type": "code",
   "execution_count": 94,
   "metadata": {},
   "outputs": [
    {
     "data": {
      "text/plain": [
       "array(['Average'], dtype=object)"
      ]
     },
     "execution_count": 94,
     "metadata": {},
     "output_type": "execute_result"
    }
   ],
   "source": [
    "# 取众数的数值\n",
    "dress['Price'].mode().values\n",
    "# 现在是一个数组，里面有两项，第一项是Average，第二项是dtype=object"
   ]
  },
  {
   "cell_type": "code",
   "execution_count": 95,
   "metadata": {},
   "outputs": [
    {
     "data": {
      "text/plain": [
       "'Average'"
      ]
     },
     "execution_count": 95,
     "metadata": {},
     "output_type": "execute_result"
    }
   ],
   "source": [
    "# 取众数的数值\n",
    "dress['Price'].mode().values[0]"
   ]
  },
  {
   "cell_type": "code",
   "execution_count": 96,
   "metadata": {},
   "outputs": [],
   "source": [
    "## 使用众数填充`Price`特征\n",
    "dress['Price'] = dress['Price'].fillna(dress['Price'].mode().values[0])"
   ]
  },
  {
   "cell_type": "code",
   "execution_count": 97,
   "metadata": {},
   "outputs": [
    {
     "data": {
      "text/plain": [
       "0"
      ]
     },
     "execution_count": 97,
     "metadata": {},
     "output_type": "execute_result"
    }
   ],
   "source": [
    "dress['Price'].isnull().sum()"
   ]
  },
  {
   "cell_type": "markdown",
   "metadata": {},
   "source": [
    "#### 缺失值填充2\n",
    ">**将`null_columns`中除了`Price`外的其它特征中的缺失值标记为unknown**"
   ]
  },
  {
   "cell_type": "code",
   "execution_count": 98,
   "metadata": {},
   "outputs": [
    {
     "data": {
      "text/plain": [
       "Index(['Price', 'Season', 'NeckLine', 'SleeveLength', 'WaistLine', 'Material',\n",
       "       'FabricType', 'Decoration', 'PatternType'],\n",
       "      dtype='object')"
      ]
     },
     "execution_count": 98,
     "metadata": {},
     "output_type": "execute_result"
    }
   ],
   "source": [
    "null_columns"
   ]
  },
  {
   "cell_type": "code",
   "execution_count": 99,
   "metadata": {},
   "outputs": [],
   "source": [
    "# 将其它特征中的缺失值标记为unknown\n",
    "for col in null_columns.drop('Price'):\n",
    "    dress[col].fillna('unknown',inplace=True)"
   ]
  },
  {
   "cell_type": "markdown",
   "metadata": {},
   "source": [
    "#### 验证填充结果\n",
    "> **再次查看`info`**"
   ]
  },
  {
   "cell_type": "code",
   "execution_count": 100,
   "metadata": {},
   "outputs": [
    {
     "name": "stdout",
     "output_type": "stream",
     "text": [
      "<class 'pandas.core.frame.DataFrame'>\n",
      "RangeIndex: 500 entries, 0 to 499\n",
      "Data columns (total 13 columns):\n",
      " #   Column          Non-Null Count  Dtype  \n",
      "---  ------          --------------  -----  \n",
      " 0   Style           500 non-null    object \n",
      " 1   Price           500 non-null    object \n",
      " 2   Rating          500 non-null    float64\n",
      " 3   Size            500 non-null    object \n",
      " 4   Season          500 non-null    object \n",
      " 5   NeckLine        500 non-null    object \n",
      " 6   SleeveLength    500 non-null    object \n",
      " 7   WaistLine       500 non-null    object \n",
      " 8   Material        500 non-null    object \n",
      " 9   FabricType      500 non-null    object \n",
      " 10  Decoration      500 non-null    object \n",
      " 11  PatternType     500 non-null    object \n",
      " 12  Recommendation  500 non-null    int64  \n",
      "dtypes: float64(1), int64(1), object(11)\n",
      "memory usage: 50.9+ KB\n"
     ]
    }
   ],
   "source": [
    "# 再次查看基本信息\n",
    "dress.info()"
   ]
  },
  {
   "cell_type": "markdown",
   "metadata": {},
   "source": [
    "**↑♎分析：** 缺失值已经填充完毕。"
   ]
  },
  {
   "cell_type": "markdown",
   "metadata": {},
   "source": [
    "### 特征值探索及一致性处理\n",
    "\n",
    "#### 查看特征的unique取值"
   ]
  },
  {
   "cell_type": "code",
   "execution_count": 101,
   "metadata": {},
   "outputs": [
    {
     "data": {
      "text/plain": [
       "Style             13\n",
       "Price              7\n",
       "Rating            17\n",
       "Size               7\n",
       "Season             9\n",
       "NeckLine          17\n",
       "SleeveLength      18\n",
       "WaistLine          5\n",
       "Material          24\n",
       "FabricType        23\n",
       "Decoration        25\n",
       "PatternType       15\n",
       "Recommendation     2\n",
       "dtype: int64"
      ]
     },
     "execution_count": 101,
     "metadata": {},
     "output_type": "execute_result"
    }
   ],
   "source": [
    "# 查看每个特征的唯一取值的个数，即每个特征中元素的种类:nunique()。\n",
    "#unique():唯一值\n",
    "dress.nunique()"
   ]
  },
  {
   "cell_type": "markdown",
   "metadata": {},
   "source": [
    "**↑♎分析：**思考：`Season`怎么会有9个取值？进一步考察，各个Feature中具体的元素种类："
   ]
  },
  {
   "cell_type": "code",
   "execution_count": 102,
   "metadata": {},
   "outputs": [
    {
     "data": {
      "text/plain": [
       "array(['Summer', 'Automn', 'Spring', 'Winter', 'spring', 'winter',\n",
       "       'unknown', 'summer', 'Autumn'], dtype=object)"
      ]
     },
     "execution_count": 102,
     "metadata": {},
     "output_type": "execute_result"
    }
   ],
   "source": [
    "# 查看`Season`特征的set\n",
    "dress['Season'].unique()"
   ]
  },
  {
   "cell_type": "code",
   "execution_count": 103,
   "metadata": {},
   "outputs": [
    {
     "data": {
      "text/plain": [
       "Summer     159\n",
       "Spring     122\n",
       "Winter      99\n",
       "Automn      61\n",
       "winter      46\n",
       "Autumn       8\n",
       "spring       2\n",
       "unknown      2\n",
       "summer       1\n",
       "Name: Season, dtype: int64"
      ]
     },
     "execution_count": 103,
     "metadata": {},
     "output_type": "execute_result"
    }
   ],
   "source": [
    "# 统计`Season`特征值情况\n",
    "dress['Season'].value_counts()"
   ]
  },
  {
   "cell_type": "markdown",
   "metadata": {},
   "source": [
    "**↑♎分析：**发现Feature的取值存在“一种意义多种表述”的问题，造成了种类偏多。<br>\n",
    "如：`'Season': ['Summer','summer', 'Automn','Autumn' 'Spring','spring', 'Winter',  'winter' ]`<br>\n",
    "其他特征是不是也存在这种情况呢？？？ 下面把所有特征的`unique`打出来，看看。。。"
   ]
  },
  {
   "cell_type": "code",
   "execution_count": 104,
   "metadata": {},
   "outputs": [
    {
     "data": {
      "text/plain": [
       "{'Style': array(['Sexy', 'Casual', 'vintage', 'Brief', 'cute', 'bohemian',\n",
       "        'Novelty', 'Flare', 'party', 'sexy', 'work', 'OL', 'fashion'],\n",
       "       dtype=object),\n",
       " 'Price': array(['Low', 'High', 'Average', 'Medium', 'very-high', 'low', 'high'],\n",
       "       dtype=object),\n",
       " 'Rating': array([4.6, 0. , 4.5, 5. , 4.7, 4.8, 4.3, 4. , 4.4, 4.9, 4.2, 3.6, 3.7,\n",
       "        4.1, 3.5, 1. , 3. ]),\n",
       " 'Size': array(['M', 'L', 'XL', 'free', 'S', 'small', 's'], dtype=object),\n",
       " 'Season': array(['Summer', 'Automn', 'Spring', 'Winter', 'spring', 'winter',\n",
       "        'unknown', 'summer', 'Autumn'], dtype=object),\n",
       " 'NeckLine': array(['o-neck', 'v-neck', 'boat-neck', 'peterpan-collor', 'ruffled',\n",
       "        'turndowncollor', 'slash-neck', 'mandarin-collor', 'open',\n",
       "        'sqare-collor', 'Sweetheart', 'sweetheart', 'unknown', 'Scoop',\n",
       "        'halter', 'backless', 'bowneck'], dtype=object),\n",
       " 'SleeveLength': array(['sleevless', 'Petal', 'full', 'butterfly', 'short', 'threequarter',\n",
       "        'halfsleeve', 'cap-sleeves', 'turndowncollor', 'threequater',\n",
       "        'capsleeves', 'sleeveless', 'sleeevless', 'half', 'urndowncollor',\n",
       "        'thressqatar', 'unknown', 'sleveless'], dtype=object),\n",
       " 'WaistLine': array(['empire', 'natural', 'unknown', 'princess', 'dropped'],\n",
       "       dtype=object),\n",
       " 'Material': array(['unknown', 'microfiber', 'polyster', 'silk', 'chiffonfabric',\n",
       "        'cotton', 'nylon', 'other', 'milksilk', 'linen', 'rayon', 'lycra',\n",
       "        'mix', 'acrylic', 'spandex', 'lace', 'modal', 'cashmere', 'viscos',\n",
       "        'knitting', 'sill', 'wool', 'model', 'shiffon'], dtype=object),\n",
       " 'FabricType': array(['chiffon', 'unknown', 'broadcloth', 'jersey', 'other', 'batik',\n",
       "        'satin', 'flannael', 'worsted', 'woolen', 'poplin', 'dobby',\n",
       "        'knitting', 'flannel', 'tulle', 'sattin', 'organza', 'lace',\n",
       "        'Corduroy', 'wollen', 'knitted', 'shiffon', 'terry'], dtype=object),\n",
       " 'Decoration': array(['ruffles', 'unknown', 'embroidary', 'bow', 'lace', 'beading',\n",
       "        'sashes', 'hollowout', 'pockets', 'sequined', 'applique', 'button',\n",
       "        'Tiered', 'rivet', 'feathers', 'flowers', 'pearls', 'pleat',\n",
       "        'crystal', 'ruched', 'draped', 'tassel', 'plain', 'none',\n",
       "        'cascading'], dtype=object),\n",
       " 'PatternType': array(['animal', 'print', 'dot', 'solid', 'unknown', 'patchwork',\n",
       "        'striped', 'geometric', 'plaid', 'leopard', 'floral', 'character',\n",
       "        'splice', 'leapord', 'none'], dtype=object),\n",
       " 'Recommendation': array([1, 0], dtype=int64)}"
      ]
     },
     "execution_count": 104,
     "metadata": {},
     "output_type": "execute_result"
    }
   ],
   "source": [
    "## 查看每个feature中的unique元素\n",
    "unique_dict = {}\n",
    "for col in dress.columns:\n",
    "    unique_dict[col] = dress[col].unique()\n",
    "unique_dict"
   ]
  },
  {
   "cell_type": "markdown",
   "metadata": {},
   "source": [
    "#### 特征值表述一致性处理\n",
    "> 特征值意义相同但表述不一致，需要进行移植性处理。造成表述不一致的原因包括：大小写，拼写错误，同一事物多个名称等。例如：\n",
    ">> (1) 'Style':['Sexy', 'sexy',] <br>\n",
    "(2) 'Price': ['Low', 'High', 'low', 'high'] <br>\n",
    "(3) 'Size': [ 'S', 'small', 's']<br>\n",
    "(4) 'Season': ['Summer','summer', 'Automn','Autumn' 'Spring','spring', 'Winter',  'winter' ]<br>\n",
    "(5) 'NeckLine': [ 'Sweetheart', 'sweetheart'] <br>\n",
    "(6) 'SleeveLength': ['sleevless', 'sleeveless', 'sleveless' 'threequarter','threequater','thressqatar',\n",
    "        'halfsleeve', 'half', 'cap-sleeves','capsleeves'] <br>\n",
    "(7) 'Material': ['silk','milksilk'] <br>\n",
    "(8) 'FabricType': ['woolen','wollen'，'knitting',knitted']<br>\n",
    "(9) 'Decoration': [可以归类，如花，动物，钻石等]<br>\n",
    "(10) 'PatternType': [可以归类]<br>\n"
   ]
  },
  {
   "cell_type": "markdown",
   "metadata": {},
   "source": [
    "将以上问题进行分批处理：\n",
    "> + P1-->`.apply(str.lower)`: (1)'Style',(2)'Price',(4)'Season',(5)'NeckLine'  <br>\n",
    "> + P2-->`.replace(old,new)`: (3),(4){'Automn','Autumn'},(6),(7),(8) <br>\n",
    "> + 暂不处理(9),(10)"
   ]
  },
  {
   "cell_type": "code",
   "execution_count": 105,
   "metadata": {},
   "outputs": [
    {
     "data": {
      "text/plain": [
       "Casual      232\n",
       "Sexy         69\n",
       "party        51\n",
       "cute         45\n",
       "vintage      25\n",
       "bohemian     24\n",
       "Brief        18\n",
       "work         17\n",
       "Novelty       8\n",
       "sexy          7\n",
       "Flare         2\n",
       "OL            1\n",
       "fashion       1\n",
       "Name: Style, dtype: int64"
      ]
     },
     "execution_count": 105,
     "metadata": {},
     "output_type": "execute_result"
    }
   ],
   "source": [
    "## 考察`Style`特征值及计数\n",
    "dress['Style'].value_counts()"
   ]
  },
  {
   "cell_type": "code",
   "execution_count": 106,
   "metadata": {},
   "outputs": [],
   "source": [
    "## P1:\n",
    "dress['Style']= dress['Style'].astype('str')\n",
    "dress['Style'] = dress['Style'].apply(str.lower)\n",
    "\n",
    "dress['Price']= dress['Price'].astype('str')\n",
    "dress['Price'] = dress['Price'].apply(str.lower)\n",
    "\n",
    "dress['Season']= dress['Season'].astype('str')\n",
    "dress['Season'] = dress['Season'].apply(str.lower)\n",
    "\n",
    "dress['NeckLine'] = dress['NeckLine'].astype('str')\n",
    "dress['NeckLine'] = dress['NeckLine'].apply(str.lower)\n",
    "\n",
    "\n",
    "## 试着简化以上处理过程的代码\n",
    "## ************************\n",
    "# change_columns=[\"\"]\n",
    "# for col in :\n",
    "#     dress[col]=dress[col].astype('str')\n",
    "#     dress[col]=dress[col].apply(str.lower)\n",
    "\n",
    "## ************************\n"
   ]
  },
  {
   "cell_type": "code",
   "execution_count": 107,
   "metadata": {},
   "outputs": [
    {
     "data": {
      "text/plain": [
       "average      254\n",
       "low          174\n",
       "medium        30\n",
       "high          21\n",
       "very-high     21\n",
       "Name: Price, dtype: int64"
      ]
     },
     "execution_count": 107,
     "metadata": {},
     "output_type": "execute_result"
    }
   ],
   "source": [
    "## 考察处理后的`Price`特征值及计数\n",
    "dress['Price'].value_counts()"
   ]
  },
  {
   "cell_type": "code",
   "execution_count": 108,
   "metadata": {},
   "outputs": [
    {
     "data": {
      "text/plain": [
       "sleevless         223\n",
       "full               97\n",
       "short              96\n",
       "halfsleeve         35\n",
       "threequarter       17\n",
       "thressqatar        10\n",
       "sleeveless          5\n",
       "capsleeves          3\n",
       "sleeevless          3\n",
       "unknown             2\n",
       "cap-sleeves         2\n",
       "half                1\n",
       "urndowncollor       1\n",
       "threequater         1\n",
       "Petal               1\n",
       "turndowncollor      1\n",
       "butterfly           1\n",
       "sleveless           1\n",
       "Name: SleeveLength, dtype: int64"
      ]
     },
     "execution_count": 108,
     "metadata": {},
     "output_type": "execute_result"
    }
   ],
   "source": [
    "## 考察处理前的`'SleeveLength'`特征值及计数\n",
    "dress['SleeveLength'].value_counts()"
   ]
  },
  {
   "cell_type": "code",
   "execution_count": 109,
   "metadata": {},
   "outputs": [],
   "source": [
    "# ## P2:\n",
    "# ### 将取值small和s变为S。\n",
    "# dress['Size'] = dress['Size'].replace(\"small\",\"S\")\n",
    "# dress['Size'] = dress['Size'].replace(\"s\",\"S\")"
   ]
  },
  {
   "cell_type": "code",
   "execution_count": 110,
   "metadata": {},
   "outputs": [],
   "source": [
    "## P2:\n",
    "### 将特征中类似于(1)同一事物多个名称(2)拼写错误的问题进行统一处理：(注：原位更新)\n",
    "# inplace=True 原地修改\n",
    "dress.replace({'Size' : { 'small':'S', 's' : 'S' },\n",
    "               'Season':{'Automn':'Autumn'},\n",
    "               'SleeveLength':{'sleevless':'sleeveless', \n",
    "                               'sleveless':'sleeveless',\n",
    "                               'threequater':'threequarter',\n",
    "                               'thressqatar':'threequarter', \n",
    "                               'half':'halfsleeve', \n",
    "                               'cap-sleeves':'capsleeves'},\n",
    "               'Material': {'milksilk':'silk'},\n",
    "               'FabricType': {'woolen':'wollen','knitting':'knitted'} \n",
    "              },inplace=True\n",
    "             )"
   ]
  },
  {
   "cell_type": "markdown",
   "metadata": {},
   "source": [
    "#### 验证一致性表示结果"
   ]
  },
  {
   "cell_type": "code",
   "execution_count": 111,
   "metadata": {},
   "outputs": [
    {
     "data": {
      "text/plain": [
       "M       177\n",
       "free    173\n",
       "L        96\n",
       "S        39\n",
       "XL       15\n",
       "Name: Size, dtype: int64"
      ]
     },
     "execution_count": 111,
     "metadata": {},
     "output_type": "execute_result"
    }
   ],
   "source": [
    "## 处理后特征`Size`的值及计数\n",
    "dress['Size'].value_counts()"
   ]
  },
  {
   "cell_type": "code",
   "execution_count": 112,
   "metadata": {},
   "outputs": [
    {
     "data": {
      "text/plain": [
       "sleeveless        229\n",
       "full               97\n",
       "short              96\n",
       "halfsleeve         36\n",
       "threequarter       28\n",
       "capsleeves          5\n",
       "sleeevless          3\n",
       "unknown             2\n",
       "Petal               1\n",
       "butterfly           1\n",
       "turndowncollor      1\n",
       "urndowncollor       1\n",
       "Name: SleeveLength, dtype: int64"
      ]
     },
     "execution_count": 112,
     "metadata": {},
     "output_type": "execute_result"
    }
   ],
   "source": [
    "## 考察处理后的`'SleeveLength'`特征值及计数\n",
    "dress['SleeveLength'].value_counts()"
   ]
  },
  {
   "cell_type": "code",
   "execution_count": 113,
   "metadata": {},
   "outputs": [],
   "source": [
    "dress['SleeveLength'].replace({'urndowncollor':'turndowncollor'},inplace=True)"
   ]
  },
  {
   "cell_type": "code",
   "execution_count": 114,
   "metadata": {},
   "outputs": [
    {
     "data": {
      "text/plain": [
       "sleeveless        229\n",
       "full               97\n",
       "short              96\n",
       "halfsleeve         36\n",
       "threequarter       28\n",
       "capsleeves          5\n",
       "sleeevless          3\n",
       "turndowncollor      2\n",
       "unknown             2\n",
       "Petal               1\n",
       "butterfly           1\n",
       "Name: SleeveLength, dtype: int64"
      ]
     },
     "execution_count": 114,
     "metadata": {},
     "output_type": "execute_result"
    }
   ],
   "source": [
    "dress['SleeveLength'].value_counts()"
   ]
  },
  {
   "cell_type": "markdown",
   "metadata": {},
   "source": [
    "### 保存清洗后数据\n",
    "> 清洗后的数据，保存至`cleaned_path = \"./dataSets/data_chap5/dress_cleaned.csv\"`"
   ]
  },
  {
   "cell_type": "code",
   "execution_count": 115,
   "metadata": {},
   "outputs": [],
   "source": [
    "# 保存数据到csv文件\n",
    "cleaned_path = \"./dataSets/data_chap5/dress_cleaned.csv\"\n",
    "dress.to_csv(cleaned_path,index=None)"
   ]
  },
  {
   "cell_type": "code",
   "execution_count": 116,
   "metadata": {},
   "outputs": [
    {
     "data": {
      "text/html": [
       "<div>\n",
       "<style scoped>\n",
       "    .dataframe tbody tr th:only-of-type {\n",
       "        vertical-align: middle;\n",
       "    }\n",
       "\n",
       "    .dataframe tbody tr th {\n",
       "        vertical-align: top;\n",
       "    }\n",
       "\n",
       "    .dataframe thead th {\n",
       "        text-align: right;\n",
       "    }\n",
       "</style>\n",
       "<table border=\"1\" class=\"dataframe\">\n",
       "  <thead>\n",
       "    <tr style=\"text-align: right;\">\n",
       "      <th></th>\n",
       "      <th>Style</th>\n",
       "      <th>Price</th>\n",
       "      <th>Rating</th>\n",
       "      <th>Size</th>\n",
       "      <th>Season</th>\n",
       "      <th>NeckLine</th>\n",
       "      <th>SleeveLength</th>\n",
       "      <th>WaistLine</th>\n",
       "      <th>Material</th>\n",
       "      <th>FabricType</th>\n",
       "      <th>Decoration</th>\n",
       "      <th>PatternType</th>\n",
       "      <th>Recommendation</th>\n",
       "    </tr>\n",
       "  </thead>\n",
       "  <tbody>\n",
       "    <tr>\n",
       "      <th>0</th>\n",
       "      <td>sexy</td>\n",
       "      <td>low</td>\n",
       "      <td>4.6</td>\n",
       "      <td>M</td>\n",
       "      <td>summer</td>\n",
       "      <td>o-neck</td>\n",
       "      <td>sleeveless</td>\n",
       "      <td>empire</td>\n",
       "      <td>unknown</td>\n",
       "      <td>chiffon</td>\n",
       "      <td>ruffles</td>\n",
       "      <td>animal</td>\n",
       "      <td>1</td>\n",
       "    </tr>\n",
       "    <tr>\n",
       "      <th>1</th>\n",
       "      <td>casual</td>\n",
       "      <td>low</td>\n",
       "      <td>0.0</td>\n",
       "      <td>L</td>\n",
       "      <td>summer</td>\n",
       "      <td>o-neck</td>\n",
       "      <td>Petal</td>\n",
       "      <td>natural</td>\n",
       "      <td>microfiber</td>\n",
       "      <td>unknown</td>\n",
       "      <td>ruffles</td>\n",
       "      <td>animal</td>\n",
       "      <td>0</td>\n",
       "    </tr>\n",
       "    <tr>\n",
       "      <th>2</th>\n",
       "      <td>vintage</td>\n",
       "      <td>high</td>\n",
       "      <td>0.0</td>\n",
       "      <td>L</td>\n",
       "      <td>automn</td>\n",
       "      <td>o-neck</td>\n",
       "      <td>full</td>\n",
       "      <td>natural</td>\n",
       "      <td>polyster</td>\n",
       "      <td>unknown</td>\n",
       "      <td>unknown</td>\n",
       "      <td>print</td>\n",
       "      <td>0</td>\n",
       "    </tr>\n",
       "    <tr>\n",
       "      <th>3</th>\n",
       "      <td>brief</td>\n",
       "      <td>average</td>\n",
       "      <td>4.6</td>\n",
       "      <td>L</td>\n",
       "      <td>spring</td>\n",
       "      <td>o-neck</td>\n",
       "      <td>full</td>\n",
       "      <td>natural</td>\n",
       "      <td>silk</td>\n",
       "      <td>chiffon</td>\n",
       "      <td>embroidary</td>\n",
       "      <td>print</td>\n",
       "      <td>1</td>\n",
       "    </tr>\n",
       "    <tr>\n",
       "      <th>4</th>\n",
       "      <td>cute</td>\n",
       "      <td>low</td>\n",
       "      <td>4.5</td>\n",
       "      <td>M</td>\n",
       "      <td>summer</td>\n",
       "      <td>o-neck</td>\n",
       "      <td>butterfly</td>\n",
       "      <td>natural</td>\n",
       "      <td>chiffonfabric</td>\n",
       "      <td>chiffon</td>\n",
       "      <td>bow</td>\n",
       "      <td>dot</td>\n",
       "      <td>0</td>\n",
       "    </tr>\n",
       "  </tbody>\n",
       "</table>\n",
       "</div>"
      ],
      "text/plain": [
       "     Style    Price  Rating Size  Season NeckLine SleeveLength WaistLine  \\\n",
       "0     sexy      low     4.6    M  summer   o-neck   sleeveless    empire   \n",
       "1   casual      low     0.0    L  summer   o-neck        Petal   natural   \n",
       "2  vintage     high     0.0    L  automn   o-neck         full   natural   \n",
       "3    brief  average     4.6    L  spring   o-neck         full   natural   \n",
       "4     cute      low     4.5    M  summer   o-neck    butterfly   natural   \n",
       "\n",
       "        Material FabricType  Decoration PatternType  Recommendation  \n",
       "0        unknown    chiffon     ruffles      animal               1  \n",
       "1     microfiber    unknown     ruffles      animal               0  \n",
       "2       polyster    unknown     unknown       print               0  \n",
       "3           silk    chiffon  embroidary       print               1  \n",
       "4  chiffonfabric    chiffon         bow         dot               0  "
      ]
     },
     "execution_count": 116,
     "metadata": {},
     "output_type": "execute_result"
    }
   ],
   "source": [
    "# 再次读取数据\n",
    "cleaned_path = \"./dataSets/data_chap5/dress_cleaned.csv\"\n",
    "data = pd.read_csv(cleaned_path)\n",
    "data.head()"
   ]
  },
  {
   "cell_type": "code",
   "execution_count": 117,
   "metadata": {},
   "outputs": [
    {
     "name": "stdout",
     "output_type": "stream",
     "text": [
      "<class 'pandas.core.frame.DataFrame'>\n",
      "RangeIndex: 500 entries, 0 to 499\n",
      "Data columns (total 13 columns):\n",
      " #   Column          Non-Null Count  Dtype  \n",
      "---  ------          --------------  -----  \n",
      " 0   Style           500 non-null    object \n",
      " 1   Price           500 non-null    object \n",
      " 2   Rating          500 non-null    float64\n",
      " 3   Size            500 non-null    object \n",
      " 4   Season          500 non-null    object \n",
      " 5   NeckLine        500 non-null    object \n",
      " 6   SleeveLength    500 non-null    object \n",
      " 7   WaistLine       500 non-null    object \n",
      " 8   Material        500 non-null    object \n",
      " 9   FabricType      500 non-null    object \n",
      " 10  Decoration      500 non-null    object \n",
      " 11  PatternType     500 non-null    object \n",
      " 12  Recommendation  500 non-null    int64  \n",
      "dtypes: float64(1), int64(1), object(11)\n",
      "memory usage: 50.9+ KB\n"
     ]
    }
   ],
   "source": [
    "# 查看数据基本信息\n",
    "data.info()"
   ]
  },
  {
   "cell_type": "markdown",
   "metadata": {},
   "source": [
    "## object特征的数值编码\n",
    "> + (1) 对于元素间存在大小关系的特征，使用`map()`进行数值编码,体现大小关系，<br>\n",
    "例如:`Price:map({'low': 0, 'medium': 1, 'average': 2, 'high': 3, 'very-high': 4})`<br>\n",
    "> + (2) 对于元素间相互独立的特征，直接One-hot"
   ]
  },
  {
   "cell_type": "markdown",
   "metadata": {},
   "source": [
    "### 有序特征进行数值编码\n",
    "> 对有序的字符型特征`Price`进行数值编码。"
   ]
  },
  {
   "cell_type": "code",
   "execution_count": 118,
   "metadata": {},
   "outputs": [],
   "source": [
    "# 特征\"Price\"进行数值编码\n",
    "data[\"Price\"] = data[\"Price\"].map({'low': 0, 'medium': 1, 'average': 2, 'high': 3, 'very-high': 4})"
   ]
  },
  {
   "cell_type": "code",
   "execution_count": 119,
   "metadata": {},
   "outputs": [
    {
     "data": {
      "text/plain": [
       "236    2\n",
       "306    2\n",
       "483    2\n",
       "50     0\n",
       "6      2\n",
       "Name: Price, dtype: int64"
      ]
     },
     "execution_count": 119,
     "metadata": {},
     "output_type": "execute_result"
    }
   ],
   "source": [
    "# 查看特征\"Price\"值\n",
    "data[\"Price\"].sample(5)"
   ]
  },
  {
   "cell_type": "markdown",
   "metadata": {},
   "source": [
    "### 无序特征进行OneHot编码\n",
    "> + 对`Style、Size、Season、NeckLine、SleeveLength、WaistLine、Material、FabricType、Decoration、PatternType`列应用One-hot编码.<br>\n",
    "> + 需要说明的是，虽然`Size`列部分元素存在顺序，但由于其中的元素free代表均码，即只要不是太胖或太瘦都能穿的码数，因而free与其他元素并不存在大小顺序关系，所以在这里也应用One-hot编码。"
   ]
  },
  {
   "cell_type": "code",
   "execution_count": 120,
   "metadata": {},
   "outputs": [
    {
     "data": {
      "text/plain": [
       "Index(['Style', 'Price', 'Rating', 'Size', 'Season', 'NeckLine',\n",
       "       'SleeveLength', 'WaistLine', 'Material', 'FabricType', 'Decoration',\n",
       "       'PatternType', 'Recommendation'],\n",
       "      dtype='object')"
      ]
     },
     "execution_count": 120,
     "metadata": {},
     "output_type": "execute_result"
    }
   ],
   "source": [
    "# 查看data的特征名\n",
    "data.columns"
   ]
  },
  {
   "cell_type": "code",
   "execution_count": 122,
   "metadata": {},
   "outputs": [],
   "source": [
    "# one-hot\n",
    "data_new = pd.get_dummies(data,columns=['Style','Size', 'Season', 'NeckLine',\n",
    "       'SleeveLength', 'WaistLine', 'Material', 'FabricType', 'Decoration',\n",
    "       'PatternType'])"
   ]
  },
  {
   "cell_type": "code",
   "execution_count": 123,
   "metadata": {},
   "outputs": [
    {
     "data": {
      "text/plain": [
       "(500, 142)"
      ]
     },
     "execution_count": 123,
     "metadata": {},
     "output_type": "execute_result"
    }
   ],
   "source": [
    "# 查看shape\n",
    "data_new.shape"
   ]
  },
  {
   "cell_type": "markdown",
   "metadata": {},
   "source": [
    "# 描述性统计\n",
    "> + 描述性统计的目的：是进一步理解数据，掌握特征间的相互关系，尤其是具有目标性质的特征与其他表征特征之间的关系。\n",
    ">> + 例如：特征'Recommendation'中的分类统计;\n",
    ">> + 再如：分组统计'Recommendation'的\"Rating\"均值;\n",
    "> + 注意：做描述性统计需使用清洗后的数据`data`,不能使用数值编码后的`data_new`，后者是用于后续聚类分析的。"
   ]
  },
  {
   "cell_type": "markdown",
   "metadata": {},
   "source": [
    "## 单特征统计\n",
    "> 统计feature为`\"Recommendation\"`的样本种类及数量"
   ]
  },
  {
   "cell_type": "code",
   "execution_count": 124,
   "metadata": {},
   "outputs": [
    {
     "data": {
      "text/plain": [
       "0    290\n",
       "1    210\n",
       "Name: Recommendation, dtype: int64"
      ]
     },
     "execution_count": 124,
     "metadata": {},
     "output_type": "execute_result"
    }
   ],
   "source": [
    "data['Recommendation'].value_counts()"
   ]
  },
  {
   "cell_type": "code",
   "execution_count": 125,
   "metadata": {},
   "outputs": [
    {
     "data": {
      "text/html": [
       "<div>\n",
       "<style scoped>\n",
       "    .dataframe tbody tr th:only-of-type {\n",
       "        vertical-align: middle;\n",
       "    }\n",
       "\n",
       "    .dataframe tbody tr th {\n",
       "        vertical-align: top;\n",
       "    }\n",
       "\n",
       "    .dataframe thead th {\n",
       "        text-align: right;\n",
       "    }\n",
       "</style>\n",
       "<table border=\"1\" class=\"dataframe\">\n",
       "  <thead>\n",
       "    <tr style=\"text-align: right;\">\n",
       "      <th></th>\n",
       "      <th>Style</th>\n",
       "      <th>Price</th>\n",
       "      <th>Rating</th>\n",
       "      <th>Size</th>\n",
       "      <th>Season</th>\n",
       "      <th>NeckLine</th>\n",
       "      <th>SleeveLength</th>\n",
       "      <th>WaistLine</th>\n",
       "      <th>Material</th>\n",
       "      <th>FabricType</th>\n",
       "      <th>Decoration</th>\n",
       "      <th>PatternType</th>\n",
       "      <th>Recommendation</th>\n",
       "    </tr>\n",
       "  </thead>\n",
       "  <tbody>\n",
       "    <tr>\n",
       "      <th>0</th>\n",
       "      <td>sexy</td>\n",
       "      <td>0</td>\n",
       "      <td>4.6</td>\n",
       "      <td>M</td>\n",
       "      <td>summer</td>\n",
       "      <td>o-neck</td>\n",
       "      <td>sleeveless</td>\n",
       "      <td>empire</td>\n",
       "      <td>unknown</td>\n",
       "      <td>chiffon</td>\n",
       "      <td>ruffles</td>\n",
       "      <td>animal</td>\n",
       "      <td>1</td>\n",
       "    </tr>\n",
       "    <tr>\n",
       "      <th>1</th>\n",
       "      <td>casual</td>\n",
       "      <td>0</td>\n",
       "      <td>0.0</td>\n",
       "      <td>L</td>\n",
       "      <td>summer</td>\n",
       "      <td>o-neck</td>\n",
       "      <td>Petal</td>\n",
       "      <td>natural</td>\n",
       "      <td>microfiber</td>\n",
       "      <td>unknown</td>\n",
       "      <td>ruffles</td>\n",
       "      <td>animal</td>\n",
       "      <td>0</td>\n",
       "    </tr>\n",
       "    <tr>\n",
       "      <th>2</th>\n",
       "      <td>vintage</td>\n",
       "      <td>3</td>\n",
       "      <td>0.0</td>\n",
       "      <td>L</td>\n",
       "      <td>automn</td>\n",
       "      <td>o-neck</td>\n",
       "      <td>full</td>\n",
       "      <td>natural</td>\n",
       "      <td>polyster</td>\n",
       "      <td>unknown</td>\n",
       "      <td>unknown</td>\n",
       "      <td>print</td>\n",
       "      <td>0</td>\n",
       "    </tr>\n",
       "    <tr>\n",
       "      <th>3</th>\n",
       "      <td>brief</td>\n",
       "      <td>2</td>\n",
       "      <td>4.6</td>\n",
       "      <td>L</td>\n",
       "      <td>spring</td>\n",
       "      <td>o-neck</td>\n",
       "      <td>full</td>\n",
       "      <td>natural</td>\n",
       "      <td>silk</td>\n",
       "      <td>chiffon</td>\n",
       "      <td>embroidary</td>\n",
       "      <td>print</td>\n",
       "      <td>1</td>\n",
       "    </tr>\n",
       "    <tr>\n",
       "      <th>4</th>\n",
       "      <td>cute</td>\n",
       "      <td>0</td>\n",
       "      <td>4.5</td>\n",
       "      <td>M</td>\n",
       "      <td>summer</td>\n",
       "      <td>o-neck</td>\n",
       "      <td>butterfly</td>\n",
       "      <td>natural</td>\n",
       "      <td>chiffonfabric</td>\n",
       "      <td>chiffon</td>\n",
       "      <td>bow</td>\n",
       "      <td>dot</td>\n",
       "      <td>0</td>\n",
       "    </tr>\n",
       "  </tbody>\n",
       "</table>\n",
       "</div>"
      ],
      "text/plain": [
       "     Style  Price  Rating Size  Season NeckLine SleeveLength WaistLine  \\\n",
       "0     sexy      0     4.6    M  summer   o-neck   sleeveless    empire   \n",
       "1   casual      0     0.0    L  summer   o-neck        Petal   natural   \n",
       "2  vintage      3     0.0    L  automn   o-neck         full   natural   \n",
       "3    brief      2     4.6    L  spring   o-neck         full   natural   \n",
       "4     cute      0     4.5    M  summer   o-neck    butterfly   natural   \n",
       "\n",
       "        Material FabricType  Decoration PatternType  Recommendation  \n",
       "0        unknown    chiffon     ruffles      animal               1  \n",
       "1     microfiber    unknown     ruffles      animal               0  \n",
       "2       polyster    unknown     unknown       print               0  \n",
       "3           silk    chiffon  embroidary       print               1  \n",
       "4  chiffonfabric    chiffon         bow         dot               0  "
      ]
     },
     "execution_count": 125,
     "metadata": {},
     "output_type": "execute_result"
    }
   ],
   "source": [
    "data.head()"
   ]
  },
  {
   "cell_type": "code",
   "execution_count": 126,
   "metadata": {},
   "outputs": [
    {
     "name": "stdout",
     "output_type": "stream",
     "text": [
      "Recommendation\n",
      "0    290\n",
      "1    210\n",
      "dtype: int64\n",
      "Recommendation\n",
      "0    3.458966\n",
      "1    3.624762\n",
      "Name: Rating, dtype: float64\n"
     ]
    }
   ],
   "source": [
    "# 分组统计Recommendation的数量\n",
    "group_0 = data.groupby('Recommendation').size()\n",
    "print(group_0)\n",
    "\n",
    "# 分组统计Recommendation的评分均值,way1:\n",
    "# 先确定要求均值的数据，再分类\n",
    "# Recommendation为0的有290个，可算出他们Rating的均值为3.458\n",
    "group_1 = data[\"Rating\"].groupby(dress[\"Recommendation\"]).mean()\n",
    "print(group_1)"
   ]
  },
  {
   "cell_type": "code",
   "execution_count": 127,
   "metadata": {},
   "outputs": [
    {
     "name": "stdout",
     "output_type": "stream",
     "text": [
      "Recommendation\n",
      "0    3.458966\n",
      "1    3.624762\n",
      "Name: Rating, dtype: float64\n"
     ]
    }
   ],
   "source": [
    "## 分组统计Recommendation的评分均值,way2:\n",
    "# 分完堆之后直接求Rating的均值\n",
    "group_1 = data.groupby('Recommendation')['Rating'].mean()\n",
    "print(group_1)"
   ]
  },
  {
   "cell_type": "code",
   "execution_count": 128,
   "metadata": {},
   "outputs": [
    {
     "data": {
      "text/plain": [
       "Text(0.5, 1.0, 'Rating of Recommendation')"
      ]
     },
     "execution_count": 128,
     "metadata": {},
     "output_type": "execute_result"
    },
    {
     "data": {
      "image/png": "[encoded data removed]",
      "text/plain": [
       "<Figure size 1080x360 with 2 Axes>"
      ]
     },
     "metadata": {
      "needs_background": "light"
     },
     "output_type": "display_data"
    }
   ],
   "source": [
    "# 分别绘制柱形图，group_0；group_1\n",
    "fig = plt.figure(figsize = (15,5))\n",
    "\n",
    "plt.subplot(121)\n",
    "group_0.plot(kind = \"bar\",color=['b','y'])\n",
    "plt.xticks([0, 1], ['No', 'Yes'], rotation = 360)\n",
    "plt.ylabel(\"数量\")\n",
    "plt.title(\"group num of Recommendation\")\n",
    "\n",
    "plt.subplot(122)\n",
    "group_1.plot(kind = \"bar\",color=['b','y'])\n",
    "plt.xticks([0, 1], ['No', 'Yes'], rotation = 360)\n",
    "plt.ylabel(\"评分\")\n",
    "plt.title(\"Rating of Recommendation\")"
   ]
  },
  {
   "cell_type": "markdown",
   "metadata": {},
   "source": [
    "**↑♎分析：**\n",
    "> + (1) 由左图可以直观看到，在样本数据集中未被推荐的服装数量高于被推荐的服装数量。<br>\n",
    "> + (2) 从右图可以直观看到，被推荐服装的评分均值高于未被推荐服装的评分均值。<br>\n",
    "\n",
    "可以用类似的柱形图的可视化方法继续描述其他服装信息的推荐分配情况。"
   ]
  },
  {
   "cell_type": "markdown",
   "metadata": {},
   "source": [
    "## 多特征统计"
   ]
  },
  {
   "cell_type": "code",
   "execution_count": 132,
   "metadata": {},
   "outputs": [
    {
     "data": {
      "text/plain": [
       "array(['empire', 'natural', 'unknown', 'princess', 'dropped'],\n",
       "      dtype=object)"
      ]
     },
     "execution_count": 132,
     "metadata": {},
     "output_type": "execute_result"
    }
   ],
   "source": [
    "data['WaistLine'].unique()"
   ]
  },
  {
   "cell_type": "code",
   "execution_count": 129,
   "metadata": {},
   "outputs": [
    {
     "name": "stdout",
     "output_type": "stream",
     "text": [
      "Price\n",
      "0    3.743103\n",
      "1    3.156667\n",
      "2    3.509843\n",
      "3    2.914286\n",
      "4    3.123810\n",
      "Name: Rating, dtype: float64\n",
      "WaistLine\n",
      "dropped     2.375000\n",
      "empire      3.510577\n",
      "natural     3.566118\n",
      "princess    4.800000\n",
      "unknown     3.457471\n",
      "Name: Rating, dtype: float64\n"
     ]
    }
   ],
   "source": [
    "##  不同`Price`的`Rating`平均评分情况\n",
    "#group_2 = data[\"Rating\"].groupby(data[\"Price\"]).mean()\n",
    "group_2 = data.groupby('Price')['Rating'].mean()\n",
    "print(group_2)\n",
    "\n",
    "##  不同`WaistLine`的`Rating`平均评分情况\n",
    "#group_3 = data[\"Rating\"].groupby(data[\"WaistLine\"]).mean()\n",
    "group_3  = data.groupby('WaistLine')[\"Rating\"].mean()\n",
    "print(group_3)"
   ]
  },
  {
   "cell_type": "code",
   "execution_count": 131,
   "metadata": {},
   "outputs": [
    {
     "data": {
      "text/plain": [
       "Text(0.5, 1.0, 'Rating of group_waiseline')"
      ]
     },
     "execution_count": 131,
     "metadata": {},
     "output_type": "execute_result"
    },
    {
     "data": {
      "image/png": "[encoded data removed]",
      "text/plain": [
       "<Figure size 1080x360 with 2 Axes>"
      ]
     },
     "metadata": {
      "needs_background": "light"
     },
     "output_type": "display_data"
    }
   ],
   "source": [
    "## 绘制柱形图\n",
    "fig = plt.figure(figsize = (15,5))\n",
    "\n",
    "plt.subplot(121)\n",
    "group_2.plot(kind = \"bar\",color = \"seagreen\")\n",
    "plt.xticks(range(5), ['low', 'medium', 'average', 'high', 'very-high'], rotation = 360)\n",
    "plt.ylabel(\"评分\")\n",
    "plt.title(\"Rating of group_Price\")\n",
    "\n",
    "plt.subplot(122)\n",
    "group_3.plot(kind = \"bar\",color = \"darkorange\")\n",
    "plt.xticks(rotation = 360)\n",
    "plt.ylabel(\"评分\")\n",
    "plt.title(\"Rating of group_waiseline\")"
   ]
  },
  {
   "cell_type": "markdown",
   "metadata": {},
   "source": [
    "**↑♎分析：**\n",
    "> + (1) 左图显示的是不同服装价格评分的均值，右图显示的是不同服装腰身设计评分的均值，<br>\n",
    "> + (2) 可以看到价格便宜的衣服评分最高，公主线的腰身设计评分最高。\n",
    "\n",
    "可以用类似的柱形图的可视化方法继续描述其他服装信息的评分情况。"
   ]
  },
  {
   "cell_type": "markdown",
   "metadata": {},
   "source": [
    "# 聚类分析\n",
    "\n",
    "> 使用经过清洗和数值编码后的数据`data_new`进行后续的聚类操作"
   ]
  },
  {
   "cell_type": "markdown",
   "metadata": {},
   "source": [
    "##  K-Means聚类分析\n",
    "\n",
    "### 组模型创建与评价\n",
    "\n",
    "> 分别将数据聚为2到9类,即`n_clusters=2~9`，并计算出组内距离误差和轮廓系数。"
   ]
  },
  {
   "cell_type": "code",
   "execution_count": 134,
   "metadata": {},
   "outputs": [],
   "source": [
    "# 批量构建模型&训练&评价，计算组内距离误差,轮廓系数\n",
    "\n",
    "inertia_kmeans = {}    ## 构造字典，用于存放每个模型的组内距离误差,组内距离越小说明越聚合越集中。\n",
    "sil_score_kmeans ={}   ## 构造字典，用于存放每个模型的轮廓系数，轮廓系数越大，说明簇与簇之间越远。\n",
    "\n",
    "## 遍历超参以构建多个模型\n",
    "for i in range(2,10):\n",
    "    ## s1: 模型构建&训练\n",
    "    model = KMeans(n_clusters=i,random_state=77).fit(data_new)\n",
    "    ## s2: 获取聚类后的标签\n",
    "    labels = model.labels_\n",
    "    ## s3: 计算轮廓系数，并添加到字典中\n",
    "    score = silhouette_score(data_new,labels)\n",
    "    sil_score_kmeans[i] = score\n",
    "    ## s4: 计算组内距离误差，并添加到字典中\n",
    "    inertia = model.inertia_\n",
    "    inertia_kmeans[i] = inertia\n",
    "    "
   ]
  },
  {
   "cell_type": "code",
   "execution_count": 135,
   "metadata": {},
   "outputs": [
    {
     "data": {
      "text/plain": [
       "{2: 4276.25981552149,\n",
       " 3: 3848.351879146366,\n",
       " 4: 3718.877803859126,\n",
       " 5: 3598.6065068775088,\n",
       " 6: 3521.9141178345612,\n",
       " 7: 3457.741254836942,\n",
       " 8: 3395.4701053316603,\n",
       " 9: 3338.0008270635426}"
      ]
     },
     "execution_count": 135,
     "metadata": {},
     "output_type": "execute_result"
    }
   ],
   "source": [
    "# 查看组内距离误差\n",
    "inertia_kmeans"
   ]
  },
  {
   "cell_type": "code",
   "execution_count": 136,
   "metadata": {},
   "outputs": [
    {
     "data": {
      "text/plain": [
       "{2: 0.33980610380757753,\n",
       " 3: 0.16877021757668423,\n",
       " 4: 0.11964100469326991,\n",
       " 5: 0.09818127419881434,\n",
       " 6: 0.08719649015794295,\n",
       " 7: 0.075753122044213,\n",
       " 8: 0.07259907504512716,\n",
       " 9: 0.07351781642690687}"
      ]
     },
     "execution_count": 136,
     "metadata": {},
     "output_type": "execute_result"
    }
   ],
   "source": [
    "# 查看轮廓系数\n",
    "sil_score_kmeans"
   ]
  },
  {
   "cell_type": "markdown",
   "metadata": {},
   "source": [
    "### 组模型分析及最优模型选择\n",
    "> 绘制出折线图观察变化趋势。"
   ]
  },
  {
   "cell_type": "code",
   "execution_count": 137,
   "metadata": {},
   "outputs": [
    {
     "data": {
      "text/plain": [
       "Text(0.5, 1.0, '轮廓系数曲线')"
      ]
     },
     "execution_count": 137,
     "metadata": {},
     "output_type": "execute_result"
    },
    {
     "data": {
      "image/png": "[encoded data removed]",
      "text/plain": [
       "<Figure size 1080x360 with 2 Axes>"
      ]
     },
     "metadata": {
      "needs_background": "light"
     },
     "output_type": "display_data"
    }
   ],
   "source": [
    "fig = plt.figure(figsize = (15,5))\n",
    "\n",
    "# 绘制组内误差折线图\n",
    "plt.subplot(121)\n",
    "plt.plot(list(inertia_kmeans.keys()), list(inertia_kmeans.values()), marker=\"H\", markersize=8,color=\"seagreen\")\n",
    "plt.xlabel(\"Number of k\")\n",
    "plt.ylabel(\"Distances\")\n",
    "plt.title(\"簇内误差曲线-关注(Elbow)\")\n",
    " \n",
    "# 绘制轮廓系数折线图\n",
    "plt.subplot(122)\n",
    "plt.plot(list(sil_score_kmeans.keys()), list(sil_score_kmeans.values()),linewidth=2,marker = \"*\",markersize=10,color = \"red\")\n",
    "plt.xlabel(\"Number of k\")\n",
    "plt.ylabel(\"silhouette_score\")\n",
    "plt.title(\"轮廓系数曲线\")"
   ]
  },
  {
   "cell_type": "markdown",
   "metadata": {},
   "source": [
    "**↑♎分析：**\n",
    "> + (1) 左图：随着聚类数目增多，每个类别中的样本数量越来越少，距离越来越近，因此`Distances`值肯定是随着聚类数目增多而减少的，所以关注的是斜率的变化，当`Distances`减少得缓慢时，可认为进一步增大聚类数并不能增强聚类效果，则“肘点”就是最佳聚类数目。\n",
    "> + (2) 右图：轮廓系数越接近1，说明聚类效果越好。<br>\n",
    "**结论： 综合上述两幅可视化图形，得出结论：最佳聚类个数为2或者3。**"
   ]
  },
  {
   "cell_type": "markdown",
   "metadata": {},
   "source": [
    "### 最优模型及聚类结果解析\n",
    "> 经过上节分析，确定最终的KMeans聚类模型的`n_clusters=3`"
   ]
  },
  {
   "cell_type": "markdown",
   "metadata": {},
   "source": [
    "S1: 构建模型"
   ]
  },
  {
   "cell_type": "code",
   "execution_count": 138,
   "metadata": {},
   "outputs": [],
   "source": [
    "# KMeans方法将数据样本聚成3类\n",
    "model_k = KMeans(n_clusters=3, random_state=77).fit(data_new)"
   ]
  },
  {
   "cell_type": "code",
   "execution_count": 139,
   "metadata": {},
   "outputs": [
    {
     "data": {
      "text/plain": [
       "KMeans(algorithm='auto', copy_x=True, init='k-means++', max_iter=300,\n",
       "       n_clusters=3, n_init=10, n_jobs=None, precompute_distances='auto',\n",
       "       random_state=77, tol=0.0001, verbose=0)"
      ]
     },
     "execution_count": 139,
     "metadata": {},
     "output_type": "execute_result"
    }
   ],
   "source": [
    "model_k"
   ]
  },
  {
   "cell_type": "markdown",
   "metadata": {},
   "source": [
    "S2: 获取标签&轮廓系数-查看标签&轮廓系数"
   ]
  },
  {
   "cell_type": "code",
   "execution_count": 140,
   "metadata": {},
   "outputs": [],
   "source": [
    "labels_k = model_k.labels_\n",
    "sil_score =silhouette_score(data_new,labels_k)"
   ]
  },
  {
   "cell_type": "code",
   "execution_count": 141,
   "metadata": {},
   "outputs": [
    {
     "name": "stdout",
     "output_type": "stream",
     "text": [
      "sil_score: 0.16877021757668423\n"
     ]
    },
    {
     "data": {
      "text/plain": [
       "array([2, 1, 1, 0, 2, 1, 1, 1, 1, 1, 0, 1, 2, 0, 2, 1, 0, 2, 1, 0, 0, 2,\n",
       "       2, 0, 1, 1, 0, 1, 2, 2, 0, 1, 0, 0, 0, 2, 0, 1, 0, 0, 0, 2, 0, 2,\n",
       "       0, 1, 0, 1, 2, 1, 2, 2, 1, 0, 0, 1, 0, 2, 2, 1, 1, 1, 0, 0, 2, 0,\n",
       "       1, 2, 0, 1, 0, 1, 0, 2, 2, 2, 0, 1, 1, 0, 2, 0, 2, 2, 1, 2, 1, 0,\n",
       "       2, 0, 1, 0, 1, 2, 1, 1, 1, 1, 2, 2, 0, 0, 1, 2, 0, 0, 2, 2, 1, 0,\n",
       "       1, 2, 1, 0, 0, 0, 0, 2, 2, 0, 0, 1, 2, 1, 0, 0, 2, 2, 0, 1, 1, 0,\n",
       "       0, 0, 0, 1, 1, 0, 2, 0, 1, 2, 2, 0, 1, 2, 2, 0, 0, 2, 0, 1, 2, 1,\n",
       "       1, 1, 1, 2, 2, 2, 0, 1, 0, 0, 1, 1, 0, 0, 0, 0, 2, 2, 2, 0, 1, 1,\n",
       "       2, 0, 2, 1, 0, 2, 2, 0, 2, 1, 1, 2, 1, 2, 2, 2, 0, 1, 0, 2, 0, 1,\n",
       "       0, 0, 0, 0, 0, 0, 0, 0, 0, 1, 0, 2, 2, 0, 0, 2, 0, 0, 2, 2, 2, 0,\n",
       "       1, 0, 1, 2, 0, 1, 2, 0, 0, 2, 0, 0, 2, 1, 2, 0, 0, 2, 0, 2, 0, 0,\n",
       "       0, 0, 1, 2, 0, 2, 0, 2, 2, 1, 0, 0, 1, 1, 2, 1, 1, 1, 0, 0, 0, 0,\n",
       "       0, 0, 0, 0, 1, 0, 0, 0, 0, 0, 0, 2, 0, 1, 0, 0, 0, 0, 0, 0, 0, 0,\n",
       "       0, 0, 0, 0, 0, 1, 0, 0, 0, 1, 2, 1, 0, 0, 2, 0, 0, 0, 0, 0, 0, 2,\n",
       "       0, 2, 1, 0, 1, 2, 0, 0, 2, 1, 0, 0, 1, 0, 0, 2, 0, 2, 2, 2, 2, 0,\n",
       "       1, 1, 2, 2, 2, 0, 2, 2, 0, 2, 2, 2, 0, 2, 0, 0, 1, 0, 2, 1, 2, 0,\n",
       "       1, 2, 0, 2, 2, 2, 2, 2, 0, 0, 1, 0, 0, 0, 0, 0, 0, 0, 0, 2, 0, 1,\n",
       "       0, 2, 0, 0, 2, 0, 2, 0, 0, 2, 2, 1, 0, 2, 1, 0, 1, 2, 1, 0, 2, 0,\n",
       "       0, 2, 1, 0, 2, 1, 0, 1, 0, 0, 0, 2, 0, 1, 2, 1, 2, 0, 2, 0, 0, 2,\n",
       "       0, 2, 1, 2, 0, 0, 2, 0, 1, 1, 1, 2, 1, 0, 0, 1, 0, 0, 0, 2, 2, 2,\n",
       "       2, 1, 1, 1, 2, 2, 0, 0, 0, 0, 2, 2, 0, 0, 0, 1, 1, 2, 0, 0, 2, 0,\n",
       "       0, 0, 1, 0, 0, 2, 0, 0, 1, 2, 0, 0, 0, 1, 0, 1, 0, 1, 2, 1, 0, 0,\n",
       "       2, 2, 1, 1, 2, 1, 2, 0, 0, 2, 0, 2, 2, 0, 0, 2])"
      ]
     },
     "execution_count": 141,
     "metadata": {},
     "output_type": "execute_result"
    }
   ],
   "source": [
    "# 输出轮廓系数\n",
    "print(\"sil_score:\",sil_score)\n",
    "\n",
    "# 查看聚类标签\n",
    "labels_k "
   ]
  },
  {
   "cell_type": "code",
   "execution_count": 144,
   "metadata": {},
   "outputs": [
    {
     "data": {
      "text/html": [
       "<div>\n",
       "<style scoped>\n",
       "    .dataframe tbody tr th:only-of-type {\n",
       "        vertical-align: middle;\n",
       "    }\n",
       "\n",
       "    .dataframe tbody tr th {\n",
       "        vertical-align: top;\n",
       "    }\n",
       "\n",
       "    .dataframe thead th {\n",
       "        text-align: right;\n",
       "    }\n",
       "</style>\n",
       "<table border=\"1\" class=\"dataframe\">\n",
       "  <thead>\n",
       "    <tr style=\"text-align: right;\">\n",
       "      <th></th>\n",
       "      <th>Style</th>\n",
       "      <th>Price</th>\n",
       "      <th>Rating</th>\n",
       "      <th>Size</th>\n",
       "      <th>Season</th>\n",
       "      <th>NeckLine</th>\n",
       "      <th>SleeveLength</th>\n",
       "      <th>WaistLine</th>\n",
       "      <th>Material</th>\n",
       "      <th>FabricType</th>\n",
       "      <th>Decoration</th>\n",
       "      <th>PatternType</th>\n",
       "      <th>Recommendation</th>\n",
       "    </tr>\n",
       "  </thead>\n",
       "  <tbody>\n",
       "    <tr>\n",
       "      <th>0</th>\n",
       "      <td>sexy</td>\n",
       "      <td>0</td>\n",
       "      <td>4.6</td>\n",
       "      <td>M</td>\n",
       "      <td>summer</td>\n",
       "      <td>o-neck</td>\n",
       "      <td>sleeveless</td>\n",
       "      <td>empire</td>\n",
       "      <td>unknown</td>\n",
       "      <td>chiffon</td>\n",
       "      <td>ruffles</td>\n",
       "      <td>animal</td>\n",
       "      <td>1</td>\n",
       "    </tr>\n",
       "    <tr>\n",
       "      <th>1</th>\n",
       "      <td>casual</td>\n",
       "      <td>0</td>\n",
       "      <td>0.0</td>\n",
       "      <td>L</td>\n",
       "      <td>summer</td>\n",
       "      <td>o-neck</td>\n",
       "      <td>Petal</td>\n",
       "      <td>natural</td>\n",
       "      <td>microfiber</td>\n",
       "      <td>unknown</td>\n",
       "      <td>ruffles</td>\n",
       "      <td>animal</td>\n",
       "      <td>0</td>\n",
       "    </tr>\n",
       "    <tr>\n",
       "      <th>2</th>\n",
       "      <td>vintage</td>\n",
       "      <td>3</td>\n",
       "      <td>0.0</td>\n",
       "      <td>L</td>\n",
       "      <td>automn</td>\n",
       "      <td>o-neck</td>\n",
       "      <td>full</td>\n",
       "      <td>natural</td>\n",
       "      <td>polyster</td>\n",
       "      <td>unknown</td>\n",
       "      <td>unknown</td>\n",
       "      <td>print</td>\n",
       "      <td>0</td>\n",
       "    </tr>\n",
       "    <tr>\n",
       "      <th>3</th>\n",
       "      <td>brief</td>\n",
       "      <td>2</td>\n",
       "      <td>4.6</td>\n",
       "      <td>L</td>\n",
       "      <td>spring</td>\n",
       "      <td>o-neck</td>\n",
       "      <td>full</td>\n",
       "      <td>natural</td>\n",
       "      <td>silk</td>\n",
       "      <td>chiffon</td>\n",
       "      <td>embroidary</td>\n",
       "      <td>print</td>\n",
       "      <td>1</td>\n",
       "    </tr>\n",
       "    <tr>\n",
       "      <th>4</th>\n",
       "      <td>cute</td>\n",
       "      <td>0</td>\n",
       "      <td>4.5</td>\n",
       "      <td>M</td>\n",
       "      <td>summer</td>\n",
       "      <td>o-neck</td>\n",
       "      <td>butterfly</td>\n",
       "      <td>natural</td>\n",
       "      <td>chiffonfabric</td>\n",
       "      <td>chiffon</td>\n",
       "      <td>bow</td>\n",
       "      <td>dot</td>\n",
       "      <td>0</td>\n",
       "    </tr>\n",
       "  </tbody>\n",
       "</table>\n",
       "</div>"
      ],
      "text/plain": [
       "     Style  Price  Rating Size  Season NeckLine SleeveLength WaistLine  \\\n",
       "0     sexy      0     4.6    M  summer   o-neck   sleeveless    empire   \n",
       "1   casual      0     0.0    L  summer   o-neck        Petal   natural   \n",
       "2  vintage      3     0.0    L  automn   o-neck         full   natural   \n",
       "3    brief      2     4.6    L  spring   o-neck         full   natural   \n",
       "4     cute      0     4.5    M  summer   o-neck    butterfly   natural   \n",
       "\n",
       "        Material FabricType  Decoration PatternType  Recommendation  \n",
       "0        unknown    chiffon     ruffles      animal               1  \n",
       "1     microfiber    unknown     ruffles      animal               0  \n",
       "2       polyster    unknown     unknown       print               0  \n",
       "3           silk    chiffon  embroidary       print               1  \n",
       "4  chiffonfabric    chiffon         bow         dot               0  "
      ]
     },
     "execution_count": 144,
     "metadata": {},
     "output_type": "execute_result"
    }
   ],
   "source": [
    "data.head()"
   ]
  },
  {
   "cell_type": "code",
   "execution_count": 145,
   "metadata": {},
   "outputs": [],
   "source": [
    "data['new_labels']= labels_k "
   ]
  },
  {
   "cell_type": "code",
   "execution_count": 146,
   "metadata": {},
   "outputs": [
    {
     "data": {
      "text/html": [
       "<div>\n",
       "<style scoped>\n",
       "    .dataframe tbody tr th:only-of-type {\n",
       "        vertical-align: middle;\n",
       "    }\n",
       "\n",
       "    .dataframe tbody tr th {\n",
       "        vertical-align: top;\n",
       "    }\n",
       "\n",
       "    .dataframe thead th {\n",
       "        text-align: right;\n",
       "    }\n",
       "</style>\n",
       "<table border=\"1\" class=\"dataframe\">\n",
       "  <thead>\n",
       "    <tr style=\"text-align: right;\">\n",
       "      <th></th>\n",
       "      <th>Style</th>\n",
       "      <th>Price</th>\n",
       "      <th>Rating</th>\n",
       "      <th>Size</th>\n",
       "      <th>Season</th>\n",
       "      <th>NeckLine</th>\n",
       "      <th>SleeveLength</th>\n",
       "      <th>WaistLine</th>\n",
       "      <th>Material</th>\n",
       "      <th>FabricType</th>\n",
       "      <th>Decoration</th>\n",
       "      <th>PatternType</th>\n",
       "      <th>Recommendation</th>\n",
       "      <th>new_labels</th>\n",
       "    </tr>\n",
       "  </thead>\n",
       "  <tbody>\n",
       "    <tr>\n",
       "      <th>0</th>\n",
       "      <td>sexy</td>\n",
       "      <td>0</td>\n",
       "      <td>4.6</td>\n",
       "      <td>M</td>\n",
       "      <td>summer</td>\n",
       "      <td>o-neck</td>\n",
       "      <td>sleeveless</td>\n",
       "      <td>empire</td>\n",
       "      <td>unknown</td>\n",
       "      <td>chiffon</td>\n",
       "      <td>ruffles</td>\n",
       "      <td>animal</td>\n",
       "      <td>1</td>\n",
       "      <td>2</td>\n",
       "    </tr>\n",
       "    <tr>\n",
       "      <th>1</th>\n",
       "      <td>casual</td>\n",
       "      <td>0</td>\n",
       "      <td>0.0</td>\n",
       "      <td>L</td>\n",
       "      <td>summer</td>\n",
       "      <td>o-neck</td>\n",
       "      <td>Petal</td>\n",
       "      <td>natural</td>\n",
       "      <td>microfiber</td>\n",
       "      <td>unknown</td>\n",
       "      <td>ruffles</td>\n",
       "      <td>animal</td>\n",
       "      <td>0</td>\n",
       "      <td>1</td>\n",
       "    </tr>\n",
       "    <tr>\n",
       "      <th>2</th>\n",
       "      <td>vintage</td>\n",
       "      <td>3</td>\n",
       "      <td>0.0</td>\n",
       "      <td>L</td>\n",
       "      <td>automn</td>\n",
       "      <td>o-neck</td>\n",
       "      <td>full</td>\n",
       "      <td>natural</td>\n",
       "      <td>polyster</td>\n",
       "      <td>unknown</td>\n",
       "      <td>unknown</td>\n",
       "      <td>print</td>\n",
       "      <td>0</td>\n",
       "      <td>1</td>\n",
       "    </tr>\n",
       "    <tr>\n",
       "      <th>3</th>\n",
       "      <td>brief</td>\n",
       "      <td>2</td>\n",
       "      <td>4.6</td>\n",
       "      <td>L</td>\n",
       "      <td>spring</td>\n",
       "      <td>o-neck</td>\n",
       "      <td>full</td>\n",
       "      <td>natural</td>\n",
       "      <td>silk</td>\n",
       "      <td>chiffon</td>\n",
       "      <td>embroidary</td>\n",
       "      <td>print</td>\n",
       "      <td>1</td>\n",
       "      <td>0</td>\n",
       "    </tr>\n",
       "    <tr>\n",
       "      <th>4</th>\n",
       "      <td>cute</td>\n",
       "      <td>0</td>\n",
       "      <td>4.5</td>\n",
       "      <td>M</td>\n",
       "      <td>summer</td>\n",
       "      <td>o-neck</td>\n",
       "      <td>butterfly</td>\n",
       "      <td>natural</td>\n",
       "      <td>chiffonfabric</td>\n",
       "      <td>chiffon</td>\n",
       "      <td>bow</td>\n",
       "      <td>dot</td>\n",
       "      <td>0</td>\n",
       "      <td>2</td>\n",
       "    </tr>\n",
       "  </tbody>\n",
       "</table>\n",
       "</div>"
      ],
      "text/plain": [
       "     Style  Price  Rating Size  Season NeckLine SleeveLength WaistLine  \\\n",
       "0     sexy      0     4.6    M  summer   o-neck   sleeveless    empire   \n",
       "1   casual      0     0.0    L  summer   o-neck        Petal   natural   \n",
       "2  vintage      3     0.0    L  automn   o-neck         full   natural   \n",
       "3    brief      2     4.6    L  spring   o-neck         full   natural   \n",
       "4     cute      0     4.5    M  summer   o-neck    butterfly   natural   \n",
       "\n",
       "        Material FabricType  Decoration PatternType  Recommendation  \\\n",
       "0        unknown    chiffon     ruffles      animal               1   \n",
       "1     microfiber    unknown     ruffles      animal               0   \n",
       "2       polyster    unknown     unknown       print               0   \n",
       "3           silk    chiffon  embroidary       print               1   \n",
       "4  chiffonfabric    chiffon         bow         dot               0   \n",
       "\n",
       "   new_labels  \n",
       "0           2  \n",
       "1           1  \n",
       "2           1  \n",
       "3           0  \n",
       "4           2  "
      ]
     },
     "execution_count": 146,
     "metadata": {},
     "output_type": "execute_result"
    }
   ],
   "source": [
    "data.head()"
   ]
  },
  {
   "cell_type": "markdown",
   "metadata": {},
   "source": [
    "S3: 统计标签数量"
   ]
  },
  {
   "cell_type": "code",
   "execution_count": 142,
   "metadata": {},
   "outputs": [
    {
     "data": {
      "text/plain": [
       "0    229\n",
       "2    150\n",
       "1    121\n",
       "dtype: int64"
      ]
     },
     "execution_count": 142,
     "metadata": {},
     "output_type": "execute_result"
    }
   ],
   "source": [
    "# 先构造Series，再统计计数\n",
    "cluster_k = pd.Series(labels_k).value_counts()\n",
    "cluster_k"
   ]
  },
  {
   "cell_type": "markdown",
   "metadata": {},
   "source": [
    "S4: 可视化聚类结果"
   ]
  },
  {
   "cell_type": "code",
   "execution_count": 143,
   "metadata": {},
   "outputs": [
    {
     "data": {
      "text/plain": [
       "Text(0.5, 1.0, 'label bar')"
      ]
     },
     "execution_count": 143,
     "metadata": {},
     "output_type": "execute_result"
    },
    {
     "data": {
      "image/png": "[encoded data removed]",
      "text/plain": [
       "<Figure size 576x360 with 1 Axes>"
      ]
     },
     "metadata": {
      "needs_background": "light"
     },
     "output_type": "display_data"
    }
   ],
   "source": [
    "# 绘制聚类结果柱形图\n",
    "fig = plt.figure(figsize = (8,5))\n",
    "cluster_k.plot(kind = \"bar\",color=[\"red\",\"blue\",\"purple\"])\n",
    "plt.xticks(rotation = 360)\n",
    "plt.xlabel(\"label\")\n",
    "plt.ylabel(\"num_k\")\n",
    "plt.title(\"label bar\")"
   ]
  },
  {
   "cell_type": "markdown",
   "metadata": {},
   "source": [
    "**↑♎结论：**上图直观的展示了聚类结果的样本数量，总体来看相差不大，其中0类的样本最多，1类样本最少。"
   ]
  },
  {
   "cell_type": "markdown",
   "metadata": {},
   "source": [
    "S5: 查看聚类中心"
   ]
  },
  {
   "cell_type": "code",
   "execution_count": 151,
   "metadata": {},
   "outputs": [
    {
     "data": {
      "text/plain": [
       "array([[ 2.13537118e+00,  4.65327511e+00,  4.19213974e-01,\n",
       "         3.93013100e-02,  4.80349345e-02,  4.23580786e-01,\n",
       "         8.29694323e-02,  4.36681223e-03, -2.60208521e-18,\n",
       "         1.74672489e-02, -1.30104261e-18,  1.74672489e-01,\n",
       "         1.00436681e-01,  5.67685590e-02,  5.24017467e-02,\n",
       "         2.35807860e-01,  4.62882096e-01,  7.42358079e-02,\n",
       "         2.62008734e-02,  2.00873362e-01,  1.13537118e-01,\n",
       "         1.74672489e-02,  2.31441048e-01,  3.05676856e-01,\n",
       "         4.36681223e-03,  3.27510917e-01, -1.30104261e-18,\n",
       "         3.93013100e-02,  1.31004367e-02, -1.30104261e-18,\n",
       "        -1.30104261e-18,  4.97816594e-01,  4.36681223e-03,\n",
       "         1.31004367e-02, -1.30104261e-18,  8.73362445e-03,\n",
       "         6.11353712e-02,  1.74672489e-02,  5.24017467e-02,\n",
       "         2.62008734e-02,  8.73362445e-03,  2.57641921e-01,\n",
       "        -1.30104261e-18, -1.30104261e-18,  1.31004367e-02,\n",
       "         1.48471616e-01,  8.29694323e-02,  1.92139738e-01,\n",
       "         4.36681223e-03,  4.84716157e-01,  6.55021834e-02,\n",
       "         4.36681223e-03,  4.36681223e-03,  8.73362445e-03,\n",
       "         2.31441048e-01,  5.76419214e-01,  4.36681223e-03,\n",
       "         1.79039301e-01,  8.73362445e-03,  4.36681223e-03,\n",
       "         3.49344978e-02,  2.57641921e-01, -1.30104261e-18,\n",
       "        -1.30104261e-18,  8.73362445e-03,  4.36681223e-03,\n",
       "         8.73362445e-03,  1.74672489e-02,  4.36681223e-03,\n",
       "        -1.30104261e-18,  8.73362445e-03,  4.36681223e-03,\n",
       "         2.40174672e-01,  2.62008734e-02,  4.36681223e-03,\n",
       "         4.36681223e-02, -1.30104261e-18,  8.73362445e-03,\n",
       "         3.10043668e-01,  4.36681223e-03, -1.30104261e-18,\n",
       "        -2.60208521e-18,  4.36681223e-03,  6.11353712e-02,\n",
       "         2.79475983e-01,  8.73362445e-03,  4.36681223e-03,\n",
       "         4.36681223e-03,  1.74672489e-02, -2.60208521e-18,\n",
       "         4.36681223e-03,  4.36681223e-03, -1.30104261e-18,\n",
       "         4.36681223e-03, -1.30104261e-18,  1.31004367e-02,\n",
       "         1.74672489e-02,  4.36681223e-03,  4.36681223e-03,\n",
       "         5.37117904e-01,  4.36681223e-03,  2.62008734e-02,\n",
       "         4.36681223e-03,  2.62008734e-02,  6.55021834e-02,\n",
       "         1.74672489e-02,  1.74672489e-02, -1.30104261e-18,\n",
       "         8.73362445e-03, -2.60208521e-18,  1.74672489e-02,\n",
       "        -2.60208521e-18,  1.74672489e-02,  3.93013100e-02,\n",
       "         1.17903930e-01,  4.36681223e-03, -1.30104261e-18,\n",
       "         4.36681223e-03,  4.36681223e-03,  8.73362445e-03,\n",
       "         1.31004367e-02,  1.31004367e-02,  3.05676856e-02,\n",
       "         9.17030568e-02,  2.62008734e-02, -1.30104261e-18,\n",
       "         4.71615721e-01,  3.93013100e-02,  4.36681223e-03,\n",
       "         1.74672489e-02, -2.60208521e-18,  1.74672489e-02,\n",
       "        -1.30104261e-18, -4.33680869e-18, -1.30104261e-18,\n",
       "         1.00436681e-01,  4.36681223e-03,  1.00436681e-01,\n",
       "         3.79912664e-01,  4.36681223e-03,  3.93013100e-02,\n",
       "         2.92576419e-01],\n",
       "       [ 1.53719008e+00,  8.26446281e-03,  3.88429752e-01,\n",
       "         3.30578512e-02,  1.65289256e-02,  4.38016529e-01,\n",
       "         1.07438017e-01, -1.30104261e-18,  1.65289256e-02,\n",
       "         3.30578512e-02,  8.26446281e-03,  9.09090909e-02,\n",
       "         1.65289256e-01,  6.61157025e-02,  2.47933884e-02,\n",
       "         1.73553719e-01,  2.89256198e-01,  9.91735537e-02,\n",
       "         4.13223140e-02,  3.96694215e-01,  1.32231405e-01,\n",
       "         8.26446281e-03,  2.89256198e-01,  2.39669421e-01,\n",
       "         8.26446281e-03,  3.22314050e-01, -1.30104261e-18,\n",
       "         5.78512397e-02,  2.47933884e-02, -1.30104261e-18,\n",
       "         8.26446281e-03,  4.54545455e-01,  8.26446281e-03,\n",
       "         2.47933884e-02, -1.30104261e-18, -2.60208521e-18,\n",
       "         4.13223140e-02,  8.26446281e-03,  2.47933884e-02,\n",
       "         2.47933884e-02, -4.33680869e-18,  3.22314050e-01,\n",
       "         8.26446281e-03, -1.30104261e-18,  8.26446281e-03,\n",
       "         2.14876033e-01,  9.91735537e-02,  2.06611570e-01,\n",
       "        -4.33680869e-18,  3.88429752e-01,  6.61157025e-02,\n",
       "        -2.60208521e-18,  8.26446281e-03,  1.65289256e-02,\n",
       "         2.14876033e-01,  5.86776860e-01, -1.30104261e-18,\n",
       "         1.81818182e-01,  8.26446281e-03,  1.65289256e-02,\n",
       "         1.65289256e-02,  3.30578512e-01, -1.30104261e-18,\n",
       "        -1.30104261e-18,  8.26446281e-03,  1.65289256e-02,\n",
       "         8.26446281e-03,  3.30578512e-02, -1.30104261e-18,\n",
       "        -1.30104261e-18,  4.13223140e-02,  8.26446281e-03,\n",
       "         1.98347107e-01,  1.65289256e-02, -2.60208521e-18,\n",
       "         5.78512397e-02,  8.26446281e-03, -6.93889390e-18,\n",
       "         2.31404959e-01, -2.60208521e-18, -1.30104261e-18,\n",
       "        -2.60208521e-18,  8.26446281e-03,  9.09090909e-02,\n",
       "         2.39669421e-01, -2.60208521e-18, -1.30104261e-18,\n",
       "        -1.30104261e-18,  1.65289256e-02,  1.65289256e-02,\n",
       "        -1.30104261e-18, -1.30104261e-18,  8.26446281e-03,\n",
       "         8.26446281e-03,  8.26446281e-03,  2.47933884e-02,\n",
       "         8.26446281e-03, -1.30104261e-18,  8.26446281e-03,\n",
       "         5.20661157e-01,  8.26446281e-03,  3.30578512e-02,\n",
       "        -1.30104261e-18,  7.43801653e-02,  4.13223140e-02,\n",
       "         8.26446281e-03,  8.26446281e-03,  8.26446281e-03,\n",
       "        -4.33680869e-18, -2.60208521e-18,  8.26446281e-03,\n",
       "         1.65289256e-02, -5.20417043e-18,  6.61157025e-02,\n",
       "         1.81818182e-01, -2.60208521e-18,  8.26446281e-03,\n",
       "        -2.60208521e-18, -1.30104261e-18,  8.26446281e-03,\n",
       "        -4.33680869e-18, -4.33680869e-18,  4.95867769e-02,\n",
       "         2.47933884e-02,  3.30578512e-02, -1.30104261e-18,\n",
       "         4.62809917e-01,  3.30578512e-02, -1.30104261e-18,\n",
       "         2.47933884e-02,  8.26446281e-03, -6.93889390e-18,\n",
       "        -1.30104261e-18,  8.26446281e-03, -1.30104261e-18,\n",
       "         1.07438017e-01,  1.65289256e-02,  1.23966942e-01,\n",
       "         4.21487603e-01, -1.30104261e-18,  1.65289256e-02,\n",
       "         2.39669421e-01],\n",
       "       [ 6.66666667e-02,  4.65133333e+00,  4.46666667e-01,\n",
       "         7.33333333e-02,  3.33333333e-02,  5.46666667e-01,\n",
       "         8.66666667e-02, -1.30104261e-18, -2.60208521e-18,\n",
       "        -1.04083409e-17, -1.30104261e-18, -2.22044605e-16,\n",
       "         2.20000000e-01,  2.66666667e-02,  1.33333333e-02,\n",
       "         1.40000000e-01,  2.40000000e-01,  6.66666667e-02,\n",
       "         2.66666667e-02,  5.26666667e-01,  1.26666667e-01,\n",
       "         2.00000000e-02,  2.40000000e-01,  4.06666667e-01,\n",
       "        -2.60208521e-18,  2.06666667e-01,  6.66666667e-03,\n",
       "         2.00000000e-02,  2.66666667e-02,  6.66666667e-03,\n",
       "        -1.30104261e-18,  6.80000000e-01,  6.66666667e-03,\n",
       "        -8.67361738e-18,  6.66666667e-03, -2.60208521e-18,\n",
       "         4.00000000e-02, -6.93889390e-18,  4.51028104e-17,\n",
       "         2.66666667e-02,  6.66666667e-03,  1.73333333e-01,\n",
       "        -1.30104261e-18,  6.66666667e-03,  6.66666667e-03,\n",
       "         2.46666667e-01,  3.33333333e-02,  1.80000000e-01,\n",
       "         1.33333333e-02,  4.73333333e-01,  3.33333333e-02,\n",
       "         6.66666667e-03, -2.60208521e-18, -5.20417043e-18,\n",
       "         1.66666667e-01,  6.73333333e-01, -1.30104261e-18,\n",
       "         1.60000000e-01, -4.33680869e-18,  6.66666667e-03,\n",
       "         1.00000000e-01,  3.53333333e-01,  6.66666667e-03,\n",
       "         6.66666667e-03, -4.33680869e-18, -4.33680869e-18,\n",
       "        -4.33680869e-18,  2.66666667e-02, -1.30104261e-18,\n",
       "         6.66666667e-03,  2.00000000e-02, -2.60208521e-18,\n",
       "         1.33333333e-01,  1.33333333e-02,  6.66666667e-03,\n",
       "         9.33333333e-02, -1.30104261e-18,  2.00000000e-02,\n",
       "         1.93333333e-01,  6.66666667e-03,  6.66666667e-03,\n",
       "         1.33333333e-02, -2.60208521e-18,  4.00000000e-02,\n",
       "         2.80000000e-01, -2.60208521e-18, -1.30104261e-18,\n",
       "        -1.30104261e-18,  4.00000000e-02, -2.60208521e-18,\n",
       "        -1.30104261e-18, -1.30104261e-18, -1.30104261e-18,\n",
       "        -2.60208521e-18, -1.30104261e-18, -8.67361738e-18,\n",
       "         2.66666667e-02, -1.30104261e-18, -2.60208521e-18,\n",
       "         5.33333333e-01,  6.66666667e-03,  6.00000000e-02,\n",
       "        -1.30104261e-18,  4.00000000e-02,  1.33333333e-02,\n",
       "         6.66666667e-02,  6.66666667e-03, -1.30104261e-18,\n",
       "         6.66666667e-03,  1.33333333e-02, -6.93889390e-18,\n",
       "        -2.60208521e-18, -5.20417043e-18,  2.66666667e-02,\n",
       "         1.40000000e-01,  6.66666667e-03, -1.30104261e-18,\n",
       "         6.66666667e-03, -1.30104261e-18,  1.33333333e-02,\n",
       "        -4.33680869e-18, -4.33680869e-18,  2.66666667e-02,\n",
       "         1.20000000e-01,  2.66666667e-02,  6.66666667e-03,\n",
       "         4.80000000e-01,  5.33333333e-02, -1.30104261e-18,\n",
       "         4.66666667e-02,  6.66666667e-03,  6.66666667e-03,\n",
       "         6.66666667e-03,  1.33333333e-02,  6.66666667e-03,\n",
       "         8.00000000e-02, -4.33680869e-18,  2.20000000e-01,\n",
       "         4.33333333e-01, -1.30104261e-18,  4.00000000e-02,\n",
       "         8.66666667e-02]])"
      ]
     },
     "execution_count": 151,
     "metadata": {},
     "output_type": "execute_result"
    }
   ],
   "source": [
    "center_k= model_k.cluster_centers_\n",
    "center_k"
   ]
  },
  {
   "cell_type": "code",
   "execution_count": 152,
   "metadata": {},
   "outputs": [
    {
     "data": {
      "text/plain": [
       "3"
      ]
     },
     "execution_count": 152,
     "metadata": {},
     "output_type": "execute_result"
    }
   ],
   "source": [
    "len(center_k)"
   ]
  },
  {
   "cell_type": "code",
   "execution_count": 153,
   "metadata": {
    "scrolled": true
   },
   "outputs": [
    {
     "data": {
      "text/plain": [
       "Index(['Price', 'Rating', 'Recommendation', 'Style_bohemian', 'Style_brief',\n",
       "       'Style_casual', 'Style_cute', 'Style_fashion', 'Style_flare',\n",
       "       'Style_novelty',\n",
       "       ...\n",
       "       'PatternType_leapord', 'PatternType_leopard', 'PatternType_none',\n",
       "       'PatternType_patchwork', 'PatternType_plaid', 'PatternType_print',\n",
       "       'PatternType_solid', 'PatternType_splice', 'PatternType_striped',\n",
       "       'PatternType_unknown'],\n",
       "      dtype='object', length=142)"
      ]
     },
     "execution_count": 153,
     "metadata": {},
     "output_type": "execute_result"
    }
   ],
   "source": [
    "# 查看data_new的特征名\n",
    "data_new.columns"
   ]
  },
  {
   "cell_type": "code",
   "execution_count": 155,
   "metadata": {},
   "outputs": [
    {
     "data": {
      "text/html": [
       "<div>\n",
       "<style scoped>\n",
       "    .dataframe tbody tr th:only-of-type {\n",
       "        vertical-align: middle;\n",
       "    }\n",
       "\n",
       "    .dataframe tbody tr th {\n",
       "        vertical-align: top;\n",
       "    }\n",
       "\n",
       "    .dataframe thead th {\n",
       "        text-align: right;\n",
       "    }\n",
       "</style>\n",
       "<table border=\"1\" class=\"dataframe\">\n",
       "  <thead>\n",
       "    <tr style=\"text-align: right;\">\n",
       "      <th></th>\n",
       "      <th>Price</th>\n",
       "      <th>Rating</th>\n",
       "      <th>Recommendation</th>\n",
       "    </tr>\n",
       "  </thead>\n",
       "  <tbody>\n",
       "    <tr>\n",
       "      <th>0</th>\n",
       "      <td>2.135371</td>\n",
       "      <td>4.653275</td>\n",
       "      <td>0.419214</td>\n",
       "    </tr>\n",
       "    <tr>\n",
       "      <th>1</th>\n",
       "      <td>1.537190</td>\n",
       "      <td>0.008264</td>\n",
       "      <td>0.388430</td>\n",
       "    </tr>\n",
       "    <tr>\n",
       "      <th>2</th>\n",
       "      <td>0.066667</td>\n",
       "      <td>4.651333</td>\n",
       "      <td>0.446667</td>\n",
       "    </tr>\n",
       "  </tbody>\n",
       "</table>\n",
       "</div>"
      ],
      "text/plain": [
       "      Price    Rating  Recommendation\n",
       "0  2.135371  4.653275        0.419214\n",
       "1  1.537190  0.008264        0.388430\n",
       "2  0.066667  4.651333        0.446667"
      ]
     },
     "execution_count": 155,
     "metadata": {},
     "output_type": "execute_result"
    }
   ],
   "source": [
    "#找出簇质心(只要连续型变量)的坐标,即只用前3列\\\n",
    "# iloc[：x，：y] x是行，y是列\n",
    "# ：前后都没有数表示所有\n",
    "center_cluster = pd.DataFrame(center_k).copy().iloc[:,:3]\n",
    "center_cluster.columns=['Price', 'Rating', 'Recommendation']\n",
    "center_cluster"
   ]
  },
  {
   "cell_type": "code",
   "execution_count": 156,
   "metadata": {},
   "outputs": [
    {
     "data": {
      "text/plain": [
       "(array([0, 3, 2, 1, 4], dtype=int64),\n",
       " array([4.6, 0. , 4.5, 5. , 4.7, 4.8, 4.3, 4. , 4.4, 4.9, 4.2, 3.6, 3.7,\n",
       "        4.1, 3.5, 1. , 3. ]),\n",
       " array([1, 0], dtype=int64))"
      ]
     },
     "execution_count": 156,
     "metadata": {},
     "output_type": "execute_result"
    }
   ],
   "source": [
    "# 查看原始数据data中['Price', 'Rating', 'Recommendation']的唯一值情况\n",
    "data['Price'].unique(),data['Rating'].unique(),data['Recommendation'].unique()"
   ]
  },
  {
   "cell_type": "markdown",
   "metadata": {},
   "source": [
    "**↑♎分析：**\n",
    "> + 已知\"Price\"：{'low': 0, 'medium': 1, 'average': 2, 'high': 3,'very-high':4}；“Rating”:{0~5}；“Recommendation”：{0,1}\n",
    ">> + 0类性质为：价格“average-high”中等偏上；评分“4.65”较高，推荐度一般。<br>\n",
    ">> + 1类性质为：价格“medium-average”一般；评分“0.008”很低，推荐度差。<br>\n",
    ">> + 2类性质为：价格“low-medium”低；评分“4.65”较高，推荐度一般。<br>\n",
    "> + **结合聚类中心和聚类数量，得出如下结论:**\n",
    ">> + 0类为畅销的中档服装，数量最多，说明符合大众消费； <br>\n",
    ">> + 2类为畅销的廉价服装,数量最少，说明虽然廉价，但这类衣服数量有限；<br>\n",
    ">> + 1类为评分较低的中低档服装，数量居中，应该是设计上有缺陷或者不符合审美的。"
   ]
  },
  {
   "cell_type": "markdown",
   "metadata": {},
   "source": [
    "## 层次聚类分析\n",
    "> AgglomerativeClustering()模型常用超参数：`{'n_clusters': 3, 'linkage': 'ward',}`\n",
    "\n",
    "### 组模型创建与评价\n",
    "> + (1) 尝试不同的“n_clusters”：`n_grid=[2,3,4,5]` <br>\n",
    "> + (2) 尝试不同的'linkage':`link_grid = ['ward','complete','average'] `,建立层次聚类模型，并计算出轮廓系数。\n",
    ">> + :'average':“单连接法”、'complete':“全连接法”、'ward':“离差平方和法”"
   ]
  },
  {
   "cell_type": "code",
   "execution_count": null,
   "metadata": {},
   "outputs": [],
   "source": [
    "# 构建超参列表\n",
    "n_grid = [2,3,4,5]\n",
    "link_grid = ['ward','complete','average']\n",
    "# 构建超惨组合\n",
    "para_s = ____________________\n",
    "para_s"
   ]
  },
  {
   "cell_type": "code",
   "execution_count": null,
   "metadata": {},
   "outputs": [],
   "source": [
    "# 构建层次聚类的组模型\n",
    "sil_score_agg = {}    ## 创建字典，用于存放每个模型的轮廓系数\n",
    "\n",
    "# 遍历超惨组合以构建多个模型\n",
    "for para in para_s:\n",
    "    ## 模型构建&拟合\n",
    "    model = AgglomerativeClustering(___________,\n",
    "                                    ___________,\n",
    "                                   ).___________\n",
    "    ## 获取聚类后的标签\n",
    "    labels = ___________\n",
    "    ## 计算轮廓系数\n",
    "    score = ___________\n",
    "    ## 将轮廓系数添加到字典中(4位精度)\n",
    "    sil_score_agg[para] = round(score,4)\n",
    "    \n",
    "sil_score_agg"
   ]
  },
  {
   "cell_type": "markdown",
   "metadata": {},
   "source": [
    "### 组模型效果分析与选择"
   ]
  },
  {
   "cell_type": "code",
   "execution_count": null,
   "metadata": {},
   "outputs": [],
   "source": [
    "# 绘制轮廓系数折线图\n",
    "fig = plt.figure(figsize = (15,6))\n",
    "\n",
    "x = list(sil_score_agg.keys())\n",
    "x = list(map(str,x))\n",
    "y = list(sil_score_agg.values())\n",
    "\n",
    "plt.plot(x,y,linewidth=2,marker = \"*\",markersize=10,color=\"red\")\n",
    "plt.xticks(rotation = -60)\n",
    "plt.xlabel(\"Number of k\")\n",
    "plt.ylabel(\"silhouette_score\")\n",
    "plt.title(\"轮廓系数曲线\")"
   ]
  },
  {
   "cell_type": "markdown",
   "metadata": {},
   "source": [
    "**↑♎分析：**\n",
    "> + 上述结果给出了指定不同类个数和不同层次聚类方式时的轮廓系数，\n",
    "> + 聚类数为2时使用三种聚类方式均等效，且效果最佳。故选择模型参数为`(2, 'average')`<br>\n"
   ]
  },
  {
   "cell_type": "markdown",
   "metadata": {},
   "source": [
    "### 优模型及聚类结果解析"
   ]
  },
  {
   "cell_type": "markdown",
   "metadata": {},
   "source": [
    "#### 优模构建"
   ]
  },
  {
   "cell_type": "code",
   "execution_count": null,
   "metadata": {},
   "outputs": [],
   "source": [
    "# 构建agg模型，参数：n_clusters=2,linkage='average'，并训练\n",
    "model_agg = AgglomerativeClustering(n_clusters=2,linkage='average').fit(data_new)\n",
    "# 获取标签\n",
    "labels_agg = model_agg.labels_\n",
    "# 计算轮廓系数\n",
    "sil_agg = silhouette_score(data_new,labels_agg)"
   ]
  },
  {
   "cell_type": "markdown",
   "metadata": {},
   "source": [
    "#### 查看轮廓系数和聚类标签"
   ]
  },
  {
   "cell_type": "code",
   "execution_count": null,
   "metadata": {},
   "outputs": [],
   "source": [
    "# 输出轮廓系数\n",
    "print(\"轮廓系数sil_agg为：\",sil_agg)"
   ]
  },
  {
   "cell_type": "code",
   "execution_count": null,
   "metadata": {},
   "outputs": [],
   "source": [
    "# 查看agg聚类种类及数量\n",
    "cluster_agg = pd.Series(labels_agg).value_counts()\n",
    "cluster_agg"
   ]
  },
  {
   "cell_type": "markdown",
   "metadata": {},
   "source": [
    "#### 构建聚类中心\n",
    "> + **注意：层次聚类的聚类中心无法通过`.cluster_centers_`获取，需要进行重新构建，具体：**\n",
    ">> + (1) 复制一份data数据，并添加新标签`labels_agg`  <br>\n",
    ">> + (2)以`'Price','Rating','Recommendation'`均值类比聚类中心,即按`labels_agg`分组后进行均值聚合。"
   ]
  },
  {
   "cell_type": "code",
   "execution_count": null,
   "metadata": {},
   "outputs": [],
   "source": [
    "## 复制一份`data`数据，并添加新标签`labels_agg`\n",
    "data_agg = ___________\n",
    "data_agg['labels_agg'] = ___________\n",
    "data_agg.head()"
   ]
  },
  {
   "cell_type": "code",
   "execution_count": null,
   "metadata": {},
   "outputs": [],
   "source": [
    "## 以'Price','Rating','Recommendation'均值类比聚类中心\n",
    "data_agg.___________.___________"
   ]
  },
  {
   "cell_type": "markdown",
   "metadata": {},
   "source": [
    "**↑♎分析：** 从结果看，0类是评分高的，1类是评分低的。"
   ]
  },
  {
   "cell_type": "markdown",
   "metadata": {},
   "source": [
    "#### 聚类结果可视化\n",
    "> 画出聚类数为2时，`Price`与`Rating`的分布散点图。"
   ]
  },
  {
   "cell_type": "code",
   "execution_count": null,
   "metadata": {},
   "outputs": [],
   "source": [
    "# data_agg['labels_agg']==0时的['Price','Rating']\n",
    "data_PR0 = data_agg[data_agg['labels_agg']==0][['Price','Rating']]\n",
    "# data_agg['labels_agg']==1时的['Price','Rating']\n",
    "data_PR1 = data_agg[data_agg['labels_agg']==1][['Price','Rating']]"
   ]
  },
  {
   "cell_type": "code",
   "execution_count": null,
   "metadata": {},
   "outputs": [],
   "source": [
    "# 分别绘制散点图：x='Price',y='Rating'\n",
    "data_PR0.plot(x='Price',y='Rating',kind='scatter',title=\"O类\")\n",
    "data_PR1.plot(x='Price',y='Rating',kind='scatter',title=\"1类\")"
   ]
  },
  {
   "cell_type": "code",
   "execution_count": null,
   "metadata": {},
   "outputs": [],
   "source": [
    "# 将以上两个图画在一起\n",
    "fig,axes = plt.subplots(nrows=1,ncols=2,figsize = (15,5))\n",
    "# 绘制组内误差折线图\n",
    "plt.subplot(121)\n",
    "plt.scatter(data_PR0['Price'],data_PR0['Rating'])\n",
    "plt.subplot(122)\n",
    "plt.scatter(data_PR1['Price'],data_PR1['Rating'])"
   ]
  },
  {
   "cell_type": "code",
   "execution_count": null,
   "metadata": {},
   "outputs": [],
   "source": [
    "sns.scatterplot?"
   ]
  },
  {
   "cell_type": "code",
   "execution_count": null,
   "metadata": {},
   "outputs": [],
   "source": [
    "# 还可以使用高级sns绘图\n",
    "fig = plt.figure(figsize = (10,6))\n",
    "sns.___________(x=___________,y=___________,hue=___________,data=___________)"
   ]
  },
  {
   "cell_type": "markdown",
   "metadata": {},
   "source": [
    "**↑♎分析：**\n",
    "> + 类0：点较多，而且无论价格如何，评分普遍较高<br>\n",
    "> + 类1：点少，而且无论价格如何，评分均较低。"
   ]
  },
  {
   "cell_type": "markdown",
   "metadata": {},
   "source": [
    "#### 谱系图"
   ]
  },
  {
   "cell_type": "code",
   "execution_count": null,
   "metadata": {},
   "outputs": [],
   "source": [
    "# 绘制谱系图\n",
    "from scipy.spatial.distance import pdist\n",
    "from scipy.cluster.hierarchy import linkage, dendrogram\n",
    "import matplotlib.pyplot as plt\n",
    "plt.rcParams['font.sans-serif'] = ['SimHei']\n",
    "\n",
    "fig = plt.figure(figsize=(10,5))\n",
    "row_clusters = linkage(pdist(data_new,metric='euclidean'),method='ward')\n",
    "# 参数p和参数truncate_mode用来将谱系图截断，部分结点的子树被剪枝，横轴显示的是该结点包含的样本数\n",
    "row_dendr = dendrogram(row_clusters, p=40, truncate_mode='lastp',color_threshold = 15)\n",
    "\n",
    "plt.tight_layout()\n",
    "plt.title('谱系图', fontsize=15)"
   ]
  },
  {
   "cell_type": "markdown",
   "metadata": {},
   "source": [
    "**↑♎分析：**绘制谱系图的目的是通过人为判断数据样本大致聚为几类，在共同父节点的一颗子树可被聚成一类。\n",
    "> + (1)若将`color_threshold`设为40，可聚成2类。<br>\n",
    "> + (2)若将`color_threshold`设为25，可聚成3类。<br>\n",
    "> + (3)若将`color_threshold`设为15，绿色、红色、蓝色和紫色的各为一类，共4类<br>"
   ]
  },
  {
   "cell_type": "markdown",
   "metadata": {},
   "source": [
    "## MeanShift聚类分析\n",
    "```python\n",
    "MeanShift(bandwidth=None, bin_seeding=False, cluster_all=True,\n",
    "       min_bin_freq=1,n_jobs=None, seeds=None)\n",
    "```\n",
    "### 组模型创建与评价\n",
    "> + 使用MeanShift进行聚类分析，并计算轮廓系数和聚类数量进行对比。\n",
    ">> 超参: `bandwidth = [3.0,3.2,3.4,3.6,3.8,4.0,4.2]`"
   ]
  },
  {
   "cell_type": "code",
   "execution_count": null,
   "metadata": {},
   "outputs": [],
   "source": [
    "# MeanShift聚类模型组分析\n",
    "\n",
    "## 构建字典，存放每次聚类的轮廓系数和聚类个数\n",
    "result_meanshift = {}\n",
    "## 遍历超参列表\n",
    "for bw in [3.0,3.2,3.4,3.6,3.8,4.0,4.2]:\n",
    "    ## 模型构建&训练\n",
    "    model = ________________________\n",
    "    ## 获取标签\n",
    "    labels = _________\n",
    "    # 忽略噪声点后获取聚类簇个数，噪声会归类为-1\n",
    "    n_clusters_ = _____________ - (1 if -1 in labels else 0)    # 忽略噪声点，噪声会归类为-1\n",
    "    if n_clusters_ < 2:\n",
    "        break\n",
    "    # 计算轮廓系数(4位精度)\n",
    "    sil = ______________________________\n",
    "    # 将轮廓系数和聚类个数以元组的形式添加到字典\n",
    "    result_meanshift[bw] = (sil,n_clusters_)\n",
    "    \n",
    "result_meanshift    "
   ]
  },
  {
   "cell_type": "markdown",
   "metadata": {},
   "source": [
    "**↑♎分析：**上述结果为指定不同窗宽，得到的聚类数量和轮廓系数。\n",
    "> + 结果是字典类型，K为`bandwidth`的值，V为（轮廓系数,聚类簇数量）<br>\n",
    "> + 可见，窗宽设置为3.8或4.0，聚为2类时效果最佳。 \n",
    "> + 将`超参bandwidth`及具体超参模型下的`聚类数`和`轮廓系数`整理成df，看的会更清晰。"
   ]
  },
  {
   "cell_type": "code",
   "execution_count": null,
   "metadata": {},
   "outputs": [],
   "source": [
    "# 整合为df\n",
    "## 超参列表\n",
    "bandwidth_grid = ____________________\n",
    "## 轮廓系数列表\n",
    "slt_score = [item[0] for _________________________]\n",
    "## 聚类个数列表\n",
    "cluster_number = [item[1] for _______________________]\n",
    "## 整合成df\n",
    "result_MS = pd.DataFrame({'bandwidth':bandwidth_grid,\n",
    "                      'cluster_number':cluster_number,\n",
    "                      'silhouette_score':slt_score})\n",
    "\n",
    "\n",
    "result_MS"
   ]
  },
  {
   "cell_type": "markdown",
   "metadata": {},
   "source": [
    "### 优模型及聚类结果\n",
    "> 根据上述分析结果，最终确定优模型参数为，`bandwidth=3.8`"
   ]
  },
  {
   "cell_type": "markdown",
   "metadata": {
    "code_folding": []
   },
   "source": [
    "#### 优模型构建"
   ]
  },
  {
   "cell_type": "code",
   "execution_count": null,
   "metadata": {
    "code_folding": []
   },
   "outputs": [],
   "source": [
    "# 构建最优模型(bandwidth=3.8)并训练\n",
    "model_ms = MeanShift(bandwidth=3.8).fit(data_new)\n",
    "# 获取标签\n",
    "labels_ms = __________\n",
    "# 计算轮廓系数\n",
    "sil_score_ms = ________________"
   ]
  },
  {
   "cell_type": "markdown",
   "metadata": {
    "code_folding": []
   },
   "source": [
    "#### 查看silhouette和labels"
   ]
  },
  {
   "cell_type": "code",
   "execution_count": null,
   "metadata": {},
   "outputs": [],
   "source": [
    "print(\"轮廓系数sil_score_ms:\",sil_score_ms)\n",
    "# 查看标签\n",
    "labels_ms"
   ]
  },
  {
   "cell_type": "markdown",
   "metadata": {
    "code_folding": []
   },
   "source": [
    "#### 统计类别数目"
   ]
  },
  {
   "cell_type": "code",
   "execution_count": null,
   "metadata": {},
   "outputs": [],
   "source": [
    "# 统计聚类样本数:先构建Series再统计\n",
    "clusters_ms = _________________.value_counts()\n",
    "clusters_ms"
   ]
  },
  {
   "cell_type": "code",
   "execution_count": null,
   "metadata": {},
   "outputs": [],
   "source": [
    "##绘制聚类结果柱形图\n",
    "fig = plt.figure(figsize = (8,5))\n",
    "clusters_ms.plot(kind = \"bar\",title =\"label bar\")\n",
    "plt.xticks(rotation = 360)\n",
    "plt.xlabel(\"类别\")\n",
    "plt.ylabel(\"数量\")"
   ]
  },
  {
   "cell_type": "markdown",
   "metadata": {
    "code_folding": []
   },
   "source": [
    "#### 构建聚类中心\n",
    "> + **注意：MeanShit聚类的聚类中心无法通过`.cluster_centers_`获取，需要进行重新构建，具体：**\n",
    ">> + (1) 复制一份data数据，并添加新标签`labels_ms`  <br>\n",
    ">> + (2) 以`'Price','Rating','Recommendation'`均值类比聚类中心,即按`labels_ms`分组后进行均值聚合。\n",
    ">> + 过程与层次(Agg)聚类相同"
   ]
  },
  {
   "cell_type": "code",
   "execution_count": null,
   "metadata": {},
   "outputs": [],
   "source": [
    "# 复制data，添加新标签'labels_ms'\n",
    "data_ms = ________\n",
    "data_ms['labels_ms'] = labels_ms\n",
    "data_ms.head()"
   ]
  },
  {
   "cell_type": "code",
   "execution_count": null,
   "metadata": {},
   "outputs": [],
   "source": [
    "# 按'labels_ms'分组后进行均值聚合\n",
    "data_ms.____________._________"
   ]
  },
  {
   "cell_type": "markdown",
   "metadata": {},
   "source": [
    "**↑♎分析：**结合簇中元素数量看：\n",
    "> + 0类：数量大，评分高，推荐指数稍高； <br>\n",
    "> + 1类：数量少，评分极低，推荐指数低 <br>\n",
    "其结果与层次聚类基本相同。"
   ]
  },
  {
   "cell_type": "markdown",
   "metadata": {
    "code_folding": []
   },
   "source": [
    "#### 聚类结果可视化\n",
    "> 画出聚类数为2时,`Price`与`Rating`的分布散点图。"
   ]
  },
  {
   "cell_type": "code",
   "execution_count": null,
   "metadata": {},
   "outputs": [],
   "source": [
    "## 使用高级sns绘图\n",
    "fig = plt.figure(figsize = (10,6))\n",
    "sns.scatterplot(x=_______,y=_______,hue=_______,data=data_ms)"
   ]
  },
  {
   "cell_type": "markdown",
   "metadata": {},
   "source": [
    "结论： 与层次聚类结论一致。"
   ]
  },
  {
   "cell_type": "markdown",
   "metadata": {},
   "source": [
    "## 聚类结果与特征变量的关系\n",
    "> + 通过对上述三种聚类算法聚类效果的比较，初步看出选择KMeans算法且聚为2类时效果最佳。<br>\n",
    "> + 进一步探究聚类结果与各特征变量之间的关系。"
   ]
  },
  {
   "cell_type": "markdown",
   "metadata": {},
   "source": [
    "### 构建最优模型"
   ]
  },
  {
   "cell_type": "code",
   "execution_count": null,
   "metadata": {},
   "outputs": [],
   "source": [
    "# 构建KMeans(n_clusters=2)\n",
    "model_k2 = KMeans(n_clusters=2,random_state=77).fit(data_new)\n",
    "# 获取标签\n",
    "labels_k2 = ____________\n",
    "# 获取聚类中心\n",
    "centers_k2  = ______________\n",
    "# 计算轮廓系数\n",
    "sil_k2 = ______________________\n",
    "print(\"轮廓系数sil_k2：\",sil_k2)"
   ]
  },
  {
   "cell_type": "markdown",
   "metadata": {},
   "source": [
    "### 构建带类别标签的DF"
   ]
  },
  {
   "cell_type": "code",
   "execution_count": null,
   "metadata": {},
   "outputs": [],
   "source": [
    "## 构建带label的df，注意这里使用data_new的copy()\n",
    "data_k2 = data_new.copy()\n",
    "data_k2['label'] = labels_k2\n",
    "data_k2"
   ]
  },
  {
   "cell_type": "code",
   "execution_count": null,
   "metadata": {},
   "outputs": [],
   "source": [
    "# 将data_k2按'label'分组后进行均值聚合\n",
    "grouped = _______._______._________.reset_index()\n",
    "grouped"
   ]
  },
  {
   "cell_type": "markdown",
   "metadata": {},
   "source": [
    "### 特征与聚类结果的关系\n",
    "> 绘图展示分类特征与聚类结果之间的具体关系。\n",
    "\n",
    "#### 单个连续特征与结果的关系\n",
    "> ( Price，Rating，Recommendation)"
   ]
  },
  {
   "cell_type": "code",
   "execution_count": null,
   "metadata": {},
   "outputs": [],
   "source": [
    "plt.figure(figsize=(15,3))\n",
    "\n",
    "plt.subplot(1,3,1)\n",
    "sns.barplot(x='label',y='Price',data=grouped)\n",
    "plt.title('Price',fontsize=15)\n",
    "\n",
    "plt.subplot(1,3,2)\n",
    "sns.barplot(x='label',y='Rating',data=grouped)\n",
    "plt.title('Rating',fontsize=15)\n",
    "\n",
    "plt.subplot(1,3,3)\n",
    "sns.barplot(x='label',y='Recommendation',data=grouped)\n",
    "plt.title('Recommendation',fontsize=15)\n",
    "\n",
    "plt.show()\n",
    "\n",
    "print('第一类Price均值：%s' % round(grouped['Price'][grouped['label']==0][0],3))\n",
    "print('第二类Price均值：%s' % round(grouped['Price'][grouped['label']==1][1],3))\n",
    "print('-----------------------------')\n",
    "print('第一类Rating均值：%s' % round(grouped['Rating'][grouped['label']==0][0],3))\n",
    "print('第二类Rating均值：%s' % round(grouped['Rating'][grouped['label']==1][1],3))\n",
    "print('-----------------------------')\n",
    "print('第一类Recommendation均值：%s' % round(grouped['Recommendation'][grouped['label']==0][0],3))\n",
    "print('第二类Recommendation均值：%s' % round(grouped['Recommendation'][grouped['label']==1][1],3))"
   ]
  },
  {
   "cell_type": "markdown",
   "metadata": {},
   "source": [
    "**↑♎分析：**结果解析： \n",
    "> + (1) 第一类的`Price`均值低于第二类； <br>\n",
    "> + (2) `Rating`均值第二类为0，而第一类不为0;<br>\n",
    "> + (3) `Recommendation`第一类高于第二类。<br>\n",
    "类似的，我们可以探究两类在`Size`上的表现特征。\n",
    "\n",
    "#### 单个非连续特征与结果关系\n",
    "> + 类别特征，如'Size'"
   ]
  },
  {
   "cell_type": "code",
   "execution_count": null,
   "metadata": {},
   "outputs": [],
   "source": [
    "print(grouped.columns)"
   ]
  },
  {
   "cell_type": "code",
   "execution_count": null,
   "metadata": {},
   "outputs": [],
   "source": [
    "plt.figure(figsize=(15,10))\n",
    "\n",
    "plt.subplot(2,3,1)\n",
    "sns.barplot(x='label',y='Size_XL',data=grouped)\n",
    "plt.title('Size_XL',fontsize=15)\n",
    "\n",
    "plt.subplot(2,3,2)\n",
    "sns.barplot(x='label',y='Size_L',data=grouped)\n",
    "plt.title('Size_L',fontsize=15)\n",
    "\n",
    "plt.subplot(2,3,3)\n",
    "sns.barplot(x='label',y='Size_M',data=grouped)\n",
    "plt.title('Size_M',fontsize=15)\n",
    "\n",
    "plt.subplot(2,3,4)\n",
    "sns.barplot(x='label',y='Size_S',data=grouped)\n",
    "plt.title('Size_S',fontsize=15)\n",
    "\n",
    "plt.subplot(2,3,5)\n",
    "sns.barplot(x='label',y='Size_free',data=grouped)\n",
    "plt.title('Size_free',fontsize=15)\n",
    "plt.show()"
   ]
  },
  {
   "cell_type": "markdown",
   "metadata": {},
   "source": [
    "整合结果如下：\n",
    "\n",
    "| 类 | XL | L | M | S | free |\n",
    "| ------ | ------ |------ |------ |------ |------ |\n",
    "|第一类|少|多|多|少|少|\n",
    "|第二类|多|少|少|多|多|\n"
   ]
  },
  {
   "cell_type": "markdown",
   "metadata": {},
   "source": [
    "#### 两个特征与聚类结果的关系\n",
    "> 作出不同`label`下的`Price`与`Rating`的散点图。\n"
   ]
  },
  {
   "cell_type": "code",
   "execution_count": null,
   "metadata": {},
   "outputs": [],
   "source": [
    "## way1:\n",
    "plt.figure(figsize=(10,5))\n",
    "sns.scatterplot(x=________,y=__________,hue=___________,data=data_k2)"
   ]
  },
  {
   "cell_type": "code",
   "execution_count": null,
   "metadata": {},
   "outputs": [],
   "source": [
    "## way2:\n",
    "plt.figure(figsize=(10,5))\n",
    "plt.scatter(data_k2['Rating'][data_k2['label']==0],data_k2['Price'][data_k2['label']==0],color='Blue')\n",
    "plt.scatter(data_k2['Rating'][data_k2['label']==1],data_k2['Price'][data_k2['label']==1],color='Red')\n",
    "plt.xlabel('Rating',fontsize=15)\n",
    "plt.ylabel('Price',fontsize=15)\n",
    "plt.legend(labels=['第一类','第二类'])"
   ]
  },
  {
   "cell_type": "markdown",
   "metadata": {},
   "source": [
    "**↑♎分析：**注意到两类从中间被分割，且均包含各个大小的`Price`，因而聚类的主要依据为`Rating`。"
   ]
  },
  {
   "cell_type": "markdown",
   "metadata": {},
   "source": [
    "# 小结\n",
    "> + 本案例使用服装销售的真实数据集\n",
    ">> + （1）通过数据清洗和描述性统计等方法探索了特征间的关系，初步了解数据的基本信息;<br>\n",
    ">> + （2）然后，基于三种聚类方法进行聚类及效果评价，最终确定轮廓系数较高的KMeans聚类方法;<br>\n",
    ">> + （3）最后，通过特征与聚类结果直接的关系，进一步聚类结果进行解释。\n",
    "> + 本案例的核心目标是掌握聚类分析方法在实际问题中的应用，若想深入探究服装推荐因素以及推荐人群，则需要更多的机器学习算法投入其中。"
   ]
  }
 ],
 "metadata": {
  "kernelspec": {
   "display_name": "Python 3",
   "language": "python",
   "name": "python3"
  },
  "language_info": {
   "codemirror_mode": {
    "name": "ipython",
    "version": 3
   },
   "file_extension": ".py",
   "mimetype": "text/x-python",
   "name": "python",
   "nbconvert_exporter": "python",
   "pygments_lexer": "ipython3",
   "version": "3.7.4"
  },
  "latex_envs": {
   "LaTeX_envs_menu_present": true,
   "autoclose": false,
   "autocomplete": true,
   "bibliofile": "biblio.bib",
   "cite_by": "apalike",
   "current_citInitial": 1,
   "eqLabelWithNumbers": true,
   "eqNumInitial": 1,
   "hotkeys": {
    "equation": "Ctrl-E",
    "itemize": "Ctrl-I"
   },
   "labels_anchors": false,
   "latex_user_defs": false,
   "report_style_numbering": false,
   "user_envs_cfg": false
  },
  "toc": {
   "base_numbering": 1,
   "nav_menu": {},
   "number_sections": true,
   "sideBar": true,
   "skip_h1_title": false,
   "title_cell": "chap05_2_Contents",
   "title_sidebar": "Contents",
   "toc_cell": true,
   "toc_position": {
    "height": "calc(100% - 180px)",
    "left": "10px",
    "top": "150px",
    "width": "228px"
   },
   "toc_section_display": true,
   "toc_window_display": false
  },
  "varInspector": {
   "cols": {
    "lenName": 16,
    "lenType": 16,
    "lenVar": 40
   },
   "kernels_config": {
    "python": {
     "delete_cmd_postfix": "",
     "delete_cmd_prefix": "del ",
     "library": "var_list.py",
     "varRefreshCmd": "print(var_dic_list())"
    },
    "r": {
     "delete_cmd_postfix": ") ",
     "delete_cmd_prefix": "rm(",
     "library": "var_list.r",
     "varRefreshCmd": "cat(var_dic_list()) "
    }
   },
   "types_to_exclude": [
    "module",
    "function",
    "builtin_function_or_method",
    "instance",
    "_Feature"
   ],
   "window_display": false
  }
 },
 "nbformat": 4,
 "nbformat_minor": 2
}
