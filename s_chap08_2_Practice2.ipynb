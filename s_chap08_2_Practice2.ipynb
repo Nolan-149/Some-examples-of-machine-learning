{
 "cells": [
  {
   "cell_type": "markdown",
   "metadata": {},
   "source": [
    "**sklearn08_2_特征选择在心脏病预测模型中的应用**\n",
    "\n",
    "**特征选择与feature_selection模块：**\n",
    "> 定义：从全部特征中选取一个特征子集来建立模型  <br>\n",
    "目的：降低特征维度，提高模型性能  <br>\n",
    "基本原则： <br>\n",
    ">> ▶ 包含信息较少（方差较低）的特征应该被剔除\n",
    " ▶ 与目标特征相关性高的特征应该优先被选择\n",
    "\n",
    "> 特征选择方法\n",
    ">>|方式\t|说明|主要方法\n",
    "|---:|---:|---:|\n",
    "|过滤式（Filter）\t|特征选择的过程中不涉及建模,先特征选择，再建立模型\t|方差选择法;卡方检验法;相关系数法|\n",
    "|包裹式（Wrapper）\t|建立模型并给定评价标准，选择效果最优的特征子集\t|递归特征消除法|\n",
    "|嵌入式（Embedding）\t|特征选择与模型训练结合，在训练过程中自动进行特征选择|\tL1正则化项;特征重要性|\n",
    "\n",
    "\n",
    "> `Feature_selection`模块\n",
    ">>|类\t|说明|\n",
    "|---:|---:|\n",
    "|feature_selection.VarianceThreshold\t|剔除低于方差阈值的特征|\n",
    "|feature_selection.SelectKBest\t      |根据给定的得分函数选出K个得分最高的特征|\n",
    "|feature_selection.SelectPercentile\t   |根据给定的得分函数选出前p%个得分最高的特征（p需指定）|\n",
    "|---------------------------------------|---------------------------------------------|\n",
    "|feature_selection.RFE\t            |递归特征消除法|\n",
    "|feature_selection.RFECV\t         |包含交叉验证的递归特征消除法|\n",
    "|---------------------------------------|---------------------------------------------|\n",
    "|feature_selection.SelectFromModel\t    |嵌入式特征消除法|\n",
    "\n",
    "> 通用方法及说明：\n",
    ">>|通用方法    |说明|\n",
    "|---:|---:|\n",
    "|fit(X, y)\t          |学习怎样进行特征选择|\n",
    "|transform(X)\t       |对X进行特征选择|\n",
    "|fit_transform(X, y)\t |先学习怎样进行特征选择，再对X进行特征选择|\n",
    "|get_support()\t      |返回布尔数组，指明哪些特征被选择|\n",
    "\n",
    "\n",
    "\n",
    "**案例描述：**\n",
    "> 本案例为《机器学习实践》课程第八章课件配套代码，数据集来自UCI，共303条数据，14个字段，包含患者是否患有心脏病的相关信息。本案例将使用不同的特征选择方法，选取不同的特征子集建立心脏病预测模型。\n",
    "\n",
    "**数据集：**\n",
    "> 数据来源： http://archive.ics.uci.edu/ml/datasets/Heart+Disease   <br>\n",
    "> 本地地址： file_path = \"./dataSets/data_chap8/heart.csv\"  <br>\n",
    "> 心脏病数据集heart.csv，共303个样本。该数据集包含个人信息、身体指标数据以及是否患有心脏病的标签，预测目标为是否患病target\n",
    ">> |特征\t|说明\t|  ▏|特征\t|说明|\n",
    "|---:|---:|---:|---:|---:|\n",
    "|age\t   |年龄|                    ▏    |thalach\t|最大心率|\n",
    "|sex\t   |性别(1=男性; 0=女性)|\t        ▏    |exang\t|运动诱发心绞痛（1 =是; 0 =否）|\n",
    "|cp\t      |胸痛类型|\t               ▏\t|oldpeak\t|运动引起ST段压低（相对于休息）|\n",
    "|trestbps\t|静息血压（mm Hg）|\t         ▏   |slope\t|高峰运动ST段的斜率|\n",
    "|chol\t   |血清胆固醇（mg / dl）|\t       ▏   |ca\t|蓬松染色的血管（0-3）数量|\n",
    "|fbs\t   |(空腹血糖>120mg/dl)(1=真;0=假)| ▏\t   |thal\t|心肌核素显像|\n",
    "|restecg\t|静息心电图结果|             ▏\t  |target|\t\t|研究目标(是否患心脏病)(1=患病;0=未患病)|\n",
    "\n"
   ]
  },
  {
   "cell_type": "markdown",
   "metadata": {},
   "source": [
    "**导入必要包**"
   ]
  },
  {
   "cell_type": "code",
   "execution_count": 1,
   "metadata": {},
   "outputs": [],
   "source": [
    "import numpy as np\n",
    "import pandas as pd\n",
    "import matplotlib.pyplot as plt\n",
    "import seaborn as sns\n",
    "\n",
    "plt.rcParams[\"font.sans-serif\"] = [\"SimHei\"]\n",
    "plt.rcParams[\"axes.unicode_minus\"] = False\n",
    "%matplotlib inline"
   ]
  },
  {
   "cell_type": "markdown",
   "metadata": {},
   "source": [
    "# 数据预处理"
   ]
  },
  {
   "cell_type": "code",
   "execution_count": 2,
   "metadata": {},
   "outputs": [
    {
     "data": {
      "text/html": [
       "<div>\n",
       "<style scoped>\n",
       "    .dataframe tbody tr th:only-of-type {\n",
       "        vertical-align: middle;\n",
       "    }\n",
       "\n",
       "    .dataframe tbody tr th {\n",
       "        vertical-align: top;\n",
       "    }\n",
       "\n",
       "    .dataframe thead th {\n",
       "        text-align: right;\n",
       "    }\n",
       "</style>\n",
       "<table border=\"1\" class=\"dataframe\">\n",
       "  <thead>\n",
       "    <tr style=\"text-align: right;\">\n",
       "      <th></th>\n",
       "      <th>age</th>\n",
       "      <th>sex</th>\n",
       "      <th>cp</th>\n",
       "      <th>trestbps</th>\n",
       "      <th>chol</th>\n",
       "      <th>fbs</th>\n",
       "      <th>restecg</th>\n",
       "      <th>thalach</th>\n",
       "      <th>exang</th>\n",
       "      <th>oldpeak</th>\n",
       "      <th>slope</th>\n",
       "      <th>ca</th>\n",
       "      <th>thal</th>\n",
       "      <th>target</th>\n",
       "    </tr>\n",
       "  </thead>\n",
       "  <tbody>\n",
       "    <tr>\n",
       "      <th>0</th>\n",
       "      <td>63</td>\n",
       "      <td>1</td>\n",
       "      <td>3</td>\n",
       "      <td>145</td>\n",
       "      <td>233</td>\n",
       "      <td>1</td>\n",
       "      <td>0</td>\n",
       "      <td>150</td>\n",
       "      <td>0</td>\n",
       "      <td>2.3</td>\n",
       "      <td>0</td>\n",
       "      <td>0</td>\n",
       "      <td>1</td>\n",
       "      <td>1</td>\n",
       "    </tr>\n",
       "    <tr>\n",
       "      <th>1</th>\n",
       "      <td>37</td>\n",
       "      <td>1</td>\n",
       "      <td>2</td>\n",
       "      <td>130</td>\n",
       "      <td>250</td>\n",
       "      <td>0</td>\n",
       "      <td>1</td>\n",
       "      <td>187</td>\n",
       "      <td>0</td>\n",
       "      <td>3.5</td>\n",
       "      <td>0</td>\n",
       "      <td>0</td>\n",
       "      <td>2</td>\n",
       "      <td>1</td>\n",
       "    </tr>\n",
       "    <tr>\n",
       "      <th>2</th>\n",
       "      <td>41</td>\n",
       "      <td>0</td>\n",
       "      <td>1</td>\n",
       "      <td>130</td>\n",
       "      <td>204</td>\n",
       "      <td>0</td>\n",
       "      <td>0</td>\n",
       "      <td>172</td>\n",
       "      <td>0</td>\n",
       "      <td>1.4</td>\n",
       "      <td>2</td>\n",
       "      <td>0</td>\n",
       "      <td>2</td>\n",
       "      <td>1</td>\n",
       "    </tr>\n",
       "    <tr>\n",
       "      <th>3</th>\n",
       "      <td>56</td>\n",
       "      <td>1</td>\n",
       "      <td>1</td>\n",
       "      <td>120</td>\n",
       "      <td>236</td>\n",
       "      <td>0</td>\n",
       "      <td>1</td>\n",
       "      <td>178</td>\n",
       "      <td>0</td>\n",
       "      <td>0.8</td>\n",
       "      <td>2</td>\n",
       "      <td>0</td>\n",
       "      <td>2</td>\n",
       "      <td>1</td>\n",
       "    </tr>\n",
       "    <tr>\n",
       "      <th>4</th>\n",
       "      <td>57</td>\n",
       "      <td>0</td>\n",
       "      <td>0</td>\n",
       "      <td>120</td>\n",
       "      <td>354</td>\n",
       "      <td>0</td>\n",
       "      <td>1</td>\n",
       "      <td>163</td>\n",
       "      <td>1</td>\n",
       "      <td>0.6</td>\n",
       "      <td>2</td>\n",
       "      <td>0</td>\n",
       "      <td>2</td>\n",
       "      <td>1</td>\n",
       "    </tr>\n",
       "  </tbody>\n",
       "</table>\n",
       "</div>"
      ],
      "text/plain": [
       "   age  sex  cp  trestbps  chol  fbs  restecg  thalach  exang  oldpeak  slope  \\\n",
       "0   63    1   3       145   233    1        0      150      0      2.3      0   \n",
       "1   37    1   2       130   250    0        1      187      0      3.5      0   \n",
       "2   41    0   1       130   204    0        0      172      0      1.4      2   \n",
       "3   56    1   1       120   236    0        1      178      0      0.8      2   \n",
       "4   57    0   0       120   354    0        1      163      1      0.6      2   \n",
       "\n",
       "   ca  thal  target  \n",
       "0   0     1       1  \n",
       "1   0     2       1  \n",
       "2   0     2       1  \n",
       "3   0     2       1  \n",
       "4   0     2       1  "
      ]
     },
     "execution_count": 2,
     "metadata": {},
     "output_type": "execute_result"
    }
   ],
   "source": [
    "## 载入数据\n",
    "file_path = \"./dataSets/data_chap8/heart.csv\"\n",
    "\n",
    "heart = pd.read_csv(file_path)\n",
    "heart.head()"
   ]
  },
  {
   "cell_type": "code",
   "execution_count": 3,
   "metadata": {},
   "outputs": [
    {
     "name": "stdout",
     "output_type": "stream",
     "text": [
      "<class 'pandas.core.frame.DataFrame'>\n",
      "RangeIndex: 303 entries, 0 to 302\n",
      "Data columns (total 14 columns):\n",
      " #   Column    Non-Null Count  Dtype  \n",
      "---  ------    --------------  -----  \n",
      " 0   age       303 non-null    int64  \n",
      " 1   sex       303 non-null    int64  \n",
      " 2   cp        303 non-null    int64  \n",
      " 3   trestbps  303 non-null    int64  \n",
      " 4   chol      303 non-null    int64  \n",
      " 5   fbs       303 non-null    int64  \n",
      " 6   restecg   303 non-null    int64  \n",
      " 7   thalach   303 non-null    int64  \n",
      " 8   exang     303 non-null    int64  \n",
      " 9   oldpeak   303 non-null    float64\n",
      " 10  slope     303 non-null    int64  \n",
      " 11  ca        303 non-null    int64  \n",
      " 12  thal      303 non-null    int64  \n",
      " 13  target    303 non-null    int64  \n",
      "dtypes: float64(1), int64(13)\n",
      "memory usage: 33.3 KB\n"
     ]
    }
   ],
   "source": [
    "## 查看数据集info()\n",
    "heart.info()"
   ]
  },
  {
   "cell_type": "markdown",
   "metadata": {},
   "source": [
    "分析： 无缺失，所有特征均为数值型"
   ]
  },
  {
   "cell_type": "code",
   "execution_count": 4,
   "metadata": {},
   "outputs": [],
   "source": [
    "## 分离数据=》 X,y\n",
    "y = heart['target'].copy()\n",
    "X = heart.________________.copy()"
   ]
  },
  {
   "cell_type": "code",
   "execution_count": 5,
   "metadata": {},
   "outputs": [],
   "source": [
    "## 划分数据=》train，test,0.2\n",
    "from ________________ import train_test_split\n",
    "X_train,X_test,y_train,y_test = train_test_split(___,___,test_size=0.2,random_state=10)"
   ]
  },
  {
   "cell_type": "code",
   "execution_count": 6,
   "metadata": {},
   "outputs": [
    {
     "data": {
      "text/plain": [
       "((242, 13), (61, 13))"
      ]
     },
     "execution_count": 6,
     "metadata": {},
     "output_type": "execute_result"
    }
   ],
   "source": [
    "X_train.shape, X_test.shape"
   ]
  },
  {
   "cell_type": "markdown",
   "metadata": {},
   "source": [
    "# 特征选择\n",
    "\n",
    "## 过滤式(Filter)\n",
    "\n",
    "### 过滤式(Filter)——剔除低方差的特征\n",
    "> 思想：方差小的特征波动性小，包含的信息也较少，对模型影响较小 <br>\n",
    "> 特点：与目标y无关，仅考虑一个特征自身的波动情况 <br>\n",
    "> 方法：\n",
    ">> 给定一个方差阈值，计算所有特征的方差  <br>\n",
    "保留方差大于阈值的特征,剔除方差小于阈值的特征    <br>\n",
    "\n",
    "> `VarianceThreshold`类:\n",
    ">>|参数\t   |说明|\n",
    "|---:|---:|\n",
    "|threshold\t|输入方差阈值（浮点型），默认为0.0，会自动删除方差为0的特征\n",
    "\n",
    ">>|属性\t|说明|\n",
    "|---:|---:|\n",
    "|variances_ \t|查看各特征的方差|\n",
    "\n",
    "官参：https://scikit-learn.org/stable/modules/generated/sklearn.feature_selection.VarianceThreshold.html"
   ]
  },
  {
   "cell_type": "code",
   "execution_count": 7,
   "metadata": {},
   "outputs": [],
   "source": [
    "# 剔除低方差特征,阈值threshold=0.5\n",
    "from ________________ import VarianceThreshold\n",
    "sel_var = VarianceThreshold(____________)\n",
    "\n",
    "sel_var.fit(X)\n",
    "sel_var_X = sel_var.____________"
   ]
  },
  {
   "cell_type": "code",
   "execution_count": 8,
   "metadata": {},
   "outputs": [
    {
     "data": {
      "text/plain": [
       "((303, 7), (303, 13))"
      ]
     },
     "execution_count": 8,
     "metadata": {},
     "output_type": "execute_result"
    }
   ],
   "source": [
    "sel_var_X.shape,  X.shape"
   ]
  },
  {
   "cell_type": "markdown",
   "metadata": {},
   "source": [
    "解析： 可看出原13个特征经过低方差过滤后变成了7个，过滤掉了6个"
   ]
  },
  {
   "cell_type": "code",
   "execution_count": 9,
   "metadata": {},
   "outputs": [
    {
     "data": {
      "text/plain": [
       "array([8.22123321e+01, 2.16449368e-01, 1.06161705e+00, 3.06571317e+02,\n",
       "       2.67756065e+03, 1.26458190e-01, 2.75615680e-01, 5.22914899e+02,\n",
       "       2.19978433e-01, 1.34364605e+00, 3.78481412e-01, 1.04227254e+00,\n",
       "       3.73645285e-01])"
      ]
     },
     "execution_count": 9,
     "metadata": {},
     "output_type": "execute_result"
    }
   ],
   "source": [
    "## 查看各特征的方差\n",
    "sel_var.variances_"
   ]
  },
  {
   "cell_type": "code",
   "execution_count": 10,
   "metadata": {},
   "outputs": [
    {
     "data": {
      "text/plain": [
       "array([ True, False,  True,  True,  True, False, False,  True, False,\n",
       "        True, False,  True, False])"
      ]
     },
     "execution_count": 10,
     "metadata": {},
     "output_type": "execute_result"
    }
   ],
   "source": [
    "# 查看特征选择情况\n",
    "sel_var.____________"
   ]
  },
  {
   "cell_type": "code",
   "execution_count": null,
   "metadata": {},
   "outputs": [],
   "source": [
    "# 构造一个Series，查看特征选择情况\n",
    "print(pd.Series(sel_var.get_support(), index=X.columns))"
   ]
  },
  {
   "cell_type": "code",
   "execution_count": 12,
   "metadata": {},
   "outputs": [
    {
     "data": {
      "text/plain": [
       "Index(['age', 'cp', 'trestbps', 'chol', 'thalach', 'oldpeak', 'ca'], dtype='object')"
      ]
     },
     "execution_count": 12,
     "metadata": {},
     "output_type": "execute_result"
    }
   ],
   "source": [
    "## 只要选出的特征\n",
    "features = pd.Series(____________, ____________)\n",
    "sel_fea = features[features==True]\n",
    "sel_fea.index"
   ]
  },
  {
   "cell_type": "markdown",
   "metadata": {},
   "source": [
    "★知识点：`plt.matshow()`绘制矩阵，<br>\n",
    "https://matplotlib.org/api/_as_gen/matplotlib.pyplot.matshow.html?highlight=matshow#matplotlib.pyplot.matshow  <br>\n",
    "https://www.cnblogs.com/shanger/p/13021491.html"
   ]
  },
  {
   "cell_type": "code",
   "execution_count": 13,
   "metadata": {},
   "outputs": [
    {
     "data": {
      "text/plain": [
       "([<matplotlib.axis.XTick at 0x20c2576fa20>,\n",
       "  <matplotlib.axis.XTick at 0x20c2576f630>,\n",
       "  <matplotlib.axis.XTick at 0x20c2579c0b8>,\n",
       "  <matplotlib.axis.XTick at 0x20c257b44a8>,\n",
       "  <matplotlib.axis.XTick at 0x20c257b4940>,\n",
       "  <matplotlib.axis.XTick at 0x20c257b4dd8>,\n",
       "  <matplotlib.axis.XTick at 0x20c257bc2b0>,\n",
       "  <matplotlib.axis.XTick at 0x20c257b4668>,\n",
       "  <matplotlib.axis.XTick at 0x20c257bc6a0>,\n",
       "  <matplotlib.axis.XTick at 0x20c257bcb38>,\n",
       "  <matplotlib.axis.XTick at 0x20c257c4048>,\n",
       "  <matplotlib.axis.XTick at 0x20c257c44a8>,\n",
       "  <matplotlib.axis.XTick at 0x20c257c4940>],\n",
       " [Text(0, 1, 'age'),\n",
       "  Text(1, 1, 'sex'),\n",
       "  Text(2, 1, 'cp'),\n",
       "  Text(3, 1, 'trestbps'),\n",
       "  Text(4, 1, 'chol'),\n",
       "  Text(5, 1, 'fbs'),\n",
       "  Text(6, 1, 'restecg'),\n",
       "  Text(7, 1, 'thalach'),\n",
       "  Text(8, 1, 'exang'),\n",
       "  Text(9, 1, 'oldpeak'),\n",
       "  Text(10, 1, 'slope'),\n",
       "  Text(11, 1, 'ca'),\n",
       "  Text(12, 1, 'thal')])"
      ]
     },
     "execution_count": 13,
     "metadata": {},
     "output_type": "execute_result"
    },
    {
     "data": {
      "text/plain": [
       "<Figure size 576x432 with 0 Axes>"
      ]
     },
     "metadata": {},
     "output_type": "display_data"
    },
    {
     "data": {
      "image/png": "[encoded data removed]",
      "text/plain": [
       "<Figure size 1152x144 with 1 Axes>"
      ]
     },
     "metadata": {
      "needs_background": "light"
     },
     "output_type": "display_data"
    }
   ],
   "source": [
    "## 特征选择可视化（方差选择）\n",
    "import matplotlib.pyplot as plt\n",
    "%matplotlib inline\n",
    "# 将遮罩可视化——红色为True，紫色为False\n",
    "plt.figure(figsize=(16, 4))\n",
    "plt.matshow(sel_var.get_support().reshape(1, -1), cmap='rainbow')\n",
    "plt.xticks(range(13), X.columns)"
   ]
  },
  {
   "cell_type": "markdown",
   "metadata": {},
   "source": [
    "分析：红色为选择的特征，紫色为抛弃的特征，可看出，age，cp，trestbps，chol，thalach，oldpeak，ca留下了。"
   ]
  },
  {
   "cell_type": "markdown",
   "metadata": {},
   "source": [
    "### 过滤式(Filter)——卡方特征选择\n",
    "> 思想：\n",
    ">> ![](./imgs/chap08/fig08_05.png)\n",
    "![](./imgs/chap08/fig08_06.png)\n",
    "\n",
    "> 特点：与目标y有关，常使用皮尔逊相关系数度量特征𝑋与𝑌的线性相关性，取值在-1到1之间\n",
    ">> ![](./imgs/chap08/fig08_07.png)\n",
    "\n",
    "> `SelectKBest`和`SelectPercentile`类\n",
    ">> |参数\t|说明|\n",
    "|:-|:-:|\n",
    "| score_func      \t | 给出统计指标的函数，常用函数如下：<br>“f_regression”（默认）：相关系数检验，用于回归问题<br>“chi2”：卡方检验，用于分类问题<br>“mutual_info_regression”：计算互信息，用于回归问题<br>“f_classif”：基于方差分析的F检验，用于分类问题|\n",
    "|k（SelectKBest）\t|指定保留得分最高特征的个数，默认为10|\n",
    "|percentile（SelectPercentile）\t|指定保留得分最高的前百分之几的特征，默认为10（10%）|\n",
    "\n",
    ">> |属性\t  |说明|\n",
    "|:--|:--|\n",
    "|scores_ \t|返回各特征的得分|\n",
    "|pvalues_ \t|返回各特征得分的p值，若score_func仅返回得分，则为无|\n"
   ]
  },
  {
   "cell_type": "code",
   "execution_count": 14,
   "metadata": {},
   "outputs": [],
   "source": [
    "## 导入SelectKBest和chi2\n",
    "from ____________ import SelectKBest\n",
    "from ____________ import chi2\n",
    "\n",
    "# 与目标变量最相关的7个特征\n",
    "sel_chi = SelectKBest(score_func=chi2,k=7).fit(X,y)\n"
   ]
  },
  {
   "cell_type": "code",
   "execution_count": 15,
   "metadata": {},
   "outputs": [
    {
     "name": "stdout",
     "output_type": "stream",
     "text": [
      "[ 23.28662399   7.57683451  62.59809791  14.8239245   23.93639448\n",
      "   0.20293368   2.97827075 188.32047169  38.91437697  72.64425301\n",
      "   9.8040952   66.44076512   5.79185297]\n"
     ]
    }
   ],
   "source": [
    "## 各个特征变量与目标变量卡方统计量的值\n",
    "print(sel_chi.scores_)"
   ]
  },
  {
   "cell_type": "code",
   "execution_count": 16,
   "metadata": {},
   "outputs": [
    {
     "name": "stdout",
     "output_type": "stream",
     "text": [
      "age          True\n",
      "sex         False\n",
      "cp           True\n",
      "trestbps    False\n",
      "chol         True\n",
      "fbs         False\n",
      "restecg     False\n",
      "thalach      True\n",
      "exang        True\n",
      "oldpeak      True\n",
      "slope       False\n",
      "ca           True\n",
      "thal        False\n",
      "dtype: bool\n"
     ]
    }
   ],
   "source": [
    "## 查看各特征的选择情况\n",
    "print(pd.Series(sel_chi.____________, index=X.columns))"
   ]
  },
  {
   "cell_type": "code",
   "execution_count": 17,
   "metadata": {},
   "outputs": [
    {
     "data": {
      "text/plain": [
       "Index(['age', 'cp', 'chol', 'thalach', 'exang', 'oldpeak', 'ca'], dtype='object')"
      ]
     },
     "execution_count": 17,
     "metadata": {},
     "output_type": "execute_result"
    }
   ],
   "source": [
    "## 只要选出的特征\n",
    "features = pd.Series(____________, ____________)\n",
    "sel_fea = features[features==True]\n",
    "sel_fea.index"
   ]
  },
  {
   "cell_type": "code",
   "execution_count": 18,
   "metadata": {},
   "outputs": [
    {
     "data": {
      "text/plain": [
       "([<matplotlib.axis.XTick at 0x20c2588e2b0>,\n",
       "  <matplotlib.axis.XTick at 0x20c25889da0>,\n",
       "  <matplotlib.axis.XTick at 0x20c258a4860>,\n",
       "  <matplotlib.axis.XTick at 0x20c258b1c18>,\n",
       "  <matplotlib.axis.XTick at 0x20c258ba0f0>,\n",
       "  <matplotlib.axis.XTick at 0x20c258ba588>,\n",
       "  <matplotlib.axis.XTick at 0x20c258baa20>,\n",
       "  <matplotlib.axis.XTick at 0x20c258baeb8>,\n",
       "  <matplotlib.axis.XTick at 0x20c258c1390>,\n",
       "  <matplotlib.axis.XTick at 0x20c258c1828>,\n",
       "  <matplotlib.axis.XTick at 0x20c258c1cc0>,\n",
       "  <matplotlib.axis.XTick at 0x20c258c15f8>,\n",
       "  <matplotlib.axis.XTick at 0x20c258ba748>],\n",
       " [Text(0, 1, 'age'),\n",
       "  Text(1, 1, 'sex'),\n",
       "  Text(2, 1, 'cp'),\n",
       "  Text(3, 1, 'trestbps'),\n",
       "  Text(4, 1, 'chol'),\n",
       "  Text(5, 1, 'fbs'),\n",
       "  Text(6, 1, 'restecg'),\n",
       "  Text(7, 1, 'thalach'),\n",
       "  Text(8, 1, 'exang'),\n",
       "  Text(9, 1, 'oldpeak'),\n",
       "  Text(10, 1, 'slope'),\n",
       "  Text(11, 1, 'ca'),\n",
       "  Text(12, 1, 'thal')])"
      ]
     },
     "execution_count": 18,
     "metadata": {},
     "output_type": "execute_result"
    },
    {
     "data": {
      "text/plain": [
       "<Figure size 576x432 with 0 Axes>"
      ]
     },
     "metadata": {},
     "output_type": "display_data"
    },
    {
     "data": {
      "image/png": "[encoded data removed]",
      "text/plain": [
       "<Figure size 1152x144 with 1 Axes>"
      ]
     },
     "metadata": {
      "needs_background": "light"
     },
     "output_type": "display_data"
    }
   ],
   "source": [
    "# 特征选择可视化（卡方检验）\n",
    "import matplotlib.pyplot as plt\n",
    "%matplotlib inline\n",
    "# 将布尔数组可视化——红色为True，紫色为False\n",
    "\n",
    "plt.figure(figsize=(16, 4))\n",
    "plt.matshow(sel_chi.get_support().reshape(1, -1), cmap='rainbow')\n",
    "plt.xticks(range(13), X.columns)"
   ]
  },
  {
   "cell_type": "markdown",
   "metadata": {},
   "source": [
    "分析：过滤式(Filter)——卡方特征选择，选择的特征为age，cp，chol，thalach，exang，oldpeak，ca；这与方差过滤的结果还是有区别的。"
   ]
  },
  {
   "cell_type": "markdown",
   "metadata": {},
   "source": [
    "**特征选择对比可视化**\n",
    "> 将方差过滤与卡方特征选择法所得的结果进行可视化比对"
   ]
  },
  {
   "cell_type": "code",
   "execution_count": 19,
   "metadata": {},
   "outputs": [
    {
     "data": {
      "image/png": "[encoded data removed]",
      "text/plain": [
       "<Figure size 1152x288 with 2 Axes>"
      ]
     },
     "metadata": {
      "needs_background": "light"
     },
     "output_type": "display_data"
    }
   ],
   "source": [
    "# 特征选择可视化（卡方检验）\n",
    "import matplotlib.pyplot as plt\n",
    "%matplotlib inline\n",
    "# 将布尔数组可视化——红色为True，紫色为False\n",
    "\n",
    "\n",
    "fig,ax = plt.subplots(2,1,figsize=(16,4))\n",
    "ax[0].matshow(sel_var.get_support().reshape(1, -1), cmap='rainbow')\n",
    "ax[1].matshow(sel_chi.get_support().reshape(1, -1), cmap='rainbow')\n",
    "\n",
    "plt.xticks(range(13), X.columns)\n",
    "plt.show()"
   ]
  },
  {
   "cell_type": "markdown",
   "metadata": {},
   "source": [
    "分析：第一个图是方差过滤法的结果，第二个图是卡方特征选择法的结果。"
   ]
  },
  {
   "cell_type": "markdown",
   "metadata": {},
   "source": [
    "## 包裹式(Wrapper) -递归特征消除法（RFE）\n",
    "> RFE:Recursive Feature Elimination回归特征消除   <br>\n",
    "> 思想：利用可以学习到特征权重或重要性的模型，通过递归的方式减少特征个数来进行特征选择\n",
    "\n",
    "> 步骤:\n",
    ">> 基于所有特征训练模型，得到每个特征的权重或重要性    <br>\n",
    "剔除权重或重要性最小的特征，基于新的特征集合训练模型   <br>\n",
    "重复上述步骤，进行递归消除，直到剩下的特征个数满足条件为止<br>\n",
    "\n",
    ">注意：\n",
    ">> 执行`RFE`的过程中，可以通过交叉验证的方式`RFECV`来评价模型在某个特征集合上的表现，以此来选择最佳的特征集合\n",
    "\n",
    "> `RFE`类\n",
    ">>| 参数\t|说明|\n",
    "|:---|:---|\n",
    "|estimator \t|监督学习器，必须包含coef_或feature_importances_属性|\n",
    "|n_features_to_select \t       |指定选出几个特征，默认为None（所有特征的一半）|\n",
    "|step\t|每次迭代剔除的特征数，默认为1，大于1为剔除的个数，0~1之间为剔除的比例|\n",
    "\n",
    ">> |属性\t|说明|\n",
    "|:---|:---|\n",
    "|support_\t|指明哪些特征被选择（布尔数组）|\n",
    "|ranking_ \t|特征的排名（表示被剔除的顺序）|\n",
    "\n",
    ">官方文档：https://scikit-learn.org/stable/modules/generated/sklearn.feature_selection.RFE.html\n",
    "\n",
    "### RFE特征选择"
   ]
  },
  {
   "cell_type": "code",
   "execution_count": 20,
   "metadata": {},
   "outputs": [],
   "source": [
    "## 采用递归特征消除法,estimator使用DecsionTreeClassifier\n",
    "\n",
    "from ____________ import RFE\n",
    "from ____________ import DecisionTreeClassifier\n",
    "\n",
    "## 实例化RFE：estimator=DecisionTreeClassifier(),选择保留7个特征\n",
    "\n",
    "rfe = RFE(estimator=DecisionTreeClassifier(random_state=10),____________)\n",
    "\n",
    "rfe.fit(X_train,y_train)\n",
    "\n",
    "##  对X_train进行转换,即特征选择\n",
    "X_train_rfe = rfe.____________\n",
    "\n",
    "##  对X_test进行转换，即特征选择\n",
    "X_test_rfe = rfe.____________\n"
   ]
  },
  {
   "cell_type": "code",
   "execution_count": 26,
   "metadata": {},
   "outputs": [
    {
     "name": "stdout",
     "output_type": "stream",
     "text": [
      "未进行选择的模型评分Acc: 0.7377049180327869\n"
     ]
    }
   ],
   "source": [
    "## 未进行选择的模型评分\n",
    "Acc = DecisionTreeClassifier(random_state=10).fit(X_train,y_train).____________\n",
    "print(\"未进行选择的模型评分Acc:\",Acc)"
   ]
  },
  {
   "cell_type": "code",
   "execution_count": 27,
   "metadata": {},
   "outputs": [
    {
     "name": "stdout",
     "output_type": "stream",
     "text": [
      "经过特征选择后的模型评分Acc1: 0.7868852459016393\n"
     ]
    }
   ],
   "source": [
    "## 经过特征选择后的模型评分\n",
    "Acc1 = DecisionTreeClassifier(random_state=10).fit(X_train_rfe,y_train).____________\n",
    "print(\"经过特征选择后的模型评分Acc1:\",Acc1)"
   ]
  },
  {
   "cell_type": "markdown",
   "metadata": {},
   "source": [
    "分析： 从模型Acc的结果看，经过特征选择后，模型性能有所提升。  除了以上方式计算模型score之外，还可以直接使用rfe模型预测，一步到位"
   ]
  },
  {
   "cell_type": "code",
   "execution_count": 28,
   "metadata": {},
   "outputs": [
    {
     "name": "stdout",
     "output_type": "stream",
     "text": [
      "经过特征选择后的模型评分Acc2: 0.7868852459016393\n",
      "经过特征选择后的模型评分Acc3: 0.7868852459016393\n"
     ]
    }
   ],
   "source": [
    "from ____________ import accuracy_score\n",
    "## 其功能为：先对X_test进行转换后，再用设定好的学习器进行预测\n",
    "y_pred = rfe.predict(X_test)\n",
    "\n",
    "## 可利用y_pred,与 y_test求正确率\n",
    "Acc2 = accuracy_score(y_test,y_pred)\n",
    "print(\"经过特征选择后的模型评分Acc2:\",Acc2)\n",
    "\n",
    "##  或者也可以使用score()\n",
    "## 注意：此时的X_test是进行特征选择后的X_test，再用设定好的学习器评分\n",
    "Acc3 = rfe.score(X_test, y_test)\n",
    "print(\"经过特征选择后的模型评分Acc3:\",Acc3)"
   ]
  },
  {
   "cell_type": "markdown",
   "metadata": {},
   "source": [
    "分析：Acc1，Acc2，Acc3完全相同，不同的方式实现同样的结果。"
   ]
  },
  {
   "cell_type": "code",
   "execution_count": 38,
   "metadata": {},
   "outputs": [
    {
     "data": {
      "text/plain": [
       "fbs         7\n",
       "restecg     6\n",
       "thal        5\n",
       "sex         4\n",
       "exang       3\n",
       "slope       2\n",
       "age         1\n",
       "cp          1\n",
       "trestbps    1\n",
       "chol        1\n",
       "thalach     1\n",
       "oldpeak     1\n",
       "ca          1\n",
       "dtype: int32"
      ]
     },
     "execution_count": 38,
     "metadata": {},
     "output_type": "execute_result"
    }
   ],
   "source": [
    "## 特征排名\n",
    "pd.Series(rfe.ranking_, index=X.columns).sort_values(ascending=False)"
   ]
  },
  {
   "cell_type": "markdown",
   "metadata": {},
   "source": [
    "解析：\n",
    ">|特征\t|排名|\n",
    "|:--|:--|\n",
    "|age\t|1（被选择）|\n",
    "|sex         \t|4（第4次被剔除）|\n",
    "|cp          \t|1（被选择）|\n",
    "|trestbps    \t|1（被选择）|\n",
    "|chol        \t|1（被选择）|\n",
    "|fbs         \t|7（第1次被剔除）|\n",
    "|restecg     \t|6（第2次被剔除）|\n",
    "|halach     \t|1（被选择）|\n",
    "|exang       \t|3（第5次被剔除）|\n",
    "|oldpeak     \t|1（被选择）|\n",
    "|slope      \t|2（第6次被剔除）|\n",
    "|ca          \t|1（被选择）|\n",
    "|thal \t|5（第3次被剔除）|\n"
   ]
  },
  {
   "cell_type": "code",
   "execution_count": 29,
   "metadata": {},
   "outputs": [
    {
     "data": {
      "text/plain": [
       "array([ True, False,  True,  True,  True, False, False,  True, False,\n",
       "        True, False,  True, False])"
      ]
     },
     "execution_count": 29,
     "metadata": {},
     "output_type": "execute_result"
    }
   ],
   "source": [
    "## 查看特征选择情况\n",
    "rfe.support_"
   ]
  },
  {
   "cell_type": "code",
   "execution_count": 30,
   "metadata": {},
   "outputs": [
    {
     "data": {
      "text/plain": [
       "age          True\n",
       "sex         False\n",
       "cp           True\n",
       "trestbps     True\n",
       "chol         True\n",
       "fbs         False\n",
       "restecg     False\n",
       "thalach      True\n",
       "exang       False\n",
       "oldpeak      True\n",
       "slope       False\n",
       "ca           True\n",
       "thal        False\n",
       "dtype: bool"
      ]
     },
     "execution_count": 30,
     "metadata": {},
     "output_type": "execute_result"
    }
   ],
   "source": [
    "## 构造Series查看特征选择情况\n",
    "pd.Series(rfe.support_, index=X.columns)"
   ]
  },
  {
   "cell_type": "code",
   "execution_count": 39,
   "metadata": {},
   "outputs": [
    {
     "data": {
      "text/plain": [
       "([<matplotlib.axis.XTick at 0x20c26aba0b8>,\n",
       "  <matplotlib.axis.XTick at 0x20c26b2a668>,\n",
       "  <matplotlib.axis.XTick at 0x20c26c40748>,\n",
       "  <matplotlib.axis.XTick at 0x20c26c3dac8>,\n",
       "  <matplotlib.axis.XTick at 0x20c26c3d710>,\n",
       "  <matplotlib.axis.XTick at 0x20c26f972b0>,\n",
       "  <matplotlib.axis.XTick at 0x20c26f97748>,\n",
       "  <matplotlib.axis.XTick at 0x20c26f97be0>,\n",
       "  <matplotlib.axis.XTick at 0x20c26fca0b8>,\n",
       "  <matplotlib.axis.XTick at 0x20c26fca550>,\n",
       "  <matplotlib.axis.XTick at 0x20c26fca9e8>,\n",
       "  <matplotlib.axis.XTick at 0x20c26fcae80>,\n",
       "  <matplotlib.axis.XTick at 0x20c26fa9358>],\n",
       " [Text(0, 1, 'age'),\n",
       "  Text(1, 1, 'sex'),\n",
       "  Text(2, 1, 'cp'),\n",
       "  Text(3, 1, 'trestbps'),\n",
       "  Text(4, 1, 'chol'),\n",
       "  Text(5, 1, 'fbs'),\n",
       "  Text(6, 1, 'restecg'),\n",
       "  Text(7, 1, 'thalach'),\n",
       "  Text(8, 1, 'exang'),\n",
       "  Text(9, 1, 'oldpeak'),\n",
       "  Text(10, 1, 'slope'),\n",
       "  Text(11, 1, 'ca'),\n",
       "  Text(12, 1, 'thal')])"
      ]
     },
     "execution_count": 39,
     "metadata": {},
     "output_type": "execute_result"
    },
    {
     "data": {
      "text/plain": [
       "<Figure size 1152x288 with 0 Axes>"
      ]
     },
     "metadata": {},
     "output_type": "display_data"
    },
    {
     "data": {
      "image/png": "[encoded data removed]",
      "text/plain": [
       "<Figure size 1152x144 with 1 Axes>"
      ]
     },
     "metadata": {
      "needs_background": "light"
     },
     "output_type": "display_data"
    }
   ],
   "source": [
    "# 特征选择可视化（RFE）\n",
    "plt.figure(figsize=(16, 4))\n",
    "plt.matshow(rfe.get_support().reshape(1, -1), cmap='rainbow')\n",
    "plt.xticks(range(13), X.columns)"
   ]
  },
  {
   "cell_type": "markdown",
   "metadata": {},
   "source": [
    "### RFECV特征选择\n",
    "\n",
    ">`RFECV`类\n",
    ">> |参数\t               |说明|\n",
    "|:--|:--|\n",
    "|estimator \t|监督学习器，必须包含coef_或feature_importances_属性|\n",
    "|min_features_to_select \t    | 需要选择的最小特征数，默认为1|\n",
    "|step\t|每次迭代剔除的特征数，默认为1，大于1为剔除的个数，0~1之间为剔除的比例|\n",
    "|cv\t   |交叉验证的折数，默认为3|\n",
    "|scoring\t|字符串或可调用对象，用于评估学习器的预测性能|\n",
    "\n",
    ">> |属性\t|说明|\n",
    "|:--|:--|\n",
    "|grid_scores_ \t|各特征子集的交叉验证得分 |\n",
    "|support_\t   |指明哪些特征被选择（布尔数组）|\n",
    "|ranking_ \t   |特征的排名（表示被剔除的顺序）|\n",
    "\n",
    "\n",
    ">官方：https://scikit-learn.org/stable/modules/generated/sklearn.feature_selection.RFECV.html\n",
    "\n"
   ]
  },
  {
   "cell_type": "code",
   "execution_count": 46,
   "metadata": {},
   "outputs": [],
   "source": [
    "## 递归特征消除+交叉验证法\n",
    "from ____________ import RFECV\n",
    "\n",
    "## s实例化RFECV()，采用5折交叉验证，cv=5\n",
    "rfecv = RFECV(estimator=DecisionTreeClassifier(random_state=10),\n",
    "              ____________,\n",
    "              scoring=\"roc_auc\"            \n",
    "             )\n",
    "## 在X_train上训练选择策略\n",
    "rfecv.fit(X_train,y_train)\n",
    "\n",
    "##  对X_train进行转换,即特征选择\n",
    "X_train_rfecv = rfecv.____________\n",
    "\n",
    "##  对X_test进行转换，即特征选择\n",
    "X_test_rfecv = rfecv.____________"
   ]
  },
  {
   "cell_type": "code",
   "execution_count": 47,
   "metadata": {},
   "outputs": [
    {
     "name": "stdout",
     "output_type": "stream",
     "text": [
      "fbs         4\n",
      "restecg     3\n",
      "thal        2\n",
      "age         1\n",
      "sex         1\n",
      "cp          1\n",
      "trestbps    1\n",
      "chol        1\n",
      "thalach     1\n",
      "exang       1\n",
      "oldpeak     1\n",
      "slope       1\n",
      "ca          1\n",
      "dtype: int32\n"
     ]
    }
   ],
   "source": [
    "## 查看特征排名\n",
    "print(pd.Series(rfecv.ranking_,index=X.columns).sort_values(ascending=False))"
   ]
  },
  {
   "cell_type": "code",
   "execution_count": 45,
   "metadata": {},
   "outputs": [
    {
     "name": "stdout",
     "output_type": "stream",
     "text": [
      "未进行特征选择时的AUC值： 0.7467032967032967\n",
      "进行特征选择后的AUC值： 0.7467032967032967\n"
     ]
    }
   ],
   "source": [
    "## 特征选择前、后模型的AUC值\n",
    "from sklearn.metrics import roc_auc_score\n",
    "model1 = DecisionTreeClassifier(random_state=10)\n",
    "\n",
    "## 特征选择前模型的AUC值\n",
    "model1.fit(X_train,y_train)\n",
    "y_pred1 = model1.predict(X_test)\n",
    "auc1 = roc_auc_score(____________,____________)\n",
    "print(\"进行特征选择前的AUC值：\",auc1)\n",
    "\n",
    "\n",
    "## 特征选择后模型的AUC值\n",
    "model2 = DecisionTreeClassifier(random_state=10)\n",
    "model2.fit(rfecv.transform(X_train),y_train)\n",
    "y_pred_rfecv = model2.predict(rfecv.transform(X_test))\n",
    "auc2 = roc_auc_score(y_test,____________)\n",
    "print(\"进行特征选择后的AUC值：\",auc2)\n",
    "\n"
   ]
  },
  {
   "cell_type": "markdown",
   "metadata": {},
   "source": [
    "分析：特征选择前后auc值完全相同，这说明抛弃的那几个特征对目标y确实没什么影响，虽然没能提高auc，但精简了模型。"
   ]
  },
  {
   "cell_type": "markdown",
   "metadata": {},
   "source": [
    "**特征选择可视化**"
   ]
  },
  {
   "cell_type": "code",
   "execution_count": 50,
   "metadata": {},
   "outputs": [
    {
     "data": {
      "text/plain": [
       "([<matplotlib.axis.XTick at 0x20c27228f28>,\n",
       "  <matplotlib.axis.XTick at 0x20c272284a8>,\n",
       "  <matplotlib.axis.XTick at 0x20c27826da0>,\n",
       "  <matplotlib.axis.XTick at 0x20c27509390>,\n",
       "  <matplotlib.axis.XTick at 0x20c2724cd68>,\n",
       "  <matplotlib.axis.XTick at 0x20c27507a90>,\n",
       "  <matplotlib.axis.XTick at 0x20c27507e48>,\n",
       "  <matplotlib.axis.XTick at 0x20c27507320>,\n",
       "  <matplotlib.axis.XTick at 0x20c2751bf60>,\n",
       "  <matplotlib.axis.XTick at 0x20c2751bd68>,\n",
       "  <matplotlib.axis.XTick at 0x20c2751b978>,\n",
       "  <matplotlib.axis.XTick at 0x20c2751b5c0>,\n",
       "  <matplotlib.axis.XTick at 0x20c2751b240>],\n",
       " [Text(0, 1, 'age'),\n",
       "  Text(1, 1, 'sex'),\n",
       "  Text(2, 1, 'cp'),\n",
       "  Text(3, 1, 'trestbps'),\n",
       "  Text(4, 1, 'chol'),\n",
       "  Text(5, 1, 'fbs'),\n",
       "  Text(6, 1, 'restecg'),\n",
       "  Text(7, 1, 'thalach'),\n",
       "  Text(8, 1, 'exang'),\n",
       "  Text(9, 1, 'oldpeak'),\n",
       "  Text(10, 1, 'slope'),\n",
       "  Text(11, 1, 'ca'),\n",
       "  Text(12, 1, 'thal')])"
      ]
     },
     "execution_count": 50,
     "metadata": {},
     "output_type": "execute_result"
    },
    {
     "data": {
      "text/plain": [
       "<Figure size 1152x288 with 0 Axes>"
      ]
     },
     "metadata": {},
     "output_type": "display_data"
    },
    {
     "data": {
      "image/png": "[encoded data removed]",
      "text/plain": [
       "<Figure size 1152x144 with 1 Axes>"
      ]
     },
     "metadata": {
      "needs_background": "light"
     },
     "output_type": "display_data"
    }
   ],
   "source": [
    "## 特征选择可视化（RFECV）\n",
    "plt.figure(figsize=(16,4))\n",
    "mat = rfecv.get_support().reshape(1,-1)\n",
    "plt.matshow(mat,cmap=\"rainbow\")\n",
    "plt.xticks(range(13),X.columns)"
   ]
  },
  {
   "cell_type": "markdown",
   "metadata": {},
   "source": [
    "## 嵌入式(Embedding)\n",
    "> 思想：模型训练和特征选择结合，在优化过程中自动选择特征    <br>  \n",
    "> 方法：  \n",
    ">> ●𝑙1正则化项：优化过程中可得到稀疏解，等同于特征选择，如LASSO    <br>\n",
    "●特征权重或重要性：设定阈值，若某特征的权重或重要性低于阈值，则将该特征剔除，如：决策树、SVM\n",
    "\n",
    "\n",
    ">`SelectFromModel`类\n",
    ">>|参数\t                   |说明|\n",
    "|:---|:---|\n",
    "|estimator \t        |监督学习器，必须包含coef_或feature_importances_属性|\n",
    "|threshold \t        |用于特征选择的阈值，设置方法如下：<br>若为浮点型：则表示阈值的绝对大小<br>若为字符串，'mean'(默认),'median'(权重或重要性的中位数)<br>若estimator包含“l1”正则化项，则默认值为1e-5|\n"
   ]
  },
  {
   "cell_type": "code",
   "execution_count": 51,
   "metadata": {},
   "outputs": [
    {
     "data": {
      "text/plain": [
       "SelectFromModel(estimator=RandomForestClassifier(bootstrap=True, class_weight=None, criterion='gini',\n",
       "            max_depth=None, max_features='auto', max_leaf_nodes=None,\n",
       "            min_impurity_decrease=0.0, min_impurity_split=None,\n",
       "            min_samples_leaf=1, min_samples_split=2,\n",
       "            min_weight_fraction_leaf=0.0, n_estimators=200, n_jobs=None,\n",
       "            oob_score=False, random_state=10, verbose=0, warm_start=False),\n",
       "        max_features=None, norm_order=1, prefit=False, threshold='median')"
      ]
     },
     "execution_count": 51,
     "metadata": {},
     "output_type": "execute_result"
    }
   ],
   "source": [
    "## 嵌入式特征选择，estimator采用RandomForestClassifier\n",
    "\n",
    "from ________________________ import SelectFromModel\n",
    "from ____________ import RandomForestClassifier\n",
    "\n",
    "\n",
    "## 使用随机森林作为监督学习器\n",
    "base_estimator = RandomForestClassifier(n_estimators=200,random_state=10)\n",
    "## 实例化SelectFromModel()\n",
    "sfm = SelectFromModel(estimator=base_estimator,\n",
    "                      threshold='median'\n",
    "                     )\n",
    "\n",
    "## 在X_train上训练规则，确定选择策略\n",
    "sfm.fit(X_train,y_train)\n"
   ]
  },
  {
   "cell_type": "code",
   "execution_count": 53,
   "metadata": {},
   "outputs": [
    {
     "data": {
      "text/plain": [
       "array([ True, False,  True,  True,  True, False, False,  True, False,\n",
       "        True, False,  True, False])"
      ]
     },
     "execution_count": 53,
     "metadata": {},
     "output_type": "execute_result"
    }
   ],
   "source": [
    "## 查看特征选择情况\n",
    "sfm.get_support()"
   ]
  },
  {
   "cell_type": "code",
   "execution_count": 54,
   "metadata": {
    "scrolled": true
   },
   "outputs": [
    {
     "data": {
      "text/plain": [
       "age          True\n",
       "sex         False\n",
       "cp           True\n",
       "trestbps     True\n",
       "chol         True\n",
       "fbs         False\n",
       "restecg     False\n",
       "thalach      True\n",
       "exang       False\n",
       "oldpeak      True\n",
       "slope       False\n",
       "ca           True\n",
       "thal        False\n",
       "dtype: bool"
      ]
     },
     "execution_count": 54,
     "metadata": {},
     "output_type": "execute_result"
    }
   ],
   "source": [
    "## 构造Series查看特征选择情况\n",
    "pd.Series(sfm.get_support(),index=X.columns)"
   ]
  },
  {
   "cell_type": "markdown",
   "metadata": {},
   "source": [
    "**特征选择可视化（嵌入式）**"
   ]
  },
  {
   "cell_type": "code",
   "execution_count": 55,
   "metadata": {},
   "outputs": [
    {
     "data": {
      "text/plain": [
       "([<matplotlib.axis.XTick at 0x20c282ec6a0>,\n",
       "  <matplotlib.axis.XTick at 0x20c282ec4e0>,\n",
       "  <matplotlib.axis.XTick at 0x20c27fdf208>,\n",
       "  <matplotlib.axis.XTick at 0x20c27fd06a0>,\n",
       "  <matplotlib.axis.XTick at 0x20c27fd0908>,\n",
       "  <matplotlib.axis.XTick at 0x20c27fd0ba8>,\n",
       "  <matplotlib.axis.XTick at 0x20c27faa3c8>,\n",
       "  <matplotlib.axis.XTick at 0x20c27fd0dd8>,\n",
       "  <matplotlib.axis.XTick at 0x20c27faa0b8>,\n",
       "  <matplotlib.axis.XTick at 0x20c27faac50>,\n",
       "  <matplotlib.axis.XTick at 0x20c273ad128>,\n",
       "  <matplotlib.axis.XTick at 0x20c273ad5c0>,\n",
       "  <matplotlib.axis.XTick at 0x20c273ada58>],\n",
       " [Text(0, 1, 'age'),\n",
       "  Text(1, 1, 'sex'),\n",
       "  Text(2, 1, 'cp'),\n",
       "  Text(3, 1, 'trestbps'),\n",
       "  Text(4, 1, 'chol'),\n",
       "  Text(5, 1, 'fbs'),\n",
       "  Text(6, 1, 'restecg'),\n",
       "  Text(7, 1, 'thalach'),\n",
       "  Text(8, 1, 'exang'),\n",
       "  Text(9, 1, 'oldpeak'),\n",
       "  Text(10, 1, 'slope'),\n",
       "  Text(11, 1, 'ca'),\n",
       "  Text(12, 1, 'thal')])"
      ]
     },
     "execution_count": 55,
     "metadata": {},
     "output_type": "execute_result"
    },
    {
     "data": {
      "text/plain": [
       "<Figure size 576x432 with 0 Axes>"
      ]
     },
     "metadata": {},
     "output_type": "display_data"
    },
    {
     "data": {
      "image/png": "[encoded data removed]",
      "text/plain": [
       "<Figure size 1152x144 with 1 Axes>"
      ]
     },
     "metadata": {
      "needs_background": "light"
     },
     "output_type": "display_data"
    }
   ],
   "source": [
    "## 特征选择可视化（嵌入式）\n",
    "# 将遮罩可视化——红色为True，紫色为False\n",
    "plt.figure(figsize=(8, 6))\n",
    "plt.matshow(sfm.get_support().reshape(1, -1), cmap='rainbow')\n",
    "plt.xticks(range(13), X.columns)"
   ]
  },
  {
   "cell_type": "markdown",
   "metadata": {},
   "source": [
    "**特征选择前后模型AUC对比**"
   ]
  },
  {
   "cell_type": "code",
   "execution_count": 57,
   "metadata": {},
   "outputs": [],
   "source": [
    "##  对X_train进行转换,即特征选择\n",
    "X_train_sfm = sfm.transform(X_train)\n",
    "\n",
    "##  对X_test进行转换，即特征选择\n",
    "X_test_sfm = sfm.transform(X_test)"
   ]
  },
  {
   "cell_type": "code",
   "execution_count": 58,
   "metadata": {},
   "outputs": [
    {
     "name": "stdout",
     "output_type": "stream",
     "text": [
      "进行特征选择前的AUC值： 0.803846153846154\n",
      "进行特征选择后的AUC值： 0.803846153846154\n"
     ]
    }
   ],
   "source": [
    "## 特征选择前、后模型的AUC值\n",
    "from sklearn.metrics import roc_auc_score\n",
    "model = RandomForestClassifier(n_estimators=200,random_state=10)\n",
    "## 特征选择前模型的AUC值\n",
    "model.fit(X_train,y_train)\n",
    "y_pred = model.____________\n",
    "auc1 = roc_auc_score(____________,____________)\n",
    "print(\"进行特征选择前的AUC值：\",auc1)\n",
    "\n",
    "\n",
    "## 特征选择后模型的AUC值\n",
    "model.fit(____________,y_train)\n",
    "y_pred_sfm = model.predict(____________)\n",
    "auc2 = roc_auc_score(y_test,____________)\n",
    "print(\"进行特征选择后的AUC值：\",auc2)\n"
   ]
  },
  {
   "cell_type": "markdown",
   "metadata": {},
   "source": [
    "# 小结\n",
    "> 三种特征选择\n",
    ">> ●Filter,过滤式  <br>\n",
    ">>> 特点：不需要estimator，即不需要监督学习器，不需要引入基模型  <br>\n",
    ">>> 常用方法：\n",
    ">>>> 方差选择法：`VarianceThreshold`    <br>\n",
    ">>>> 卡方检验法: `SelectKBest`,`chi2`\n",
    "\n",
    ">> ●Wrapper,包裹式  <br>\n",
    ">>> 特点：必须有estimator，即监督学习器且必须含有coef_或feature_importances属性，常用决策树  <br>\n",
    ">>> 常用方法：\n",
    ">>>> 递归特征消除法：`RFE`   <br>\n",
    ">>>> 递归消除加CV：`RFECV`\n",
    "\n",
    ">> ●Embedding，嵌入式  <br>\n",
    ">>> 要点：必须有estimator，即监督学习器且必须含有coef_或feature_importances属性，常用随机森林  <br>\n",
    ">>> 常用方法：\n",
    ">>>> `SelectFromModel`"
   ]
  },
  {
   "cell_type": "markdown",
   "metadata": {},
   "source": [
    "**扩展：将以上所有的特征选择结果，合并后进行matshow()**"
   ]
  },
  {
   "cell_type": "markdown",
   "metadata": {},
   "source": [
    "★ 知识点：数据拼接\n",
    "> 纵向拼接(矩阵变长)；如：数组t1 竖直拼接 数组t2 vstack；\n",
    ">>`np.vstack((t1,t2))`\n",
    "\n",
    "> 横向拼接(矩阵变宽)；如：数组t1 水平拼接 数组t2 hstack\n",
    ">>`np.hstack((t1,t2))`"
   ]
  },
  {
   "cell_type": "code",
   "execution_count": 61,
   "metadata": {},
   "outputs": [],
   "source": [
    "np.vstack?"
   ]
  },
  {
   "cell_type": "code",
   "execution_count": 59,
   "metadata": {},
   "outputs": [],
   "source": [
    "## 特征选择可视化\n",
    "## 将以上所有的结果构成整一个矩阵\n",
    "mat_var = sel_var.get_support().reshape(1, -1)\n",
    "mat_chi = sel_chi.get_support().reshape(1, -1)\n",
    "mat_rfe = rfe.get_support().reshape(1, -1)\n",
    "mat_rfecv = rfecv.get_support().reshape(1,-1)\n",
    "mat_sfm = sfm.get_support().reshape(1, -1)"
   ]
  },
  {
   "cell_type": "code",
   "execution_count": 63,
   "metadata": {},
   "outputs": [
    {
     "data": {
      "text/plain": [
       "(numpy.ndarray, (1, 13))"
      ]
     },
     "execution_count": 63,
     "metadata": {},
     "output_type": "execute_result"
    }
   ],
   "source": [
    "type(mat_sfm),mat_sfm.shape"
   ]
  },
  {
   "cell_type": "code",
   "execution_count": 62,
   "metadata": {},
   "outputs": [],
   "source": [
    "mat = np.vstack((mat_var,mat_chi,mat_rfe,mat_rfecv,mat_sfm))"
   ]
  },
  {
   "cell_type": "code",
   "execution_count": 64,
   "metadata": {},
   "outputs": [
    {
     "data": {
      "text/plain": [
       "(5, 13)"
      ]
     },
     "execution_count": 64,
     "metadata": {},
     "output_type": "execute_result"
    }
   ],
   "source": [
    "mat.shape"
   ]
  },
  {
   "cell_type": "code",
   "execution_count": 82,
   "metadata": {},
   "outputs": [
    {
     "data": {
      "text/plain": [
       "([<matplotlib.axis.YTick at 0x20c2812afd0>,\n",
       "  <matplotlib.axis.YTick at 0x20c2812af98>,\n",
       "  <matplotlib.axis.YTick at 0x20c2812a278>,\n",
       "  <matplotlib.axis.YTick at 0x20c28147080>,\n",
       "  <matplotlib.axis.YTick at 0x20c28156828>],\n",
       " [Text(0, 0, 'var'),\n",
       "  Text(0, 1, 'chi'),\n",
       "  Text(0, 2, 'rfe'),\n",
       "  Text(0, 3, 'rfecv'),\n",
       "  Text(0, 4, 'sfm')])"
      ]
     },
     "execution_count": 82,
     "metadata": {},
     "output_type": "execute_result"
    },
    {
     "data": {
      "text/plain": [
       "<Figure size 1152x720 with 0 Axes>"
      ]
     },
     "metadata": {},
     "output_type": "display_data"
    },
    {
     "data": {
      "image/png": "[encoded data removed]",
      "text/plain": [
       "<Figure size 748.8x288 with 1 Axes>"
      ]
     },
     "metadata": {
      "needs_background": "light"
     },
     "output_type": "display_data"
    }
   ],
   "source": [
    "# 将遮罩可视化——红色为True，紫色为False\n",
    "plt.figure(figsize=(16, 10))\n",
    "plt.matshow(mat, cmap='rainbow')\n",
    "#plt.grid(axis=\"y\")     # 横向网格线\n",
    "plt.xticks(range(13), X.columns)\n",
    "plt.yticks([0,1,2,3,4],[\"var\",\"chi\",\"rfe\",\"rfecv\",\"sfm\"])"
   ]
  },
  {
   "cell_type": "markdown",
   "metadata": {},
   "source": [
    "分析：五种方法都选择了age,cp,chol,thalach,oldpeak,ca,这6个特征。"
   ]
  },
  {
   "cell_type": "code",
   "execution_count": 77,
   "metadata": {},
   "outputs": [],
   "source": [
    "## 加一个分割矩阵\n",
    "l3 = [2]*13\n",
    "\n",
    "mat_sep = np.array(l3).reshape(1,-1)"
   ]
  },
  {
   "cell_type": "code",
   "execution_count": 78,
   "metadata": {},
   "outputs": [],
   "source": [
    "mat_var = sel_var.get_support().reshape(1, -1)\n",
    "mat_chi = sel_chi.get_support().reshape(1, -1)\n",
    "mat_rfe = rfe.get_support().reshape(1, -1)\n",
    "mat_rfecv = rfecv.get_support().reshape(1,-1)\n",
    "mat_sfm = sfm.get_support().reshape(1, -1)"
   ]
  },
  {
   "cell_type": "code",
   "execution_count": 79,
   "metadata": {},
   "outputs": [],
   "source": [
    "mat1 = np.vstack([mat_var,mat_sep,mat_chi,mat_sep,mat_rfe,mat_sep,mat_rfecv,mat_sep,mat_sfm])"
   ]
  },
  {
   "cell_type": "code",
   "execution_count": 80,
   "metadata": {},
   "outputs": [
    {
     "data": {
      "text/plain": [
       "(9, 13)"
      ]
     },
     "execution_count": 80,
     "metadata": {},
     "output_type": "execute_result"
    }
   ],
   "source": [
    "mat1.shape"
   ]
  },
  {
   "cell_type": "code",
   "execution_count": 86,
   "metadata": {},
   "outputs": [
    {
     "data": {
      "text/plain": [
       "([<matplotlib.axis.YTick at 0x20c2952aeb8>,\n",
       "  <matplotlib.axis.YTick at 0x20c2952ae48>,\n",
       "  <matplotlib.axis.YTick at 0x20c2952a278>,\n",
       "  <matplotlib.axis.YTick at 0x20c29543160>,\n",
       "  <matplotlib.axis.YTick at 0x20c29553828>],\n",
       " [Text(0, 0, 'var'),\n",
       "  Text(0, 2, 'chi'),\n",
       "  Text(0, 4, 'rfe'),\n",
       "  Text(0, 6, 'rfecv'),\n",
       "  Text(0, 8, 'sfm')])"
      ]
     },
     "execution_count": 86,
     "metadata": {},
     "output_type": "execute_result"
    },
    {
     "data": {
      "text/plain": [
       "<Figure size 1440x720 with 0 Axes>"
      ]
     },
     "metadata": {},
     "output_type": "display_data"
    },
    {
     "data": {
      "image/png": "[encoded data removed]",
      "text/plain": [
       "<Figure size 416x288 with 1 Axes>"
      ]
     },
     "metadata": {
      "needs_background": "light"
     },
     "output_type": "display_data"
    }
   ],
   "source": [
    "plt.figure(figsize=(20, 10))\n",
    "plt.matshow(mat1, cmap='rainbow')\n",
    "plt.xticks(range(13), X.columns)\n",
    "plt.yticks([0,2,4,6,8],[\"var\",\"chi\",\"rfe\",\"rfecv\",\"sfm\"])"
   ]
  },
  {
   "cell_type": "markdown",
   "metadata": {},
   "source": [
    "解析：var、rfe和sfm的结论一致"
   ]
  }
 ],
 "metadata": {
  "kernelspec": {
   "display_name": "MLenv1",
   "language": "python",
   "name": "mlenv1"
  },
  "language_info": {
   "codemirror_mode": {
    "name": "ipython",
    "version": 3
   },
   "file_extension": ".py",
   "mimetype": "text/x-python",
   "name": "python",
   "nbconvert_exporter": "python",
   "pygments_lexer": "ipython3",
   "version": "3.7.1"
  },
  "latex_envs": {
   "LaTeX_envs_menu_present": true,
   "autoclose": false,
   "autocomplete": true,
   "bibliofile": "biblio.bib",
   "cite_by": "apalike",
   "current_citInitial": 1,
   "eqLabelWithNumbers": true,
   "eqNumInitial": 1,
   "hotkeys": {
    "equation": "Ctrl-E",
    "itemize": "Ctrl-I"
   },
   "labels_anchors": false,
   "latex_user_defs": false,
   "report_style_numbering": false,
   "user_envs_cfg": false
  },
  "toc": {
   "base_numbering": 1,
   "nav_menu": {},
   "number_sections": true,
   "sideBar": true,
   "skip_h1_title": false,
   "title_cell": "Table of Contents",
   "title_sidebar": "Contents",
   "toc_cell": false,
   "toc_position": {
    "height": "calc(100% - 180px)",
    "left": "10px",
    "top": "150px",
    "width": "344.075px"
   },
   "toc_section_display": true,
   "toc_window_display": false
  },
  "varInspector": {
   "cols": {
    "lenName": 16,
    "lenType": 16,
    "lenVar": 40
   },
   "kernels_config": {
    "python": {
     "delete_cmd_postfix": "",
     "delete_cmd_prefix": "del ",
     "library": "var_list.py",
     "varRefreshCmd": "print(var_dic_list())"
    },
    "r": {
     "delete_cmd_postfix": ") ",
     "delete_cmd_prefix": "rm(",
     "library": "var_list.r",
     "varRefreshCmd": "cat(var_dic_list()) "
    }
   },
   "types_to_exclude": [
    "module",
    "function",
    "builtin_function_or_method",
    "instance",
    "_Feature"
   ],
   "window_display": false
  }
 },
 "nbformat": 4,
 "nbformat_minor": 2
}
