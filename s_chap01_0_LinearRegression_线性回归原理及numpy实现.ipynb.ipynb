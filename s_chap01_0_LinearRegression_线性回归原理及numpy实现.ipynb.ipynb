{
 "cells": [
  {
   "cell_type": "markdown",
   "metadata": {},
   "source": [
    "**任务描述**\n",
    "> 本关任务：掌握线性回归的算法原理，用线性回归算法对测试集进行预测。\n",
    "\n",
    "\n",
    "**相关知识**\n",
    "\n",
    "# 1.线性回归原理\n",
    "## 简单线性回归\n",
    "\n",
    "> + 在生活中，我们常常能碰到这么一种情况，一个变量会跟着另一个变量的变化而变化，如圆的周长与半径的关系，当圆的半径确定了，那么周长也就确定了。还有一种情况就是，两个变量之间看似存在某种关系，但又没那么确定，如青少年的身高与体重，他们存在一种近似的**线性**关系：\n",
    ">> + *身高/cm = 体重/kg +105*\n",
    "> + 但是，并不是每个青少年都符合这个公式，只能说每个青少年的身高体重都存在这么一种近似的线性关系。那么，到底什么是线性回归呢？\n",
    "> + 假如我们将青少年的身高和体重值作为坐标，不同人的身高体重就会在平面上构成不同的坐标点，然后用一条直线，尽可能的去拟合这些点，这就是简单的**线性回归**。\n",
    "> <img src=\"./imgs/chap01/linearRegression1.png\"  width=50%>\n",
    "\n",
    "> + 简单的线性回归模型如下：\n",
    ">>  $$y=wx+b$$\n",
    "> 其中 $x$ 表示特征值(如：体重值)，$w$ 表示权重，$b$ 表示偏置，$y$ 表示标签(如：身高值)。\n",
    "\n",
    "## 多元线性回归\n",
    "\n",
    "> + 在简单线性回归中，一个变量会随另一个变量的变化而变化。但是生活中，还有很多变量，可能会随多个变量的变化而变化，比如房价，影响它的因素可能有：房屋面积、地理位置等等。\n",
    "> + 如果我们要给它们建立出近似的线性关系，就需要使用**多元线性回归**，多元线性回归模型如下：\n",
    ">> + $$y=b+w_1x_1+w_2x_2+...+w_nx_n$$\n",
    "> + 其中 $x_i$ 表示第 $i$ 个特征值，$w_i$ 表示第 $i$ 个特征对应的权重，$b$ 表示偏置，$y$ 表示标签。\n",
    "\n",
    "> + 多元线性回归模型还有另一种等价的表达形式：\n",
    ">> + $$y=\\theta_0x_0+\\theta_1x_1+\\theta_2x_2+...+\\theta_nx_n$$\n",
    "> + 即令 $x_0=1$，则 $\\theta_0$ 相当于偏执 $b$。\n",
    "\n",
    "> + 对线性回归模型，假设训练集中 有`m` 个样本，每个样本有 `n` 个特征，可以采用矩阵的表示方法，则多元线性回归模型还可以表示为：\n",
    ">> + $$Y=\\theta X$$\n",
    "> + 其中$\\theta=(\\theta_0,\\theta_1,\\theta_2,...,\\theta_n)^T$。\n",
    "\n",
    "> + 其损失函数可以表示为：\n",
    ">> + $$J(\\theta)=(Y-\\hat{Y})^2=(Y-\\theta X)^2=(Y-\\theta X)^T(Y-\\theta X)$$\n",
    "> + 其中，标签 $Y$ 为 `(m,1)` 的矩阵，训练特征 $X$ 为 `(m,n+1)` 的矩阵(**列数为n+1，是因为需要添加一列 $x_0$， 并且这一列的值都为 1**)，回归系数 $\\theta$ 为 `(n+1,1)` 的矩阵。\n",
    "> + 对于多元线性回归模型中矩阵的计算，可利用下图辅助理解：\n",
    ">> + <img src=\"./imgs/chap01/Fig01_01_回归矩阵.png\"  width=50%>\n",
    "\n",
    "> + 我们的目的是求使得$min(J(\\theta))$的$\\theta$,所以需要对 $\\theta$ 求导，并令其导数等于 0 ，可以得到 $X^T(Y-\\theta X)=0$。所以，最优解为：\n",
    ">> + $$\\theta = (X^TX)^{-1}X^TY$$\n",
    "> + 这个就是正规方程解，我们可以通过最优方程解，直接求得我们所需要的参数 $\\theta$。\n"
   ]
  },
  {
   "cell_type": "markdown",
   "metadata": {},
   "source": [
    "在算法中，经常会用到矩阵知识，为了让大家回顾矩阵相乘的知识，对矩阵有更好的了解，下面是一个矩阵应用的案例。\n",
    "\n",
    "# 2.矩阵应用举例\n",
    "> + 某公司有四个工厂，分布在不同地区，同时生产三种产品，如下表所示：\n",
    "\n",
    "|工厂\\产品|P1|P2|P3|\n",
    "|:---:|:---:|:---:|:---:|\n",
    "|甲| 5 | 2 | 4 |\n",
    "|乙|3|8|2|\n",
    "|丙|6|0|4|\n",
    "|丁|0|1|6|\n",
    "\n",
    "\n",
    "> 其中，四行分别表示甲乙丙丁四个工厂的生产情况，三列分别表示三种产品 P1、P2、P3 的产量。<br>\n",
    "> 可以用矩阵表示为 A=$\\begin{pmatrix}5 & 2 &4\\\\ 3 & 8&2\\\\6&0&4\\\\0&1&6 \\end{pmatrix}$。<br>\n",
    "> + 再设矩阵 B=$\\begin{pmatrix}2 & 4\\\\ 1 & 3\\\\3&2 \\end{pmatrix}$，其中第一列表示三种产品的单件利润，第二列表示三种产品的单件体积。<br>\n",
    "> C = AB = $\\begin{pmatrix}5 & 2 &4\\\\ 3 & 8&2\\\\6&0&4\\\\0&1&6 \\end{pmatrix}$$\\begin{pmatrix}2 & 4\\\\ 1 & 3\\\\3&2 \\end{pmatrix}$ = $\\begin{pmatrix}24 & 44 \\\\ 20 & 40\\\\24&32\\\\19&15 \\end{pmatrix}$\n",
    "> 矩阵 C，是由矩阵 A 与矩阵 B 相乘得到的。矩阵 C 的第一列数据分别表示四个工厂的利润，第二列分别表示四个工厂需要的存储空间。\n",
    "\n",
    "> 以上是简单的矩阵乘法，手算比较麻烦，可以通过 numpy 直接实现矩阵的乘法。<br>\n",
    "在算法的实现代码里，会用到了很多 numpy 的知识，下面介绍一些在算法代码中将要用到的 numpy 基础知识。\n",
    "\n",
    "# 3.numpy基础知识"
   ]
  },
  {
   "cell_type": "markdown",
   "metadata": {},
   "source": [
    "**(1) 生成矩阵(matrix)** "
   ]
  },
  {
   "cell_type": "code",
   "execution_count": 2,
   "metadata": {},
   "outputs": [
    {
     "name": "stdout",
     "output_type": "stream",
     "text": [
      "[[5 2 4]\n",
      " [3 8 2]\n",
      " [6 0 4]\n",
      " [0 1 6]]\n",
      "--------\n",
      "[[2 4]\n",
      " [1 3]\n",
      " [3 2]]\n"
     ]
    }
   ],
   "source": [
    "# np.mat用于生成矩阵\n",
    "# 生成两个矩阵\n",
    "import numpy as np\n",
    "A= np.mat([[5,2,4],\n",
    "           [3,8,2],\n",
    "           [6,0,4],\n",
    "           [0,1,6]]) # 创建矩阵A\n",
    "B=np.mat([[2,4],\n",
    "           [1,3],\n",
    "           [3,2]]) # 创建矩阵B\n",
    "print(A)\n",
    "print('--------')\n",
    "print(B)"
   ]
  },
  {
   "cell_type": "markdown",
   "metadata": {},
   "source": [
    "**(2) 求转置** "
   ]
  },
  {
   "cell_type": "code",
   "execution_count": 3,
   "metadata": {},
   "outputs": [
    {
     "data": {
      "text/plain": [
       "matrix([[5, 3, 6, 0],\n",
       "        [2, 8, 0, 1],\n",
       "        [4, 2, 4, 6]])"
      ]
     },
     "execution_count": 3,
     "metadata": {},
     "output_type": "execute_result"
    }
   ],
   "source": [
    "# .T可以得到矩阵A的转置\n",
    "A.T"
   ]
  },
  {
   "cell_type": "markdown",
   "metadata": {},
   "source": [
    "可以看出行和列进行了转换。"
   ]
  },
  {
   "cell_type": "markdown",
   "metadata": {},
   "source": [
    "**(3) 矩阵乘** "
   ]
  },
  {
   "cell_type": "code",
   "execution_count": 4,
   "metadata": {},
   "outputs": [
    {
     "data": {
      "text/plain": [
       "matrix([[24, 34],\n",
       "        [20, 40],\n",
       "        [24, 32],\n",
       "        [19, 15]])"
      ]
     },
     "execution_count": 4,
     "metadata": {},
     "output_type": "execute_result"
    }
   ],
   "source": [
    "# *可以实现矩阵A与B的乘法\n",
    "A*B"
   ]
  },
  {
   "cell_type": "code",
   "execution_count": 5,
   "metadata": {},
   "outputs": [
    {
     "ename": "SyntaxError",
     "evalue": "invalid syntax (<ipython-input-5-19fca16381f9>, line 1)",
     "output_type": "error",
     "traceback": [
      "\u001b[1;36m  File \u001b[1;32m\"<ipython-input-5-19fca16381f9>\"\u001b[1;36m, line \u001b[1;32m1\u001b[0m\n\u001b[1;33m    **(4) 求逆矩阵**\u001b[0m\n\u001b[1;37m     ^\u001b[0m\n\u001b[1;31mSyntaxError\u001b[0m\u001b[1;31m:\u001b[0m invalid syntax\n"
     ]
    }
   ],
   "source": [
    "**(4) 求逆矩阵** "
   ]
  },
  {
   "cell_type": "code",
   "execution_count": 6,
   "metadata": {},
   "outputs": [
    {
     "name": "stdout",
     "output_type": "stream",
     "text": [
      "[[1 2 3]\n",
      " [2 2 3]\n",
      " [2 3 4]]\n",
      "--------\n"
     ]
    },
    {
     "data": {
      "text/plain": [
       "matrix([[-1.,  1.,  0.],\n",
       "        [-2., -2.,  3.],\n",
       "        [ 2.,  1., -2.]])"
      ]
     },
     "execution_count": 6,
     "metadata": {},
     "output_type": "execute_result"
    }
   ],
   "source": [
    " #定义一个方阵\n",
    "m = np.mat([[1,2,3], [2,2,3], [2,3,4]])  \n",
    "print(m)\n",
    "print('--------')\n",
    "# .I用于求矩阵的逆矩阵\n",
    "m.I\n"
   ]
  },
  {
   "cell_type": "code",
   "execution_count": 7,
   "metadata": {},
   "outputs": [
    {
     "data": {
      "text/plain": [
       "matrix([[1., 0., 0.],\n",
       "        [0., 1., 0.],\n",
       "        [0., 0., 1.]])"
      ]
     },
     "execution_count": 7,
     "metadata": {},
     "output_type": "execute_result"
    }
   ],
   "source": [
    "#由矩阵知识，可知一个矩阵和它的逆矩阵相乘，会得到一个单位矩阵\n",
    "m*m.I"
   ]
  },
  {
   "cell_type": "markdown",
   "metadata": {},
   "source": [
    "↑`m*m.I`得到的是单位矩阵，说明`m.I`确实是`m`的逆矩阵"
   ]
  },
  {
   "cell_type": "markdown",
   "metadata": {},
   "source": [
    "**(5) 计算行列式** \n",
    "\n",
    "> + <img src=\"./imgs/chap01/Fig01_02_矩阵行列式.png\"  width=50%>"
   ]
  },
  {
   "cell_type": "code",
   "execution_count": 8,
   "metadata": {},
   "outputs": [
    {
     "data": {
      "text/plain": [
       "array([ 0,  1,  2,  3,  4,  5,  6,  7,  8,  9, 10, 11, 12, 13, 14, 15, 16,\n",
       "       17, 18, 19])"
      ]
     },
     "execution_count": 8,
     "metadata": {},
     "output_type": "execute_result"
    }
   ],
   "source": [
    "#把0-20（左闭右开）形成一个一维数组\n",
    "np.arange(20)"
   ]
  },
  {
   "cell_type": "code",
   "execution_count": 9,
   "metadata": {},
   "outputs": [
    {
     "data": {
      "text/plain": [
       "array([[[ 0,  1],\n",
       "        [ 2,  3]],\n",
       "\n",
       "       [[ 4,  5],\n",
       "        [ 6,  7]],\n",
       "\n",
       "       [[ 8,  9],\n",
       "        [10, 11]],\n",
       "\n",
       "       [[12, 13],\n",
       "        [14, 15]],\n",
       "\n",
       "       [[16, 17],\n",
       "        [18, 19]]])"
      ]
     },
     "execution_count": 9,
     "metadata": {},
     "output_type": "execute_result"
    }
   ],
   "source": [
    "#np.reshape(np.arange(20),(5,2,2))把np.arange(20)变成（5（个），2（行），2（列））5个二位数组（2*2矩阵）\n",
    "a = np.reshape(np.arange(20),(5,2,2))\n",
    "a"
   ]
  },
  {
   "cell_type": "code",
   "execution_count": 10,
   "metadata": {},
   "outputs": [
    {
     "name": "stdout",
     "output_type": "stream",
     "text": [
      "[[[ 0  1]\n",
      "  [ 2  3]]\n",
      "\n",
      " [[ 4  5]\n",
      "  [ 6  7]]\n",
      "\n",
      " [[ 8  9]\n",
      "  [10 11]]\n",
      "\n",
      " [[12 13]\n",
      "  [14 15]]\n",
      "\n",
      " [[16 17]\n",
      "  [18 19]]]\n",
      "--------\n",
      "[-2. -2. -2. -2. -2.]\n"
     ]
    }
   ],
   "source": [
    "#numpy.linalg.det() 可以计算数组的行列式/linalag（线性代数）det（行列式）\n",
    "a = np.reshape(np.arange(20),(5,2,2))\n",
    "b = np.linalg.det(a)\n",
    "print(a)\n",
    "print('--------')\n",
    "print(b)"
   ]
  },
  {
   "cell_type": "markdown",
   "metadata": {},
   "source": [
    "# 4.线性回归的实现代码\n",
    "\n",
    ">  + 正规方程解： $$\\theta = (X^TX)^{-1}X^TY$$\n",
    ">  + 预测值求解：$$Y=\\theta X$$\n"
   ]
  },
  {
   "cell_type": "code",
   "execution_count": 11,
   "metadata": {},
   "outputs": [],
   "source": [
    "# 定义类LinearRegression\n",
    "class LinearRegression :\n",
    "    # 初始化线性回归模型\n",
    "    def __init__(self):\n",
    "        self.theta = None\n",
    "        \n",
    "    # 通过代码实现theta的求解    \n",
    "    def fit(self,xArr,yArr):\n",
    "        '''\n",
    "        input:xArr(ndarray): 特征向量，m行n列，即m个样本，n个特征\n",
    "              yArr(ndarray): 标签值，1行m列，及m个标签，注意：做矩阵乘时需转成m行1列\n",
    "        output:无\n",
    "        '''\n",
    "        #s1：将xArr数据转化为矩阵xMat\n",
    "        xMat=np.mat(xArr)\n",
    "        \n",
    "        #s2：将yArr数据转化为矩阵并进行转置成矩阵yMat\n",
    "        yMat=np.mat(yArr).T   \n",
    "        #s3： 矩阵xMat.T与xMat做矩阵乘得到xTx\n",
    "        xTx=xMat.T*xMat\n",
    "              \n",
    "        #s4：判断矩阵xTx是否是奇异矩阵\n",
    "        if np.linalg.det(xTx) == 0.0:\n",
    "            print(\"这个矩阵是奇异的，不可求逆\")\n",
    "            return\n",
    "        #s5：根据最优解的求解公式，求theta值，应该为n行1列\n",
    "        self.theta =(xTx.I)*(xMat.T*yMat)\n",
    "    \n",
    "    # 对测试数据进行预测\n",
    "    def predict(self,test_data):\n",
    "        '''\n",
    "        input:test_data(ndarray):测试样本，m行n列，即m个样本，n个特征\n",
    "        output:predict(matrix):预测结果，应该为m行1列的矩阵\n",
    "        '''        \n",
    "        #s1：将test_data数据转化为矩阵\n",
    "        test_data=np.mat(test_data)\n",
    "        #s2：通过得到的theta值，对数据进行预测，结果为m行1列的矩阵\n",
    "        y_predict =test_data*self.theta  \n",
    "        return y_predict"
   ]
  },
  {
   "cell_type": "markdown",
   "metadata": {},
   "source": [
    "# 5.案例应用\n",
    "\n",
    "## 读取数据\n",
    "> `file_path = \"./dataSets/dataTest1.csv\"`"
   ]
  },
  {
   "cell_type": "code",
   "execution_count": 22,
   "metadata": {},
   "outputs": [
    {
     "data": {
      "text/html": [
       "<div>\n",
       "<style scoped>\n",
       "    .dataframe tbody tr th:only-of-type {\n",
       "        vertical-align: middle;\n",
       "    }\n",
       "\n",
       "    .dataframe tbody tr th {\n",
       "        vertical-align: top;\n",
       "    }\n",
       "\n",
       "    .dataframe thead th {\n",
       "        text-align: right;\n",
       "    }\n",
       "</style>\n",
       "<table border=\"1\" class=\"dataframe\">\n",
       "  <thead>\n",
       "    <tr style=\"text-align: right;\">\n",
       "      <th></th>\n",
       "      <th>0</th>\n",
       "      <th>1</th>\n",
       "      <th>2</th>\n",
       "    </tr>\n",
       "  </thead>\n",
       "  <tbody>\n",
       "    <tr>\n",
       "      <td>0</td>\n",
       "      <td>1</td>\n",
       "      <td>0.067732</td>\n",
       "      <td>3.176513</td>\n",
       "    </tr>\n",
       "    <tr>\n",
       "      <td>1</td>\n",
       "      <td>1</td>\n",
       "      <td>0.427810</td>\n",
       "      <td>3.816464</td>\n",
       "    </tr>\n",
       "    <tr>\n",
       "      <td>2</td>\n",
       "      <td>1</td>\n",
       "      <td>0.995731</td>\n",
       "      <td>4.550095</td>\n",
       "    </tr>\n",
       "    <tr>\n",
       "      <td>3</td>\n",
       "      <td>1</td>\n",
       "      <td>0.738336</td>\n",
       "      <td>4.256571</td>\n",
       "    </tr>\n",
       "    <tr>\n",
       "      <td>4</td>\n",
       "      <td>1</td>\n",
       "      <td>0.981083</td>\n",
       "      <td>4.560815</td>\n",
       "    </tr>\n",
       "  </tbody>\n",
       "</table>\n",
       "</div>"
      ],
      "text/plain": [
       "   0         1         2\n",
       "0  1  0.067732  3.176513\n",
       "1  1  0.427810  3.816464\n",
       "2  1  0.995731  4.550095\n",
       "3  1  0.738336  4.256571\n",
       "4  1  0.981083  4.560815"
      ]
     },
     "execution_count": 22,
     "metadata": {},
     "output_type": "execute_result"
    }
   ],
   "source": [
    "# 读取数据\n",
    "import pandas as pd\n",
    "file_path = \"./dataSets/dataTest1.csv\"\n",
    "#filepath：文件地址，相对地址或者绝对地址\n",
    "#header：默认为None，即认为文件不包含列名，并以数字开始设置列名\n",
    "data1 = pd.read_csv(file_path,header=None)\n",
    "\n",
    "# 查看数据前5行\n",
    "data1.head()\n",
    "\n"
   ]
  },
  {
   "cell_type": "markdown",
   "metadata": {},
   "source": [
    "↑从数据可以看出，第一列的值总是等于1，对应的就是线性回归里的$x_0$；第二列的值相当于线性回归里的$x_1$；第三列的值相当于线性回归里的$y4。\n",
    "\n",
    "## 查看数据大小"
   ]
  },
  {
   "cell_type": "code",
   "execution_count": 23,
   "metadata": {},
   "outputs": [
    {
     "data": {
      "text/plain": [
       "0    0.067732\n",
       "1    0.427810\n",
       "2    0.995731\n",
       "3    0.738336\n",
       "4    0.981083\n",
       "Name: 1, dtype: float64"
      ]
     },
     "execution_count": 23,
     "metadata": {},
     "output_type": "execute_result"
    }
   ],
   "source": [
    "data1.iloc[:,1].head()"
   ]
  },
  {
   "cell_type": "code",
   "execution_count": 24,
   "metadata": {},
   "outputs": [
    {
     "data": {
      "text/plain": [
       "(200, 3)"
      ]
     },
     "execution_count": 24,
     "metadata": {},
     "output_type": "execute_result"
    }
   ],
   "source": [
    "# 查看数据大小\n",
    "data1.shape"
   ]
  },
  {
   "cell_type": "markdown",
   "metadata": {},
   "source": [
    "## 通过图形查看数据"
   ]
  },
  {
   "cell_type": "code",
   "execution_count": 25,
   "metadata": {},
   "outputs": [
    {
     "data": {
      "text/plain": [
       "<matplotlib.collections.PathCollection at 0x2f37536da08>"
      ]
     },
     "execution_count": 25,
     "metadata": {},
     "output_type": "execute_result"
    },
    {
     "data": {
      "image/png": "[encoded data removed]",
      "text/plain": [
       "<Figure size 432x288 with 1 Axes>"
      ]
     },
     "metadata": {
      "needs_background": "light"
     },
     "output_type": "display_data"
    }
   ],
   "source": [
    "#导入画图模块\n",
    "import matplotlib.pyplot as plt\n",
    "#在线显示\n",
    "%matplotlib inline\n",
    "#展示数据\n",
    "x_data1 = data1.iloc[:,1]\n",
    "y_data1 = data1.iloc[:,2]\n",
    "# 制作散点图\n",
    "plt.scatter(x_data1,y_data1)"
   ]
  },
  {
   "cell_type": "markdown",
   "metadata": {},
   "source": [
    "↑ 通过图形可以看出，$y$值大致随着$x$的增长呈现线性增长的趋势。"
   ]
  },
  {
   "cell_type": "markdown",
   "metadata": {},
   "source": [
    "## 提取特征值和真实值"
   ]
  },
  {
   "cell_type": "code",
   "execution_count": 33,
   "metadata": {},
   "outputs": [
    {
     "data": {
      "text/plain": [
       "array([[1.      , 0.067732],\n",
       "       [1.      , 0.42781 ],\n",
       "       [1.      , 0.995731],\n",
       "       [1.      , 0.738336],\n",
       "       [1.      , 0.981083],\n",
       "       [1.      , 0.526171],\n",
       "       [1.      , 0.378887],\n",
       "       [1.      , 0.033859],\n",
       "       [1.      , 0.132791],\n",
       "       [1.      , 0.138306],\n",
       "       [1.      , 0.247809],\n",
       "       [1.      , 0.64827 ],\n",
       "       [1.      , 0.731209],\n",
       "       [1.      , 0.236833],\n",
       "       [1.      , 0.969788],\n",
       "       [1.      , 0.607492],\n",
       "       [1.      , 0.358622],\n",
       "       [1.      , 0.147846],\n",
       "       [1.      , 0.63782 ],\n",
       "       [1.      , 0.230372],\n",
       "       [1.      , 0.070237],\n",
       "       [1.      , 0.067154],\n",
       "       [1.      , 0.925577],\n",
       "       [1.      , 0.717733],\n",
       "       [1.      , 0.015371],\n",
       "       [1.      , 0.33507 ],\n",
       "       [1.      , 0.040486],\n",
       "       [1.      , 0.212575],\n",
       "       [1.      , 0.617218],\n",
       "       [1.      , 0.541196],\n",
       "       [1.      , 0.045353],\n",
       "       [1.      , 0.126762],\n",
       "       [1.      , 0.556486],\n",
       "       [1.      , 0.901144],\n",
       "       [1.      , 0.958476],\n",
       "       [1.      , 0.274561],\n",
       "       [1.      , 0.394396],\n",
       "       [1.      , 0.87248 ],\n",
       "       [1.      , 0.409932],\n",
       "       [1.      , 0.908969],\n",
       "       [1.      , 0.166819],\n",
       "       [1.      , 0.665016],\n",
       "       [1.      , 0.263727],\n",
       "       [1.      , 0.231214],\n",
       "       [1.      , 0.552928],\n",
       "       [1.      , 0.047744],\n",
       "       [1.      , 0.365746],\n",
       "       [1.      , 0.495002],\n",
       "       [1.      , 0.493466],\n",
       "       [1.      , 0.792101],\n",
       "       [1.      , 0.76966 ],\n",
       "       [1.      , 0.251821],\n",
       "       [1.      , 0.181951],\n",
       "       [1.      , 0.808177],\n",
       "       [1.      , 0.334116],\n",
       "       [1.      , 0.33863 ],\n",
       "       [1.      , 0.452584],\n",
       "       [1.      , 0.69477 ],\n",
       "       [1.      , 0.590902],\n",
       "       [1.      , 0.307928],\n",
       "       [1.      , 0.148364],\n",
       "       [1.      , 0.70218 ],\n",
       "       [1.      , 0.721544],\n",
       "       [1.      , 0.666886],\n",
       "       [1.      , 0.124931],\n",
       "       [1.      , 0.618286],\n",
       "       [1.      , 0.381086],\n",
       "       [1.      , 0.385643],\n",
       "       [1.      , 0.777175],\n",
       "       [1.      , 0.116089],\n",
       "       [1.      , 0.115487],\n",
       "       [1.      , 0.66351 ],\n",
       "       [1.      , 0.254884],\n",
       "       [1.      , 0.993888],\n",
       "       [1.      , 0.295434],\n",
       "       [1.      , 0.952523],\n",
       "       [1.      , 0.307047],\n",
       "       [1.      , 0.277261],\n",
       "       [1.      , 0.279101],\n",
       "       [1.      , 0.175724],\n",
       "       [1.      , 0.156383],\n",
       "       [1.      , 0.733165],\n",
       "       [1.      , 0.848142],\n",
       "       [1.      , 0.771184],\n",
       "       [1.      , 0.429492],\n",
       "       [1.      , 0.162176],\n",
       "       [1.      , 0.917064],\n",
       "       [1.      , 0.315044],\n",
       "       [1.      , 0.201473],\n",
       "       [1.      , 0.297038],\n",
       "       [1.      , 0.336647],\n",
       "       [1.      , 0.666109],\n",
       "       [1.      , 0.583888],\n",
       "       [1.      , 0.085031],\n",
       "       [1.      , 0.687006],\n",
       "       [1.      , 0.949655],\n",
       "       [1.      , 0.189912],\n",
       "       [1.      , 0.844027],\n",
       "       [1.      , 0.333288],\n",
       "       [1.      , 0.427035],\n",
       "       [1.      , 0.466369],\n",
       "       [1.      , 0.550659],\n",
       "       [1.      , 0.278213],\n",
       "       [1.      , 0.918769],\n",
       "       [1.      , 0.886555],\n",
       "       [1.      , 0.569488],\n",
       "       [1.      , 0.066379],\n",
       "       [1.      , 0.335751],\n",
       "       [1.      , 0.426863],\n",
       "       [1.      , 0.395746],\n",
       "       [1.      , 0.694221],\n",
       "       [1.      , 0.27276 ],\n",
       "       [1.      , 0.503495],\n",
       "       [1.      , 0.067119],\n",
       "       [1.      , 0.038326],\n",
       "       [1.      , 0.599122],\n",
       "       [1.      , 0.947054],\n",
       "       [1.      , 0.671279],\n",
       "       [1.      , 0.434811],\n",
       "       [1.      , 0.509381],\n",
       "       [1.      , 0.749442],\n",
       "       [1.      , 0.058014],\n",
       "       [1.      , 0.482978],\n",
       "       [1.      , 0.466776],\n",
       "       [1.      , 0.357767],\n",
       "       [1.      , 0.949123],\n",
       "       [1.      , 0.41732 ],\n",
       "       [1.      , 0.920461],\n",
       "       [1.      , 0.156433],\n",
       "       [1.      , 0.656662],\n",
       "       [1.      , 0.616418],\n",
       "       [1.      , 0.853428],\n",
       "       [1.      , 0.133295],\n",
       "       [1.      , 0.693007],\n",
       "       [1.      , 0.178449],\n",
       "       [1.      , 0.199526],\n",
       "       [1.      , 0.073224],\n",
       "       [1.      , 0.286515],\n",
       "       [1.      , 0.182026],\n",
       "       [1.      , 0.621523],\n",
       "       [1.      , 0.344584],\n",
       "       [1.      , 0.398556],\n",
       "       [1.      , 0.480369],\n",
       "       [1.      , 0.15335 ],\n",
       "       [1.      , 0.171846],\n",
       "       [1.      , 0.867082],\n",
       "       [1.      , 0.223855],\n",
       "       [1.      , 0.528301],\n",
       "       [1.      , 0.890192],\n",
       "       [1.      , 0.106352],\n",
       "       [1.      , 0.917886],\n",
       "       [1.      , 0.014855],\n",
       "       [1.      , 0.567682],\n",
       "       [1.      , 0.068854],\n",
       "       [1.      , 0.603535],\n",
       "       [1.      , 0.53205 ],\n",
       "       [1.      , 0.651362],\n",
       "       [1.      , 0.901225],\n",
       "       [1.      , 0.204337],\n",
       "       [1.      , 0.696081],\n",
       "       [1.      , 0.963924],\n",
       "       [1.      , 0.98139 ],\n",
       "       [1.      , 0.987911],\n",
       "       [1.      , 0.990947],\n",
       "       [1.      , 0.736021],\n",
       "       [1.      , 0.253574],\n",
       "       [1.      , 0.674722],\n",
       "       [1.      , 0.939368],\n",
       "       [1.      , 0.235419],\n",
       "       [1.      , 0.110521],\n",
       "       [1.      , 0.218023],\n",
       "       [1.      , 0.869778],\n",
       "       [1.      , 0.19683 ],\n",
       "       [1.      , 0.958178],\n",
       "       [1.      , 0.972673],\n",
       "       [1.      , 0.745797],\n",
       "       [1.      , 0.445674],\n",
       "       [1.      , 0.470557],\n",
       "       [1.      , 0.549236],\n",
       "       [1.      , 0.335691],\n",
       "       [1.      , 0.884739],\n",
       "       [1.      , 0.918916],\n",
       "       [1.      , 0.441815],\n",
       "       [1.      , 0.116598],\n",
       "       [1.      , 0.359274],\n",
       "       [1.      , 0.814811],\n",
       "       [1.      , 0.387125],\n",
       "       [1.      , 0.982243],\n",
       "       [1.      , 0.78088 ],\n",
       "       [1.      , 0.652565],\n",
       "       [1.      , 0.87003 ],\n",
       "       [1.      , 0.604755],\n",
       "       [1.      , 0.255212],\n",
       "       [1.      , 0.730546],\n",
       "       [1.      , 0.493829],\n",
       "       [1.      , 0.257017],\n",
       "       [1.      , 0.833735],\n",
       "       [1.      , 0.070095],\n",
       "       [1.      , 0.52707 ],\n",
       "       [1.      , 0.116163]])"
      ]
     },
     "execution_count": 33,
     "metadata": {},
     "output_type": "execute_result"
    }
   ],
   "source": [
    "X = data1.iloc[:,:-1].values\n",
    "X"
   ]
  },
  {
   "cell_type": "code",
   "execution_count": 34,
   "metadata": {},
   "outputs": [],
   "source": [
    "#提取特征值\n",
    "#所有行的，所有列除去最后一列（-1）\n",
    "X = data1.iloc[:,:-1].values\n",
    "#提取标签值\n",
    "y = data1.iloc[:,-1].values"
   ]
  },
  {
   "cell_type": "markdown",
   "metadata": {},
   "source": [
    "## 建立模型，并训练模型"
   ]
  },
  {
   "cell_type": "code",
   "execution_count": 49,
   "metadata": {},
   "outputs": [],
   "source": [
    "# 建立模型\n",
    "lr = LinearRegression()\n",
    "# 训练模型\n",
    "lr.fit(X,y)\n"
   ]
  },
  {
   "cell_type": "markdown",
   "metadata": {},
   "source": [
    "## 对数据进行预测"
   ]
  },
  {
   "cell_type": "code",
   "execution_count": 40,
   "metadata": {},
   "outputs": [
    {
     "name": "stdout",
     "output_type": "stream",
     "text": [
      "[[3.12257084]\n",
      " [3.73301922]\n",
      " [4.69582855]\n",
      " [4.25946098]\n",
      " [4.67099547]\n",
      " [3.89977285]\n",
      " [3.65007895]\n",
      " [3.06514517]\n",
      " [3.23286683]\n",
      " [3.24221654]]\n"
     ]
    }
   ],
   "source": [
    "#为了求拟合曲线，因此使用原始数据进行预测\n",
    "y_predict =lr.predict(X)\n",
    "\n",
    "#查看预测的前10条数据\n",
    "print(y_predict[:10])"
   ]
  },
  {
   "cell_type": "markdown",
   "metadata": {},
   "source": [
    "## 通过图形查看拟合效果"
   ]
  },
  {
   "cell_type": "code",
   "execution_count": 42,
   "metadata": {},
   "outputs": [
    {
     "data": {
      "text/plain": [
       "[<matplotlib.lines.Line2D at 0x20c6abb38c8>]"
      ]
     },
     "execution_count": 42,
     "metadata": {},
     "output_type": "execute_result"
    },
    {
     "data": {
      "image/png": "[encoded data removed]",
      "text/plain": [
       "<Figure size 432x288 with 1 Axes>"
      ]
     },
     "metadata": {
      "needs_background": "light"
     },
     "output_type": "display_data"
    }
   ],
   "source": [
    "# 绘制原始数据的散点图\n",
    "x_data1 = data1.iloc[:,1]\n",
    "y_data1 = data1.iloc[:,2]\n",
    "plt.scatter(x_data1,y_data1)\n",
    "\n",
    "# 绘制预测数据y_predict的折线图，color='black'\n",
    "plt.plot(x_data1,y_predict,color='black')"
   ]
  },
  {
   "cell_type": "markdown",
   "metadata": {},
   "source": [
    "↑ 图中，蓝色的点为真实值，黑色的线为拟合直线。"
   ]
  },
  {
   "cell_type": "markdown",
   "metadata": {},
   "source": [
    "# 作业\n",
    "> 编程要求\n",
    ">> 通过 `pd.read_csv` 读取右侧数据集 `dataTest2.csv (file_path2 = \"./dataSets/dataTest2.csv\")`， <br> 根据每一步的提示，完成相应代码，依次完成读取数据，提取特征值和标签值，建立模型，并训练模型，对数据进行预测，通过图形查看拟合效果。\n",
    "\n",
    "> 说明：数据集由 3 列构成，第一列相当于 x0，第二列相当于 x1，第三列相当于 y。"
   ]
  },
  {
   "cell_type": "code",
   "execution_count": 4,
   "metadata": {},
   "outputs": [
    {
     "data": {
      "text/html": [
       "<div>\n",
       "<style scoped>\n",
       "    .dataframe tbody tr th:only-of-type {\n",
       "        vertical-align: middle;\n",
       "    }\n",
       "\n",
       "    .dataframe tbody tr th {\n",
       "        vertical-align: top;\n",
       "    }\n",
       "\n",
       "    .dataframe thead th {\n",
       "        text-align: right;\n",
       "    }\n",
       "</style>\n",
       "<table border=\"1\" class=\"dataframe\">\n",
       "  <thead>\n",
       "    <tr style=\"text-align: right;\">\n",
       "      <th></th>\n",
       "      <th>0</th>\n",
       "      <th>1</th>\n",
       "      <th>2</th>\n",
       "    </tr>\n",
       "  </thead>\n",
       "  <tbody>\n",
       "    <tr>\n",
       "      <td>0</td>\n",
       "      <td>1</td>\n",
       "      <td>0</td>\n",
       "      <td>2.339079</td>\n",
       "    </tr>\n",
       "    <tr>\n",
       "      <td>1</td>\n",
       "      <td>1</td>\n",
       "      <td>1</td>\n",
       "      <td>-1.169310</td>\n",
       "    </tr>\n",
       "    <tr>\n",
       "      <td>2</td>\n",
       "      <td>1</td>\n",
       "      <td>2</td>\n",
       "      <td>1.553359</td>\n",
       "    </tr>\n",
       "    <tr>\n",
       "      <td>3</td>\n",
       "      <td>1</td>\n",
       "      <td>3</td>\n",
       "      <td>7.005153</td>\n",
       "    </tr>\n",
       "    <tr>\n",
       "      <td>4</td>\n",
       "      <td>1</td>\n",
       "      <td>4</td>\n",
       "      <td>8.902781</td>\n",
       "    </tr>\n",
       "  </tbody>\n",
       "</table>\n",
       "</div>"
      ],
      "text/plain": [
       "   0  1         2\n",
       "0  1  0  2.339079\n",
       "1  1  1 -1.169310\n",
       "2  1  2  1.553359\n",
       "3  1  3  7.005153\n",
       "4  1  4  8.902781"
      ]
     },
     "execution_count": 4,
     "metadata": {},
     "output_type": "execute_result"
    }
   ],
   "source": [
    "# 补充下面Begin-End区间的代码，实现对数据进行预测\n",
    "########## Begin ##########\n",
    "import numpy as np\n",
    "import pandas as pd\n",
    "file_path2 =\"./dataSets/dataTest2.csv\"\n",
    "# 读取数据\n",
    "data2 = pd.read_csv(file_path2,header=None)\n",
    "# 查看数据前5行\n",
    "data2.head()\n"
   ]
  },
  {
   "cell_type": "code",
   "execution_count": 5,
   "metadata": {},
   "outputs": [
    {
     "data": {
      "text/plain": [
       "(50, 3)"
      ]
     },
     "execution_count": 5,
     "metadata": {},
     "output_type": "execute_result"
    }
   ],
   "source": [
    "# 数据大小\n",
    "data2.shape"
   ]
  },
  {
   "cell_type": "code",
   "execution_count": 6,
   "metadata": {},
   "outputs": [],
   "source": [
    "# 提取特征值X和真实值y\n",
    "X = data2.iloc[:,:-1].values\n",
    "y = data2.iloc[:,-1].values"
   ]
  },
  {
   "cell_type": "code",
   "execution_count": 8,
   "metadata": {},
   "outputs": [],
   "source": [
    "# 建立模型lr\n",
    "lr=LinearRegression()\n",
    "# 训练模型\n",
    "lr.fit(X,y)\n"
   ]
  },
  {
   "cell_type": "code",
   "execution_count": 9,
   "metadata": {},
   "outputs": [
    {
     "name": "stdout",
     "output_type": "stream",
     "text": [
      "[[ 0.96940206]\n",
      " [ 2.4720861 ]\n",
      " [ 3.97477014]\n",
      " [ 5.47745418]\n",
      " [ 6.98013822]\n",
      " [ 8.48282226]\n",
      " [ 9.9855063 ]\n",
      " [11.48819034]\n",
      " [12.99087438]\n",
      " [14.49355842]]\n"
     ]
    }
   ],
   "source": [
    "# 对数据进行预测，为了求拟合曲线，因此使用原始数据进行预测\n",
    "y_pred =lr.predict(X)\n",
    "\n",
    "#查看预测的前10条数据\n",
    "print(y_pred[:10])\n",
    "########## End ##########"
   ]
  },
  {
   "cell_type": "code",
   "execution_count": 34,
   "metadata": {},
   "outputs": [
    {
     "data": {
      "text/plain": [
       "[<matplotlib.lines.Line2D at 0x2f377fcb148>]"
      ]
     },
     "execution_count": 34,
     "metadata": {},
     "output_type": "execute_result"
    },
    {
     "data": {
      "image/png": "[encoded data removed]",
      "text/plain": [
       "<Figure size 432x288 with 1 Axes>"
      ]
     },
     "metadata": {
      "needs_background": "light"
     },
     "output_type": "display_data"
    }
   ],
   "source": [
    "# 通过图形查看拟合效果\n",
    "# 参考案例的画图代码，在下面补充画图代码\n",
    "########## Begin ##########\n",
    "import matplotlib.pyplot as plt\n",
    "# 绘制原始数据的散点图\n",
    "x_data2=data2.iloc[:,1].values\n",
    "y_data2=data2.iloc[:,2].values\n",
    "plt.scatter(x_data2,y_data2)\n",
    "# 绘制预测数据y_pred的折线图，color='black'\n",
    "plt.plot(x_data2,y_pred,color='black')\n",
    "########## End ##########"
   ]
  },
  {
   "cell_type": "code",
   "execution_count": null,
   "metadata": {},
   "outputs": [],
   "source": []
  }
 ],
 "metadata": {
  "kernelspec": {
   "display_name": "Python 3",
   "language": "python",
   "name": "python3"
  },
  "language_info": {
   "codemirror_mode": {
    "name": "ipython",
    "version": 3
   },
   "file_extension": ".py",
   "mimetype": "text/x-python",
   "name": "python",
   "nbconvert_exporter": "python",
   "pygments_lexer": "ipython3",
   "version": "3.7.4"
  },
  "latex_envs": {
   "LaTeX_envs_menu_present": true,
   "autoclose": false,
   "autocomplete": true,
   "bibliofile": "biblio.bib",
   "cite_by": "apalike",
   "current_citInitial": 1,
   "eqLabelWithNumbers": true,
   "eqNumInitial": 1,
   "hotkeys": {
    "equation": "Ctrl-E",
    "itemize": "Ctrl-I"
   },
   "labels_anchors": false,
   "latex_user_defs": false,
   "report_style_numbering": false,
   "user_envs_cfg": false
  },
  "toc": {
   "base_numbering": 1,
   "nav_menu": {},
   "number_sections": true,
   "sideBar": true,
   "skip_h1_title": false,
   "title_cell": "Table of Contents",
   "title_sidebar": "Contents",
   "toc_cell": false,
   "toc_position": {},
   "toc_section_display": true,
   "toc_window_display": false
  },
  "varInspector": {
   "cols": {
    "lenName": 16,
    "lenType": 16,
    "lenVar": 40
   },
   "kernels_config": {
    "python": {
     "delete_cmd_postfix": "",
     "delete_cmd_prefix": "del ",
     "library": "var_list.py",
     "varRefreshCmd": "print(var_dic_list())"
    },
    "r": {
     "delete_cmd_postfix": ") ",
     "delete_cmd_prefix": "rm(",
     "library": "var_list.r",
     "varRefreshCmd": "cat(var_dic_list()) "
    }
   },
   "types_to_exclude": [
    "module",
    "function",
    "builtin_function_or_method",
    "instance",
    "_Feature"
   ],
   "window_display": false
  }
 },
 "nbformat": 4,
 "nbformat_minor": 2
}
