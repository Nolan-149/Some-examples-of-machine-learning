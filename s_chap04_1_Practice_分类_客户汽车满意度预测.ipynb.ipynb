{
 "cells": [
  {
   "cell_type": "markdown",
   "metadata": {},
   "source": [
    "**sklearn04_1_客户汽车满意度预测**\n",
    "> **●案例描述**\n",
    ">> + 本案例为《机器学习实践》课程第四章分类模型配套代码。\n",
    ">> + 数据集Car Evaluation来自UCI，建模前对数据进行了适当的预处理。\n",
    ">> + 从汽车的价格、质量、及舒适度这三个方面的相关数据（详见数据说明）出发，对汽车的客户满意度（简称为汽车满意度）进行分类预测。\n",
    "\n",
    "> **●数据集**\n",
    ">>数据一共包含6个特征，1个类别变量（即汽车满意度），共1728个样本点。<br>\n",
    "▶本地地址：`file_path = \"./dataSets/data_chap4/CarEvaluation.csv\"`<br>\n",
    "▶数据集链接：http://archive.ics.uci.edu/ml/datasets/Car+Evaluation\n",
    "\n",
    "|特征|说明|\n",
    "|-----:|-----:|\n",
    "|buying|购买价格（1：low；2：med；3：high；4：vhigh）|\n",
    "|maint|保养价格（1：low；2：med；3：high；4：vhigh）|\n",
    "|doors|门的个数（1：2；2：3；3：4；4：5more）|\n",
    "|persons|载客数（1：2；2：4；3：more）|\n",
    "|lug_boot|车身的大小（1：small；2：med；3：big）|\n",
    "|safety|安全等级（1：low；2：med；3：high）|\n",
    "|car_acceptability|汽车满意度（1：unacc；0：acc）|"
   ]
  },
  {
   "cell_type": "markdown",
   "metadata": {},
   "source": [
    "**目录** <br>\n",
    "[1. 准备](#1)<br>\n",
    "[2. 逻辑回归](#2)<br>\n",
    "[3. K近邻](#3)<br>\n",
    "[4. 决策树](#4)<br>\n",
    "[5. 朴素贝叶斯](#5)<br>\n",
    "[6. SVM](#6)<br>"
   ]
  },
  {
   "cell_type": "markdown",
   "metadata": {},
   "source": [
    "导入所需库：\n",
    "```python\n",
    "import numpy as np\n",
    "import pandas as pd\n",
    "import matplotlib.pyplot as plt\n",
    "%matplotlib inline\n",
    "import seaborn as sns\n",
    "```"
   ]
  },
  {
   "cell_type": "code",
   "execution_count": 42,
   "metadata": {},
   "outputs": [],
   "source": [
    "# 导入基本库\n",
    "import numpy as np\n",
    "import pandas as pd\n",
    "import matplotlib.pyplot as plt\n",
    "%matplotlib inline\n",
    "import seaborn as sns"
   ]
  },
  {
   "cell_type": "code",
   "execution_count": 43,
   "metadata": {},
   "outputs": [],
   "source": [
    "plt.rcParams['font.sans-serif']=['SimHei']   #用来正常显示中文标签\n",
    "plt.rcParams['axes.unicode_minus']=False     #用来正常显示负号"
   ]
  },
  {
   "cell_type": "markdown",
   "metadata": {},
   "source": [
    "<div id=\"1\"></div>\n",
    "\n",
    "# 1. 准备\n",
    "\n",
    "## 读取数据"
   ]
  },
  {
   "cell_type": "code",
   "execution_count": 44,
   "metadata": {},
   "outputs": [
    {
     "data": {
      "text/html": [
       "<div>\n",
       "<style scoped>\n",
       "    .dataframe tbody tr th:only-of-type {\n",
       "        vertical-align: middle;\n",
       "    }\n",
       "\n",
       "    .dataframe tbody tr th {\n",
       "        vertical-align: top;\n",
       "    }\n",
       "\n",
       "    .dataframe thead th {\n",
       "        text-align: right;\n",
       "    }\n",
       "</style>\n",
       "<table border=\"1\" class=\"dataframe\">\n",
       "  <thead>\n",
       "    <tr style=\"text-align: right;\">\n",
       "      <th></th>\n",
       "      <th>buying</th>\n",
       "      <th>maint</th>\n",
       "      <th>doors</th>\n",
       "      <th>persons</th>\n",
       "      <th>lug_boot</th>\n",
       "      <th>safety</th>\n",
       "      <th>car_acceptability</th>\n",
       "    </tr>\n",
       "  </thead>\n",
       "  <tbody>\n",
       "    <tr>\n",
       "      <td>0</td>\n",
       "      <td>vhigh</td>\n",
       "      <td>vhigh</td>\n",
       "      <td>2</td>\n",
       "      <td>2</td>\n",
       "      <td>small</td>\n",
       "      <td>low</td>\n",
       "      <td>unacc</td>\n",
       "    </tr>\n",
       "    <tr>\n",
       "      <td>1</td>\n",
       "      <td>vhigh</td>\n",
       "      <td>vhigh</td>\n",
       "      <td>2</td>\n",
       "      <td>2</td>\n",
       "      <td>small</td>\n",
       "      <td>med</td>\n",
       "      <td>unacc</td>\n",
       "    </tr>\n",
       "    <tr>\n",
       "      <td>2</td>\n",
       "      <td>vhigh</td>\n",
       "      <td>vhigh</td>\n",
       "      <td>2</td>\n",
       "      <td>2</td>\n",
       "      <td>small</td>\n",
       "      <td>high</td>\n",
       "      <td>unacc</td>\n",
       "    </tr>\n",
       "    <tr>\n",
       "      <td>3</td>\n",
       "      <td>vhigh</td>\n",
       "      <td>vhigh</td>\n",
       "      <td>2</td>\n",
       "      <td>2</td>\n",
       "      <td>med</td>\n",
       "      <td>low</td>\n",
       "      <td>unacc</td>\n",
       "    </tr>\n",
       "    <tr>\n",
       "      <td>4</td>\n",
       "      <td>vhigh</td>\n",
       "      <td>vhigh</td>\n",
       "      <td>2</td>\n",
       "      <td>2</td>\n",
       "      <td>med</td>\n",
       "      <td>med</td>\n",
       "      <td>unacc</td>\n",
       "    </tr>\n",
       "  </tbody>\n",
       "</table>\n",
       "</div>"
      ],
      "text/plain": [
       "  buying  maint doors persons lug_boot safety car_acceptability\n",
       "0  vhigh  vhigh     2       2    small    low             unacc\n",
       "1  vhigh  vhigh     2       2    small    med             unacc\n",
       "2  vhigh  vhigh     2       2    small   high             unacc\n",
       "3  vhigh  vhigh     2       2      med    low             unacc\n",
       "4  vhigh  vhigh     2       2      med    med             unacc"
      ]
     },
     "execution_count": 44,
     "metadata": {},
     "output_type": "execute_result"
    }
   ],
   "source": [
    "## 读取数据\n",
    "file_path = \"./dataSets/data_chap4/CarEvaluation.csv\"\n",
    "raw_data = pd.read_csv(file_path)\n",
    "\n",
    "# 查看前5个样本\n",
    "raw_data.head()"
   ]
  },
  {
   "cell_type": "code",
   "execution_count": 45,
   "metadata": {},
   "outputs": [
    {
     "data": {
      "text/plain": [
       "(1728, 7)"
      ]
     },
     "execution_count": 45,
     "metadata": {},
     "output_type": "execute_result"
    }
   ],
   "source": [
    "# 数据形状\n",
    "raw_data.shape"
   ]
  },
  {
   "cell_type": "code",
   "execution_count": 46,
   "metadata": {},
   "outputs": [
    {
     "name": "stdout",
     "output_type": "stream",
     "text": [
      "<class 'pandas.core.frame.DataFrame'>\n",
      "RangeIndex: 1728 entries, 0 to 1727\n",
      "Data columns (total 7 columns):\n",
      "buying               1728 non-null object\n",
      "maint                1728 non-null object\n",
      "doors                1728 non-null object\n",
      "persons              1728 non-null object\n",
      "lug_boot             1728 non-null object\n",
      "safety               1728 non-null object\n",
      "car_acceptability    1728 non-null object\n",
      "dtypes: object(7)\n",
      "memory usage: 94.6+ KB\n"
     ]
    }
   ],
   "source": [
    "# 查看统计info\n",
    "raw_data.info()"
   ]
  },
  {
   "cell_type": "markdown",
   "metadata": {},
   "source": [
    "↑♎：没有缺失值，所有的类型都为`object(非数值)`,需要对object(非数值)特征进行数值编码，在此之前，先考察一下各个特征的`unique()`值"
   ]
  },
  {
   "cell_type": "code",
   "execution_count": 47,
   "metadata": {},
   "outputs": [
    {
     "data": {
      "text/plain": [
       "{'buying': array(['vhigh', 'high', 'med', 'low'], dtype=object),\n",
       " 'maint': array(['vhigh', 'high', 'med', 'low'], dtype=object),\n",
       " 'doors': array(['2', '3', '4', '5more'], dtype=object),\n",
       " 'persons': array(['2', '4', 'more'], dtype=object),\n",
       " 'lug_boot': array(['small', 'med', 'big'], dtype=object),\n",
       " 'safety': array(['low', 'med', 'high'], dtype=object),\n",
       " 'car_acceptability': array(['unacc', 'acc', 'vgood', 'good'], dtype=object)}"
      ]
     },
     "execution_count": 47,
     "metadata": {},
     "output_type": "execute_result"
    }
   ],
   "source": [
    "# 构建也给字典k:v，用于保存结果，k=特征，v=特征的唯一值\n",
    "unique_data = {}\n",
    "# 取出所有特征名\n",
    "col_s = raw_data.columns\n",
    "# 遍历特征，求unique()\n",
    "#unique()它的功能是元素去重\n",
    "for col in col_s:\n",
    "    unique_data[col]=raw_data[col].unique()\n",
    "\n",
    "\n",
    "unique_data"
   ]
  },
  {
   "cell_type": "markdown",
   "metadata": {},
   "source": [
    "↑♎：`'car_acceptability'`中有4类，但根据项目要求，只预测`'unacc'`和`'acc'`两类，那么该特征中`'vgood'`和`'good'`的都应该属于`acc`。故需要进行`replace()`"
   ]
  },
  {
   "cell_type": "code",
   "execution_count": 48,
   "metadata": {},
   "outputs": [],
   "source": [
    "# 采用映射{\"vgood\":\"acc\",\"good\":\"acc\"}更新特征'car_acceptability'，注意原位操作，即inplace=True\n",
    "raw_data['car_acceptability'].replace({\"vgood\":\"acc\",\"good\":\"acc\"},inplace=True)"
   ]
  },
  {
   "cell_type": "code",
   "execution_count": 49,
   "metadata": {},
   "outputs": [
    {
     "data": {
      "text/plain": [
       "array(['unacc', 'acc'], dtype=object)"
      ]
     },
     "execution_count": 49,
     "metadata": {},
     "output_type": "execute_result"
    }
   ],
   "source": [
    "# 再次查看'car_acceptability'的unique()\n",
    "raw_data['car_acceptability'].unique()"
   ]
  },
  {
   "cell_type": "code",
   "execution_count": 50,
   "metadata": {},
   "outputs": [
    {
     "data": {
      "text/plain": [
       "unacc    1210\n",
       "acc       518\n",
       "Name: car_acceptability, dtype: int64"
      ]
     },
     "execution_count": 50,
     "metadata": {},
     "output_type": "execute_result"
    }
   ],
   "source": [
    "# 统计每类别中的样品数量\n",
    "raw_data['car_acceptability'].value_counts()"
   ]
  },
  {
   "cell_type": "markdown",
   "metadata": {},
   "source": [
    "## 数值编码\n",
    "\n",
    "> |特征|编码说明|\n",
    "|:-----|:-----|\n",
    "|buying|\t购买价格（1：low；2：med；3：high；4：vhigh）|\n",
    "|maint\t|保养价格（1：low；2：med；3：high；4：vhigh）|\n",
    "|doors\t|门的个数（1：2；2：3；3：4；4：5more）|\n",
    "|persons\t|载客数（1：2；2：4；3：more）|\n",
    "|lug_boot\t|车身的大小（1：small；2：med；3：big）|\n",
    "|safety\t|安全等级（1：low；2：med；3：high）|\n",
    "|car_acceptability\t|汽车满意度（1：unacc（不满意）；0：acc（满意））|"
   ]
  },
  {
   "cell_type": "markdown",
   "metadata": {},
   "source": [
    "根据要求对`'buying', 'maint', 'doors', 'persons', 'lug_boot', 'safety','car_acceptability'`做`map()`\n",
    "\n",
    "**思考一个问题：**这里使用`pd.get_dummies()`为各特征做数值编码，可以吗？ 与`map()`相比，区别在什么地方？针对这个实际问题，哪个更合适呢？ 另外使用`LabelEncoder`进行数值编码可以吗？"
   ]
  },
  {
   "cell_type": "code",
   "execution_count": 51,
   "metadata": {},
   "outputs": [],
   "source": [
    "# 构建一个名称为data的空DF，用于存放处理后的数据\n",
    "data = pd.DataFrame()"
   ]
  },
  {
   "cell_type": "code",
   "execution_count": 52,
   "metadata": {},
   "outputs": [],
   "source": [
    "# 根据上表依次做map()\n",
    "data['buying'] = raw_data['buying'].map({'vhigh':4, 'high':3, 'med':2, 'low':1})\n",
    "data['maint'] = raw_data['maint'].map({'vhigh':4, 'high':3, 'med':2, 'low':1})\n",
    "data['doors'] = raw_data['doors'].map({'2':1, '3':2, '4':3, '5more':4})\n",
    "data['persons'] = raw_data['persons'].map({'2':1, '4':2, 'more':3})\n",
    "data['lug_boot'] = raw_data['lug_boot'].map({'small':1, 'med':2, 'big':3})\n",
    "data['safety'] = raw_data['safety'].map({'high':3, 'med':2, 'low':1})\n",
    "data['car_acceptability'] = raw_data['car_acceptability'].map({'unacc':1, 'acc':0})"
   ]
  },
  {
   "cell_type": "code",
   "execution_count": 53,
   "metadata": {},
   "outputs": [
    {
     "data": {
      "text/html": [
       "<div>\n",
       "<style scoped>\n",
       "    .dataframe tbody tr th:only-of-type {\n",
       "        vertical-align: middle;\n",
       "    }\n",
       "\n",
       "    .dataframe tbody tr th {\n",
       "        vertical-align: top;\n",
       "    }\n",
       "\n",
       "    .dataframe thead th {\n",
       "        text-align: right;\n",
       "    }\n",
       "</style>\n",
       "<table border=\"1\" class=\"dataframe\">\n",
       "  <thead>\n",
       "    <tr style=\"text-align: right;\">\n",
       "      <th></th>\n",
       "      <th>buying</th>\n",
       "      <th>maint</th>\n",
       "      <th>doors</th>\n",
       "      <th>persons</th>\n",
       "      <th>lug_boot</th>\n",
       "      <th>safety</th>\n",
       "      <th>car_acceptability</th>\n",
       "    </tr>\n",
       "  </thead>\n",
       "  <tbody>\n",
       "    <tr>\n",
       "      <td>628</td>\n",
       "      <td>3</td>\n",
       "      <td>3</td>\n",
       "      <td>4</td>\n",
       "      <td>1</td>\n",
       "      <td>3</td>\n",
       "      <td>2</td>\n",
       "      <td>1</td>\n",
       "    </tr>\n",
       "    <tr>\n",
       "      <td>1421</td>\n",
       "      <td>1</td>\n",
       "      <td>3</td>\n",
       "      <td>1</td>\n",
       "      <td>2</td>\n",
       "      <td>3</td>\n",
       "      <td>3</td>\n",
       "      <td>0</td>\n",
       "    </tr>\n",
       "    <tr>\n",
       "      <td>1295</td>\n",
       "      <td>2</td>\n",
       "      <td>1</td>\n",
       "      <td>4</td>\n",
       "      <td>3</td>\n",
       "      <td>3</td>\n",
       "      <td>3</td>\n",
       "      <td>0</td>\n",
       "    </tr>\n",
       "    <tr>\n",
       "      <td>1142</td>\n",
       "      <td>2</td>\n",
       "      <td>2</td>\n",
       "      <td>3</td>\n",
       "      <td>1</td>\n",
       "      <td>3</td>\n",
       "      <td>3</td>\n",
       "      <td>1</td>\n",
       "    </tr>\n",
       "    <tr>\n",
       "      <td>405</td>\n",
       "      <td>4</td>\n",
       "      <td>1</td>\n",
       "      <td>4</td>\n",
       "      <td>1</td>\n",
       "      <td>1</td>\n",
       "      <td>1</td>\n",
       "      <td>1</td>\n",
       "    </tr>\n",
       "  </tbody>\n",
       "</table>\n",
       "</div>"
      ],
      "text/plain": [
       "      buying  maint  doors  persons  lug_boot  safety  car_acceptability\n",
       "628        3      3      4        1         3       2                  1\n",
       "1421       1      3      1        2         3       3                  0\n",
       "1295       2      1      4        3         3       3                  0\n",
       "1142       2      2      3        1         3       3                  1\n",
       "405        4      1      4        1         1       1                  1"
      ]
     },
     "execution_count": 53,
     "metadata": {},
     "output_type": "execute_result"
    }
   ],
   "source": [
    "# 随机查看data的5个样本\n",
    "data.sample(5)"
   ]
  },
  {
   "cell_type": "code",
   "execution_count": 54,
   "metadata": {},
   "outputs": [
    {
     "data": {
      "text/plain": [
       "buying               3\n",
       "maint                1\n",
       "doors                3\n",
       "persons              3\n",
       "lug_boot             3\n",
       "safety               2\n",
       "car_acceptability    0\n",
       "Name: 835, dtype: int64"
      ]
     },
     "execution_count": 54,
     "metadata": {},
     "output_type": "execute_result"
    }
   ],
   "source": [
    "# 查看第836个样本\n",
    "data.iloc[835]"
   ]
  },
  {
   "cell_type": "code",
   "execution_count": 55,
   "metadata": {},
   "outputs": [
    {
     "name": "stdout",
     "output_type": "stream",
     "text": [
      "<class 'pandas.core.frame.DataFrame'>\n",
      "RangeIndex: 1728 entries, 0 to 1727\n",
      "Data columns (total 7 columns):\n",
      "buying               1728 non-null int64\n",
      "maint                1728 non-null int64\n",
      "doors                1728 non-null int64\n",
      "persons              1728 non-null int64\n",
      "lug_boot             1728 non-null int64\n",
      "safety               1728 non-null int64\n",
      "car_acceptability    1728 non-null int64\n",
      "dtypes: int64(7)\n",
      "memory usage: 94.6 KB\n"
     ]
    }
   ],
   "source": [
    "# 查看info()\n",
    "data.info()"
   ]
  },
  {
   "cell_type": "code",
   "execution_count": 15,
   "metadata": {},
   "outputs": [
    {
     "data": {
      "text/html": [
       "<div>\n",
       "<style scoped>\n",
       "    .dataframe tbody tr th:only-of-type {\n",
       "        vertical-align: middle;\n",
       "    }\n",
       "\n",
       "    .dataframe tbody tr th {\n",
       "        vertical-align: top;\n",
       "    }\n",
       "\n",
       "    .dataframe thead th {\n",
       "        text-align: right;\n",
       "    }\n",
       "</style>\n",
       "<table border=\"1\" class=\"dataframe\">\n",
       "  <thead>\n",
       "    <tr style=\"text-align: right;\">\n",
       "      <th></th>\n",
       "      <th>buying</th>\n",
       "      <th>maint</th>\n",
       "      <th>doors</th>\n",
       "      <th>persons</th>\n",
       "      <th>lug_boot</th>\n",
       "      <th>safety</th>\n",
       "      <th>car_acceptability</th>\n",
       "    </tr>\n",
       "  </thead>\n",
       "  <tbody>\n",
       "    <tr>\n",
       "      <td>0</td>\n",
       "      <td>vhigh</td>\n",
       "      <td>vhigh</td>\n",
       "      <td>2</td>\n",
       "      <td>2</td>\n",
       "      <td>small</td>\n",
       "      <td>low</td>\n",
       "      <td>unacc</td>\n",
       "    </tr>\n",
       "    <tr>\n",
       "      <td>1</td>\n",
       "      <td>vhigh</td>\n",
       "      <td>vhigh</td>\n",
       "      <td>2</td>\n",
       "      <td>2</td>\n",
       "      <td>small</td>\n",
       "      <td>med</td>\n",
       "      <td>unacc</td>\n",
       "    </tr>\n",
       "    <tr>\n",
       "      <td>2</td>\n",
       "      <td>vhigh</td>\n",
       "      <td>vhigh</td>\n",
       "      <td>2</td>\n",
       "      <td>2</td>\n",
       "      <td>small</td>\n",
       "      <td>high</td>\n",
       "      <td>unacc</td>\n",
       "    </tr>\n",
       "    <tr>\n",
       "      <td>3</td>\n",
       "      <td>vhigh</td>\n",
       "      <td>vhigh</td>\n",
       "      <td>2</td>\n",
       "      <td>2</td>\n",
       "      <td>med</td>\n",
       "      <td>low</td>\n",
       "      <td>unacc</td>\n",
       "    </tr>\n",
       "    <tr>\n",
       "      <td>4</td>\n",
       "      <td>vhigh</td>\n",
       "      <td>vhigh</td>\n",
       "      <td>2</td>\n",
       "      <td>2</td>\n",
       "      <td>med</td>\n",
       "      <td>med</td>\n",
       "      <td>unacc</td>\n",
       "    </tr>\n",
       "  </tbody>\n",
       "</table>\n",
       "</div>"
      ],
      "text/plain": [
       "  buying  maint doors persons lug_boot safety car_acceptability\n",
       "0  vhigh  vhigh     2       2    small    low             unacc\n",
       "1  vhigh  vhigh     2       2    small    med             unacc\n",
       "2  vhigh  vhigh     2       2    small   high             unacc\n",
       "3  vhigh  vhigh     2       2      med    low             unacc\n",
       "4  vhigh  vhigh     2       2      med    med             unacc"
      ]
     },
     "execution_count": 15,
     "metadata": {},
     "output_type": "execute_result"
    }
   ],
   "source": [
    "# 查看raw_data的前几行\n",
    "raw_data.head()"
   ]
  },
  {
   "cell_type": "code",
   "execution_count": 16,
   "metadata": {},
   "outputs": [
    {
     "data": {
      "text/html": [
       "<div>\n",
       "<style scoped>\n",
       "    .dataframe tbody tr th:only-of-type {\n",
       "        vertical-align: middle;\n",
       "    }\n",
       "\n",
       "    .dataframe tbody tr th {\n",
       "        vertical-align: top;\n",
       "    }\n",
       "\n",
       "    .dataframe thead th {\n",
       "        text-align: right;\n",
       "    }\n",
       "</style>\n",
       "<table border=\"1\" class=\"dataframe\">\n",
       "  <thead>\n",
       "    <tr style=\"text-align: right;\">\n",
       "      <th></th>\n",
       "      <th>buying</th>\n",
       "      <th>maint</th>\n",
       "      <th>doors</th>\n",
       "      <th>persons</th>\n",
       "      <th>lug_boot</th>\n",
       "      <th>safety</th>\n",
       "      <th>car_acceptability</th>\n",
       "    </tr>\n",
       "  </thead>\n",
       "  <tbody>\n",
       "    <tr>\n",
       "      <td>0</td>\n",
       "      <td>4</td>\n",
       "      <td>4</td>\n",
       "      <td>1</td>\n",
       "      <td>1</td>\n",
       "      <td>1</td>\n",
       "      <td>1</td>\n",
       "      <td>1</td>\n",
       "    </tr>\n",
       "    <tr>\n",
       "      <td>1</td>\n",
       "      <td>4</td>\n",
       "      <td>4</td>\n",
       "      <td>1</td>\n",
       "      <td>1</td>\n",
       "      <td>1</td>\n",
       "      <td>2</td>\n",
       "      <td>1</td>\n",
       "    </tr>\n",
       "    <tr>\n",
       "      <td>2</td>\n",
       "      <td>4</td>\n",
       "      <td>4</td>\n",
       "      <td>1</td>\n",
       "      <td>1</td>\n",
       "      <td>1</td>\n",
       "      <td>3</td>\n",
       "      <td>1</td>\n",
       "    </tr>\n",
       "    <tr>\n",
       "      <td>3</td>\n",
       "      <td>4</td>\n",
       "      <td>4</td>\n",
       "      <td>1</td>\n",
       "      <td>1</td>\n",
       "      <td>2</td>\n",
       "      <td>1</td>\n",
       "      <td>1</td>\n",
       "    </tr>\n",
       "    <tr>\n",
       "      <td>4</td>\n",
       "      <td>4</td>\n",
       "      <td>4</td>\n",
       "      <td>1</td>\n",
       "      <td>1</td>\n",
       "      <td>2</td>\n",
       "      <td>2</td>\n",
       "      <td>1</td>\n",
       "    </tr>\n",
       "  </tbody>\n",
       "</table>\n",
       "</div>"
      ],
      "text/plain": [
       "   buying  maint  doors  persons  lug_boot  safety  car_acceptability\n",
       "0       4      4      1        1         1       1                  1\n",
       "1       4      4      1        1         1       2                  1\n",
       "2       4      4      1        1         1       3                  1\n",
       "3       4      4      1        1         2       1                  1\n",
       "4       4      4      1        1         2       2                  1"
      ]
     },
     "execution_count": 16,
     "metadata": {},
     "output_type": "execute_result"
    }
   ],
   "source": [
    "# 查看data的前几行\n",
    "data.head()"
   ]
  },
  {
   "cell_type": "markdown",
   "metadata": {},
   "source": [
    "## 数据保存\n",
    "> 编码后保存为`\"./dataSets/data_chap4/car_evaluate.csv\"`\n"
   ]
  },
  {
   "cell_type": "code",
   "execution_count": 17,
   "metadata": {},
   "outputs": [],
   "source": [
    "# 保存地址\n",
    "new_file= \"./dataSets/data_chap4/car_evaluate.csv\""
   ]
  },
  {
   "cell_type": "code",
   "execution_count": 18,
   "metadata": {},
   "outputs": [],
   "source": [
    "data.to_csv?"
   ]
  },
  {
   "cell_type": "code",
   "execution_count": 19,
   "metadata": {},
   "outputs": [],
   "source": [
    "# 保存数据到文件,不要索引，即index=False\n",
    "data.to_csv(new_file,index=False)"
   ]
  },
  {
   "cell_type": "markdown",
   "metadata": {},
   "source": [
    "另外，还可以使用`LabelEncoder`进行数值编码，但是可能不一定都能满足我们的编码要求。"
   ]
  },
  {
   "cell_type": "code",
   "execution_count": 20,
   "metadata": {},
   "outputs": [],
   "source": [
    "# from sklearn.preprocessing import LabelEncoder\n",
    "# data1 = pd.DataFrame()\n",
    "# ## 选出需要进行数值编码的特征\n",
    "# col_s = raw_data.columns\n",
    "# ## 数值编码\n",
    "# for col in col_s:\n",
    "#     data1[col] = LabelEncoder().fit_transform(raw_data[col])\n",
    "    \n",
    "# data1.iloc[835]"
   ]
  },
  {
   "cell_type": "markdown",
   "metadata": {},
   "source": [
    "## 探索样本均衡性\n",
    "> 对预测目标类别的数量分布进行分析，探索样本均衡性"
   ]
  },
  {
   "cell_type": "code",
   "execution_count": 21,
   "metadata": {},
   "outputs": [
    {
     "data": {
      "text/plain": [
       "1    1210\n",
       "0     518\n",
       "Name: car_acceptability, dtype: int64"
      ]
     },
     "execution_count": 21,
     "metadata": {},
     "output_type": "execute_result"
    }
   ],
   "source": [
    "# 统计目标类别中每个类别的样本个数\n",
    "data['car_acceptability'].value_counts()"
   ]
  },
  {
   "cell_type": "code",
   "execution_count": 22,
   "metadata": {},
   "outputs": [
    {
     "data": {
      "text/plain": [
       "Text(0, 0.5, '数量')"
      ]
     },
     "execution_count": 22,
     "metadata": {},
     "output_type": "execute_result"
    },
    {
     "data": {
      "image/png": "[encoded data removed]",
      "text/plain": [
       "<Figure size 576x432 with 1 Axes>"
      ]
     },
     "metadata": {
      "needs_background": "light"
     },
     "output_type": "display_data"
    }
   ],
   "source": [
    "# 使用plt绘制柱形图\n",
    "plt.figure(figsize=(8,6))\n",
    "data.car_acceptability.value_counts().plot(kind='bar', rot=360, title='类别数量分布条形图')\n",
    "plt.xticks([0, 1], ['满意', '不满意'])\n",
    "plt.xlabel(\"类别\")\n",
    "plt.ylabel(\"数量\")"
   ]
  },
  {
   "cell_type": "code",
   "execution_count": 23,
   "metadata": {},
   "outputs": [
    {
     "data": {
      "text/plain": [
       "[Text(0, 0.5, 'Count'), Text(0.5, 0, 'Class'), Text(0.5, 1.0, '类别数量分布条形图')]"
      ]
     },
     "execution_count": 23,
     "metadata": {},
     "output_type": "execute_result"
    },
    {
     "data": {
      "image/png": "[encoded data removed]",
      "text/plain": [
       "<Figure size 576x432 with 1 Axes>"
      ]
     },
     "metadata": {
      "needs_background": "light"
     },
     "output_type": "display_data"
    }
   ],
   "source": [
    "# 还可以使用sns绘制柱形图\n",
    "plt.figure(figsize=(8,6))\n",
    "counts = sns.countplot(x='car_acceptability',data=data, palette='coolwarm')\n",
    "counts.set(xlabel=\"Class\",ylabel=\"Count\",title='类别数量分布条形图')"
   ]
  },
  {
   "cell_type": "markdown",
   "metadata": {},
   "source": [
    "↑♎：样本不均衡，所以在后续数据集划分的时候，要考虑划分策略，即参数`stratify`。"
   ]
  },
  {
   "cell_type": "markdown",
   "metadata": {},
   "source": [
    "## 数据集划分\n",
    "> + 先分离出特征`X`和目标`y`\n",
    "> + 再将数据集划分为训练集（80%）和测试集（20%）两部分"
   ]
  },
  {
   "cell_type": "code",
   "execution_count": 64,
   "metadata": {},
   "outputs": [],
   "source": [
    "# 先分离出特征X和目标y\n",
    "X_total = data.drop(['car_acceptability'],axis=1)\n",
    "y_total = data['car_acceptability']"
   ]
  },
  {
   "cell_type": "code",
   "execution_count": 65,
   "metadata": {},
   "outputs": [],
   "source": [
    "# 划分train与test,参数test_size=0.2,random_state=77\n",
    "from sklearn.model_selection import train_test_split\n",
    "X_train,X_test,y_train,y_test= train_test_split(X_total,y_total,\n",
    "                                               test_size=0.2,\n",
    "                                               random_state=77,\n",
    "                                               stratify=y_total\n",
    "                                               )"
   ]
  },
  {
   "cell_type": "code",
   "execution_count": 26,
   "metadata": {},
   "outputs": [],
   "source": [
    "train_test_split??"
   ]
  },
  {
   "cell_type": "markdown",
   "metadata": {},
   "source": [
    "**注意：数据分割策略`stratity`**\n",
    "**如果不是None，则以分层方式拆分数据，使用此作为类标签。**\n"
   ]
  },
  {
   "cell_type": "markdown",
   "metadata": {},
   "source": [
    "# 2. 逻辑回归"
   ]
  },
  {
   "cell_type": "code",
   "execution_count": 27,
   "metadata": {},
   "outputs": [],
   "source": [
    "# 导入所需库,LogisticRegression,confusion_matrix,classification_report\n",
    "from sklearn.linear_model import LogisticRegression\n",
    "from sklearn.metrics import confusion_matrix\n",
    "from sklearn.metrics import classification_report"
   ]
  },
  {
   "cell_type": "markdown",
   "metadata": {},
   "source": [
    "## 模型构建与训练"
   ]
  },
  {
   "cell_type": "code",
   "execution_count": 56,
   "metadata": {},
   "outputs": [
    {
     "name": "stderr",
     "output_type": "stream",
     "text": [
      "C:\\ProgramData\\Anaconda3\\lib\\site-packages\\sklearn\\linear_model\\logistic.py:432: FutureWarning: Default solver will be changed to 'lbfgs' in 0.22. Specify a solver to silence this warning.\n",
      "  FutureWarning)\n"
     ]
    },
    {
     "data": {
      "text/plain": [
       "LogisticRegression(C=1.0, class_weight=None, dual=False, fit_intercept=True,\n",
       "                   intercept_scaling=1, l1_ratio=None, max_iter=100,\n",
       "                   multi_class='warn', n_jobs=None, penalty='l2',\n",
       "                   random_state=77, solver='warn', tol=0.0001, verbose=0,\n",
       "                   warm_start=False)"
      ]
     },
     "execution_count": 56,
     "metadata": {},
     "output_type": "execute_result"
    }
   ],
   "source": [
    "# 模型构建与拟合\n",
    "##S1: 模型构建，random_state=77\n",
    "clf = LogisticRegression(random_state=77)\n",
    "##S2: 模型训练(拟合)\n",
    "clf.fit(X_train,y_train)"
   ]
  },
  {
   "cell_type": "markdown",
   "metadata": {},
   "source": [
    "## 模型预测"
   ]
  },
  {
   "cell_type": "code",
   "execution_count": 57,
   "metadata": {},
   "outputs": [],
   "source": [
    "##S3: 模型预测\n",
    "y_pred_clf =clf.predict(X_test)"
   ]
  },
  {
   "cell_type": "code",
   "execution_count": 58,
   "metadata": {},
   "outputs": [
    {
     "data": {
      "text/plain": [
       "array([1, 1, 0, 1, 0, 1, 0, 0, 1, 1, 1, 0, 1, 1, 1, 0, 1, 1, 1, 1, 1, 0,\n",
       "       1, 1, 0, 0, 1, 1, 1, 1, 1, 1, 0, 0, 1, 1, 0, 0, 0, 1, 1, 0, 1, 1,\n",
       "       1, 0, 1, 1, 1, 0, 1, 1, 0, 1, 1, 1, 0, 0, 1, 1, 1, 1, 1, 1, 1, 0,\n",
       "       0, 1, 1, 0, 1, 1, 1, 0, 1, 0, 1, 1, 1, 1, 1, 1, 0, 1, 1, 1, 1, 0,\n",
       "       1, 1, 0, 1, 1, 1, 1, 1, 1, 1, 1, 1, 1, 1, 1, 1, 1, 1, 1, 1, 1, 1,\n",
       "       0, 1, 1, 1, 0, 0, 1, 1, 0, 1, 1, 1, 1, 0, 1, 1, 1, 1, 0, 1, 1, 0,\n",
       "       1, 1, 0, 0, 1, 1, 1, 0, 1, 1, 1, 1, 1, 0, 1, 0, 0, 1, 1, 1, 1, 0,\n",
       "       1, 0, 1, 1, 0, 1, 0, 0, 0, 1, 1, 1, 0, 1, 1, 1, 0, 0, 0, 1, 1, 1,\n",
       "       0, 1, 1, 1, 1, 1, 0, 1, 1, 1, 1, 1, 0, 1, 1, 1, 1, 1, 0, 1, 0, 1,\n",
       "       1, 0, 0, 1, 0, 1, 1, 1, 1, 1, 1, 0, 1, 1, 1, 0, 0, 1, 1, 1, 1, 0,\n",
       "       1, 1, 1, 0, 1, 1, 1, 0, 1, 1, 0, 0, 0, 1, 1, 1, 1, 1, 1, 1, 1, 1,\n",
       "       0, 1, 1, 1, 1, 1, 1, 1, 0, 1, 0, 1, 0, 1, 1, 0, 1, 1, 1, 1, 1, 1,\n",
       "       1, 1, 1, 1, 1, 1, 1, 0, 1, 1, 1, 0, 1, 0, 1, 1, 0, 1, 1, 1, 1, 1,\n",
       "       1, 0, 1, 1, 0, 0, 1, 1, 1, 1, 1, 1, 1, 1, 1, 0, 1, 1, 1, 1, 0, 1,\n",
       "       0, 1, 1, 1, 1, 0, 1, 1, 1, 1, 1, 1, 0, 1, 1, 1, 1, 1, 0, 1, 0, 1,\n",
       "       1, 1, 1, 0, 1, 0, 1, 1, 1, 1, 0, 1, 1, 1, 1, 1], dtype=int64)"
      ]
     },
     "execution_count": 58,
     "metadata": {},
     "output_type": "execute_result"
    }
   ],
   "source": [
    "y_pred_clf"
   ]
  },
  {
   "cell_type": "markdown",
   "metadata": {},
   "source": [
    "## 模型评价"
   ]
  },
  {
   "cell_type": "markdown",
   "metadata": {},
   "source": [
    "### 正确率"
   ]
  },
  {
   "cell_type": "code",
   "execution_count": 66,
   "metadata": {},
   "outputs": [
    {
     "data": {
      "text/plain": [
       "0.8670520231213873"
      ]
     },
     "execution_count": 66,
     "metadata": {},
     "output_type": "execute_result"
    }
   ],
   "source": [
    "# 测试集的分类正确率\n",
    "clf.score(X_test,y_test)"
   ]
  },
  {
   "cell_type": "code",
   "execution_count": 67,
   "metadata": {},
   "outputs": [
    {
     "name": "stdout",
     "output_type": "stream",
     "text": [
      "分类正确率ACC: 0.8671\n"
     ]
    }
   ],
   "source": [
    "print(\"分类正确率ACC:\",round(clf.score(X_test,y_test),4))"
   ]
  },
  {
   "cell_type": "markdown",
   "metadata": {},
   "source": [
    "### 报告"
   ]
  },
  {
   "cell_type": "code",
   "execution_count": 33,
   "metadata": {},
   "outputs": [
    {
     "name": "stdout",
     "output_type": "stream",
     "text": [
      "              precision    recall  f1-score   support\n",
      "\n",
      "           0       0.82      0.71      0.76       104\n",
      "           1       0.88      0.93      0.91       242\n",
      "\n",
      "    accuracy                           0.87       346\n",
      "   macro avg       0.85      0.82      0.84       346\n",
      "weighted avg       0.86      0.87      0.86       346\n",
      "\n"
     ]
    }
   ],
   "source": [
    "# 构建显示主要分类指标的文本报告\n",
    "print(classification_report(y_test, y_pred_clf))"
   ]
  },
  {
   "cell_type": "markdown",
   "metadata": {},
   "source": [
    "↑♎：`0`类分类效果较`1`类并不理想"
   ]
  },
  {
   "cell_type": "markdown",
   "metadata": {},
   "source": [
    "### 混淆矩阵"
   ]
  },
  {
   "cell_type": "code",
   "execution_count": 34,
   "metadata": {},
   "outputs": [
    {
     "data": {
      "text/plain": [
       "Text(0.5, 1, '混淆矩阵热力图')"
      ]
     },
     "execution_count": 34,
     "metadata": {},
     "output_type": "execute_result"
    },
    {
     "data": {
      "image/png": "[encoded data removed]",
      "text/plain": [
       "<Figure size 432x288 with 2 Axes>"
      ]
     },
     "metadata": {},
     "output_type": "display_data"
    }
   ],
   "source": [
    "## 设置正常显示中文\n",
    "sns.set(font='SimHei')\n",
    "## 绘制热力图\n",
    "ax = sns.heatmap(confusion_matrix(y_test,y_pred_clf), \n",
    "                 annot=True, fmt='d', \n",
    "                 xticklabels=[\"满意(0)\",\"不满意(1)\"],\n",
    "                 yticklabels=[\"满意(0)\",\"不满意(1)\"]\n",
    "                )\n",
    "ax.set_ylabel('真实')\n",
    "ax.set_xlabel('预测')\n",
    "ax.set_title('混淆矩阵热力图')"
   ]
  },
  {
   "cell_type": "markdown",
   "metadata": {},
   "source": [
    "↑♎：大约三分之一的“满意”客户被分类错误，被错误的分为\"不满意\""
   ]
  },
  {
   "cell_type": "markdown",
   "metadata": {},
   "source": [
    "## 模型优化\n",
    "> `LogisticRegression(C=1.0, class_weight=None, dual=False, fit_intercept=True,\n",
    "          intercept_scaling=1, max_iter=100, multi_class='warn',\n",
    "          n_jobs=None, penalty='l2', random_state=77, solver='warn',\n",
    "          tol=0.0001, verbose=0, warm_start=False)`\n",
    "          \n",
    "> LogisticRegression的优化途径：\n",
    ">> (1) 平衡类别权重：`class_weight ='balanced'|'None'` 默认“None”(权重相等)<br>\n",
    "(2) 正则化项：`penalty='l2'|'l1'`,默认`l2` <br>\n",
    "(3) 正则化强度：`C`,正的浮点数，值越小强度越大，默认为1.0 <br>\n",
    "(4) 选择优化算法:\n",
    ">>>“liblinear”:坐标轴下降法(默认)<br>\n",
    "“lbfgs”:拟牛顿法的一种<br>\n",
    "“newton-cg”:牛顿法的一种<br>\n",
    "“sag”:随机平均梯度下降<br>\n",
    "\n",
    ">> 注意：`penalty`设置为`'11'` 时优化算法仅可为`'liblinear'`，原因如下：\n",
    ">>> `'newton-cg','flbfgs','sag'`这三种优化算法都需要损失函数的一阶或者二阶连续导数,而`11`正则化的损失函数不是连续可导的，但`“liblinear'`没有这个依赖。\n"
   ]
  },
  {
   "cell_type": "code",
   "execution_count": 40,
   "metadata": {},
   "outputs": [
    {
     "name": "stderr",
     "output_type": "stream",
     "text": [
      "C:\\ProgramData\\Anaconda3\\lib\\site-packages\\sklearn\\linear_model\\logistic.py:432: FutureWarning: Default solver will be changed to 'lbfgs' in 0.22. Specify a solver to silence this warning.\n",
      "  FutureWarning)\n"
     ]
    },
    {
     "data": {
      "text/plain": [
       "LogisticRegression(C=1.0, class_weight='balanced', dual=False,\n",
       "                   fit_intercept=True, intercept_scaling=1, l1_ratio=None,\n",
       "                   max_iter=100, multi_class='warn', n_jobs=None, penalty='l2',\n",
       "                   random_state=77, solver='warn', tol=0.0001, verbose=0,\n",
       "                   warm_start=False)"
      ]
     },
     "execution_count": 40,
     "metadata": {},
     "output_type": "execute_result"
    }
   ],
   "source": [
    "## 模型构建与拟合,平衡类别权重,设置class_weight ='balanced'\n",
    "clf_bala = LogisticRegression(random_state=77, class_weight='balanced')\n",
    "clf_bala.fit(X_train, y_train)"
   ]
  },
  {
   "cell_type": "code",
   "execution_count": 41,
   "metadata": {},
   "outputs": [
    {
     "name": "stdout",
     "output_type": "stream",
     "text": [
      "分类正确率： 0.8728\n",
      "--------------------------------------------------------\n",
      "              precision    recall  f1-score   support\n",
      "\n",
      "           0       0.77      0.83      0.80       104\n",
      "           1       0.92      0.89      0.91       242\n",
      "\n",
      "    accuracy                           0.87       346\n",
      "   macro avg       0.85      0.86      0.85       346\n",
      "weighted avg       0.88      0.87      0.87       346\n",
      "\n"
     ]
    }
   ],
   "source": [
    "# 模型预测\n",
    "y_pred_bala = clf_bala.predict(X_test)\n",
    "\n",
    "# 分类正确率\n",
    "print(\"分类正确率：\",round(clf_bala.score(X_test,y_test),4))\n",
    "print(\"--------------------------------------------------------\")\n",
    "# 构建显示主要分类指标的文本报告\n",
    "print(classification_report(y_test, y_pred_bala))"
   ]
  },
  {
   "cell_type": "markdown",
   "metadata": {},
   "source": [
    "↑♎从结果看出：`0`类的召回率较之前有所提升，其它指标有所下降，ACC也提高了一点儿"
   ]
  },
  {
   "cell_type": "code",
   "execution_count": 38,
   "metadata": {},
   "outputs": [
    {
     "data": {
      "text/plain": [
       "Text(0.5, 1, '混淆矩阵热力图')"
      ]
     },
     "execution_count": 38,
     "metadata": {},
     "output_type": "execute_result"
    },
    {
     "data": {
      "image/png": "[encoded data removed]",
      "text/plain": [
       "<Figure size 432x288 with 2 Axes>"
      ]
     },
     "metadata": {},
     "output_type": "display_data"
    }
   ],
   "source": [
    "## 绘制热力图\n",
    "ax = sns.heatmap(confusion_matrix(y_test, y_pred_bala), \n",
    "                 annot=True, fmt='d', \n",
    "                 xticklabels=[\"满意(0)\",\"不满意(1)\"], \n",
    "                 yticklabels=[\"满意(0)\",\"不满意(1)\"]\n",
    "                )\n",
    "ax.set_ylabel('真实')\n",
    "ax.set_xlabel('预测')\n",
    "ax.set_title('混淆矩阵热力图')"
   ]
  },
  {
   "cell_type": "markdown",
   "metadata": {},
   "source": [
    "↑♎比较未优化前：\n",
    "> + 更多的满意客户被分类正确，但作为代价，不满意客户的分类正确率降低。\n",
    "> + “满意”客户被错误地分为\"不满意\"的情况有所缓解，但是“不满意”客户被错误地分为\"满意\"的情况有加重。"
   ]
  },
  {
   "cell_type": "markdown",
   "metadata": {},
   "source": [
    "## 模型参数\n",
    "> 调用属性`coef_`和`intercept_`可以查看模型系数和截距项\n"
   ]
  },
  {
   "cell_type": "code",
   "execution_count": 39,
   "metadata": {},
   "outputs": [
    {
     "data": {
      "text/plain": [
       "array([6.65371377])"
      ]
     },
     "execution_count": 39,
     "metadata": {},
     "output_type": "execute_result"
    }
   ],
   "source": [
    "# 查看intercept_\n",
    "clf_bala.intercept_"
   ]
  },
  {
   "cell_type": "code",
   "execution_count": 68,
   "metadata": {},
   "outputs": [
    {
     "data": {
      "text/plain": [
       "array([[ 0.82254592,  0.80983257, -0.1468501 , -1.94523426, -0.52232275,\n",
       "        -2.22941536]])"
      ]
     },
     "execution_count": 68,
     "metadata": {},
     "output_type": "execute_result"
    }
   ],
   "source": [
    "# 查看coef_\n",
    "clf_bala.coef_"
   ]
  },
  {
   "cell_type": "code",
   "execution_count": 69,
   "metadata": {},
   "outputs": [
    {
     "data": {
      "text/plain": [
       "buying      0.822546\n",
       "maint       0.809833\n",
       "doors      -0.146850\n",
       "persons    -1.945234\n",
       "lug_boot   -0.522323\n",
       "safety     -2.229415\n",
       "dtype: float64"
      ]
     },
     "execution_count": 69,
     "metadata": {},
     "output_type": "execute_result"
    }
   ],
   "source": [
    "# 构建模型系数Series\n",
    "index = X_total.columns\n",
    "coef_s = pd.Series(clf_bala.coef_.reshape(-1), index=index)\n",
    "coef_s"
   ]
  },
  {
   "cell_type": "code",
   "execution_count": 70,
   "metadata": {},
   "outputs": [
    {
     "data": {
      "text/plain": [
       "<matplotlib.axes._subplots.AxesSubplot at 0x1a375a6a188>"
      ]
     },
     "execution_count": 70,
     "metadata": {},
     "output_type": "execute_result"
    },
    {
     "data": {
      "image/png": "[encoded data removed]",
      "text/plain": [
       "<Figure size 432x288 with 1 Axes>"
      ]
     },
     "metadata": {
      "needs_background": "light"
     },
     "output_type": "display_data"
    }
   ],
   "source": [
    "## 绘制横向柱形图查看模型系数\n",
    "coef_s.plot(kind='barh', title='系数条形图')"
   ]
  },
  {
   "cell_type": "markdown",
   "metadata": {},
   "source": [
    "↑♎由图知: 安全等级和载客数对模型的预测影响较大，安全等级越低，客户越不满意，载客数越少，客户越不满意。"
   ]
  },
  {
   "cell_type": "markdown",
   "metadata": {},
   "source": [
    "<div id=\"3\"></div>\n",
    "\n",
    "# 3. K近邻\n",
    "\n",
    "**数据准备：**"
   ]
  },
  {
   "cell_type": "code",
   "execution_count": null,
   "metadata": {},
   "outputs": [],
   "source": [
    "# 重新读取文件数据\n",
    "file_path= \"./dataSets/data_chap4/car_evaluate.csv\"\n",
    "data = pd.read_csv(file_path)\n",
    "# 查看所有特征名称\n",
    "________"
   ]
  },
  {
   "cell_type": "code",
   "execution_count": null,
   "metadata": {},
   "outputs": [],
   "source": [
    "# 重新分离特征X与目标y，并分割train与test(8:2)，注意stratify\n",
    "from ________________ import train_test_split\n",
    "\n",
    "X = data.________________\n",
    "y = data['car_acceptability']\n",
    "\n",
    "X_train,X_test,y_train,y_test=train_test_split(X,y,\n",
    "                                               test_size=0.2,\n",
    "                                               random_state=77,\n",
    "                                               ________________\n",
    "                                              )         "
   ]
  },
  {
   "cell_type": "markdown",
   "metadata": {},
   "source": [
    "## 模型构建与训练"
   ]
  },
  {
   "cell_type": "code",
   "execution_count": null,
   "metadata": {},
   "outputs": [],
   "source": [
    "# SO：导入KNeighborsClassifier\n",
    "from ________ import KNeighborsClassifier\n",
    "# S1：模型构建\n",
    "kn = ________\n",
    "# S2：模型拟合\n",
    "kn.________"
   ]
  },
  {
   "cell_type": "markdown",
   "metadata": {},
   "source": [
    "**KNeighborsClassifier():**\n",
    "> + `KNeighborsClassifier(algorithm='auto', leaf_size=30,\n",
    "metric='minkowski',metric_params=None, n_jobs=None, \n",
    "n_neighbors=5, p=2,weights='uniform')`"
   ]
  },
  {
   "cell_type": "markdown",
   "metadata": {},
   "source": [
    "**模型重要参数解析：**<br>\n",
    "> (1) `metric='minkowski'`, p=2,距离度量方式为欧式距离 <br>\n",
    "(2) `n_neighbors=5`,近邻样本的个数选择为5<br>\n",
    "(3) `weights='uniform'`,不按距离进行加权<br>"
   ]
  },
  {
   "cell_type": "markdown",
   "metadata": {},
   "source": [
    "## 模型预测与评价"
   ]
  },
  {
   "cell_type": "code",
   "execution_count": null,
   "metadata": {},
   "outputs": [],
   "source": [
    "#S3: 模型预测\n",
    "y_pred_kn = ________\n",
    "\n",
    "#S4: 模型评价\n",
    "## 分类正确率\n",
    "print(\"分类正确率ACC：\",round(________,4))\n",
    "\n",
    "## 分类报告\n",
    "print(________)\n",
    "\n",
    "## 绘制热力图\n",
    "ax = sns.heatmap(________________________, \n",
    "                 annot=True, fmt='d', \n",
    "                 xticklabels=[\"满意(0)\",\"不满意(1)\"], \n",
    "                 yticklabels=[\"满意(0)\",\"不满意(1)\"])\n",
    "ax.set_ylabel('真实')\n",
    "ax.set_xlabel('预测')\n",
    "ax.set_title('混淆矩阵热力图')"
   ]
  },
  {
   "cell_type": "markdown",
   "metadata": {},
   "source": [
    "↑♎结果分析:<br>\n",
    "> + (1)从ACC看： 分类正确率：0.9769 <br>\n",
    "> + (2)从report看：二分类评价指标数值较高 <br>\n",
    "> + (3)从热力图看：绝大部分测试样本都被分类正确 <br>\n"
   ]
  },
  {
   "cell_type": "markdown",
   "metadata": {},
   "source": [
    "## 模型优化\n",
    "> + `KNeighborsClassifier(algorithm='auto', leaf_size=30,\n",
    "metric='minkowski',metric_params=None, n_jobs=None, \n",
    "n_neighbors=5, p=2,weights='uniform')`\n",
    "                    \n",
    ">+  KNeighborsClassifier的优化途径：\n",
    ">> (1) 改变K的取值:`n_neighbors'` 默认5 <br>\n",
    "(2) 设置K近邻样本的权重：`weights='uniform' | 'distance'`,默认`'uniform'`(权重相等) <br>\n",
    "(3) 选择距离度量方式：`metric='minkowski',` `p=2` <br>\n",
    ">>> + 当`𝑝=1`时，闵可夫斯基距离即曼哈顿距离<br>\n",
    ">>> + 当`𝑝=2`时，闵可夫斯基距离即欧式距离 <br>\n",
    ">>> + 当`𝑝→∞` 时，闵可夫斯基距离即切比雪夫距离<br>"
   ]
  },
  {
   "cell_type": "markdown",
   "metadata": {},
   "source": [
    "### K值考察\n",
    "> 不同K值对分类正确率的影响"
   ]
  },
  {
   "cell_type": "code",
   "execution_count": null,
   "metadata": {},
   "outputs": [],
   "source": [
    "# 不同K值对分类正确率的影响,k in range(1,10)\n",
    "K_scores = [KNeighborsClassifier(n_neighbors=k)\n",
    "            .________\n",
    "            .________\n",
    "            for________]\n",
    "K_scores"
   ]
  },
  {
   "cell_type": "code",
   "execution_count": null,
   "metadata": {},
   "outputs": [],
   "source": [
    "plt.plot?"
   ]
  },
  {
   "cell_type": "code",
   "execution_count": null,
   "metadata": {},
   "outputs": [],
   "source": [
    "# 绘制折线图\n",
    "plt.plot(________,________,'r-.',linewidth=5)\n",
    "plt.xlabel('K')\n",
    "plt.ylabel('正确率ACC')\n",
    "plt.title('不同K值下模型预测正确率')"
   ]
  },
  {
   "cell_type": "markdown",
   "metadata": {},
   "source": [
    "↑♎分析： 当K=7时，分类正确率最高，大约为0.98，实际应用中，我们取K=5即可。"
   ]
  },
  {
   "cell_type": "markdown",
   "metadata": {},
   "source": [
    "### 加权K近邻\n",
    "> + 在上面的基础上，设置`weights='distance'`,考察距离加权下不同K值对分类正确率的影响<br>\n",
    "> + `weights='distance'`:按距离的倒数分配权重\n"
   ]
  },
  {
   "cell_type": "code",
   "execution_count": null,
   "metadata": {},
   "outputs": [],
   "source": [
    "# 不同K值对分类正确率的影响,k in range(1,10)\n",
    "K_scores_weights = [________________________]\n",
    "K_scores_weights"
   ]
  },
  {
   "cell_type": "code",
   "execution_count": null,
   "metadata": {},
   "outputs": [],
   "source": [
    "# 绘制折线图\n",
    "\n",
    "\n"
   ]
  },
  {
   "cell_type": "markdown",
   "metadata": {},
   "source": [
    "↑♎分析： 当K=9时，分类正确率最高，大约为0.99,整体效果强于K近邻。<br>\n",
    "通过上面的分析可知，K近邻在该任务的表现非常不错。"
   ]
  },
  {
   "cell_type": "markdown",
   "metadata": {},
   "source": [
    "<div id=\"4\"></div>\n",
    "\n",
    "# 4. 决策树"
   ]
  },
  {
   "cell_type": "markdown",
   "metadata": {},
   "source": [
    "**数据准备：**"
   ]
  },
  {
   "cell_type": "code",
   "execution_count": null,
   "metadata": {},
   "outputs": [],
   "source": [
    "file_path= \"./dataSets/data_chap4/car_evaluate.csv\"\n",
    "data = pd.read_csv(file_path)\n",
    "data.columns"
   ]
  },
  {
   "cell_type": "code",
   "execution_count": null,
   "metadata": {},
   "outputs": [],
   "source": [
    "from sklearn.model_selection import train_test_split\n",
    "X = data.drop(['car_acceptability'],axis=1)\n",
    "y = data['car_acceptability']\n",
    "X_train,X_test,y_train,y_test=train_test_split(X,y,\n",
    "                                               test_size=0.2,\n",
    "                                               random_state=77,\n",
    "                                               stratify=y)         "
   ]
  },
  {
   "cell_type": "markdown",
   "metadata": {},
   "source": [
    "## 模型构建与训练"
   ]
  },
  {
   "cell_type": "code",
   "execution_count": null,
   "metadata": {},
   "outputs": [],
   "source": [
    "# S0:导入DecisionTreeClassifier\n",
    "from ________ import DecisionTreeClassifier\n",
    "# S1:模型构建，random_state=10\n",
    "DF_model = ________\n",
    "# S2:模型拟合\n",
    "DF_model.________"
   ]
  },
  {
   "cell_type": "markdown",
   "metadata": {},
   "source": [
    "**DecisionTreeClassifier():**\n",
    "> `DecisionTreeClassifier(class_weight=None, criterion='gini', \n",
    "            max_depth=None,max_features=None, max_leaf_nodes=None,\n",
    "            min_impurity_decrease=0.0, min_impurity_split=None,\n",
    "            min_samples_leaf=1, min_samples_split=2,\n",
    "            min_weight_fraction_leaf=0.0, presort=False, \n",
    "            random_state=10, splitter='best')`"
   ]
  },
  {
   "cell_type": "markdown",
   "metadata": {},
   "source": [
    "**模型重要参数分析：**<br>\n",
    "> + (1) `class_weight=None`:各类别权重一致<br>\n",
    "> + (2) `criterion='gini'`:CART分类树<br>\n",
    "> + (3) `max_depth=None`:不限制树的生长<br>"
   ]
  },
  {
   "cell_type": "markdown",
   "metadata": {},
   "source": [
    "## 模型预测与评价\n"
   ]
  },
  {
   "cell_type": "code",
   "execution_count": null,
   "metadata": {},
   "outputs": [],
   "source": [
    "# 模型预测\n",
    "y_pred_DF = DF_model.________\n",
    "\n",
    "# 分类正确率\n",
    "print(\"分类正确率ACC：\",round(________________,4))\n",
    "\n",
    "# 分类报告\n",
    "print(classification_report(________, ________))\n",
    "\n",
    "# 绘制热力图\n",
    "ax = sns.heatmap(________________________, \n",
    "                 annot=True, fmt='d', \n",
    "                 xticklabels=[\"满意(0)\",\"不满意(1)\"],\n",
    "                 yticklabels=[\"满意(0)\",\"不满意(1)\"])\n",
    "ax.set_ylabel('真实')\n",
    "ax.set_xlabel('预测')\n",
    "ax.set_title('混淆矩阵热力图')"
   ]
  },
  {
   "cell_type": "markdown",
   "metadata": {},
   "source": [
    "↑♎结果分析：<br>\n",
    "> + (1)从分类正确率ACC看：分类正确率：0.983<br>\n",
    "> + (2)从分类报告看：二分类评价指标目前最高<br>\n",
    "> + (3)从混淆矩阵图看：测试样本中分类效果目前最好<br>"
   ]
  },
  {
   "cell_type": "markdown",
   "metadata": {},
   "source": [
    "## 特征重要性\n",
    "> 训练模型后，调用属性`feature_importances_`可以查看各特征的重要性\n"
   ]
  },
  {
   "cell_type": "code",
   "execution_count": null,
   "metadata": {},
   "outputs": [],
   "source": [
    "# 查看模型重要系数 \n",
    "DF_model.________________"
   ]
  },
  {
   "cell_type": "code",
   "execution_count": null,
   "metadata": {},
   "outputs": [],
   "source": [
    "# 提取各特征名称，准备构建Series\n",
    "index = X_train.columns"
   ]
  },
  {
   "cell_type": "code",
   "execution_count": null,
   "metadata": {},
   "outputs": [],
   "source": [
    "# 构造特征重要性序列，降序，绘制'barh'图\n",
    "pd.Series(________________,index=________________).________.plot(________,title='特征重要性')"
   ]
  },
  {
   "cell_type": "markdown",
   "metadata": {},
   "source": [
    "↑♎分析：安全等级和载客人数排在重要性的前两位，与逻辑回归一致"
   ]
  },
  {
   "cell_type": "markdown",
   "metadata": {},
   "source": [
    "## 模型优化\n",
    "> ▶`DecisionTreeClassifier(class_weight=None, criterion='gini', max_depth=None,\n",
    "            max_features=None, max_leaf_nodes=None,\n",
    "            min_impurity_decrease=0.0, min_impurity_split=None,\n",
    "            min_samples_leaf=1, min_samples_split=2,\n",
    "            min_weight_fraction_leaf=0.0, presort=False, random_state=10,\n",
    "            splitter='best')`\n",
    "            \n",
    "            \n",
    ">DecisionTreeClassifier的优化途径：<br>\n",
    ">> (1) 设置树生长的最大深度:`max_depth'` 默认`None`(不限制) <br>\n",
    "(2) 结点不纯度的度量方法:`criterion`默认为`\"gini\"`（CART），可设置为`\"entropy\"` <br>\n",
    "(3) 设置各个类别的权重：`class_weight`,默认为`None`（权重一致） <br>\n",
    "\n",
    ">更多参数详情请参考官方文档：<br>\n",
    "https://scikit-learn.org/stable/modules/generated/sklearn.tree.DecisionTreeClassifier\n"
   ]
  },
  {
   "cell_type": "markdown",
   "metadata": {},
   "source": [
    "### 限制树的最大深度\n",
    "> 考察不同树深度`max_depth`下模型的分类正确率\n"
   ]
  },
  {
   "cell_type": "code",
   "execution_count": null,
   "metadata": {},
   "outputs": [],
   "source": [
    "# 限制树深度对分类正确率的影响\n",
    "depth_grid = [1, 3, 5, 7, 9, None]\n",
    "depth_scores = [________________________\n",
    "                .________________\n",
    "                .________________\n",
    "                for item in depth_grid]\n",
    "depth_scores"
   ]
  },
  {
   "cell_type": "code",
   "execution_count": null,
   "metadata": {},
   "outputs": [],
   "source": [
    "# 绘制折线图\n",
    "import matplotlib.pyplot as plt\n",
    "plt.figure(figsize=(8, 6))\n",
    "plt.plot(depth_scores, 'b-*', linewidth=1)\n",
    "plt.xticks(range(6), [1, 3, 5, 7, 9, 'None'])\n",
    "plt.xlabel('深度')\n",
    "plt.ylabel('正确率')\n",
    "plt.title('不同树深度下模型分类正确率')"
   ]
  },
  {
   "cell_type": "markdown",
   "metadata": {},
   "source": [
    "↑♎分析：模型分类ACC随树深度的增加而提高，所以不需要对树作生长深度上的限制"
   ]
  },
  {
   "cell_type": "markdown",
   "metadata": {},
   "source": [
    "## 决策树可视化\n",
    "> 树深度限制为3，训练后可视化决策树模型\n"
   ]
  },
  {
   "cell_type": "code",
   "execution_count": null,
   "metadata": {},
   "outputs": [],
   "source": [
    "# 构建模型，max_depth=3\n",
    "DF_model_3 = DecisionTreeClassifier(random_state=10, max_depth=3)\n",
    "# 训练模型\n",
    "DF_model_3.fit(X_train, y_train)"
   ]
  },
  {
   "cell_type": "code",
   "execution_count": null,
   "metadata": {},
   "outputs": [],
   "source": [
    "# 决策树可视化\n",
    "## 导入必要库\n",
    "from sklearn.tree import export_graphviz\n",
    "#from sklearn.externals.six import StringIO   # 0.22版本之前用\n",
    "from six import StringIO\n",
    "from IPython.display import Image \n",
    "import pydotplus"
   ]
  },
  {
   "cell_type": "code",
   "execution_count": null,
   "metadata": {},
   "outputs": [],
   "source": [
    "## 输出图片到dot文件\n",
    "export_graphviz(DF_model_3, out_file='tree.dot', \n",
    "                feature_names=X_train.columns,\n",
    "                rounded=True, filled=True,\n",
    "                class_names=['acc', 'unacc'])\n",
    "\n",
    "## 使用dot文件构造图\n",
    "graph= pydotplus.graph_from_dot_file('tree.dot')\n",
    "Image(graph.create_png())"
   ]
  },
  {
   "cell_type": "markdown",
   "metadata": {},
   "source": [
    "**↑♎分析：** <br>\n",
    "> ●每个结点中显示下列信息：\n",
    ">> ▶(1)特征划分条件<br>▶(2)基尼系数的值<br>▶(2)总样本量<br>▶(4)每个类别的样本量<br>\n",
    "\n",
    "> + 当安全系数小于等于1.5人时，预测类别为“不满意”<br>\n",
    "> + 当安全系数大于1.5且载客数大小于1.5人时，预测类别为“不满意”<br>\n",
    "> + 当载客数和安全等级大于1.5人时，购买价格小于等于2.5预测类别为“满意”，否则为“不满意”<br>"
   ]
  },
  {
   "cell_type": "markdown",
   "metadata": {},
   "source": [
    "<div id=\"5\"></div>\n",
    "\n",
    "# 5. 朴素贝叶斯"
   ]
  },
  {
   "cell_type": "markdown",
   "metadata": {},
   "source": [
    "> naive_bayes模块\n",
    ">\n",
    "|类\t|名称\t|说明|\n",
    "|------:|------:|------:|\n",
    "|GaussianNB()\t|高斯朴素贝叶斯\t|主要面对输入为连续型的情况，通过假设高斯分布计算类条件概率|\n",
    "|BernoulliNB()\t|伯努利朴素贝叶斯\t|主要面对输入为离散型的情况，将特征二值化，例如一个词在文本中是否出现（1为是，0为否）|\n",
    "|MultinomialNB()|\t多项式朴素贝叶斯|\t主要面对输入为离散型的情况，例如一个词在不同文档中出现的次数|\n"
   ]
  },
  {
   "cell_type": "code",
   "execution_count": null,
   "metadata": {},
   "outputs": [],
   "source": [
    "# 重新准备数据\n",
    "file_path= \"./dataSets/data_chap4/car_evaluate.csv\"\n",
    "data = pd.read_csv(file_path)\n",
    "# 查看所有列名\n",
    "data.columns"
   ]
  },
  {
   "cell_type": "code",
   "execution_count": null,
   "metadata": {},
   "outputs": [],
   "source": [
    "# 分离X与y; 分割train与test(8:2)\n",
    "from sklearn.model_selection import train_test_split\n",
    "X = data.drop(['car_acceptability'],axis=1)\n",
    "y = data['car_acceptability']\n",
    "X_train,X_test,y_train,y_test=train_test_split(X,y,test_size=0.2,\n",
    "                                               random_state=77)         "
   ]
  },
  {
   "cell_type": "code",
   "execution_count": null,
   "metadata": {},
   "outputs": [],
   "source": [
    "# 模型评价所需相关库:accuracy_score,confusion_matrix,classification_report\n",
    "from sklearn.metrics import accuracy_score,confusion_matrix,classification_report"
   ]
  },
  {
   "cell_type": "markdown",
   "metadata": {},
   "source": [
    "## 5.1 Gaussian朴素贝叶斯"
   ]
  },
  {
   "cell_type": "markdown",
   "metadata": {},
   "source": [
    "### GaussianNB建模及评估"
   ]
  },
  {
   "cell_type": "code",
   "execution_count": null,
   "metadata": {},
   "outputs": [],
   "source": [
    "## 载入算法类\n",
    "from ________ import GaussianNB\n",
    "\n",
    "# 模型构建与拟合\n",
    "GNB = ________\n",
    "GNB.________"
   ]
  },
  {
   "cell_type": "markdown",
   "metadata": {},
   "source": [
    "**重要参数：**<br>\n",
    "> `priors`:\t自行设定类别先验概率，默认为None（学习先验概率）"
   ]
  },
  {
   "cell_type": "code",
   "execution_count": null,
   "metadata": {},
   "outputs": [],
   "source": [
    "# 模型预测\n",
    "y_pred_GNB = ________\n",
    "\n",
    "# 分类正确率\n",
    "print(\"分类正确率：\",round(________,4))\n",
    "\n",
    "# 分类报告\n",
    "print(________________)\n",
    "\n",
    "# 绘制热力图\n",
    "ax = sns.heatmap(________, \n",
    "                 annot=True, fmt='d', \n",
    "                 xticklabels=[\"满意(0)\",\"不满意(1)\"], \n",
    "                 yticklabels=[\"满意(0)\",\"不满意(1)\"])\n",
    "ax.set_ylabel('真实')\n",
    "ax.set_xlabel('预测')\n",
    "ax.set_title('混淆矩阵热力图')"
   ]
  },
  {
   "cell_type": "markdown",
   "metadata": {},
   "source": [
    "**↑♎分析：** <br>\n",
    "> + (1) 分类正确率：0.88 <br>\n",
    "> + (2) 分类报告看：0的效果差，召回仅为0.7；<br>\n",
    "> + (3) 混淆矩阵热力图看：效果不理想！<br> \n",
    "\n",
    "> + 为什么不好呢？\n",
    ">> + 使用`GaussianNB`建模是假设特征符合高斯分布，效果差，说明实际不符合。\n",
    " \n",
    "> + 另外两种算法怎么样呢？后续将进行考察<br>\n"
   ]
  },
  {
   "cell_type": "markdown",
   "metadata": {},
   "source": [
    "### GaussianNB模型参数及可视化\n",
    ">模型主要参数：<br>\n",
    ">> (1) 先验概率:<br>\n",
    "(2) 模型均值:<br>\n",
    "(3) 模型方差:<br>"
   ]
  },
  {
   "cell_type": "code",
   "execution_count": null,
   "metadata": {},
   "outputs": [],
   "source": [
    "## 查看先验概率和特征的均值方差\n",
    "### 先验概率\n",
    "print(GNB.class_prior_)"
   ]
  },
  {
   "cell_type": "markdown",
   "metadata": {},
   "source": [
    "**↑♎分析：** \n",
    "> + 查看1.4节中`0`和`1`的样本数；`0:518`;`1:1210`；\n",
    "> + 先验概率体现了各类别样本的数量比。"
   ]
  },
  {
   "cell_type": "code",
   "execution_count": null,
   "metadata": {},
   "outputs": [],
   "source": [
    "### 均值\n",
    "print(GNB.theta_)\n",
    "\n",
    "### 方差\n",
    "print(GNB.sigma_)"
   ]
  },
  {
   "cell_type": "markdown",
   "metadata": {},
   "source": [
    "**↑♎分析：** 均值与方差体现各个特征的高斯分布情况。"
   ]
  },
  {
   "cell_type": "code",
   "execution_count": null,
   "metadata": {},
   "outputs": [],
   "source": [
    "## 不同类别下特征均值条形图\n",
    "pd.DataFrame(________, columns=['0类(满意)', '1类(不满意)']).plot(kind='bar',rot=360, title='不同类别下特征均值条形图')\n",
    "plt.ylim(0, 3.5)\n",
    "plt.xticks(________, ________)"
   ]
  },
  {
   "cell_type": "markdown",
   "metadata": {},
   "source": [
    "**↑♎分析：** 均值可以体现特征重要性，`safety`,`persons`,`doors`特征较重要,跟之前逻辑回归得到的结果接近。"
   ]
  },
  {
   "cell_type": "code",
   "execution_count": null,
   "metadata": {},
   "outputs": [],
   "source": [
    "## 不同类别下特征方差条形图\n",
    "\n",
    "#plt.ylim(0, 2)\n",
    "plt.xticks(range(6), X_train.columns)"
   ]
  },
  {
   "cell_type": "markdown",
   "metadata": {},
   "source": [
    "**↑♎分析：** 方差体现特征中样本分散性，各个特征在`1类(不满意)`中的分散性均较大,都大于`0类(满意)`类。"
   ]
  },
  {
   "cell_type": "markdown",
   "metadata": {},
   "source": [
    "### 特征Gaussian曲线\n",
    "> 这个部分有能力的同学自学。\n",
    "> 正态分布函数：\n",
    "$$\n",
    "f(x) = \n",
    "$$"
   ]
  },
  {
   "cell_type": "code",
   "execution_count": null,
   "metadata": {},
   "outputs": [],
   "source": [
    "import numpy as np\n",
    "import matplotlib.pyplot as plt\n",
    "import math\n",
    "\n",
    "# 定义正态分布函数 \n",
    "def normal_distribution(x, mean, sigma):\n",
    "    '''\n",
    "    x\n",
    "    mean:均值\n",
    "    sigma:方差\n",
    "    '''\n",
    "    return np.exp(-1*((x-mean)**2)/(2*(sigma**2)))/(math.sqrt(2*np.pi) * sigma)"
   ]
  },
  {
   "cell_type": "code",
   "execution_count": null,
   "metadata": {},
   "outputs": [],
   "source": [
    "# 设置均值为0，方差为1\n",
    "mean1, sigma1 = 0, 1\n",
    "# 构造x1，100个点均匀分布于[-6,+6]间\n",
    "x1 = np.linspace(mean1 - 6*sigma1, mean1 + 6*sigma1, 100)\n",
    " \n",
    "mean2, sigma2 = 0, 2\n",
    "x2 = np.linspace(mean2 - 6*sigma2, mean2 + 6*sigma2, 100)\n",
    " \n",
    "mean3, sigma3 = 5, 1\n",
    "x3 = np.linspace(mean3 - 6*sigma3, mean3 + 6*sigma3, 100)\n",
    " \n",
    "y1 = normal_distribution(x1, mean1, sigma1)\n",
    "y2 = normal_distribution(x2, mean2, sigma2)\n",
    "y3 = normal_distribution(x3, mean3, sigma3)\n",
    " \n",
    "plt.plot(x1, y1, 'r', label='m=0,sig=1')\n",
    "plt.plot(x2, y2, 'g', label='m=0,sig=2')\n",
    "plt.plot(x3, y3, 'b', label='m=1,sig=1')\n",
    "plt.legend()\n",
    "plt.grid()\n",
    "plt.show()"
   ]
  },
  {
   "cell_type": "code",
   "execution_count": null,
   "metadata": {},
   "outputs": [],
   "source": [
    "# 0类和1类的6个特征的均值\n",
    "mean_s0 = [2.13397129,2.19617225,2.60526316,2.49282297,2.18660287,2.58133971]\n",
    "mean_s1 = [2.59854772,2.62966805,2.45435685,1.78838174,1.92116183,1.74585062]\n",
    "\n",
    "# 0类和1类的6个特征的方差\n",
    "sigma_s0 = [1.03946796,1.04764085,1.19107278,0.24994849,0.6063277,0.24338385]\n",
    "sigma_s1 = [1.27140868,1.26015715,1.25829015,0.70625506,0.67428247,0.64598901]\n",
    "\n",
    "\n",
    "# 0类第一个特征'buying'的高斯曲线\n",
    "mean1, sigma1 = mean_s0[0], sigma_s0[0]    \n",
    "x1 = np.linspace(mean1 - 6*sigma1, mean1 + 6*sigma1, 100)\n",
    "\n",
    "# 1类第一个特征'buying'的高斯曲线\n",
    "mean2, sigma2 = mean_s1[0], sigma_s1[0]\n",
    "x2 = np.linspace(mean2 - 6*sigma2, mean2 + 6*sigma2, 100)\n",
    "\n",
    "# 0类第三个特征'doors'的高斯曲线 \n",
    "mean3, sigma3 = mean_s0[2], sigma_s0[2]\n",
    "x3 = np.linspace(mean3 - 6*sigma3, mean3 + 6*sigma3, 100)\n",
    "\n",
    "# 0类第三个特征'doors'的高斯曲线 \n",
    "mean4, sigma4 = mean_s1[2], sigma_s1[2]\n",
    "x4 = np.linspace(mean4 - 6*sigma4, mean3 + 6*sigma4, 100)\n",
    " \n",
    "y1 = normal_distribution(x1, mean1, sigma1)\n",
    "y2 = normal_distribution(x2, mean2, sigma2)\n",
    "y3 = normal_distribution(x3, mean3, sigma3)\n",
    "y4 = normal_distribution(x4, mean4, sigma4)\n",
    " \n",
    "plt.plot(x1, y1, 'r', label='m=0,sig=1')\n",
    "plt.plot(x2, y2, 'g', label='m=0,sig=2')\n",
    "plt.plot(x3, y3, 'b', label='m=1,sig=1')\n",
    "plt.plot(x4, y4, 'purple', label='m=1,sig=1')\n",
    "plt.legend()\n",
    "plt.grid(True)\n",
    "plt.show()"
   ]
  },
  {
   "cell_type": "markdown",
   "metadata": {},
   "source": [
    "## 5.2 多项式朴素贝叶斯\n"
   ]
  },
  {
   "cell_type": "markdown",
   "metadata": {},
   "source": [
    "### MultinomialNB建模与评价"
   ]
  },
  {
   "cell_type": "code",
   "execution_count": null,
   "metadata": {},
   "outputs": [],
   "source": [
    "from ________________ import MultinomialNB\n",
    "\n",
    "# 模型构建与拟合\n",
    "MNB = ________\n",
    "MNB.________"
   ]
  },
  {
   "cell_type": "markdown",
   "metadata": {},
   "source": [
    "**MultinomialNB():**\n",
    "> + MultinomialNB(alpha=1.0, class_prior=None, fit_prior=True)\n",
    "\n",
    "> + **重要参数：**<br>\n",
    "\n",
    "|参数|\t说明|\n",
    "|----:|-----:|\n",
    "|alpha|\t添加拉普拉斯平滑系数，默认为1.0|\n",
    "|fit_prior\t|是否学习先验概率，默认为True，若为False，则所有类别先验概率一致|\n",
    "|class_prior|\t自行设定类别先验概率，默认为None（学习先验概率）|"
   ]
  },
  {
   "cell_type": "code",
   "execution_count": null,
   "metadata": {},
   "outputs": [],
   "source": [
    "# 模型预测\n",
    "y_pred_MNB = MNB.________\n",
    "\n",
    "# 分类正确率\n",
    "print(\"分类正确率ACC：\",round(________,4))\n",
    "\n",
    "# 分类报告\n",
    "print(classification_report(________, ________))\n",
    "\n",
    "# 绘制热力图\n",
    "ax = sns.heatmap(________________________, \n",
    "                 annot=True, fmt='d', \n",
    "                 xticklabels=[\"满意(0)\",\"不满意(1)\"], \n",
    "                 yticklabels=[\"满意(0)\",\"不满意(1)\"])\n",
    "ax.set_ylabel('真实')\n",
    "ax.set_xlabel('预测')\n",
    "ax.set_title('混淆矩阵热力图')"
   ]
  },
  {
   "cell_type": "markdown",
   "metadata": {},
   "source": [
    "**↑♎分析：**  发现结果更差了，分类正确率ACC只有0.7，其原因：\n",
    "> + `MultinomialNB`主要用于输入为离散型的情况，即**特征值之间相互独立**，而该项目的特征不能被看成离散型，\n",
    "> + 例如`doors`的取值，2,3,4,5,more，这些数值之间不是完全没有联系的，有大小关系存在。\n",
    "> + 所以，效果差的原因就是该项目选用该模型不合适。"
   ]
  },
  {
   "cell_type": "markdown",
   "metadata": {},
   "source": [
    "### MultinomialNB模型属性\n",
    "> 训练模型后，`MultinomialNB`和`BernoulliNB`类可以查看下列属性：\n",
    ">> |属性|\t说明|\n",
    "|---:|---:|\n",
    "|class_log_prior_  |\t每个类别的对数平滑先验概率|\n",
    "|feature_log_prob_\t|不同类别下各特征的对数类条件概率|\n",
    "|class_count_\t|不同类别下样本的个数|\n",
    "|feature_count_\t|不同类别下特征取值的加和|"
   ]
  },
  {
   "cell_type": "code",
   "execution_count": null,
   "metadata": {},
   "outputs": [],
   "source": [
    "MNB.class_log_prior_"
   ]
  },
  {
   "cell_type": "code",
   "execution_count": null,
   "metadata": {},
   "outputs": [],
   "source": [
    "MNB.feature_log_prob_"
   ]
  },
  {
   "cell_type": "code",
   "execution_count": null,
   "metadata": {},
   "outputs": [],
   "source": [
    "MNB.class_count_"
   ]
  },
  {
   "cell_type": "code",
   "execution_count": null,
   "metadata": {},
   "outputs": [],
   "source": [
    "MNB.feature_count_"
   ]
  },
  {
   "cell_type": "markdown",
   "metadata": {},
   "source": [
    "## 5.3 Bernoulli朴素贝叶斯\n",
    "\n",
    "### BernoulliNB建模与评价"
   ]
  },
  {
   "cell_type": "code",
   "execution_count": null,
   "metadata": {},
   "outputs": [],
   "source": [
    "# 导入库BernoulliNB\n",
    "from sklearn.naive_bayes import BernoulliNB\n",
    "\n",
    "# 模型构建与拟合\n",
    "BNB = BernoulliNB(binarize=2.0)\n",
    "BNB.fit(X_train, y_train)"
   ]
  },
  {
   "cell_type": "markdown",
   "metadata": {},
   "source": [
    "**BernoulliNB():**\n",
    "> + `BernoulliNB(alpha=1.0, binarize=2.0, class_prior=None, fit_prior=True)`\n",
    "\n",
    "**重要参数：** <br>\n",
    "\n",
    "|参数|\t说明|\n",
    "|----:|-----:|\n",
    "|alpha|\t添加拉普拉斯平滑系数，默认为1.0|\n",
    "|binarize（BernoulliNB）|\t二值化的阈值，默认为0.0|\n",
    "|fit_prior\t|是否学习先验概率，默认为True，若为False，则所有类别先验概率一致|\n",
    "|class_prior|\t自行设定类别先验概率，默认为None（学习先验概率）|"
   ]
  },
  {
   "cell_type": "code",
   "execution_count": null,
   "metadata": {},
   "outputs": [],
   "source": [
    "# 模型预测\n",
    "y_pred_BNB = BNB.predict(X_test)\n",
    "\n",
    "# 分类正确率\n",
    "print(\"分类正确率：\",round(BNB.score(X_test, y_test),4))\n",
    "\n",
    "# 分类报告\n",
    "print(classification_report(y_test, y_pred_BNB))\n",
    "\n",
    "# 绘制热力图\n",
    "ax = sns.heatmap(confusion_matrix(y_test, y_pred_BNB), \n",
    "                 annot=True, fmt='d', \n",
    "                 xticklabels=[\"满意(0)\",\"不满意(1)\"], yticklabels=[\"满意(0)\",\"不满意(1)\"])\n",
    "ax.set_ylabel('真实')\n",
    "ax.set_xlabel('预测')\n",
    "ax.set_title('混淆矩阵热力图')"
   ]
  },
  {
   "cell_type": "markdown",
   "metadata": {},
   "source": [
    "**↑♎分析：** 其效果跟`MultinomialNB`差不多，其主要原因也类似：\n",
    "> + `BernoulliNB`主要面对输入为离散型的情况，将特征二值化，例如一个词在文本中是否出现（1为是，0为否）,该项目使用该模型不适合。\n"
   ]
  },
  {
   "cell_type": "markdown",
   "metadata": {},
   "source": [
    "### BernoulliNB模型属性\n",
    "> 训练模型后，MultinomialNB和BernoulliNB类可以查看下列属性：\n",
    ">> |属性|\t说明|\n",
    "|---:|---:|\n",
    "|class_log_prior_  |\t每个类别的对数平滑先验概率|\n",
    "|feature_log_prob_\t|不同类别下各特征的对数类条件概率|\n",
    "|class_count_\t|不同类别下样本的个数|\n",
    "|feature_count_\t|不同类别下特征取值的加和|"
   ]
  },
  {
   "cell_type": "code",
   "execution_count": null,
   "metadata": {},
   "outputs": [],
   "source": [
    "BNB.class_log_prior_"
   ]
  },
  {
   "cell_type": "code",
   "execution_count": null,
   "metadata": {},
   "outputs": [],
   "source": [
    "BNB.feature_log_prob_"
   ]
  },
  {
   "cell_type": "code",
   "execution_count": null,
   "metadata": {},
   "outputs": [],
   "source": [
    "BNB.class_count_"
   ]
  },
  {
   "cell_type": "code",
   "execution_count": null,
   "metadata": {},
   "outputs": [],
   "source": [
    "BNB.feature_count_"
   ]
  },
  {
   "cell_type": "markdown",
   "metadata": {},
   "source": [
    "<div id=\"6\"></div>\n",
    "\n",
    "# 6. 支持向量机\n",
    "\n",
    "**数据准备：**"
   ]
  },
  {
   "cell_type": "code",
   "execution_count": null,
   "metadata": {},
   "outputs": [],
   "source": [
    "# 读取文件数据\n",
    "file_path= \"./dataSets/data_chap4/car_evaluate.csv\"\n",
    "data = pd.read_csv(file_path)\n",
    "data.columns"
   ]
  },
  {
   "cell_type": "code",
   "execution_count": null,
   "metadata": {},
   "outputs": [],
   "source": [
    "# X,y分离，train与test分割（8:2）\n",
    "from sklearn.model_selection import train_test_split\n",
    "X = data.drop(['car_acceptability'],axis=1)\n",
    "y = data['car_acceptability']\n",
    "X_train,X_test,y_train,y_test=train_test_split(X,y,\n",
    "                                               test_size=0.2,\n",
    "                                               random_state=77)         "
   ]
  },
  {
   "cell_type": "code",
   "execution_count": null,
   "metadata": {},
   "outputs": [],
   "source": [
    "# 模型评价所需相关库：accuracy_score,confusion_matrix,classification_report\n",
    "from sklearn.metrics import accuracy_score,confusion_matrix,classification_report"
   ]
  },
  {
   "cell_type": "markdown",
   "metadata": {},
   "source": [
    "## 6.1 LinearSVC"
   ]
  },
  {
   "cell_type": "markdown",
   "metadata": {},
   "source": [
    "### LinearSVC模型创建与评价"
   ]
  },
  {
   "cell_type": "code",
   "execution_count": null,
   "metadata": {},
   "outputs": [],
   "source": [
    "# 载入库LinearSVC\n",
    "from _______________ import LinearSVC\n",
    "\n",
    "# 模型构建与拟合\n",
    "##  # max_iter=10000,可去除警告ConvergenceWarning: Liblinear failed to converge\n",
    "lsvm = LinearSVC(random_state=10,max_iter=10000)  \n",
    "lsvm.________"
   ]
  },
  {
   "cell_type": "markdown",
   "metadata": {},
   "source": [
    "LinearSVC:\n",
    "> `LinearSVC(C=1.0, class_weight=None, dual=True, fit_intercept=True,\n",
    "     intercept_scaling=1, loss='squared_hinge', max_iter=10000,\n",
    "     multi_class='ovr', penalty='l2', random_state=10, tol=0.0001,\n",
    "     verbose=0)`\n",
    "\n",
    "主要参数说明：\n",
    "\n",
    ">|参数|\t说明|\n",
    "|----:|-----:|\n",
    "|penalty\t|指定优化时使用的范数类型，默认为”l2”，可设置为”l1”|\n",
    "|loss\t|指定优化时的损失函数，默认为”squared_hinge”（平方合页损失）|\n",
    "|C\t|设置惩罚系数，默认为1.0|\n",
    "|multi_class\t|处理多分类问题的策略，默认为”ovr”（一对多）|\n",
    "|class_weight\t|设置不同类别的分类权重|\n"
   ]
  },
  {
   "cell_type": "code",
   "execution_count": null,
   "metadata": {},
   "outputs": [],
   "source": [
    "# 模型预测\n",
    "y_pred_lsvm = ________\n",
    "\n",
    "# 分类正确率\n",
    "print(\"分类正确率ACC：\",round(________,4))\n",
    "\n",
    "# 分类报告\n",
    "print(________)\n",
    "\n",
    "# 绘制热力图\n",
    "ax = sns.heatmap(________, \n",
    "                 annot=True, fmt='d', \n",
    "                 xticklabels=[\"满意(0)\",\"不满意(1)\"],\n",
    "                 yticklabels=[\"满意(0)\",\"不满意(1)\"])\n",
    "ax.set_ylabel('真实')\n",
    "ax.set_xlabel('预测')\n",
    "ax.set_title('混淆矩阵热力图')"
   ]
  },
  {
   "cell_type": "markdown",
   "metadata": {},
   "source": [
    "**↑♎分析：**\n",
    "> + (1)从分类正确率ACC看：0.85，还可以 <br>\n",
    "> + (2)从分类报告看：1类的效果明显好于0类\n",
    "> + (3)从混淆矩阵热力图：0类有近三分之一分错了。\n",
    "\n",
    "> + 尝试调整参数的值，观察是否可以进一步提高模型效果\n"
   ]
  },
  {
   "cell_type": "markdown",
   "metadata": {},
   "source": [
    "### LinearSVC模型优化\n",
    "> + 原模型：<br>\n",
    "`LinearSVC(C=1.0, class_weight=None, dual=True, fit_intercept=True,\n",
    "     intercept_scaling=1, loss='squared_hinge', max_iter=1000,\n",
    "     multi_class='ovr', penalty='l2', random_state=10, tol=0.0001,\n",
    "     verbose=0)`\n",
    "     \n",
    "> + 常用优化途径：<br>\n",
    ">> + (1)调整惩罚系数`C`：[0.01, 0.1, 0.5, 1, 2, 5, 10]<br>\n",
    ">> + (2) 改变正则项`penalty`:‘l2’或‘l1’\n",
    "\n",
    "> + 接下来，考察**不同惩罚系数`C`下模型分类正确率**\n"
   ]
  },
  {
   "cell_type": "code",
   "execution_count": null,
   "metadata": {},
   "outputs": [],
   "source": [
    "# 构造惩罚系数C的列表C_grid \n",
    "C_grid = [0.1, 0.3, 0.5, 0.7, 1, 2, 5, 10, 100]\n",
    "# 不同C下的模型构建 -> 训练 ->评价\n",
    "C_scores = [LinearSVC(C=c, random_state=10,max_iter=10000)   # max_iter=10000,可去除警告ConvergenceWarning: Liblinear failed to converge,\n",
    "            .______________\n",
    "            .______________\n",
    "            for c in C_grid ]\n",
    "\n",
    "# 绘制折线图\n",
    "plt.figure(figsize=(8, 6))\n",
    "plt.plot(______________, 'm-x', linewidth=2)\n",
    "plt.xticks(range(9), C_grid)\n",
    "plt.xlabel('惩罚系数')\n",
    "plt.ylabel('正确率')\n",
    "plt.title('不同惩罚系数下模型分类正确率')"
   ]
  },
  {
   "cell_type": "markdown",
   "metadata": {},
   "source": [
    "**↑♎分析：**\n",
    "> + C=2或5或10时，模型可以取得最佳的正确率；随着C的增大，C越大，对错误的容忍程度就越小，分类正确率会降低."
   ]
  },
  {
   "cell_type": "markdown",
   "metadata": {},
   "source": [
    "### LinearSVC模型参数\n",
    "> 调用属性`coef_`和`intercept_`可以查看模型系数和截距项\n"
   ]
  },
  {
   "cell_type": "code",
   "execution_count": null,
   "metadata": {},
   "outputs": [],
   "source": [
    "# 查看截距项\n",
    "lsvm.intercept_"
   ]
  },
  {
   "cell_type": "code",
   "execution_count": null,
   "metadata": {},
   "outputs": [],
   "source": [
    "# 查看模型系数\n",
    "lsvm.coef_"
   ]
  },
  {
   "cell_type": "code",
   "execution_count": null,
   "metadata": {},
   "outputs": [],
   "source": [
    "# 以上系数对应的特征名称\n",
    "index = X_train.columns\n",
    "index"
   ]
  },
  {
   "cell_type": "code",
   "execution_count": null,
   "metadata": {},
   "outputs": [],
   "source": [
    "# 绘图\n",
    "pd.Series(______________,index=X_train.columns).plot(kind='barh', title='系数条形图',grid=True)"
   ]
  },
  {
   "cell_type": "markdown",
   "metadata": {},
   "source": [
    "**↑♎分析：** 将2.5节中逻辑回归的系数图与该线性支持向量机的系数条形图进行对比，不难发现，基本一致。"
   ]
  },
  {
   "cell_type": "markdown",
   "metadata": {},
   "source": [
    "## SVC\n",
    "> 构建非线性支持向量机模型\n"
   ]
  },
  {
   "cell_type": "markdown",
   "metadata": {},
   "source": [
    "### SVC模型构建与评价"
   ]
  },
  {
   "cell_type": "code",
   "execution_count": null,
   "metadata": {},
   "outputs": [],
   "source": [
    "# 载入算法类SVC\n",
    "from ______________ import SVC\n",
    "\n",
    "# 模型构建与拟合\n",
    "ksvm = SVC(random_state=10)\n",
    "ksvm.______________"
   ]
  },
  {
   "cell_type": "code",
   "execution_count": null,
   "metadata": {},
   "outputs": [],
   "source": [
    "# 模型预测\n",
    "y_pred_ksvm = ksvm.______________\n",
    "\n",
    "# 分类正确率\n",
    "print(\"分类正确率：\",round(ksvm.score(X_test, y_test),4))\n",
    "\n",
    "# 分类报告\n",
    "print(classification_report(______________, ______________))\n",
    "\n",
    "# 绘制热力图\n",
    "ax = sns.heatmap(____________________________, \n",
    "                 annot=True, fmt='d', \n",
    "                 xticklabels=[\"满意(0)\",\"不满意(1)\"], \n",
    "                 yticklabels=[\"满意(0)\",\"不满意(1)\"])\n",
    "ax.set_ylabel('真实')\n",
    "ax.set_xlabel('预测')\n",
    "ax.set_title('混淆矩阵热力图')"
   ]
  },
  {
   "cell_type": "markdown",
   "metadata": {},
   "source": [
    "**↑♎分析：** \n",
    "> + (1)从分类正确率看：ACC=0.96 <br>\n",
    "> + (2)从分类报告看：O类和1类的效果均比较好<br>\n",
    "> + (3) 从混淆矩阵热力图看：效果比较好<br>\n",
    "\n",
    "> + 综合效果较好，等同于决策树，好的原因：该**项目属于非线性分类问题**。"
   ]
  },
  {
   "cell_type": "markdown",
   "metadata": {},
   "source": [
    "### SVC模型优化\n",
    "> 原SVC模型：<br>\n",
    ">> `SVC(C=1.0, cache_size=200, class_weight=None, coef0=0.0,\n",
    "  decision_function_shape='ovr', degree=3, gamma='auto_deprecated',\n",
    "  kernel='rbf', max_iter=-1, probability=False, random_state=10,\n",
    "  shrinking=True, tol=0.001, verbose=False)`\n",
    "  \n",
    "> 常用优化途径：\n",
    ">> (1) 调整核函数：`kernel='rbf',`:`['poly','sigmoid']`<br>\n",
    "(2) 调整惩罚系数的取值： `C`：`[0.001, 0.1, 0.5, 1, 2, 5, 10] `  <br>\n",
    "(3) 调整径向基核函数中窗宽参数的取值：`gamma`:`[0.001, 0.1, 0.5, 1, 2, 5, 10]`  <br>"
   ]
  },
  {
   "cell_type": "markdown",
   "metadata": {},
   "source": [
    "**（1）更换核函数**"
   ]
  },
  {
   "cell_type": "code",
   "execution_count": null,
   "metadata": {},
   "outputs": [],
   "source": [
    "# 调整核函数\n",
    "kernel_grid = ['poly','sigmoid']\n",
    "kernel_scores = [SVC(______________, random_state=10,gamma='auto')\n",
    "                 .______________\n",
    "                 .______________ \n",
    "                for k in kernel_grid]\n",
    "print(pd.Series(kernel_scores, index=['poly', 'sigmoid']))"
   ]
  },
  {
   "cell_type": "markdown",
   "metadata": {},
   "source": [
    "**↑♎分析：** \n",
    "> + (1) 使用多项式核函数效果好，与'rbf'高斯核函数效果接近<br>\n",
    "> + (2) 使用sigmoid核函数效果差"
   ]
  },
  {
   "cell_type": "markdown",
   "metadata": {},
   "source": [
    "**（2）调整惩罚系数**"
   ]
  },
  {
   "cell_type": "code",
   "execution_count": null,
   "metadata": {},
   "outputs": [],
   "source": [
    "# 调整惩罚系数的取值\n",
    "C_grid = [0.1, 0.3, 0.5, 0.7, 1, 2, 5, 10, 100]\n",
    "C_scores = [SVC(______________, random_state=10,gamma='auto')\n",
    "            .______________\n",
    "            .______________ \n",
    "            for c in C_grid]\n",
    "\n",
    "# 绘制折线图\n",
    "plt.figure(figsize=(8, 6))\n",
    "plt.plot(C_scores, 'k-o', linewidth=2)\n",
    "plt.xticks(range(9), C_grid)\n",
    "plt.xlabel('惩罚系数')\n",
    "plt.ylabel('正确率')\n",
    "plt.title('不同惩罚系数下模型分类正确率')"
   ]
  },
  {
   "cell_type": "markdown",
   "metadata": {},
   "source": [
    "**↑♎分析：** 模型分类正确率随着C的增大而提高，但实际应用中不宜设置C过大。"
   ]
  },
  {
   "cell_type": "markdown",
   "metadata": {},
   "source": [
    "**(3) 调整径向基核函数中窗宽参数`gamma`的取值**"
   ]
  },
  {
   "cell_type": "code",
   "execution_count": null,
   "metadata": {},
   "outputs": [],
   "source": [
    "# 调整径向基核函数中窗宽参数的取值\n",
    "gamma_grid = [0.001, 0.1, 0.5, 1, 2, 5, 10]\n",
    "gamma_scores = [SVC(______________, random_state=10)\n",
    "           .______________\n",
    "           .______________\n",
    "           for g in gamma_grid]\n",
    "\n",
    "# 绘制折线图\n",
    "plt.figure(figsize=(8, 6))\n",
    "plt.plot(gamma_scores, 'k-o', linewidth=2)\n",
    "plt.xticks(range(7),gamma_grid)\n",
    "plt.xlabel('惩罚系数')\n",
    "plt.ylabel('正确率')\n",
    "plt.title('不同惩罚系数下模型分类正确率')"
   ]
  },
  {
   "cell_type": "markdown",
   "metadata": {},
   "source": [
    " **↑♎分析：** 当`gamma=1`时，SVC的核函数取`kernel=rbf`(高斯核函数)效果最好"
   ]
  },
  {
   "cell_type": "markdown",
   "metadata": {},
   "source": [
    "### 查看支持向量\n",
    "> 使用训练后的模型,访问其属性`support_vectors_`可查看模型的支持向量"
   ]
  },
  {
   "cell_type": "code",
   "execution_count": null,
   "metadata": {},
   "outputs": [],
   "source": [
    "# 查看支持向量\n",
    "# 为了表示方便，只输出了列表前10个\n",
    "vc = SVC(C=5, random_state=10).fit(X_train,y_train).support_vectors_[:10]\n",
    "print(vc)"
   ]
  },
  {
   "cell_type": "code",
   "execution_count": null,
   "metadata": {},
   "outputs": [],
   "source": [
    "# 对应的特征名称\n",
    "index = X_train.columns\n",
    "index"
   ]
  },
  {
   "cell_type": "code",
   "execution_count": null,
   "metadata": {},
   "outputs": [],
   "source": [
    "print(index)\n",
    "print(vc)"
   ]
  },
  {
   "cell_type": "markdown",
   "metadata": {},
   "source": [
    " **↑♎分析：**支持向量就是分类边界，就是通过以上支持向量，将数据分成了0类和1类的；当数据越过支持向量的边界，类别就会发生变化。"
   ]
  },
  {
   "cell_type": "markdown",
   "metadata": {},
   "source": [
    "# 小结\n",
    "\n",
    "> + 本章介绍的分类模型有：<br>\n",
    ">> ● 逻辑回归：`from sklearn.linear_model import LogisticRegression` <br>\n",
    "● K-近邻：`from sklearn.neighbors import KNeighborsClassifier` <br>\n",
    "● 决策树：`from sklearn.tree import DecisionTreeClassifier` <br>\n",
    "● 朴素贝叶斯-1：`from sklearn.naive_bayes import GaussianNB` <br>\n",
    "● 朴素贝叶斯-2：`from sklearn.naive_bayes import BernoulliNB`  <br>\n",
    "● 朴素贝叶斯-3：`from sklearn.naive_bayes import MultinomialNB` <br>\n",
    "● 支持向量机-1: `from sklearn.svm import LinearSVC`  <br>\n",
    "● 支持向量机-2: `from sklearn.svm import SVC`  <br>\n",
    "\n",
    "> + 通过数据集Car Evaluation这一二分类任务，对Sklearn中分类模型进行了详细介绍，从模型构建-->训练-->预测-->优化-->可视化等方面进行了训练，要注重掌握模型的适用场合，以期达到融会贯通、学以致用的目的。\n",
    "\n",
    "\n",
    "\n"
   ]
  }
 ],
 "metadata": {
  "kernelspec": {
   "display_name": "Python 3",
   "language": "python",
   "name": "python3"
  },
  "language_info": {
   "codemirror_mode": {
    "name": "ipython",
    "version": 3
   },
   "file_extension": ".py",
   "mimetype": "text/x-python",
   "name": "python",
   "nbconvert_exporter": "python",
   "pygments_lexer": "ipython3",
   "version": "3.7.4"
  },
  "latex_envs": {
   "LaTeX_envs_menu_present": true,
   "autoclose": false,
   "autocomplete": true,
   "bibliofile": "biblio.bib",
   "cite_by": "apalike",
   "current_citInitial": 1,
   "eqLabelWithNumbers": true,
   "eqNumInitial": 1,
   "hotkeys": {
    "equation": "Ctrl-E",
    "itemize": "Ctrl-I"
   },
   "labels_anchors": false,
   "latex_user_defs": false,
   "report_style_numbering": false,
   "user_envs_cfg": false
  },
  "toc": {
   "base_numbering": 1,
   "nav_menu": {},
   "number_sections": true,
   "sideBar": true,
   "skip_h1_title": false,
   "title_cell": "Table of Contents",
   "title_sidebar": "Contents",
   "toc_cell": false,
   "toc_position": {
    "height": "calc(100% - 180px)",
    "left": "10px",
    "top": "150px",
    "width": "294px"
   },
   "toc_section_display": true,
   "toc_window_display": false
  },
  "varInspector": {
   "cols": {
    "lenName": 16,
    "lenType": 16,
    "lenVar": 40
   },
   "kernels_config": {
    "python": {
     "delete_cmd_postfix": "",
     "delete_cmd_prefix": "del ",
     "library": "var_list.py",
     "varRefreshCmd": "print(var_dic_list())"
    },
    "r": {
     "delete_cmd_postfix": ") ",
     "delete_cmd_prefix": "rm(",
     "library": "var_list.r",
     "varRefreshCmd": "cat(var_dic_list()) "
    }
   },
   "types_to_exclude": [
    "module",
    "function",
    "builtin_function_or_method",
    "instance",
    "_Feature"
   ],
   "window_display": false
  }
 },
 "nbformat": 4,
 "nbformat_minor": 2
}
