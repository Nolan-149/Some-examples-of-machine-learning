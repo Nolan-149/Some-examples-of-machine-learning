{
 "cells": [
  {
   "cell_type": "markdown",
   "metadata": {},
   "source": [
    "sklearn07_1_利用集成方法预测贷款申请者是否可以获得贷款\n",
    "\n",
    "**案例描述：**\n",
    "> 本案例为《机器学习实践》第七章集成模型的课程配套代码。通过尝试建立不同的集成模型，预测贷款申请者是否可以获得贷款，数据集来自Kaggle数据科学竞赛平台。\n",
    "\n",
    "**数据集：**\n",
    "> file_path = \"./dataSets/data_chap7/loan.csv\".   <br>\n",
    "> 数据集loan包含13个特征，共614个样本点。记录了一些申请者的情况，包括基本信息和一些信用指标。<br>\n",
    ">利用集成方法来训练一个分类器，用于预测申请者是否能获得贷款，这是一个二分类问题<br>\n",
    "\n",
    ">> |字段|说明|\n",
    "|:--|:--|\n",
    "|Loan_ID|申请人ID|\n",
    "|Gender|性别（Male：男，Female：女）|\n",
    "|Married|婚姻状况（Yes：已婚，No：未婚）|\n",
    "|Denpendents|抚养人个数（0， 1，2,  3+（三个以上））|\n",
    "|Education|教育情况（Graduate：毕业生，Not Graduate：非毕业生）|\n",
    "|Self_Employed|是否为自由职业者（Yes：是，No：否）|\n",
    "|AppplicantIncome|申请人收入|\n",
    "|CoapplicantIncome|共同申请人收入|\n",
    "|LoanAmount|贷款金额|\n",
    "|Loan_Amount_Term|还款期限|\n",
    "|Credit_History|是否有违约历史（1：是，0：否）|\n",
    "|Propperty_Area|居住地段（Semiurban：半城市，Urban：城市，Rural：农村）|\n",
    "|Loan_Status（目标）|是否获得贷款（Y：是，N：否）|\n",
    "\n",
    "**学习目标：**\n",
    "> 完成集成模型和ensemble模块练习\n",
    ">>● Bagging <br>\n",
    ">>>随机森林\n",
    "\n",
    ">> ●Boosting <br>\n",
    ">>>AdaBoost<br>\n",
    ">>>GBDT<br>\n",
    "\n",
    ">> ●Voting Classifier  <br>\n",
    "\n",
    "**集成思想：**\n",
    "> **经常用于工业应用领域，机器学习竞赛中。**\n",
    "> ![](./imgs/chap07/fig07_01.png)\n",
    "\n",
    "**sklearn中的ensemble集成模块：**\n",
    "> 包括的主要类：\n",
    ">> |类\t|说明|\n",
    "|---:|---:|\n",
    "|ensemble.BaggingClassifier\t|Bagging分类|\n",
    "|ensemble.BaggingRegressor\t|Bagging回归|\n",
    "|ensemble.RandomForestClassifier\t|随机森林分类|\n",
    "|ensemble.RandomForestRegressor\t|随机森林回归|\n",
    "|ensemble.AdaBoostClassifier\t|AdaBoost分类|\n",
    "|ensemble.AdaBoostRegressor\t|AdaBoost回归|\n",
    "|ensemble.GradientBoostingClassifier\t|梯度提升分类|\n",
    "|ensemble.GradientBoostingRegressor\t|梯度提升回归|\n",
    "|Ensemble.VotingClassifier\t|投票表决分类器|\n"
   ]
  },
  {
   "cell_type": "code",
   "execution_count": 2,
   "metadata": {
    "code_folding": []
   },
   "outputs": [],
   "source": [
    "## 忽略警告\n",
    "import warnings\n",
    "warnings.filterwarnings('ignore')"
   ]
  },
  {
   "cell_type": "markdown",
   "metadata": {},
   "source": [
    "**导入必要包**"
   ]
  },
  {
   "cell_type": "code",
   "execution_count": 3,
   "metadata": {},
   "outputs": [],
   "source": [
    "import numpy as np\n",
    "import pandas as pd\n",
    "import matplotlib.pyplot as plt\n",
    "import seaborn as sns\n",
    "\n",
    "plt.rcParams['font.sans-serif'] = ['SimHei']\n",
    "plt.rcParams['axes.unicode_minus'] = False\n",
    "\n",
    "%matplotlib inline"
   ]
  },
  {
   "cell_type": "markdown",
   "metadata": {},
   "source": [
    "# 数据预处理"
   ]
  },
  {
   "cell_type": "markdown",
   "metadata": {},
   "source": [
    "**读入数据**"
   ]
  },
  {
   "cell_type": "code",
   "execution_count": 4,
   "metadata": {},
   "outputs": [
    {
     "data": {
      "text/html": [
       "<div>\n",
       "<style scoped>\n",
       "    .dataframe tbody tr th:only-of-type {\n",
       "        vertical-align: middle;\n",
       "    }\n",
       "\n",
       "    .dataframe tbody tr th {\n",
       "        vertical-align: top;\n",
       "    }\n",
       "\n",
       "    .dataframe thead th {\n",
       "        text-align: right;\n",
       "    }\n",
       "</style>\n",
       "<table border=\"1\" class=\"dataframe\">\n",
       "  <thead>\n",
       "    <tr style=\"text-align: right;\">\n",
       "      <th></th>\n",
       "      <th>Loan_ID</th>\n",
       "      <th>Gender</th>\n",
       "      <th>Married</th>\n",
       "      <th>Dependents</th>\n",
       "      <th>Education</th>\n",
       "      <th>Self_Employed</th>\n",
       "      <th>ApplicantIncome</th>\n",
       "      <th>CoapplicantIncome</th>\n",
       "      <th>LoanAmount</th>\n",
       "      <th>Loan_Amount_Term</th>\n",
       "      <th>Credit_History</th>\n",
       "      <th>Property_Area</th>\n",
       "      <th>Loan_Status</th>\n",
       "    </tr>\n",
       "  </thead>\n",
       "  <tbody>\n",
       "    <tr>\n",
       "      <th>0</th>\n",
       "      <td>LP001002</td>\n",
       "      <td>Male</td>\n",
       "      <td>No</td>\n",
       "      <td>0</td>\n",
       "      <td>Graduate</td>\n",
       "      <td>No</td>\n",
       "      <td>5849</td>\n",
       "      <td>0.0</td>\n",
       "      <td>NaN</td>\n",
       "      <td>360.0</td>\n",
       "      <td>1.0</td>\n",
       "      <td>Urban</td>\n",
       "      <td>Y</td>\n",
       "    </tr>\n",
       "    <tr>\n",
       "      <th>1</th>\n",
       "      <td>LP001003</td>\n",
       "      <td>Male</td>\n",
       "      <td>Yes</td>\n",
       "      <td>1</td>\n",
       "      <td>Graduate</td>\n",
       "      <td>No</td>\n",
       "      <td>4583</td>\n",
       "      <td>1508.0</td>\n",
       "      <td>128.0</td>\n",
       "      <td>360.0</td>\n",
       "      <td>1.0</td>\n",
       "      <td>Rural</td>\n",
       "      <td>N</td>\n",
       "    </tr>\n",
       "    <tr>\n",
       "      <th>2</th>\n",
       "      <td>LP001005</td>\n",
       "      <td>Male</td>\n",
       "      <td>Yes</td>\n",
       "      <td>0</td>\n",
       "      <td>Graduate</td>\n",
       "      <td>Yes</td>\n",
       "      <td>3000</td>\n",
       "      <td>0.0</td>\n",
       "      <td>66.0</td>\n",
       "      <td>360.0</td>\n",
       "      <td>1.0</td>\n",
       "      <td>Urban</td>\n",
       "      <td>Y</td>\n",
       "    </tr>\n",
       "    <tr>\n",
       "      <th>3</th>\n",
       "      <td>LP001006</td>\n",
       "      <td>Male</td>\n",
       "      <td>Yes</td>\n",
       "      <td>0</td>\n",
       "      <td>Not Graduate</td>\n",
       "      <td>No</td>\n",
       "      <td>2583</td>\n",
       "      <td>2358.0</td>\n",
       "      <td>120.0</td>\n",
       "      <td>360.0</td>\n",
       "      <td>1.0</td>\n",
       "      <td>Urban</td>\n",
       "      <td>Y</td>\n",
       "    </tr>\n",
       "    <tr>\n",
       "      <th>4</th>\n",
       "      <td>LP001008</td>\n",
       "      <td>Male</td>\n",
       "      <td>No</td>\n",
       "      <td>0</td>\n",
       "      <td>Graduate</td>\n",
       "      <td>No</td>\n",
       "      <td>6000</td>\n",
       "      <td>0.0</td>\n",
       "      <td>141.0</td>\n",
       "      <td>360.0</td>\n",
       "      <td>1.0</td>\n",
       "      <td>Urban</td>\n",
       "      <td>Y</td>\n",
       "    </tr>\n",
       "  </tbody>\n",
       "</table>\n",
       "</div>"
      ],
      "text/plain": [
       "    Loan_ID Gender Married Dependents     Education Self_Employed  \\\n",
       "0  LP001002   Male      No          0      Graduate            No   \n",
       "1  LP001003   Male     Yes          1      Graduate            No   \n",
       "2  LP001005   Male     Yes          0      Graduate           Yes   \n",
       "3  LP001006   Male     Yes          0  Not Graduate            No   \n",
       "4  LP001008   Male      No          0      Graduate            No   \n",
       "\n",
       "   ApplicantIncome  CoapplicantIncome  LoanAmount  Loan_Amount_Term  \\\n",
       "0             5849                0.0         NaN             360.0   \n",
       "1             4583             1508.0       128.0             360.0   \n",
       "2             3000                0.0        66.0             360.0   \n",
       "3             2583             2358.0       120.0             360.0   \n",
       "4             6000                0.0       141.0             360.0   \n",
       "\n",
       "   Credit_History Property_Area Loan_Status  \n",
       "0             1.0         Urban           Y  \n",
       "1             1.0         Rural           N  \n",
       "2             1.0         Urban           Y  \n",
       "3             1.0         Urban           Y  \n",
       "4             1.0         Urban           Y  "
      ]
     },
     "execution_count": 4,
     "metadata": {},
     "output_type": "execute_result"
    }
   ],
   "source": [
    "## 读取数据\n",
    "\n",
    "file_path = \"./dataSets/data_chap7/loan.csv\"\n",
    "loan = pd.read_csv(file_path)\n",
    "loan.head()"
   ]
  },
  {
   "cell_type": "code",
   "execution_count": 5,
   "metadata": {},
   "outputs": [
    {
     "data": {
      "text/plain": [
       "(614, 13)"
      ]
     },
     "execution_count": 5,
     "metadata": {},
     "output_type": "execute_result"
    }
   ],
   "source": [
    "## shape\n",
    "\n",
    "loan.shape"
   ]
  },
  {
   "cell_type": "code",
   "execution_count": 6,
   "metadata": {},
   "outputs": [
    {
     "name": "stdout",
     "output_type": "stream",
     "text": [
      "<class 'pandas.core.frame.DataFrame'>\n",
      "RangeIndex: 614 entries, 0 to 613\n",
      "Data columns (total 13 columns):\n",
      " #   Column             Non-Null Count  Dtype  \n",
      "---  ------             --------------  -----  \n",
      " 0   Loan_ID            614 non-null    object \n",
      " 1   Gender             601 non-null    object \n",
      " 2   Married            611 non-null    object \n",
      " 3   Dependents         599 non-null    object \n",
      " 4   Education          614 non-null    object \n",
      " 5   Self_Employed      582 non-null    object \n",
      " 6   ApplicantIncome    614 non-null    int64  \n",
      " 7   CoapplicantIncome  614 non-null    float64\n",
      " 8   LoanAmount         592 non-null    float64\n",
      " 9   Loan_Amount_Term   600 non-null    float64\n",
      " 10  Credit_History     564 non-null    float64\n",
      " 11  Property_Area      614 non-null    object \n",
      " 12  Loan_Status        614 non-null    object \n",
      "dtypes: float64(4), int64(1), object(8)\n",
      "memory usage: 62.5+ KB\n"
     ]
    }
   ],
   "source": [
    "## info()\n",
    "loan.info()"
   ]
  },
  {
   "cell_type": "markdown",
   "metadata": {},
   "source": [
    "分析： 从info()基本信息看，数据存在缺失值"
   ]
  },
  {
   "cell_type": "markdown",
   "metadata": {},
   "source": [
    "## 缺失值处理"
   ]
  },
  {
   "cell_type": "markdown",
   "metadata": {},
   "source": [
    "**检查缺失值情况**"
   ]
  },
  {
   "cell_type": "code",
   "execution_count": 7,
   "metadata": {},
   "outputs": [
    {
     "data": {
      "text/plain": [
       "Loan_ID               0\n",
       "Gender               13\n",
       "Married               3\n",
       "Dependents           15\n",
       "Education             0\n",
       "Self_Employed        32\n",
       "ApplicantIncome       0\n",
       "CoapplicantIncome     0\n",
       "LoanAmount           22\n",
       "Loan_Amount_Term     14\n",
       "Credit_History       50\n",
       "Property_Area         0\n",
       "Loan_Status           0\n",
       "dtype: int64"
      ]
     },
     "execution_count": 7,
     "metadata": {},
     "output_type": "execute_result"
    }
   ],
   "source": [
    "# 检查缺失值\n",
    "loan.isnull().sum()"
   ]
  },
  {
   "cell_type": "code",
   "execution_count": 8,
   "metadata": {},
   "outputs": [
    {
     "data": {
      "text/plain": [
       "Index(['Gender', 'Married', 'Dependents', 'Self_Employed', 'LoanAmount',\n",
       "       'Loan_Amount_Term', 'Credit_History'],\n",
       "      dtype='object')"
      ]
     },
     "execution_count": 8,
     "metadata": {},
     "output_type": "execute_result"
    }
   ],
   "source": [
    "## 获取存在缺失值的特征名,way1:\n",
    "abs_col = loan.isnull().any()\n",
    "abs_col[abs_col == True].index"
   ]
  },
  {
   "cell_type": "code",
   "execution_count": 9,
   "metadata": {},
   "outputs": [
    {
     "data": {
      "text/plain": [
       "Index(['Gender', 'Married', 'Dependents', 'Self_Employed', 'LoanAmount',\n",
       "       'Loan_Amount_Term', 'Credit_History'],\n",
       "      dtype='object')"
      ]
     },
     "execution_count": 9,
     "metadata": {},
     "output_type": "execute_result"
    }
   ],
   "source": [
    "## 获取存在缺失值的特征名,way2:\n",
    "loan.isnull().any()[loan.isnull().any().values==True].index"
   ]
  },
  {
   "cell_type": "markdown",
   "metadata": {},
   "source": [
    "需要对缺失值进行处理，具体为：\n",
    "> (1) 连续型特征采用其平均值填充\n",
    ">> 特征：`'LoanAmount',`\n",
    "\n",
    ">(2) 离散型特征采用其众数进行填充,\n",
    ">> 特征：`'Gender', 'Married', 'Dependents', 'Self_Employed', 'Loan_Amount_Term', 'Credit_History'`   <br>"
   ]
  },
  {
   "cell_type": "markdown",
   "metadata": {},
   "source": [
    "**数据预处理--缺失值处理**"
   ]
  },
  {
   "cell_type": "code",
   "execution_count": 10,
   "metadata": {},
   "outputs": [],
   "source": [
    "# 连续变量\"LoanAmount\"用其均值进行填充\n",
    "loan[\"LoanAmount\"].fillna(loan[\"LoanAmount\"].mean(),inplace=True)"
   ]
  },
  {
   "cell_type": "code",
   "execution_count": 11,
   "metadata": {},
   "outputs": [
    {
     "name": "stdout",
     "output_type": "stream",
     "text": [
      "0    Male\n",
      "dtype: object\n",
      "<class 'pandas.core.series.Series'>\n",
      "['Male']\n",
      "Male\n"
     ]
    }
   ],
   "source": [
    "## 求众数\n",
    "print(loan['Gender'].mode())\n",
    "print(type(loan['Gender'].mode()))\n",
    "print(loan['Gender'].mode().values)\n",
    "print(loan['Gender'].mode().values[0])"
   ]
  },
  {
   "cell_type": "code",
   "execution_count": 12,
   "metadata": {},
   "outputs": [],
   "source": [
    "## 离散变量用每列的众数进行填充\n",
    "dis_cols = ['Gender', 'Married', 'Dependents', 'Self_Employed', 'Credit_History', 'Loan_Amount_Term']\n",
    "for col in dis_cols:\n",
    "    loan[col].fillna(loan[col].mode().values[0], inplace=True)"
   ]
  },
  {
   "cell_type": "code",
   "execution_count": 13,
   "metadata": {},
   "outputs": [
    {
     "data": {
      "text/plain": [
       "Loan_ID              0\n",
       "Gender               0\n",
       "Married              0\n",
       "Dependents           0\n",
       "Education            0\n",
       "Self_Employed        0\n",
       "ApplicantIncome      0\n",
       "CoapplicantIncome    0\n",
       "LoanAmount           0\n",
       "Loan_Amount_Term     0\n",
       "Credit_History       0\n",
       "Property_Area        0\n",
       "Loan_Status          0\n",
       "dtype: int64"
      ]
     },
     "execution_count": 13,
     "metadata": {},
     "output_type": "execute_result"
    }
   ],
   "source": [
    "## 查看缺失值是否填充完毕\n",
    "loan.isnull().sum()"
   ]
  },
  {
   "cell_type": "code",
   "execution_count": 14,
   "metadata": {},
   "outputs": [
    {
     "data": {
      "text/plain": [
       "array([360., 120., 240., 180.,  60., 300., 480.,  36.,  84.,  12.])"
      ]
     },
     "execution_count": 14,
     "metadata": {},
     "output_type": "execute_result"
    }
   ],
   "source": [
    "## 考察特征 'Loan_Amount_Term'\n",
    "loan[ 'Loan_Amount_Term'].unique()"
   ]
  },
  {
   "cell_type": "markdown",
   "metadata": {},
   "source": [
    "说明：特征` 'Loan_Amount_Term'`可作为连续变量，也可作为有序的离散变量。这里，采用众数进行缺失值填充，但后续把他看做一个连续特征，不进行离散化编码。"
   ]
  },
  {
   "cell_type": "markdown",
   "metadata": {},
   "source": [
    "## 特征数值编码"
   ]
  },
  {
   "cell_type": "markdown",
   "metadata": {},
   "source": [
    "**数据预处理--离散特征数值编码**\n",
    "> (1) 有序的离散特征编码用`map()`:\n",
    ">> `'Dependents'`,孩子的数量0,1,2,3+有大小顺序关系在里面\n",
    "\n",
    ">(2)无序的离散特征编码用`OneHot`:\n",
    ">>`'Gender','Married','Education','Property_Area','Self_Employed','Credit_History'`"
   ]
  },
  {
   "cell_type": "code",
   "execution_count": 15,
   "metadata": {},
   "outputs": [
    {
     "data": {
      "text/plain": [
       "array(['0', '1', '2', '3+'], dtype=object)"
      ]
     },
     "execution_count": 15,
     "metadata": {},
     "output_type": "execute_result"
    }
   ],
   "source": [
    "## 有序离散特征'Dependents'数值编码\n",
    "loan['Dependents'].unique()"
   ]
  },
  {
   "cell_type": "code",
   "execution_count": 16,
   "metadata": {},
   "outputs": [],
   "source": [
    "## 使用map()对'Dependents'进行数值编码\n",
    "loan['Dependents'] = loan['Dependents'].map({\"0\":0,\"1\":1,\"2\":2,\"3+\":3})"
   ]
  },
  {
   "cell_type": "code",
   "execution_count": 17,
   "metadata": {},
   "outputs": [],
   "source": [
    "## 无序离散特征编码，使用one-hot编码\n",
    "dis_cols = ['Gender','Married','Education','Property_Area','Self_Employed','Credit_History']\n",
    "loan = pd.get_dummies(data=loan,columns=dis_cols)"
   ]
  },
  {
   "cell_type": "code",
   "execution_count": 18,
   "metadata": {},
   "outputs": [
    {
     "data": {
      "text/html": [
       "<div>\n",
       "<style scoped>\n",
       "    .dataframe tbody tr th:only-of-type {\n",
       "        vertical-align: middle;\n",
       "    }\n",
       "\n",
       "    .dataframe tbody tr th {\n",
       "        vertical-align: top;\n",
       "    }\n",
       "\n",
       "    .dataframe thead th {\n",
       "        text-align: right;\n",
       "    }\n",
       "</style>\n",
       "<table border=\"1\" class=\"dataframe\">\n",
       "  <thead>\n",
       "    <tr style=\"text-align: right;\">\n",
       "      <th></th>\n",
       "      <th>Loan_ID</th>\n",
       "      <th>Dependents</th>\n",
       "      <th>ApplicantIncome</th>\n",
       "      <th>CoapplicantIncome</th>\n",
       "      <th>LoanAmount</th>\n",
       "      <th>Loan_Amount_Term</th>\n",
       "      <th>Loan_Status</th>\n",
       "      <th>Gender_Female</th>\n",
       "      <th>Gender_Male</th>\n",
       "      <th>Married_No</th>\n",
       "      <th>Married_Yes</th>\n",
       "      <th>Education_Graduate</th>\n",
       "      <th>Education_Not Graduate</th>\n",
       "      <th>Property_Area_Rural</th>\n",
       "      <th>Property_Area_Semiurban</th>\n",
       "      <th>Property_Area_Urban</th>\n",
       "      <th>Self_Employed_No</th>\n",
       "      <th>Self_Employed_Yes</th>\n",
       "      <th>Credit_History_0.0</th>\n",
       "      <th>Credit_History_1.0</th>\n",
       "    </tr>\n",
       "  </thead>\n",
       "  <tbody>\n",
       "    <tr>\n",
       "      <th>0</th>\n",
       "      <td>LP001002</td>\n",
       "      <td>0</td>\n",
       "      <td>5849</td>\n",
       "      <td>0.0</td>\n",
       "      <td>146.412162</td>\n",
       "      <td>360.0</td>\n",
       "      <td>Y</td>\n",
       "      <td>0</td>\n",
       "      <td>1</td>\n",
       "      <td>1</td>\n",
       "      <td>0</td>\n",
       "      <td>1</td>\n",
       "      <td>0</td>\n",
       "      <td>0</td>\n",
       "      <td>0</td>\n",
       "      <td>1</td>\n",
       "      <td>1</td>\n",
       "      <td>0</td>\n",
       "      <td>0</td>\n",
       "      <td>1</td>\n",
       "    </tr>\n",
       "    <tr>\n",
       "      <th>1</th>\n",
       "      <td>LP001003</td>\n",
       "      <td>1</td>\n",
       "      <td>4583</td>\n",
       "      <td>1508.0</td>\n",
       "      <td>128.000000</td>\n",
       "      <td>360.0</td>\n",
       "      <td>N</td>\n",
       "      <td>0</td>\n",
       "      <td>1</td>\n",
       "      <td>0</td>\n",
       "      <td>1</td>\n",
       "      <td>1</td>\n",
       "      <td>0</td>\n",
       "      <td>1</td>\n",
       "      <td>0</td>\n",
       "      <td>0</td>\n",
       "      <td>1</td>\n",
       "      <td>0</td>\n",
       "      <td>0</td>\n",
       "      <td>1</td>\n",
       "    </tr>\n",
       "    <tr>\n",
       "      <th>2</th>\n",
       "      <td>LP001005</td>\n",
       "      <td>0</td>\n",
       "      <td>3000</td>\n",
       "      <td>0.0</td>\n",
       "      <td>66.000000</td>\n",
       "      <td>360.0</td>\n",
       "      <td>Y</td>\n",
       "      <td>0</td>\n",
       "      <td>1</td>\n",
       "      <td>0</td>\n",
       "      <td>1</td>\n",
       "      <td>1</td>\n",
       "      <td>0</td>\n",
       "      <td>0</td>\n",
       "      <td>0</td>\n",
       "      <td>1</td>\n",
       "      <td>0</td>\n",
       "      <td>1</td>\n",
       "      <td>0</td>\n",
       "      <td>1</td>\n",
       "    </tr>\n",
       "    <tr>\n",
       "      <th>3</th>\n",
       "      <td>LP001006</td>\n",
       "      <td>0</td>\n",
       "      <td>2583</td>\n",
       "      <td>2358.0</td>\n",
       "      <td>120.000000</td>\n",
       "      <td>360.0</td>\n",
       "      <td>Y</td>\n",
       "      <td>0</td>\n",
       "      <td>1</td>\n",
       "      <td>0</td>\n",
       "      <td>1</td>\n",
       "      <td>0</td>\n",
       "      <td>1</td>\n",
       "      <td>0</td>\n",
       "      <td>0</td>\n",
       "      <td>1</td>\n",
       "      <td>1</td>\n",
       "      <td>0</td>\n",
       "      <td>0</td>\n",
       "      <td>1</td>\n",
       "    </tr>\n",
       "    <tr>\n",
       "      <th>4</th>\n",
       "      <td>LP001008</td>\n",
       "      <td>0</td>\n",
       "      <td>6000</td>\n",
       "      <td>0.0</td>\n",
       "      <td>141.000000</td>\n",
       "      <td>360.0</td>\n",
       "      <td>Y</td>\n",
       "      <td>0</td>\n",
       "      <td>1</td>\n",
       "      <td>1</td>\n",
       "      <td>0</td>\n",
       "      <td>1</td>\n",
       "      <td>0</td>\n",
       "      <td>0</td>\n",
       "      <td>0</td>\n",
       "      <td>1</td>\n",
       "      <td>1</td>\n",
       "      <td>0</td>\n",
       "      <td>0</td>\n",
       "      <td>1</td>\n",
       "    </tr>\n",
       "  </tbody>\n",
       "</table>\n",
       "</div>"
      ],
      "text/plain": [
       "    Loan_ID  Dependents  ApplicantIncome  CoapplicantIncome  LoanAmount  \\\n",
       "0  LP001002           0             5849                0.0  146.412162   \n",
       "1  LP001003           1             4583             1508.0  128.000000   \n",
       "2  LP001005           0             3000                0.0   66.000000   \n",
       "3  LP001006           0             2583             2358.0  120.000000   \n",
       "4  LP001008           0             6000                0.0  141.000000   \n",
       "\n",
       "   Loan_Amount_Term Loan_Status  Gender_Female  Gender_Male  Married_No  \\\n",
       "0             360.0           Y              0            1           1   \n",
       "1             360.0           N              0            1           0   \n",
       "2             360.0           Y              0            1           0   \n",
       "3             360.0           Y              0            1           0   \n",
       "4             360.0           Y              0            1           1   \n",
       "\n",
       "   Married_Yes  Education_Graduate  Education_Not Graduate  \\\n",
       "0            0                   1                       0   \n",
       "1            1                   1                       0   \n",
       "2            1                   1                       0   \n",
       "3            1                   0                       1   \n",
       "4            0                   1                       0   \n",
       "\n",
       "   Property_Area_Rural  Property_Area_Semiurban  Property_Area_Urban  \\\n",
       "0                    0                        0                    1   \n",
       "1                    1                        0                    0   \n",
       "2                    0                        0                    1   \n",
       "3                    0                        0                    1   \n",
       "4                    0                        0                    1   \n",
       "\n",
       "   Self_Employed_No  Self_Employed_Yes  Credit_History_0.0  Credit_History_1.0  \n",
       "0                 1                  0                   0                   1  \n",
       "1                 1                  0                   0                   1  \n",
       "2                 0                  1                   0                   1  \n",
       "3                 1                  0                   0                   1  \n",
       "4                 1                  0                   0                   1  "
      ]
     },
     "execution_count": 18,
     "metadata": {},
     "output_type": "execute_result"
    }
   ],
   "source": [
    "## 查看loan数据前几行\n",
    "loan.head()"
   ]
  },
  {
   "cell_type": "code",
   "execution_count": 19,
   "metadata": {},
   "outputs": [
    {
     "data": {
      "text/plain": [
       "(614, 20)"
      ]
     },
     "execution_count": 19,
     "metadata": {},
     "output_type": "execute_result"
    }
   ],
   "source": [
    "## 查看shape\n",
    "loan.shape"
   ]
  },
  {
   "cell_type": "markdown",
   "metadata": {},
   "source": [
    "## 数据分离与划分\n",
    "> 数据分离：\n",
    ">> 去掉无关特征，把数据分离为X，y,即目标与数据分离\n",
    "\n",
    "> 数据划分：\n",
    ">> train,test"
   ]
  },
  {
   "cell_type": "markdown",
   "metadata": {},
   "source": [
    "### 分离数据"
   ]
  },
  {
   "cell_type": "code",
   "execution_count": 20,
   "metadata": {},
   "outputs": [],
   "source": [
    "## drop()去掉无关特征\"Loan_ID\",该特征与我们预测的目标“Loan_Status”没任何关系，属于无关特征\n",
    "loan = loan.drop(['Loan_ID'],axis=1).copy()\n",
    "## 分离出目标y\n",
    "y = loan['Loan_Status'].copy()\n",
    "\n",
    "## 分离数据X\n",
    "X = loan.drop(['Loan_Status'],axis=1).copy()"
   ]
  },
  {
   "cell_type": "code",
   "execution_count": 21,
   "metadata": {},
   "outputs": [
    {
     "data": {
      "text/plain": [
       "((614, 18), (614,))"
      ]
     },
     "execution_count": 21,
     "metadata": {},
     "output_type": "execute_result"
    }
   ],
   "source": [
    "X.shape, y.shape"
   ]
  },
  {
   "cell_type": "code",
   "execution_count": 22,
   "metadata": {},
   "outputs": [
    {
     "data": {
      "text/plain": [
       "Y    422\n",
       "N    192\n",
       "Name: Loan_Status, dtype: int64"
      ]
     },
     "execution_count": 22,
     "metadata": {},
     "output_type": "execute_result"
    }
   ],
   "source": [
    "## 查看目标y的分布\n",
    "y.value_counts()"
   ]
  },
  {
   "cell_type": "code",
   "execution_count": 23,
   "metadata": {},
   "outputs": [],
   "source": [
    "##  目标变量数值编码：是-->0, 否->1\n",
    "y = y.map({'Y':0, 'N':1})"
   ]
  },
  {
   "cell_type": "code",
   "execution_count": 24,
   "metadata": {},
   "outputs": [
    {
     "data": {
      "text/plain": [
       "0    422\n",
       "1    192\n",
       "Name: Loan_Status, dtype: int64"
      ]
     },
     "execution_count": 24,
     "metadata": {},
     "output_type": "execute_result"
    }
   ],
   "source": [
    "## 查看目标y的分布\n",
    "y.value_counts()"
   ]
  },
  {
   "cell_type": "markdown",
   "metadata": {},
   "source": [
    "分析：目标y的分布不均匀，所以在划分train和test的时候，需要考虑样本均衡问题，即设置参数`stratify`"
   ]
  },
  {
   "cell_type": "markdown",
   "metadata": {},
   "source": [
    "### 划分数据"
   ]
  },
  {
   "cell_type": "code",
   "execution_count": 25,
   "metadata": {},
   "outputs": [],
   "source": [
    "# 划分训练测试集:训练集（85%），测试集（15%），并采用分层抽样\n",
    "from sklearn.model_selection import train_test_split\n",
    "X_train,X_test,y_train,y_test = train_test_split(X,y,test_size=0.15 ,\n",
    "                                                random_state=10,\n",
    "                                                stratify=y )"
   ]
  },
  {
   "cell_type": "markdown",
   "metadata": {},
   "source": [
    "# Bagging\n",
    "> **装袋法**：\n",
    ">> 原理：**并行的建立一些学习器**，尽可能使其相互独立。从方差-偏差的角度看，可以有效减小方差,用于抑制模型过拟合。 <br>\n",
    ">> 核心方法：自助抽样(Bootstrap)和聚合(Aggregating)   <br>\n",
    ">> ![](./imgs/chap07/fig07_02.png)\n",
    ">>> 名词：袋外误差(out of bag)：oob_score\n",
    "\n",
    "> sklearn中Bagging：\n",
    ">> `BaggingClassifier`和`BaggingRegressor`类\n",
    ">>> |参数\t|功能|\n",
    "|---:|---:|\n",
    "|n_estimators\t|基模型的个数，默认为10|\n",
    "|base_estimator\t|使用的基模型，默认是决策树|\n",
    "|bootstrap\t|样本的抽样方式，默认为True（有放回）|\n",
    "|bootstrap_features \t|特征的抽样方式，默认为False（无放回）|\n",
    "|obb_score\t|是否使用袋外样本估计泛化能力，默认为False|\n"
   ]
  },
  {
   "cell_type": "markdown",
   "metadata": {},
   "source": [
    "## BaggingClassifier\n",
    "> (1)分别使用`DecisionTreeClassifier`和`LogisticRegression`作为基模型， <br>(2) 然后采用集成模型对本数据集进行分类，<br> (3)考察模型性能，<br>  (4)Gridsearch调优<br>"
   ]
  },
  {
   "cell_type": "markdown",
   "metadata": {},
   "source": [
    "### base_estimator=DecisionTreeClassifier"
   ]
  },
  {
   "cell_type": "code",
   "execution_count": 26,
   "metadata": {},
   "outputs": [],
   "source": [
    "## 载入基学习器:决策树分类器\n",
    "from sklearn.tree import DecisionTreeClassifier"
   ]
  },
  {
   "cell_type": "code",
   "execution_count": 27,
   "metadata": {},
   "outputs": [
    {
     "data": {
      "text/plain": [
       "BaggingClassifier(base_estimator=DecisionTreeClassifier(class_weight=None,\n",
       "                                                        criterion='gini',\n",
       "                                                        max_depth=None,\n",
       "                                                        max_features=None,\n",
       "                                                        max_leaf_nodes=None,\n",
       "                                                        min_impurity_decrease=0.0,\n",
       "                                                        min_impurity_split=None,\n",
       "                                                        min_samples_leaf=1,\n",
       "                                                        min_samples_split=2,\n",
       "                                                        min_weight_fraction_leaf=0.0,\n",
       "                                                        presort=False,\n",
       "                                                        random_state=10,\n",
       "                                                        splitter='best'),\n",
       "                  bootstrap=True, bootstrap_features=False, max_features=1.0,\n",
       "                  max_samples=1.0, n_estimators=10, n_jobs=None, oob_score=True,\n",
       "                  random_state=10, verbose=0, warm_start=False)"
      ]
     },
     "execution_count": 27,
     "metadata": {},
     "output_type": "execute_result"
    }
   ],
   "source": [
    "## 建立基于决策树的Bagging装袋模型\n",
    "from sklearn.ensemble import BaggingClassifier\n",
    "model_DF = DecisionTreeClassifier(random_state=10)\n",
    "bag_DF = BaggingClassifier(base_estimator = model_DF,\n",
    "                          oob_score = True,\n",
    "                          random_state = 10)\n",
    "bag_DF"
   ]
  },
  {
   "cell_type": "code",
   "execution_count": 28,
   "metadata": {},
   "outputs": [
    {
     "data": {
      "text/plain": [
       "BaggingClassifier(base_estimator=DecisionTreeClassifier(class_weight=None,\n",
       "                                                        criterion='gini',\n",
       "                                                        max_depth=None,\n",
       "                                                        max_features=None,\n",
       "                                                        max_leaf_nodes=None,\n",
       "                                                        min_impurity_decrease=0.0,\n",
       "                                                        min_impurity_split=None,\n",
       "                                                        min_samples_leaf=1,\n",
       "                                                        min_samples_split=2,\n",
       "                                                        min_weight_fraction_leaf=0.0,\n",
       "                                                        presort=False,\n",
       "                                                        random_state=10,\n",
       "                                                        splitter='best'),\n",
       "                  bootstrap=True, bootstrap_features=False, max_features=1.0,\n",
       "                  max_samples=1.0, n_estimators=10, n_jobs=None, oob_score=True,\n",
       "                  random_state=10, verbose=0, warm_start=False)"
      ]
     },
     "execution_count": 28,
     "metadata": {},
     "output_type": "execute_result"
    }
   ],
   "source": [
    "## 训练模型\n",
    "bag_DF.fit(X_train,y_train)"
   ]
  },
  {
   "cell_type": "code",
   "execution_count": 29,
   "metadata": {},
   "outputs": [
    {
     "name": "stdout",
     "output_type": "stream",
     "text": [
      "[0.5 0.  0.  0.  0.1 0.2 1.  0.2 0.3 0.1 0.  0.  0.8 0.2 0.  0.  0.1 0.3\n",
      " 0.3 0.  0.  0.4 0.1 0.  0.4 0.4 0.1 0.9 0.  0.5 0.  0.4 0.2 0.  0.1 0.\n",
      " 0.  0.2 0.4 0.2 0.  0.  0.3 0.5 0.2 0.6 0.  0.8 0.1 0.  1.  0.1 0.3 0.1\n",
      " 0.3 0.5 0.1 0.2 0.4 1.  0.2 0.1 0.1 0.9 0.6 0.2 0.  0.  0.2 0.  0.1 0.3\n",
      " 0.2 0.8 0.5 0.3 0.  0.3 0.1 0.2 0.1 0.  0.6 0.7 0.2 0.1 0.  0.1 0.2 0.1\n",
      " 0.2 0.9 0.1]\n",
      "[0 0 0 0 0 0 1 0 0 0 0 0 1 0 0 0 0 0 0 0 0 0 0 0 0 0 0 1 0 0 0 0 0 0 0 0 0\n",
      " 0 0 0 0 0 0 0 0 1 0 1 0 0 1 0 0 0 0 0 0 0 0 1 0 0 0 1 1 0 0 0 0 0 0 0 0 1\n",
      " 0 0 0 0 0 0 0 0 1 1 0 0 0 0 0 0 0 1 0]\n"
     ]
    }
   ],
   "source": [
    "## 模型预测predict\n",
    "### predcit1：测试集正类的预测概率（y_prob）(只看1标签的)\n",
    "y_prob_bd = bag_DF.predict_proba(X_test)[:,1]\n",
    "print(y_prob_bd)\n",
    "### predict2：测试集的预测标签(y_pred)\n",
    "y_pred_bd = bag_DF.predict(X_test)\n",
    "print(y_pred_bd)"
   ]
  },
  {
   "cell_type": "markdown",
   "metadata": {},
   "source": [
    "predict_proba与predict的概念与区别\n",
    "\n",
    "predict_proba——返回预测属于某标签的概率——概率\n",
    "\n",
    "predict——返回预测标签——预测结果\n",
    "\n",
    " 参考网站：https://blog.csdn.net/anan15151529/article/details/102632463"
   ]
  },
  {
   "cell_type": "code",
   "execution_count": 30,
   "metadata": {},
   "outputs": [
    {
     "data": {
      "text/plain": [
       "0.7735124760076776"
      ]
     },
     "execution_count": 30,
     "metadata": {},
     "output_type": "execute_result"
    }
   ],
   "source": [
    "## 模型的得分：查看袋外样本得分\n",
    "bag_DF.oob_score_"
   ]
  },
  {
   "cell_type": "code",
   "execution_count": 31,
   "metadata": {},
   "outputs": [
    {
     "name": "stdout",
     "output_type": "stream",
     "text": [
      "              precision    recall  f1-score   support\n",
      "\n",
      "           0       0.78      0.97      0.86        64\n",
      "           1       0.85      0.38      0.52        29\n",
      "\n",
      "    accuracy                           0.78        93\n",
      "   macro avg       0.81      0.67      0.69        93\n",
      "weighted avg       0.80      0.78      0.76        93\n",
      "\n"
     ]
    }
   ],
   "source": [
    "## 输出分类报告\n",
    "from sklearn.metrics import classification_report\n",
    "print(classification_report(y_true=y_test, y_pred=y_pred_bd))"
   ]
  },
  {
   "cell_type": "code",
   "execution_count": 32,
   "metadata": {},
   "outputs": [
    {
     "name": "stdout",
     "output_type": "stream",
     "text": [
      "AUC值： 0.7882543103448276\n"
     ]
    }
   ],
   "source": [
    "## 绘制ROC曲线并计算AUC\n",
    "from sklearn.metrics import roc_curve,auc\n",
    "\n",
    "fpr,tpr,threshold = roc_curve(y_true=y_test, y_score=y_prob_bd)\n",
    "print(\"AUC值：\",auc(fpr,tpr))"
   ]
  },
  {
   "cell_type": "code",
   "execution_count": 33,
   "metadata": {
    "scrolled": true
   },
   "outputs": [
    {
     "data": {
      "text/plain": [
       "Text(0.5, 1.0, 'ROC Curve')"
      ]
     },
     "execution_count": 33,
     "metadata": {},
     "output_type": "execute_result"
    },
    {
     "data": {
      "image/png": "[encoded data removed]",
      "text/plain": [
       "<Figure size 432x288 with 1 Axes>"
      ]
     },
     "metadata": {
      "needs_background": "light"
     },
     "output_type": "display_data"
    }
   ],
   "source": [
    "## 绘ROC曲线\n",
    "plt.plot(fpr, tpr, 'r-')          # 曲线\n",
    "plt.plot([0, 1], [0, 1], 'b--')   #  直线\n",
    "plt.xlabel('FPR')\n",
    "plt.ylabel('TPR')\n",
    "plt.title('ROC Curve')"
   ]
  },
  {
   "cell_type": "markdown",
   "metadata": {},
   "source": [
    "### base_estimator=LogisticRegresssion"
   ]
  },
  {
   "cell_type": "code",
   "execution_count": 35,
   "metadata": {},
   "outputs": [
    {
     "data": {
      "text/plain": [
       "BaggingClassifier(base_estimator=LogisticRegression(C=1.0,\n",
       "                                                    class_weight='balanced',\n",
       "                                                    dual=False,\n",
       "                                                    fit_intercept=True,\n",
       "                                                    intercept_scaling=1,\n",
       "                                                    l1_ratio=None, max_iter=100,\n",
       "                                                    multi_class='warn',\n",
       "                                                    n_jobs=None, penalty='l2',\n",
       "                                                    random_state=10,\n",
       "                                                    solver='warn', tol=0.0001,\n",
       "                                                    verbose=0,\n",
       "                                                    warm_start=False),\n",
       "                  bootstrap=True, bootstrap_features=False, max_features=1.0,\n",
       "                  max_samples=1.0, n_estimators=10, n_jobs=None, oob_score=True,\n",
       "                  random_state=10, verbose=0, warm_start=False)"
      ]
     },
     "execution_count": 35,
     "metadata": {},
     "output_type": "execute_result"
    }
   ],
   "source": [
    "## 载入基学习器:逻辑回归\n",
    "from sklearn.linear_model import LogisticRegression\n",
    "model_LR= LogisticRegression(random_state=10,class_weight=\"balanced\")\n",
    "\n",
    "## 建立基于逻辑回归的装袋模型\n",
    "from sklearn.ensemble import BaggingClassifier\n",
    "bag_LR=BaggingClassifier(base_estimator=model_LR,oob_score=True,random_state=10)\n",
    "\n",
    "## 训练模型\n",
    "bag_LR.fit(X_train,y_train)"
   ]
  },
  {
   "cell_type": "code",
   "execution_count": 36,
   "metadata": {},
   "outputs": [],
   "source": [
    "## 模型预测predict\n",
    "### predcit1：测试集正类的预测概率（y_prob）(只看1标签的)\n",
    "y_prob_bl = bag_LR.predict_proba(X_test)[:,1]\n",
    "### predict2：测试集的预测标签(y_pred)\n",
    "y_pred_bl = bag_LR.predict(X_test)"
   ]
  },
  {
   "cell_type": "code",
   "execution_count": 37,
   "metadata": {},
   "outputs": [
    {
     "data": {
      "text/plain": [
       "0.7581573896353166"
      ]
     },
     "execution_count": 37,
     "metadata": {},
     "output_type": "execute_result"
    }
   ],
   "source": [
    "## 模型的得分：查看袋外样本得分\n",
    "bag_LR.oob_score_"
   ]
  },
  {
   "cell_type": "code",
   "execution_count": 38,
   "metadata": {},
   "outputs": [
    {
     "name": "stdout",
     "output_type": "stream",
     "text": [
      "              precision    recall  f1-score   support\n",
      "\n",
      "           0       0.78      0.92      0.84        64\n",
      "           1       0.71      0.41      0.52        29\n",
      "\n",
      "    accuracy                           0.76        93\n",
      "   macro avg       0.74      0.67      0.68        93\n",
      "weighted avg       0.75      0.76      0.74        93\n",
      "\n"
     ]
    }
   ],
   "source": [
    "# 输出分类报告\n",
    "print(classification_report(y_true=y_test,y_pred=y_pred_bl))"
   ]
  },
  {
   "cell_type": "code",
   "execution_count": 39,
   "metadata": {},
   "outputs": [
    {
     "name": "stdout",
     "output_type": "stream",
     "text": [
      "AUC值： 0.7155172413793103\n"
     ]
    }
   ],
   "source": [
    "## 绘制ROC曲线并计算AUC\n",
    "fpr,tpr,threshold = roc_curve(y_true=y_test, y_score=y_prob_bl)\n",
    "print(\"AUC值：\",auc(fpr,tpr))"
   ]
  },
  {
   "cell_type": "code",
   "execution_count": 40,
   "metadata": {},
   "outputs": [
    {
     "data": {
      "text/plain": [
       "Text(0.5, 1.0, 'ROC Curve')"
      ]
     },
     "execution_count": 40,
     "metadata": {},
     "output_type": "execute_result"
    },
    {
     "data": {
      "image/png": "[encoded data removed]",
      "text/plain": [
       "<Figure size 432x288 with 1 Axes>"
      ]
     },
     "metadata": {
      "needs_background": "light"
     },
     "output_type": "display_data"
    }
   ],
   "source": [
    "## 绘制ROC曲线\n",
    "plt.plot(fpr, tpr, 'r-')\n",
    "plt.plot([0, 1], [0, 1], 'b--')\n",
    "plt.xlabel('FPR')\n",
    "plt.ylabel('TPR')\n",
    "plt.title('ROC Curve')"
   ]
  },
  {
   "cell_type": "markdown",
   "metadata": {},
   "source": [
    "分析：通过AUC值的比较，可看出针对该问题，`bag_DF`效果要比`bag_LR`好一些，所以后续重点对`bag_DF`进行调参。"
   ]
  },
  {
   "cell_type": "markdown",
   "metadata": {},
   "source": [
    "### 基于决策树的Bagging模型参数调优\n",
    "\n",
    "> 使用`GridSearchCV`对模型`bag_DF`调参,可调参数：\n",
    ">> (1) 基模型个数：`n_estimators` = [20,50,...]  <br>\n",
    "(2) 特征选取方式:`bootstrap_features`= [True,False]  <br>\n",
    ">>> `True`:有放回的选择部分features，`False`:无放回的选择部分features，"
   ]
  },
  {
   "cell_type": "code",
   "execution_count": 41,
   "metadata": {
    "code_folding": []
   },
   "outputs": [
    {
     "data": {
      "text/plain": [
       "GridSearchCV(cv=5, error_score='raise-deprecating',\n",
       "             estimator=BaggingClassifier(base_estimator=DecisionTreeClassifier(class_weight=None,\n",
       "                                                                               criterion='gini',\n",
       "                                                                               max_depth=None,\n",
       "                                                                               max_features=None,\n",
       "                                                                               max_leaf_nodes=None,\n",
       "                                                                               min_impurity_decrease=0.0,\n",
       "                                                                               min_impurity_split=None,\n",
       "                                                                               min_samples_leaf=1,\n",
       "                                                                               min_samples_split=2,\n",
       "                                                                               min_weight_fraction_leaf=0.0,\n",
       "                                                                               presort=False,\n",
       "                                                                               random_state=1...\n",
       "                                         bootstrap=True,\n",
       "                                         bootstrap_features=False,\n",
       "                                         max_features=1.0, max_samples=1.0,\n",
       "                                         n_estimators=10, n_jobs=None,\n",
       "                                         oob_score=True, random_state=10,\n",
       "                                         verbose=0, warm_start=False),\n",
       "             iid='warn', n_jobs=None,\n",
       "             param_grid={'bootstrap_features': [True, False],\n",
       "                         'n_estimators': [20, 50, 100, 150, 200, 500]},\n",
       "             pre_dispatch='2*n_jobs', refit=True, return_train_score=False,\n",
       "             scoring='roc_auc', verbose=0)"
      ]
     },
     "execution_count": 41,
     "metadata": {},
     "output_type": "execute_result"
    }
   ],
   "source": [
    "## 网格搜索调参\n",
    "from sklearn.model_selection import GridSearchCV\n",
    "\n",
    "## 构建网格参数字典\n",
    "## (1)\"n_estimators\"：决策树基模型的数量取值序列;(2)\"bootstrap_features\"：是否特征抽取\n",
    "grid_n = [20,50,100,150,200,500]\n",
    "grid_fea = [True,False]\n",
    "param_grid = {\"n_estimators\":grid_n,\"bootstrap_features\":grid_fea}\n",
    "\n",
    "## 构造网格搜索\n",
    "grid_search = GridSearchCV(estimator=bag_DF,\n",
    "                           param_grid=param_grid,\n",
    "                           scoring = 'roc_auc',\n",
    "                           cv=5\n",
    "                          )\n",
    "## search...\n",
    "grid_search.fit(X_train,y_train)"
   ]
  },
  {
   "cell_type": "code",
   "execution_count": 42,
   "metadata": {},
   "outputs": [
    {
     "data": {
      "text/plain": [
       "{'bootstrap_features': True, 'n_estimators': 100}"
      ]
     },
     "execution_count": 42,
     "metadata": {},
     "output_type": "execute_result"
    }
   ],
   "source": [
    "# 返回最优参数\n",
    "grid_search.best_params_"
   ]
  },
  {
   "cell_type": "code",
   "execution_count": 43,
   "metadata": {},
   "outputs": [],
   "source": [
    "##  采用grid_search的最优模型进行预测\n",
    "### predcit1：测试集正类的预测概率（y_prob）(只看1标签的)\n",
    "y_prob_bd_best = grid_search.predict_proba(X_test)[:,1]\n",
    "### predict2：测试集的预测标签(y_pred)\n",
    "y_pred_bd_best = grid_search.predict(X_test)"
   ]
  },
  {
   "cell_type": "code",
   "execution_count": 44,
   "metadata": {},
   "outputs": [
    {
     "name": "stdout",
     "output_type": "stream",
     "text": [
      "              precision    recall  f1-score   support\n",
      "\n",
      "           0       0.77      0.98      0.86        64\n",
      "           1       0.91      0.34      0.50        29\n",
      "\n",
      "    accuracy                           0.78        93\n",
      "   macro avg       0.84      0.66      0.68        93\n",
      "weighted avg       0.81      0.78      0.75        93\n",
      "\n"
     ]
    }
   ],
   "source": [
    "# 输出分类报告\n",
    "print(classification_report(y_true=y_test,y_pred=y_pred_bd_best))"
   ]
  },
  {
   "cell_type": "code",
   "execution_count": 45,
   "metadata": {},
   "outputs": [
    {
     "name": "stdout",
     "output_type": "stream",
     "text": [
      "AUC值： 0.7578125\n"
     ]
    },
    {
     "data": {
      "text/plain": [
       "Text(0.5, 1.0, 'ROC Curve')"
      ]
     },
     "execution_count": 45,
     "metadata": {},
     "output_type": "execute_result"
    },
    {
     "data": {
      "image/png": "[encoded data removed]",
      "text/plain": [
       "<Figure size 432x288 with 1 Axes>"
      ]
     },
     "metadata": {
      "needs_background": "light"
     },
     "output_type": "display_data"
    }
   ],
   "source": [
    "# 绘制ROC曲线并计算AUC\n",
    "fpr,tpr,threshold = roc_curve(y_true=y_test,y_score=y_prob_bd_best)\n",
    "print(\"AUC值：\",auc(fpr,tpr))\n",
    "\n",
    "## 绘ROC图\n",
    "plt.plot(fpr, tpr, 'r-')\n",
    "plt.plot([0, 1], [0, 1], 'b--')\n",
    "plt.xlabel('FPR')\n",
    "plt.ylabel('TPR')\n",
    "plt.title('ROC Curve')"
   ]
  },
  {
   "cell_type": "markdown",
   "metadata": {},
   "source": [
    "分析： 结果一般般"
   ]
  },
  {
   "cell_type": "markdown",
   "metadata": {},
   "source": [
    "## RandomForest随机森林\n",
    "> **是Bagging的典型代表，其基模型为决策树**\n",
    ">>**“随机”是核心**，“森林”指建立多棵决策树进行组合。\n",
    "\n",
    ">>两个“随机”：\n",
    ">>>(1) 对样本进行有放回抽样（boostrap）   <br>\n",
    "(2) 对特征进行随机抽样（共𝑑个特征，一般随机选取$$m=\\log _{2} d+1$$\n",
    "\n",
    "> `RandomForestClassifier类`\n",
    ">> |参数\t|功能|\n",
    "|---:|---:|\n",
    "|n_estimators\t|基决策树的个数，默认为10|\n",
    "|criterion\t|最佳划分的评价标准，默认为“gini”，可选“entropy”|\n",
    "|max_features\t|建立每棵树使用的特征个数，默认为“auto”（m=sqrt(d)），还可选：“log2”,“None”（m=d），也可直接输入个数（正整数）|\n",
    "|bootstrap\t|样本的抽样方式，默认为True（有放回）|\n",
    "|oob_score\t|是否使用袋外样本估计泛化能力，默认为False|\n",
    "|class_weight\t|设置分类权重，默认为“None”|\n",
    "\n",
    "\n",
    ">`RandomForestRegressor`类\n",
    ">> |参数\t|功能|\n",
    "|---:|---:|\n",
    "|n_estimators\t|基决策树的个数，默认为10|\n",
    "|criterion\t|最佳划分的评价标准，默认为“mse”（均方误差），可选“mae“（平均绝对误差）|\n",
    "|max_features\t|建立每棵树使用的特征个数，默认为“auto”（m=sqrt(d)），还可选：“log2”,“None”（m=d），也可直接输入个数（正整数）|\n",
    "|bootstrap\t|样本的抽样方式，默认为True（有放回）|\n",
    "|oob_score\t|是否使用袋外样本估计泛化能力，默认为False|\n",
    "\n",
    "\n",
    "\n",
    ">> 两者参数的不同之处：\n",
    ">>> （1）`criterion`标准不同； (2)回归没有参数`class_weight`，因为没有类别\n",
    "\n",
    "\n",
    "\n",
    "\n"
   ]
  },
  {
   "cell_type": "markdown",
   "metadata": {},
   "source": [
    "### 构建随机森林模型并预测"
   ]
  },
  {
   "cell_type": "code",
   "execution_count": 46,
   "metadata": {},
   "outputs": [],
   "source": [
    "# 载入算法类\n",
    "from  sklearn.ensemble import RandomForestClassifier\n",
    "\n",
    "# 设置基模型个数列表\n",
    "grid_n = [20, 40, 60, 80, 100, 120]\n",
    "\n",
    "# 计算在不同基模型个数下的袋外样本得分\"oob_score_\"\n",
    "oob_score = []\n",
    "\n",
    "for item in grid_n:\n",
    "    model = RandomForestClassifier(n_estimators=item, random_state=10, oob_score=True)\n",
    "    model.fit(X_train, y_train)\n",
    "    oob_score.append(model.oob_score_)"
   ]
  },
  {
   "cell_type": "code",
   "execution_count": 47,
   "metadata": {
    "scrolled": true
   },
   "outputs": [
    {
     "data": {
      "text/plain": [
       "Text(0.5, 1.0, 'Line chart')"
      ]
     },
     "execution_count": 47,
     "metadata": {},
     "output_type": "execute_result"
    },
    {
     "data": {
      "image/png": "[encoded data removed]",
      "text/plain": [
       "<Figure size 432x288 with 1 Axes>"
      ]
     },
     "metadata": {
      "needs_background": "light"
     },
     "output_type": "display_data"
    }
   ],
   "source": [
    "## oob_score随着树的增多情况\n",
    "plt.plot(grid_n, oob_score, 'g-*')\n",
    "plt.xlabel('n_estimators')\n",
    "plt.ylabel('oob_score')\n",
    "plt.title('Line chart', fontsize=15)"
   ]
  },
  {
   "cell_type": "markdown",
   "metadata": {},
   "source": [
    "分析：oob_score随着树的增多呈现提升的趋势，但是其结果与`random_state`设置也有关系，有时出现波动"
   ]
  },
  {
   "cell_type": "markdown",
   "metadata": {},
   "source": [
    "### 随机森林`GridSearchCV`参数调优\n",
    "> 基模型为;`RandomForestClassifier()`\n",
    "> `GridSearchCV`可调参数：\n",
    ">> (1)`'n_estimators'`:grid_n,基模型个数  <br>\n",
    "(2) `'max_features'`:grid_fea, 选取特征最大个数,这里一共18个特征  <br>\n",
    "(3) `'class_weight'`:grid_weight，['balanced', None],是否考虑类别平衡<br>\n",
    "\n",
    ">注意;需要一定的运行时间"
   ]
  },
  {
   "cell_type": "code",
   "execution_count": 48,
   "metadata": {},
   "outputs": [
    {
     "data": {
      "text/plain": [
       "GridSearchCV(cv=5, error_score='raise-deprecating',\n",
       "             estimator=RandomForestClassifier(bootstrap=True, class_weight=None,\n",
       "                                              criterion='gini', max_depth=None,\n",
       "                                              max_features='auto',\n",
       "                                              max_leaf_nodes=None,\n",
       "                                              min_impurity_decrease=0.0,\n",
       "                                              min_impurity_split=None,\n",
       "                                              min_samples_leaf=1,\n",
       "                                              min_samples_split=2,\n",
       "                                              min_weight_fraction_leaf=0.0,\n",
       "                                              n_estimators='warn', n_jobs=None,\n",
       "                                              oob_score=False, random_state=10,\n",
       "                                              verbose=0, warm_start=False),\n",
       "             iid='warn', n_jobs=None,\n",
       "             param_grid={'class_weight': ['balanced', None],\n",
       "                         'max_features': array([ 2,  3,  4,  5,  6,  7,  8,  9, 10, 11, 12, 13, 14, 15, 16, 17, 18]),\n",
       "                         'n_estimators': [20, 50, 100, 150, 200, 500]},\n",
       "             pre_dispatch='2*n_jobs', refit=True, return_train_score=False,\n",
       "             scoring='roc_auc', verbose=0)"
      ]
     },
     "execution_count": 48,
     "metadata": {},
     "output_type": "execute_result"
    }
   ],
   "source": [
    "## 网格搜索参数调优\n",
    "\n",
    "## 创建基模型\n",
    "model_RF = RandomForestClassifier(random_state=10)\n",
    "\n",
    "## 构建参数网格KV\n",
    "grid_n = [20, 50, 100, 150, 200, 500]\n",
    "grid_fea = np.arange(2, 19) \n",
    "grid_weight = ['balanced', None]\n",
    "param_grid = {'n_estimators':grid_n, 'max_features':grid_fea, 'class_weight':grid_weight}\n",
    "\n",
    "## 生成GridSearchCV实例\n",
    "grid_search = GridSearchCV(estimator=model_RF, \n",
    "                           param_grid=param_grid,\n",
    "                           cv=5,\n",
    "                           scoring='roc_auc')\n",
    "## searching....\n",
    "grid_search.fit(X_train, y_train)"
   ]
  },
  {
   "cell_type": "code",
   "execution_count": 49,
   "metadata": {},
   "outputs": [
    {
     "data": {
      "text/plain": [
       "{'class_weight': None, 'max_features': 6, 'n_estimators': 500}"
      ]
     },
     "execution_count": 49,
     "metadata": {},
     "output_type": "execute_result"
    }
   ],
   "source": [
    "## 返回最优参数\n",
    "grid_search.best_params_\n"
   ]
  },
  {
   "cell_type": "code",
   "execution_count": 52,
   "metadata": {},
   "outputs": [
    {
     "ename": "AttributeError",
     "evalue": "'GridSearchCV' object has no attribute 'grid_search'",
     "output_type": "error",
     "traceback": [
      "\u001b[1;31m---------------------------------------------------------------------------\u001b[0m",
      "\u001b[1;31mAttributeError\u001b[0m                            Traceback (most recent call last)",
      "\u001b[1;32m<ipython-input-52-6e63506dbd68>\u001b[0m in \u001b[0;36m<module>\u001b[1;34m\u001b[0m\n\u001b[0;32m      5\u001b[0m \u001b[1;33m\u001b[0m\u001b[0m\n\u001b[0;32m      6\u001b[0m \u001b[1;31m### predict2：测试集的预测标签(y_pred)\u001b[0m\u001b[1;33m\u001b[0m\u001b[1;33m\u001b[0m\u001b[1;33m\u001b[0m\u001b[0m\n\u001b[1;32m----> 7\u001b[1;33m \u001b[0my_pred_rf_best\u001b[0m \u001b[1;33m=\u001b[0m \u001b[0mgrid_search\u001b[0m\u001b[1;33m.\u001b[0m\u001b[0mgrid_search\u001b[0m\u001b[1;33m.\u001b[0m\u001b[0mpredict\u001b[0m\u001b[1;33m(\u001b[0m\u001b[0mX_test\u001b[0m\u001b[1;33m)\u001b[0m\u001b[1;33m\u001b[0m\u001b[1;33m\u001b[0m\u001b[0m\n\u001b[0m",
      "\u001b[1;31mAttributeError\u001b[0m: 'GridSearchCV' object has no attribute 'grid_search'"
     ]
    }
   ],
   "source": [
    "##  采用grid_search的最优模型进行预测\n",
    "\n",
    "### predcit1：测试集正类的预测概率（y_prob）(只看1标签的)\n",
    "y_prob_rf_best = grid_search.predict_proba(X_test)[:,1]\n",
    "\n",
    "### predict2：测试集的预测标签(y_pred)\n",
    "y_pred_rf_best = grid_search.grid_search.predict(X_test)"
   ]
  },
  {
   "cell_type": "code",
   "execution_count": 53,
   "metadata": {},
   "outputs": [
    {
     "ename": "NameError",
     "evalue": "name 'y_pred_rf_best' is not defined",
     "output_type": "error",
     "traceback": [
      "\u001b[1;31m---------------------------------------------------------------------------\u001b[0m",
      "\u001b[1;31mNameError\u001b[0m                                 Traceback (most recent call last)",
      "\u001b[1;32m<ipython-input-53-547d0d4b2d2c>\u001b[0m in \u001b[0;36m<module>\u001b[1;34m\u001b[0m\n\u001b[0;32m      1\u001b[0m \u001b[1;31m## 输出分类报告\u001b[0m\u001b[1;33m\u001b[0m\u001b[1;33m\u001b[0m\u001b[1;33m\u001b[0m\u001b[0m\n\u001b[1;32m----> 2\u001b[1;33m \u001b[0mprint\u001b[0m\u001b[1;33m(\u001b[0m\u001b[0mclassification_report\u001b[0m\u001b[1;33m(\u001b[0m\u001b[0my_true\u001b[0m\u001b[1;33m=\u001b[0m\u001b[0my_test\u001b[0m\u001b[1;33m,\u001b[0m\u001b[0my_pred\u001b[0m\u001b[1;33m=\u001b[0m\u001b[0my_pred_rf_best\u001b[0m\u001b[1;33m)\u001b[0m\u001b[1;33m)\u001b[0m\u001b[1;33m\u001b[0m\u001b[1;33m\u001b[0m\u001b[0m\n\u001b[0m",
      "\u001b[1;31mNameError\u001b[0m: name 'y_pred_rf_best' is not defined"
     ]
    }
   ],
   "source": [
    "## 输出分类报告\n",
    "print(classification_report(y_true=y_test,y_pred=y_pred_rf_best))"
   ]
  },
  {
   "cell_type": "code",
   "execution_count": 54,
   "metadata": {},
   "outputs": [
    {
     "name": "stdout",
     "output_type": "stream",
     "text": [
      "AUC值： 0.7944504310344827\n"
     ]
    },
    {
     "data": {
      "text/plain": [
       "Text(0.5, 1.0, 'ROC Curve')"
      ]
     },
     "execution_count": 54,
     "metadata": {},
     "output_type": "execute_result"
    },
    {
     "data": {
      "image/png": "[encoded data removed]",
      "text/plain": [
       "<Figure size 432x288 with 1 Axes>"
      ]
     },
     "metadata": {
      "needs_background": "light"
     },
     "output_type": "display_data"
    }
   ],
   "source": [
    "## 绘制ROC曲线并计算AUC\n",
    "fpr,tpr,threshold = roc_curve(y_true=y_test,y_score=y_prob_rf_best)\n",
    "print(\"AUC值：\",auc(fpr,tpr))\n",
    "\n",
    "## 画图ROC\n",
    "plt.plot(fpr, tpr, 'r-')\n",
    "plt.plot([0, 1], [0, 1], 'b--')\n",
    "plt.xlabel('FPR')\n",
    "plt.ylabel('TPR')\n",
    "plt.title('ROC Curve')"
   ]
  },
  {
   "cell_type": "markdown",
   "metadata": {},
   "source": [
    "分析： 从AUC看，性能还是有所提升的。"
   ]
  },
  {
   "cell_type": "markdown",
   "metadata": {},
   "source": [
    "### 特征重要性\n",
    "> (1) 经过gridSearch后，得到最优模型estimator  <br>\n",
    "(2) 使用最优模型进行fit()  <br>\n",
    "(3) 考察特征重要性并绘图显示"
   ]
  },
  {
   "cell_type": "code",
   "execution_count": 55,
   "metadata": {},
   "outputs": [
    {
     "data": {
      "text/plain": [
       "RandomForestClassifier(bootstrap=True, class_weight=None, criterion='gini',\n",
       "                       max_depth=None, max_features=6, max_leaf_nodes=None,\n",
       "                       min_impurity_decrease=0.0, min_impurity_split=None,\n",
       "                       min_samples_leaf=1, min_samples_split=2,\n",
       "                       min_weight_fraction_leaf=0.0, n_estimators=500,\n",
       "                       n_jobs=None, oob_score=False, random_state=10, verbose=0,\n",
       "                       warm_start=False)"
      ]
     },
     "execution_count": 55,
     "metadata": {},
     "output_type": "execute_result"
    }
   ],
   "source": [
    "## 提炼出最优模型(estimator)\n",
    "best_RF = grid_search.best_estimator_\n",
    "\n",
    "## 使用最优模型训练\n",
    "best_RF.fit(X_train,y_train)"
   ]
  },
  {
   "cell_type": "code",
   "execution_count": 56,
   "metadata": {},
   "outputs": [
    {
     "data": {
      "text/plain": [
       "array([0.04390441, 0.17865683, 0.10490325, 0.16950222, 0.04730121,\n",
       "       0.01283687, 0.01269846, 0.01389112, 0.0134134 , 0.01297559,\n",
       "       0.01272553, 0.01754842, 0.01861473, 0.01632628, 0.01081247,\n",
       "       0.01090493, 0.1411791 , 0.16180518])"
      ]
     },
     "execution_count": 56,
     "metadata": {},
     "output_type": "execute_result"
    }
   ],
   "source": [
    "## 特征重要性评估\n",
    "fea_importance = best_RF.feature_importances_\n",
    "fea_importance"
   ]
  },
  {
   "cell_type": "code",
   "execution_count": 57,
   "metadata": {},
   "outputs": [
    {
     "data": {
      "text/plain": [
       "Index(['Dependents', 'ApplicantIncome', 'CoapplicantIncome', 'LoanAmount',\n",
       "       'Loan_Amount_Term', 'Gender_Female', 'Gender_Male', 'Married_No',\n",
       "       'Married_Yes', 'Education_Graduate', 'Education_Not Graduate',\n",
       "       'Property_Area_Rural', 'Property_Area_Semiurban', 'Property_Area_Urban',\n",
       "       'Self_Employed_No', 'Self_Employed_Yes', 'Credit_History_0.0',\n",
       "       'Credit_History_1.0'],\n",
       "      dtype='object')"
      ]
     },
     "execution_count": 57,
     "metadata": {},
     "output_type": "execute_result"
    }
   ],
   "source": [
    "## 特征名称\n",
    "index = X_train.columns\n",
    "index"
   ]
  },
  {
   "cell_type": "code",
   "execution_count": 58,
   "metadata": {},
   "outputs": [
    {
     "data": {
      "text/plain": [
       "<matplotlib.axes._subplots.AxesSubplot at 0x13b17a37408>"
      ]
     },
     "execution_count": 58,
     "metadata": {},
     "output_type": "execute_result"
    },
    {
     "data": {
      "image/png": "[encoded data removed]",
      "text/plain": [
       "<Figure size 576x432 with 1 Axes>"
      ]
     },
     "metadata": {
      "needs_background": "light"
     },
     "output_type": "display_data"
    }
   ],
   "source": [
    "## 可视化特征重要性,降序排列，横向柱形图输出\n",
    "plt.figure(figsize=(8,6))\n",
    "pd.Series(fea_importance,index=index).sort_values().plot(kind='barh',color=[\"r\",'g','b'])"
   ]
  },
  {
   "cell_type": "markdown",
   "metadata": {},
   "source": [
    "分析：申请人收入、贷款金额、是否有违约历史、共同申请人收入这五个特征的重要性排在前五位。\n",
    "？？如何实现每一条都不同颜色呢？？"
   ]
  },
  {
   "cell_type": "markdown",
   "metadata": {},
   "source": [
    "# Boosting\n",
    "> 提升法：\n",
    ">> 串行的建立一些学习器，通过一定策略提升弱分类器效果，组合得到强分类器。从方差-偏差的角度看，可以有效减小偏差。 <br>\n",
    ">> 典型代表：AdaBoost,类似“打补丁”，即后一个学习器不断的为前一个学习器打补丁\n",
    "\n",
    "## AdaBoost\n",
    ">> **常用于分类任务**  <br>\n",
    ">> ![](./imgs/chap07/fig07_03.png)\n",
    "\n",
    "> `AdaBoostClassifier`类\n",
    ">>|参数\t|功能|\n",
    "|---:|---:|\n",
    "|base_estimator\t|基学习器的设置，默认是决策树|\n",
    "|n_estimators\t|基学习器的个数，默认为50|\n",
    "|Learining_rate\t|学习率的设置，默认为1.0|\n",
    "|algorithm\t|二分类推广到多分类使用的算法，默认为“SAMME.R”，可选“SAMME”|\n",
    ">>>> 说明： \"SAMME.R\": 采用概率值计算;    \"SAMME\":直接比值计算\n",
    "\n",
    "\n",
    ">>|属性\t|说明|\n",
    "|---:|---:|\n",
    "|estimator_weights_ \t|每个弱分类器的权重|\n",
    "|estimator_errors_ \t|每个弱分类器的分类误差|\n",
    "|feature_importances_ \t|特征重要性|\n"
   ]
  },
  {
   "cell_type": "markdown",
   "metadata": {},
   "source": [
    "### AdaBoost(base_estimator=None)\n",
    "> 基模型为分类树模型的AdaBoost()集成模型分析,其基分类器默认为决策树"
   ]
  },
  {
   "cell_type": "markdown",
   "metadata": {},
   "source": [
    "#### 构建模型并训练"
   ]
  },
  {
   "cell_type": "code",
   "execution_count": 59,
   "metadata": {},
   "outputs": [
    {
     "data": {
      "text/plain": [
       "AdaBoostClassifier(algorithm='SAMME', base_estimator=None, learning_rate=1.0,\n",
       "                   n_estimators=50, random_state=10)"
      ]
     },
     "execution_count": 59,
     "metadata": {},
     "output_type": "execute_result"
    }
   ],
   "source": [
    "# 载入算法类\n",
    "from  sklearn.ensemble import AdaBoostClassifier\n",
    "\n",
    "## 构建模型并训练：其基分类器默认为决策树，默认学习器的个数为50\n",
    "## 使用SAMME算法二分类时，退化为标准AdaBoost\n",
    "model_ada = AdaBoostClassifier(random_state=10,algorithm=\"SAMME\")\n",
    "model_ada.fit(X_train,y_train)"
   ]
  },
  {
   "cell_type": "markdown",
   "metadata": {},
   "source": [
    "#### 模型预测与评价"
   ]
  },
  {
   "cell_type": "code",
   "execution_count": 60,
   "metadata": {},
   "outputs": [],
   "source": [
    "###  模型预测\n",
    "### predcit1：测试集正类的预测概率（y_prob）(只看1标签的)\n",
    "y_prob_ada = model_ada.predict_proba(X_test)[:,1]\n",
    "\n",
    "### predict2：测试集的预测标签(y_pred)\n",
    "y_pred_ada= model_ada.predict(X_test)"
   ]
  },
  {
   "cell_type": "code",
   "execution_count": 61,
   "metadata": {},
   "outputs": [
    {
     "name": "stdout",
     "output_type": "stream",
     "text": [
      "AUC值： 0.707165948275862\n"
     ]
    }
   ],
   "source": [
    "# 计算AUC\n",
    "fpr, tpr, threshold = roc_curve(y_true=y_test,y_score=y_prob_ada)\n",
    "print('AUC值：', auc(fpr, tpr))"
   ]
  },
  {
   "cell_type": "markdown",
   "metadata": {},
   "source": [
    "#### 弱学习器权重与误差变化"
   ]
  },
  {
   "cell_type": "code",
   "execution_count": 62,
   "metadata": {},
   "outputs": [
    {
     "data": {
      "text/plain": [
       "array([1.48774098, 0.21940535, 0.16976415, 0.29579791, 0.05535246,\n",
       "       0.27052932, 0.09144288, 0.14782437, 0.11924969, 0.11208143,\n",
       "       0.13087636, 0.1207311 , 0.10119864, 0.21659741, 0.19253753,\n",
       "       0.12925381, 0.0923467 , 0.1432675 , 0.2010794 , 0.16304503,\n",
       "       0.19033601, 0.20952184, 0.13312598, 0.14634754, 0.13782049,\n",
       "       0.05949923, 0.04854591, 0.08345711, 0.07970978, 0.07625216,\n",
       "       0.07305098, 0.07007791, 0.08614685, 0.08069399, 0.06553846,\n",
       "       0.06307493, 0.16928989, 0.07838478, 0.05427624, 0.03823093,\n",
       "       0.0648165 , 0.06240485, 0.06014161, 0.10765867, 0.1313072 ,\n",
       "       0.14564669, 0.20132943, 0.14734554, 0.06743611, 0.11088351])"
      ]
     },
     "execution_count": 62,
     "metadata": {},
     "output_type": "execute_result"
    }
   ],
   "source": [
    "## 获取每个弱分类器的权重\n",
    "weights = model_ada.estimator_weights_\n",
    "weights"
   ]
  },
  {
   "cell_type": "code",
   "execution_count": 63,
   "metadata": {},
   "outputs": [
    {
     "data": {
      "text/plain": [
       "array([0.18426104, 0.44536765, 0.4576606 , 0.42658504, 0.48616542,\n",
       "       0.43277715, 0.4771552 , 0.46311106, 0.47022286, 0.47200894,\n",
       "       0.46732753, 0.46985383, 0.47472191, 0.44606136, 0.45201377,\n",
       "       0.46773146, 0.47692972, 0.46424426, 0.44989885, 0.4593288 ,\n",
       "       0.45255914, 0.44781032, 0.46676757, 0.46347828, 0.46559931,\n",
       "       0.48512958, 0.48786591, 0.47914782, 0.4800831 , 0.48094619,\n",
       "       0.48174537, 0.48248769, 0.4784766 , 0.47983744, 0.48362125,\n",
       "       0.48423649, 0.45777831, 0.48041383, 0.48643427, 0.49044343,\n",
       "       0.48380155, 0.48440385, 0.48496913, 0.4731113 , 0.46722028,\n",
       "       0.46365256, 0.44983697, 0.46323011, 0.48314736, 0.47230749])"
      ]
     },
     "execution_count": 63,
     "metadata": {},
     "output_type": "execute_result"
    }
   ],
   "source": [
    "## 获取每个弱分类器的分类误差\n",
    "errors = model_ada.estimator_errors_\n",
    "\n",
    "errors"
   ]
  },
  {
   "cell_type": "code",
   "execution_count": 64,
   "metadata": {},
   "outputs": [
    {
     "data": {
      "text/plain": [
       "<matplotlib.legend.Legend at 0x13b17c02a88>"
      ]
     },
     "execution_count": 64,
     "metadata": {},
     "output_type": "execute_result"
    },
    {
     "data": {
      "image/png": "[encoded data removed]",
      "text/plain": [
       "<Figure size 576x432 with 1 Axes>"
      ]
     },
     "metadata": {
      "needs_background": "light"
     },
     "output_type": "display_data"
    }
   ],
   "source": [
    "## 弱分类器的权重和误差变化折线图\n",
    "plt.figure(figsize=(8, 6))\n",
    "plt.plot(model_ada.estimator_weights_, 'y-+', label='weight')\n",
    "plt.plot(model_ada.estimator_errors_, 'b--*', label='error')\n",
    "plt.xlabel('estimator_order')\n",
    "plt.legend()"
   ]
  },
  {
   "cell_type": "markdown",
   "metadata": {},
   "source": [
    "分析：第一个弱分类器权重最高，误差最低，其余弱分类器间权重和误差较为接近。可通过调整学习率`Learining_rate`改变这种情况：\n",
    "> (1) 当`n_estimators`较大时，设置小的学习率； <br>\n",
    "(2) 当`n_estimators`较小时，设置大的学习率\n"
   ]
  },
  {
   "cell_type": "markdown",
   "metadata": {},
   "source": [
    "#### 特征重要性"
   ]
  },
  {
   "cell_type": "code",
   "execution_count": 65,
   "metadata": {},
   "outputs": [
    {
     "data": {
      "text/plain": [
       "array([0.02887013, 0.2593519 , 0.12840317, 0.15838533, 0.06686316,\n",
       "       0.        , 0.        , 0.        , 0.        , 0.        ,\n",
       "       0.01909604, 0.        , 0.03942672, 0.        , 0.        ,\n",
       "       0.        , 0.044024  , 0.25557956])"
      ]
     },
     "execution_count": 65,
     "metadata": {},
     "output_type": "execute_result"
    }
   ],
   "source": [
    "# 模型model_ada的特征重要新\n",
    "fea_importances= model_ada.feature_importances_\n",
    "fea_importances"
   ]
  },
  {
   "cell_type": "code",
   "execution_count": 66,
   "metadata": {},
   "outputs": [
    {
     "data": {
      "text/plain": [
       "<matplotlib.axes._subplots.AxesSubplot at 0x13b17c52788>"
      ]
     },
     "execution_count": 66,
     "metadata": {},
     "output_type": "execute_result"
    },
    {
     "data": {
      "image/png": "[encoded data removed]",
      "text/plain": [
       "<Figure size 576x432 with 1 Axes>"
      ]
     },
     "metadata": {
      "needs_background": "light"
     },
     "output_type": "display_data"
    }
   ],
   "source": [
    "# 特征重要性评估\n",
    "plt.figure(figsize=(8, 6))\n",
    "pd.Series(model_ada.feature_importances_, index=X_train.columns).sort_values().plot(kind='barh')"
   ]
  },
  {
   "cell_type": "markdown",
   "metadata": {},
   "source": [
    "分析：申请人收入、有违约历史、贷款金额、共同申请人收入、还款期限这五个特征的重要性排在前五位，与前面分析一致。"
   ]
  },
  {
   "cell_type": "markdown",
   "metadata": {},
   "source": [
    "#### 学习率对弱学习器的影响\n",
    "> 考察学习率对对分类误差的影响"
   ]
  },
  {
   "cell_type": "code",
   "execution_count": 67,
   "metadata": {},
   "outputs": [
    {
     "data": {
      "text/plain": [
       "[0.7741935483870968,\n",
       " 0.7634408602150538,\n",
       " 0.7741935483870968,\n",
       " 0.7634408602150538,\n",
       " 0.7634408602150538,\n",
       " 0.7634408602150538,\n",
       " 0.7526881720430108,\n",
       " 0.7526881720430108,\n",
       " 0.7419354838709677,\n",
       " 0.7526881720430108]"
      ]
     },
     "execution_count": 67,
     "metadata": {},
     "output_type": "execute_result"
    }
   ],
   "source": [
    "# 学习率对分类误差的影响\n",
    "grid_rate = np.linspace(0.01, 1, 10)\n",
    "\n",
    "# 不同学习率下的模型测试集得分\n",
    "error = []\n",
    "\n",
    "for item in grid_rate:\n",
    "    model = AdaBoostClassifier(random_state=10, learning_rate=item)\n",
    "    model.fit(X_train, y_train)\n",
    "    error.append(model.score(X_test, y_test))\n",
    "error"
   ]
  },
  {
   "cell_type": "code",
   "execution_count": 68,
   "metadata": {},
   "outputs": [
    {
     "data": {
      "text/plain": [
       "Text(0, 0.5, 'error')"
      ]
     },
     "execution_count": 68,
     "metadata": {},
     "output_type": "execute_result"
    },
    {
     "data": {
      "image/png": "[encoded data removed]",
      "text/plain": [
       "<Figure size 576x432 with 1 Axes>"
      ]
     },
     "metadata": {
      "needs_background": "light"
     },
     "output_type": "display_data"
    }
   ],
   "source": [
    "## 误差可视化\n",
    "plt.figure(figsize=(8, 6))\n",
    "plt.plot(error, 'r-x')\n",
    "plt.xticks([0, 2, 4, 6, 8], [0.01, 0.23, 0.45, 0.67, 0.89])\n",
    "plt.xlabel('learning_rate')\n",
    "plt.ylabel('error')"
   ]
  },
  {
   "cell_type": "markdown",
   "metadata": {},
   "source": [
    "分析：随着学习率的增大，步长越来越大，会使测试集误差下降，但过大的学习率会导致误差上升。"
   ]
  },
  {
   "cell_type": "markdown",
   "metadata": {},
   "source": [
    "### AdaBoost(base_estimator=LogisticRegression)\n",
    "> 基学习器为逻辑回归的AdaBoost()集成模型分析"
   ]
  },
  {
   "cell_type": "markdown",
   "metadata": {},
   "source": [
    "#### 模型构建与评价"
   ]
  },
  {
   "cell_type": "code",
   "execution_count": 69,
   "metadata": {},
   "outputs": [
    {
     "data": {
      "text/plain": [
       "AdaBoostClassifier(algorithm='SAMME.R',\n",
       "                   base_estimator=LogisticRegression(C=1.0,\n",
       "                                                     class_weight='balanced',\n",
       "                                                     dual=False,\n",
       "                                                     fit_intercept=True,\n",
       "                                                     intercept_scaling=1,\n",
       "                                                     l1_ratio=None,\n",
       "                                                     max_iter=100,\n",
       "                                                     multi_class='warn',\n",
       "                                                     n_jobs=None, penalty='l2',\n",
       "                                                     random_state=10,\n",
       "                                                     solver='warn', tol=0.0001,\n",
       "                                                     verbose=0,\n",
       "                                                     warm_start=False),\n",
       "                   learning_rate=1.0, n_estimators=50, random_state=10)"
      ]
     },
     "execution_count": 69,
     "metadata": {},
     "output_type": "execute_result"
    }
   ],
   "source": [
    "## 基分类器为逻辑回归\n",
    "from  sklearn.linear_model import LogisticRegression\n",
    "model_LR = LogisticRegression(random_state=10,class_weight=\"balanced\")\n",
    "\n",
    "## 构建AdaBoost()\n",
    "model_adaLR = AdaBoostClassifier(base_estimator=model_LR,random_state=10)\n",
    "\n",
    "## 集成训练\n",
    "model_adaLR.fit(X_train,y_train)"
   ]
  },
  {
   "cell_type": "code",
   "execution_count": 70,
   "metadata": {},
   "outputs": [],
   "source": [
    "## 模型预测及结果评价\n",
    "## 预测概率值\n",
    "y_prob_adaLR = model_adaLR.predict_proba(X_test)[:,1]\n",
    "## 预测标签值\n",
    "y_pred_daaLR = model_adaLR.predict(X_test)\n"
   ]
  },
  {
   "cell_type": "code",
   "execution_count": 71,
   "metadata": {},
   "outputs": [
    {
     "name": "stdout",
     "output_type": "stream",
     "text": [
      "AUC值： 0.7252155172413793\n"
     ]
    }
   ],
   "source": [
    "##  计算AUC\n",
    "fpr, tpr, threshold = roc_curve(y_true=y_test,y_score=y_prob_adaLR)\n",
    "print('AUC值：', auc(fpr, tpr))"
   ]
  },
  {
   "cell_type": "code",
   "execution_count": 72,
   "metadata": {},
   "outputs": [
    {
     "data": {
      "text/plain": [
       "Text(0.5, 1.0, 'ROC Curve')"
      ]
     },
     "execution_count": 72,
     "metadata": {},
     "output_type": "execute_result"
    },
    {
     "data": {
      "image/png": "[encoded data removed]",
      "text/plain": [
       "<Figure size 432x288 with 1 Axes>"
      ]
     },
     "metadata": {
      "needs_background": "light"
     },
     "output_type": "display_data"
    }
   ],
   "source": [
    "## 绘制ROC\n",
    "plt.plot(fpr, tpr, 'r-')\n",
    "plt.plot([0, 1], [0, 1], 'b--')\n",
    "plt.xlabel('FPR')\n",
    "plt.ylabel('TPR')\n",
    "plt.title('ROC Curve')"
   ]
  },
  {
   "cell_type": "markdown",
   "metadata": {},
   "source": [
    "#### GridSearchCV优化\n",
    "> 针对模型`AdaBoost(base_estimator=LogisticRegression)`进行网格寻优    <br>\n",
    "> 可调参数：\n",
    ">> (1) `'n_estimators'`:grid_n, [20, 50, 100, 150, 200, 500]  <br>\n",
    "(2) `'learning_rate'`:grid_lr, linsapce(0.01, 1, 10)  <br>\n",
    "\n",
    ">> 提示：运行需要一定时间"
   ]
  },
  {
   "cell_type": "code",
   "execution_count": 73,
   "metadata": {},
   "outputs": [
    {
     "data": {
      "text/plain": [
       "GridSearchCV(cv=5, error_score='raise-deprecating',\n",
       "             estimator=AdaBoostClassifier(algorithm='SAMME.R',\n",
       "                                          base_estimator=LogisticRegression(C=1.0,\n",
       "                                                                            class_weight='balanced',\n",
       "                                                                            dual=False,\n",
       "                                                                            fit_intercept=True,\n",
       "                                                                            intercept_scaling=1,\n",
       "                                                                            l1_ratio=None,\n",
       "                                                                            max_iter=100,\n",
       "                                                                            multi_class='warn',\n",
       "                                                                            n_jobs=None,\n",
       "                                                                            penalty='l2',\n",
       "                                                                            random_state=10,\n",
       "                                                                            solver='warn',\n",
       "                                                                            tol=0.0001,\n",
       "                                                                            verbose=0,\n",
       "                                                                            warm_start=False),\n",
       "                                          learning_rate=1.0, n_estimators=50,\n",
       "                                          random_state=10),\n",
       "             iid='warn', n_jobs=None,\n",
       "             param_grid={'learning_rate': array([0.01, 0.12, 0.23, 0.34, 0.45, 0.56, 0.67, 0.78, 0.89, 1.  ]),\n",
       "                         'n_estimators': [20, 50, 100, 150, 200, 500]},\n",
       "             pre_dispatch='2*n_jobs', refit=True, return_train_score=False,\n",
       "             scoring='roc_auc', verbose=0)"
      ]
     },
     "execution_count": 73,
     "metadata": {},
     "output_type": "execute_result"
    }
   ],
   "source": [
    "## 构造网格参数KV\n",
    "grid_n = [20, 50, 100, 150, 200, 500]\n",
    "grid_lr = np.linspace(0.01,1,10)\n",
    "param_grid = {\"n_estimators\":grid_n,\"learning_rate\":grid_lr}\n",
    "\n",
    "## 实例化GridSearchCV()\n",
    "grid_search = GridSearchCV(estimator=model_adaLR,\n",
    "                           param_grid=param_grid,\n",
    "                           cv=5,\n",
    "                           scoring=\"roc_auc\"\n",
    "                          )\n",
    "## searching...\n",
    "grid_search.fit(X_train,y_train)"
   ]
  },
  {
   "cell_type": "code",
   "execution_count": 74,
   "metadata": {},
   "outputs": [
    {
     "data": {
      "text/plain": [
       "{'learning_rate': 0.56, 'n_estimators': 20}"
      ]
     },
     "execution_count": 74,
     "metadata": {},
     "output_type": "execute_result"
    }
   ],
   "source": [
    "## 返回最优参数\n",
    "grid_search.best_params_"
   ]
  },
  {
   "cell_type": "code",
   "execution_count": 75,
   "metadata": {},
   "outputs": [],
   "source": [
    "## 考查最优模型性能\n",
    "\n",
    "##  采用grid_search的最优模型进行预测\n",
    "### predcit1：测试集正类的预测概率（y_prob）(只看1标签的)\n",
    "y_prob_adaLR_best = grid_search.predict_proba(X_test)[:,1]\n",
    "\n",
    "### predict2：测试集的预测标签(y_pred)\n",
    "y_pred_adaLR_best = grid_search.predict(X_test)"
   ]
  },
  {
   "cell_type": "code",
   "execution_count": 76,
   "metadata": {},
   "outputs": [
    {
     "name": "stdout",
     "output_type": "stream",
     "text": [
      "              precision    recall  f1-score   support\n",
      "\n",
      "           0       0.78      0.91      0.84        64\n",
      "           1       0.68      0.45      0.54        29\n",
      "\n",
      "    accuracy                           0.76        93\n",
      "   macro avg       0.73      0.68      0.69        93\n",
      "weighted avg       0.75      0.76      0.75        93\n",
      "\n"
     ]
    }
   ],
   "source": [
    "##  输出分类报告\n",
    "print(classification_report(y_true=y_test,y_pred=y_pred_adaLR_best))\n"
   ]
  },
  {
   "cell_type": "markdown",
   "metadata": {},
   "source": [
    "分析：对于0类的召回率较高"
   ]
  },
  {
   "cell_type": "code",
   "execution_count": 77,
   "metadata": {},
   "outputs": [
    {
     "name": "stdout",
     "output_type": "stream",
     "text": [
      "AUC值： 0.7182112068965517\n"
     ]
    },
    {
     "data": {
      "text/plain": [
       "Text(0.5, 1.0, 'ROC Curve')"
      ]
     },
     "execution_count": 77,
     "metadata": {},
     "output_type": "execute_result"
    },
    {
     "data": {
      "image/png": "[encoded data removed]",
      "text/plain": [
       "<Figure size 432x288 with 1 Axes>"
      ]
     },
     "metadata": {
      "needs_background": "light"
     },
     "output_type": "display_data"
    }
   ],
   "source": [
    "# 绘制ROC曲线并计算AUC\n",
    "fpr, tpr, threshold = roc_curve(y_true=y_test,y_score=y_prob_adaLR_best )\n",
    "print('AUC值：', auc(fpr, tpr))\n",
    "plt.plot(fpr, tpr, 'r-')\n",
    "plt.plot([0, 1], [0, 1], 'b--')\n",
    "plt.xlabel('FPR')\n",
    "plt.ylabel('TPR')\n",
    "plt.title('ROC Curve')"
   ]
  },
  {
   "cell_type": "markdown",
   "metadata": {},
   "source": [
    "## GBDT\n",
    "> **常用于回归任务**\n",
    ">> ●梯度提升树，GBDT,Gradient Boosting Decision Tree  <br>\n",
    " ●以回归树为基学习器的boosting方法   <br>\n",
    " ●用损失函数的负梯度来拟合每轮损失的近似值   <br>\n"
   ]
  },
  {
   "cell_type": "markdown",
   "metadata": {},
   "source": [
    "### GBDT回归\n",
    "> ![](./imgs/chap07/fig07_04.png)\n",
    "\n",
    "> `GradientBoostingRegressor`类\n",
    ">> ![](./imgs/chap07/fig07_04_1.png)\n",
    "\n",
    ">> 官方文档：https://scikit-learn.org/stable/modules/generated/sklearn.ensemble.GradientBoostingRegressor.html"
   ]
  },
  {
   "cell_type": "markdown",
   "metadata": {},
   "source": [
    "### GBDT分类(二分类）\n",
    ">![](./imgs/chap07/fig07_05.png)\n",
    "\n",
    ">`GradientBoostingClassifier`类\n",
    ">> ![](./imgs/chap07/fig07_05_1.png)\n",
    "\n",
    ">>官方文档：https://scikit-learn.org/stable/modules/generated/sklearn.ensemble.GradientBoostingClassifier.html"
   ]
  },
  {
   "cell_type": "markdown",
   "metadata": {},
   "source": [
    "#### GBDT(clf)分类模型构建"
   ]
  },
  {
   "cell_type": "code",
   "execution_count": 78,
   "metadata": {},
   "outputs": [
    {
     "data": {
      "text/plain": [
       "GradientBoostingClassifier(criterion='friedman_mse', init=None,\n",
       "                           learning_rate=0.1, loss='deviance', max_depth=3,\n",
       "                           max_features=None, max_leaf_nodes=None,\n",
       "                           min_impurity_decrease=0.0, min_impurity_split=None,\n",
       "                           min_samples_leaf=1, min_samples_split=2,\n",
       "                           min_weight_fraction_leaf=0.0, n_estimators=100,\n",
       "                           n_iter_no_change=None, presort='auto',\n",
       "                           random_state=10, subsample=0.7, tol=0.0001,\n",
       "                           validation_fraction=0.1, verbose=0,\n",
       "                           warm_start=False)"
      ]
     },
     "execution_count": 78,
     "metadata": {},
     "output_type": "execute_result"
    }
   ],
   "source": [
    "## 载入算法类\n",
    "from sklearn.ensemble import GradientBoostingClassifier\n",
    "\n",
    "## 建立并训练GBDT模型\n",
    "model_gbdt = GradientBoostingClassifier(random_state=10,subsample=0.7)\n",
    "model_gbdt.fit(X_train,y_train)"
   ]
  },
  {
   "cell_type": "markdown",
   "metadata": {},
   "source": [
    "#### GBDT_clf模型预测"
   ]
  },
  {
   "cell_type": "code",
   "execution_count": 79,
   "metadata": {},
   "outputs": [],
   "source": [
    "##  模型预测\n",
    "### predcit1：测试集正类的预测概率（y_prob）(只看1标签的)\n",
    "y_prob_gbdt = model_gbdt.predict_proba(X_test)[:,1]\n",
    "\n",
    "### predict2：测试集的预测标签(y_pred)\n",
    "y_pred_gbdt = model_gbdt.predict(X_test)"
   ]
  },
  {
   "cell_type": "markdown",
   "metadata": {},
   "source": [
    "#### GBDT_clf模型评价"
   ]
  },
  {
   "cell_type": "code",
   "execution_count": 80,
   "metadata": {},
   "outputs": [
    {
     "name": "stdout",
     "output_type": "stream",
     "text": [
      "AUC值： 0.7300646551724138\n"
     ]
    }
   ],
   "source": [
    "## 计算AUC\n",
    "fpr,tpr,threshold = roc_curve(y_true=y_test,y_score=y_prob_gbdt)\n",
    "print('AUC值：', auc(fpr, tpr))"
   ]
  },
  {
   "cell_type": "markdown",
   "metadata": {},
   "source": [
    "#### GBDT_clf模型参数\n",
    "> 弱分类器袋外样本损失减小值和训练集损失\n",
    ">> `oob_improvement_`:每增加一个基分类器，袋外样本的损失函数减少值<br>\n",
    "`train_score_`:\t每增加一个基分类器，训练集上损失函数的值\n"
   ]
  },
  {
   "cell_type": "code",
   "execution_count": 81,
   "metadata": {},
   "outputs": [],
   "source": [
    "## 弱分类器袋外样本损失减小值和训练集损失\n",
    "oob_improves = model_gbdt.oob_improvement_\n",
    "train_scores = model_gbdt.train_score_"
   ]
  },
  {
   "cell_type": "code",
   "execution_count": 82,
   "metadata": {},
   "outputs": [
    {
     "data": {
      "text/plain": [
       "<matplotlib.legend.Legend at 0x13b17eb2e88>"
      ]
     },
     "execution_count": 82,
     "metadata": {},
     "output_type": "execute_result"
    },
    {
     "data": {
      "image/png": "[encoded data removed]",
      "text/plain": [
       "<Figure size 576x432 with 1 Axes>"
      ]
     },
     "metadata": {
      "needs_background": "light"
     },
     "output_type": "display_data"
    }
   ],
   "source": [
    "## 可视化\n",
    "plt.figure(figsize=(8, 6))\n",
    "plt.plot(model_gbdt.oob_improvement_, 'y-+', label='oob')\n",
    "plt.plot(model_gbdt.train_score_, 'b--*', label='train')\n",
    "plt.xlabel('estimator_orderd')\n",
    "plt.legend()"
   ]
  },
  {
   "cell_type": "markdown",
   "metadata": {},
   "source": [
    "分析：\n",
    "> (1) 随着弱分类器的增加，训练集的损失在不断降低，袋外样本的损失减小值慢慢趋于平稳，<br>\n",
    "(2)`GradientBoostingClassifier()`的弱分类器个数`n_estimator`默认100个，从图上看，用不着那么多，设置该参数为20就可以了"
   ]
  },
  {
   "cell_type": "markdown",
   "metadata": {},
   "source": [
    "#### GBDT_clf的GridSearchCV()优化\n",
    "> 可优化参数：\n",
    ">> (1)'n_estimators':grid_n,    <br>\n",
    "(2)'learning_rate':grid_rate,    <br>\n",
    "(3)'subsample':grid_sub     <br>"
   ]
  },
  {
   "cell_type": "code",
   "execution_count": 83,
   "metadata": {},
   "outputs": [
    {
     "data": {
      "text/plain": [
       "array([0.01, 0.12, 0.23, 0.34, 0.45, 0.56, 0.67, 0.78, 0.89, 1.  ])"
      ]
     },
     "execution_count": 83,
     "metadata": {},
     "output_type": "execute_result"
    }
   ],
   "source": [
    "import numpy as np\n",
    "np.linspace(0.01,1,10)"
   ]
  },
  {
   "cell_type": "code",
   "execution_count": 84,
   "metadata": {},
   "outputs": [
    {
     "data": {
      "text/plain": [
       "GridSearchCV(cv=5, error_score='raise-deprecating',\n",
       "             estimator=GradientBoostingClassifier(criterion='friedman_mse',\n",
       "                                                  init=None, learning_rate=0.1,\n",
       "                                                  loss='deviance', max_depth=3,\n",
       "                                                  max_features=None,\n",
       "                                                  max_leaf_nodes=None,\n",
       "                                                  min_impurity_decrease=0.0,\n",
       "                                                  min_impurity_split=None,\n",
       "                                                  min_samples_leaf=1,\n",
       "                                                  min_samples_split=2,\n",
       "                                                  min_weight_fraction_leaf=0.0,\n",
       "                                                  n_estimators=100,\n",
       "                                                  n_iter_no...\n",
       "                                                  subsample=0.7, tol=0.0001,\n",
       "                                                  validation_fraction=0.1,\n",
       "                                                  verbose=0, warm_start=False),\n",
       "             iid='warn', n_jobs=None,\n",
       "             param_grid={'learning_rate': array([0.01, 0.12, 0.23, 0.34, 0.45, 0.56, 0.67, 0.78, 0.89, 1.  ]),\n",
       "                         'n_estimators': [20, 50, 100, 150, 200, 500],\n",
       "                         'subsample': [0.1, 0.2, 0.3, 0.5, 0.7, 0.9]},\n",
       "             pre_dispatch='2*n_jobs', refit=True, return_train_score=False,\n",
       "             scoring='roc_auc', verbose=0)"
      ]
     },
     "execution_count": 84,
     "metadata": {},
     "output_type": "execute_result"
    }
   ],
   "source": [
    "## 构造网格参数KV\n",
    "grid_n = [20, 50, 100, 150, 200, 500]\n",
    "grid_lr = np.linspace(0.01,1,10)\n",
    "grid_subsample = [0.1, 0.2, 0.3, 0.5, 0.7, 0.9]\n",
    "param_grid = {\"n_estimators\":grid_n,\"learning_rate\":grid_lr,\"subsample\":grid_subsample}\n",
    "\n",
    "## 实例化GridSearchCV()\n",
    "grid_search = GridSearchCV(estimator=model_gbdt,\n",
    "                           param_grid=param_grid,\n",
    "                           cv=5,\n",
    "                           scoring=\"roc_auc\"\n",
    "                          )\n",
    "## 网格搜索调参 searching\n",
    "grid_search.fit(X_train,y_train)"
   ]
  },
  {
   "cell_type": "code",
   "execution_count": 85,
   "metadata": {},
   "outputs": [
    {
     "data": {
      "text/plain": [
       "{'learning_rate': 0.12, 'n_estimators': 150, 'subsample': 0.3}"
      ]
     },
     "execution_count": 85,
     "metadata": {},
     "output_type": "execute_result"
    }
   ],
   "source": [
    "## 获取最优参数\n",
    "grid_search.best_params_"
   ]
  },
  {
   "cell_type": "code",
   "execution_count": 86,
   "metadata": {},
   "outputs": [],
   "source": [
    "## 考查最优模型性能\n",
    "## 采用grid_search的最优模型进行预测\n",
    "### predcit1：测试集正类的预测概率（y_prob）\n",
    "y_prob_gbdt_best = grid_search.predict_proba(X_test)[:,1]\n",
    "\n",
    "### predict2：测试集的预测标签(y_pred)\n",
    "y_pred_gbdt_best = grid_search.predict(X_test) "
   ]
  },
  {
   "cell_type": "code",
   "execution_count": 87,
   "metadata": {},
   "outputs": [
    {
     "name": "stdout",
     "output_type": "stream",
     "text": [
      "              precision    recall  f1-score   support\n",
      "\n",
      "           0       0.77      0.98      0.86        64\n",
      "           1       0.91      0.34      0.50        29\n",
      "\n",
      "    accuracy                           0.78        93\n",
      "   macro avg       0.84      0.66      0.68        93\n",
      "weighted avg       0.81      0.78      0.75        93\n",
      "\n"
     ]
    }
   ],
   "source": [
    "## 输出分类报告\n",
    "print(classification_report(y_true=y_test,y_pred=y_pred_gbdt_best))"
   ]
  },
  {
   "cell_type": "code",
   "execution_count": 88,
   "metadata": {},
   "outputs": [
    {
     "name": "stdout",
     "output_type": "stream",
     "text": [
      "AUC值： 0.7435344827586207\n"
     ]
    },
    {
     "data": {
      "text/plain": [
       "Text(0.5, 1.0, 'ROC Curve')"
      ]
     },
     "execution_count": 88,
     "metadata": {},
     "output_type": "execute_result"
    },
    {
     "data": {
      "image/png": "[encoded data removed]",
      "text/plain": [
       "<Figure size 432x288 with 1 Axes>"
      ]
     },
     "metadata": {
      "needs_background": "light"
     },
     "output_type": "display_data"
    }
   ],
   "source": [
    "## 计算AUC\n",
    "fpr,tpr,threshold = roc_curve(y_true=y_test,y_score=y_prob_gbdt_best)\n",
    "print(\"AUC值：\",auc(fpr,tpr))\n",
    "\n",
    "## 绘制ROC曲线\n",
    "plt.plot(fpr,tpr,'r--')\n",
    "plt.plot([0,1],[0,1],'b--')\n",
    "plt.xlabel('FPR')\n",
    "plt.ylabel('TPR')\n",
    "plt.title(\"ROC Curve\")"
   ]
  },
  {
   "cell_type": "markdown",
   "metadata": {},
   "source": [
    "#### 特征重要性考察\n",
    "> + (1) 根据`grid_search`得到`best_gbdt`模型  <br>\n",
    "> + (2) 使用`best_gbdt`进行模型训练`fit() ` <br>\n",
    "> + (3) 获取`.feature_importances_` <br>\n",
    "> + (4) 可视化"
   ]
  },
  {
   "cell_type": "code",
   "execution_count": 89,
   "metadata": {},
   "outputs": [
    {
     "data": {
      "text/plain": [
       "<matplotlib.axes._subplots.AxesSubplot at 0x13b1901ba88>"
      ]
     },
     "execution_count": 89,
     "metadata": {},
     "output_type": "execute_result"
    },
    {
     "data": {
      "image/png": "[encoded data removed]",
      "text/plain": [
       "<Figure size 432x288 with 1 Axes>"
      ]
     },
     "metadata": {
      "needs_background": "light"
     },
     "output_type": "display_data"
    }
   ],
   "source": [
    "## (1)根据`grid_search`得到best_gbdt模型  <br>\n",
    "best_gbdt = grid_search.best_estimator_\n",
    "\n",
    "## (2)fit() \n",
    "best_gbdt.fit(X_train,y_train)\n",
    "\n",
    "## (3)获取`.feature_importances_`\n",
    "fea_importances = best_gbdt.feature_importances_\n",
    "\n",
    "## (4)可视化\n",
    "pd.Series(fea_importances,index=X_train.columns).sort_values().plot(kind=\"barh\")\n"
   ]
  },
  {
   "cell_type": "markdown",
   "metadata": {},
   "source": [
    "分析：没有违约历史、有违约历史、申请人收入、贷款金额、共同申请人收入这五个特征的重要性排在前五位"
   ]
  },
  {
   "cell_type": "markdown",
   "metadata": {},
   "source": [
    "# VotingClassifier\n",
    "> **一般用在最后一步，提升模型性能** <br>\n",
    "> ● 投票表决器,是一种模型堆叠法：即建立多个不同基模型，将每个模型的预测结果当做输入，建立一个高层的综合模型，可以有效改进预测\n",
    "\n",
    ">● 原理：组合不同的基分类器，最终通过多数投票（硬投票）或概率平均（软投票）的方式来预测样本类别\n",
    "\n",
    ">>(1)硬投票：\n",
    ">>>对于一个样本，每个基分类器都预测一个类别，所有的基分类器预测类别中最多的类将被作为最终结果 <br>\n",
    "\n",
    ">>(2)软投票：\n",
    ">>>◆在每个基分类器输出测试样本属于各个类的概率，将所有基分类器对每个类的预测概率进行平均得到最终测试样本属于每个类的概率，从中选择拥有最大概率的类 <br>\n",
    ">>>◆对每个基分类器设置权重，用于对预测概率进行加权平均，以控制每个基分类器的贡献\n",
    "\n",
    "> `VotingClassifier`类：\n",
    ">> |参数\t|功能|\n",
    "|---:|---:|\n",
    "|estimators\t|基分类器设置，需传入一个元组列表|\n",
    "|voting\t|投票方式，默认为“hard”，软投票为“soft”|\n",
    "|weights\t|基分类器的权重，需传入一个列表对象|\n",
    "\n",
    ">> 官网：https://scikit-learn.org/stable/modules/generated/sklearn.ensemble.VotingClassifier.html\n"
   ]
  },
  {
   "cell_type": "markdown",
   "metadata": {},
   "source": [
    "## 单一模型的硬投票和软投票\n",
    "> 硬投票流程：\n",
    ">> (1) 构建两个单独模型:model_DF和model_LR  <br>\n",
    "(2) 将以上两个单独的模型集成到投票器里，投票方式设置为\"硬投票\"  <br>\n",
    "(3) 训练投票器     <br>\n",
    "(4) 使用投票器预测标签(pred)  <br>\n",
    "(5) 计算AUC\n",
    "\n",
    "> 软投票流程(与上不同处)：\n",
    ">> (2) 投票方式设置为\"软投票\"  <br>\n",
    "(4) 使用投票器预测概率(proba)  <br>\n"
   ]
  },
  {
   "cell_type": "markdown",
   "metadata": {},
   "source": [
    "### SingleModelHardVoting"
   ]
  },
  {
   "cell_type": "code",
   "execution_count": 90,
   "metadata": {},
   "outputs": [],
   "source": [
    "from sklearn.tree import DecisionTreeClassifier\n",
    "from sklearn.linear_model import LogisticRegression\n",
    "\n",
    "## 构建决策树模型：model_DF\n",
    "model_DF = DecisionTreeClassifier(random_state=10)\n",
    "\n",
    "## 构建线性回归模型：model_LR\n",
    "model_LR= LogisticRegression(random_state=10,class_weight=\"balanced\")"
   ]
  },
  {
   "cell_type": "code",
   "execution_count": 91,
   "metadata": {},
   "outputs": [
    {
     "data": {
      "text/plain": [
       "VotingClassifier(estimators=[('DF',\n",
       "                              DecisionTreeClassifier(class_weight=None,\n",
       "                                                     criterion='gini',\n",
       "                                                     max_depth=None,\n",
       "                                                     max_features=None,\n",
       "                                                     max_leaf_nodes=None,\n",
       "                                                     min_impurity_decrease=0.0,\n",
       "                                                     min_impurity_split=None,\n",
       "                                                     min_samples_leaf=1,\n",
       "                                                     min_samples_split=2,\n",
       "                                                     min_weight_fraction_leaf=0.0,\n",
       "                                                     presort=False,\n",
       "                                                     random_state=10,\n",
       "                                                     splitter='best')),\n",
       "                             ('LR',\n",
       "                              LogisticRegression(C=1.0, class_weight='balanced',\n",
       "                                                 dual=False, fit_intercept=True,\n",
       "                                                 intercept_scaling=1,\n",
       "                                                 l1_ratio=None, max_iter=100,\n",
       "                                                 multi_class='warn',\n",
       "                                                 n_jobs=None, penalty='l2',\n",
       "                                                 random_state=10, solver='warn',\n",
       "                                                 tol=0.0001, verbose=0,\n",
       "                                                 warm_start=False))],\n",
       "                 flatten_transform=True, n_jobs=None, voting='hard',\n",
       "                 weights=None)"
      ]
     },
     "execution_count": 91,
     "metadata": {},
     "output_type": "execute_result"
    }
   ],
   "source": [
    "## 载入`VotingClassifier`类\n",
    "from sklearn.ensemble import VotingClassifier\n",
    "\n",
    "## 将模型放入投票器中\n",
    "model_vote_hard = VotingClassifier(estimators=[(\"DF\",model_DF),(\"LR\",model_LR)],voting = \"hard\")\n",
    "## 投票训练     \n",
    "model_vote_hard.fit(X_train,y_train)"
   ]
  },
  {
   "cell_type": "code",
   "execution_count": 92,
   "metadata": {},
   "outputs": [],
   "source": [
    "## 得到预测标签\n",
    "y_pred_vote_hard = model_vote_hard.predict(X_test)"
   ]
  },
  {
   "cell_type": "code",
   "execution_count": 93,
   "metadata": {},
   "outputs": [
    {
     "name": "stdout",
     "output_type": "stream",
     "text": [
      "SingleModel硬投票AUC值： 0.6740301724137931\n"
     ]
    }
   ],
   "source": [
    "## 计算AUC\n",
    "fpr,tpr,threshold = roc_curve(y_true=y_test,y_score=y_pred_vote_hard)\n",
    "print('SingleModel硬投票AUC值：', auc(fpr, tpr))"
   ]
  },
  {
   "cell_type": "markdown",
   "metadata": {},
   "source": [
    "### SingleModelSoftVoting"
   ]
  },
  {
   "cell_type": "code",
   "execution_count": 94,
   "metadata": {},
   "outputs": [
    {
     "name": "stdout",
     "output_type": "stream",
     "text": [
      "SingleModel软投票AUC值： 0.8033405172413793\n"
     ]
    }
   ],
   "source": [
    "# 单一模型的软投票\n",
    "model_vote_soft = VotingClassifier(estimators=[('DF',model_DF), ('LR',model_LR)], voting='soft')\n",
    "model_vote_soft.fit(X_train, y_train)\n",
    "\n",
    "# 得到预测概率,(只看1标签的)\n",
    "y_prob_vote_soft = model_vote_soft.predict_proba(X_test)[:, 1]\n",
    "# 计算AUC\n",
    "fpr, tpr, threshold = roc_curve(y_score=y_prob_vote_soft, y_true=y_test)\n",
    "\n",
    "print('SingleModel软投票AUC值：', auc(fpr, tpr))"
   ]
  },
  {
   "cell_type": "markdown",
   "metadata": {},
   "source": [
    "结论：通过硬投票、软投票的AUC值，可知软投票效果明显比硬投票好"
   ]
  },
  {
   "cell_type": "markdown",
   "metadata": {},
   "source": [
    "## 集成模型的硬投票和软投票\n",
    "> 采用两个集成模型进行实验：\n",
    ">> (1) `RandomForest`：典型的Bagging,集成了多棵决策树  <br>\n",
    "(2) `GradientBoostingRegressor`:典型的Boosting   <br>\n",
    "\n",
    ">流程与SingleModel相同"
   ]
  },
  {
   "cell_type": "markdown",
   "metadata": {},
   "source": [
    "### EnsembleModelHardVoting"
   ]
  },
  {
   "cell_type": "code",
   "execution_count": 95,
   "metadata": {},
   "outputs": [
    {
     "name": "stdout",
     "output_type": "stream",
     "text": [
      "EnsembleModel硬投票AUC值： 0.6646012931034483\n"
     ]
    }
   ],
   "source": [
    "## 创建两个集成模型\n",
    "best_RF = RandomForestClassifier(max_features=6, n_estimators=500, random_state=10)\n",
    "best_gbdt = GradientBoostingClassifier(n_estimators=200, learning_rate=0.01, subsample=0.3, random_state=10)\n",
    "\n",
    "## 将模型放入投票器中\n",
    "model_vote_hard = VotingClassifier(estimators=[('RF',best_RF), ('GBDT',best_gbdt)],voting = \"hard\")\n",
    "\n",
    "## 投票训练  \n",
    "model_vote_hard.fit(X_train, y_train)\n",
    "\n",
    "# 得到预测标签\n",
    "y_pred_vote_hard = model_vote_hard.predict(X_test)\n",
    "\n",
    "# 计算AUC\n",
    "fpr, tpr, threshold = roc_curve(y_true=y_test, y_score=y_pred_vote_hard)\n",
    "print('EnsembleModel硬投票AUC值：', auc(fpr, tpr))"
   ]
  },
  {
   "cell_type": "markdown",
   "metadata": {},
   "source": [
    "### EnsembleModelSofVoting"
   ]
  },
  {
   "cell_type": "code",
   "execution_count": 96,
   "metadata": {},
   "outputs": [
    {
     "name": "stdout",
     "output_type": "stream",
     "text": [
      "EnsembleModel软投票AUC值： 0.790948275862069\n"
     ]
    }
   ],
   "source": [
    "## 集成模型软投票\n",
    "model_vote_soft = VotingClassifier(estimators=[('RF',best_RF), ('GBDT',best_gbdt)],voting=\"soft\")\n",
    "model_vote_soft.fit(X_train,y_train)\n",
    "\n",
    "# 得到预测概率\n",
    "y_prob_vote_soft = model_vote_soft.predict_proba(X_test)[:,1]\n",
    "\n",
    "# 计算AUC\n",
    "fpr, tpr, threshold = roc_curve(y_true=y_test, y_score=y_prob_vote_soft)\n",
    "print('EnsembleModel软投票AUC值：', auc(fpr, tpr))"
   ]
  },
  {
   "cell_type": "markdown",
   "metadata": {},
   "source": [
    "结论： EnsembleModel软投票AUC值 > EnsembleModel硬投票AUC值"
   ]
  },
  {
   "cell_type": "markdown",
   "metadata": {},
   "source": [
    "## AUC值加权软投票\n",
    "> 根据各基分类模型的AUC进行加权软投票，哪个模型的AUC值高，就说明该模型重要性高,在投票时的话语权就重。\n",
    ">> 流程：\n",
    ">>> (1) 获得单一模型的AUC值：AUC1,AUC2,...  <br>\n",
    "(2) 构建weights=[AUC1,AUC2,...]   <br>\n",
    "(3) 创建加权的投票器    <br>\n",
    "(4) 训练投票器    <br>\n",
    "(5) 预测&评价    <br>"
   ]
  },
  {
   "cell_type": "code",
   "execution_count": 97,
   "metadata": {},
   "outputs": [
    {
     "name": "stdout",
     "output_type": "stream",
     "text": [
      "(1)决策树AUC值： 0.7634698275862069\n",
      "(2)逻辑回归AUC值： 0.7268318965517242\n"
     ]
    }
   ],
   "source": [
    "## 获得单一模型的AUC值\n",
    "model_DF.fit(X_train, y_train)\n",
    "y_prob_DF = model_DF.predict_proba(X_test)[:, 1]\n",
    "fpr, tpr, threshold = roc_curve(y_score=y_prob_DF, y_true=y_test)\n",
    "print('(1)决策树AUC值：', auc(fpr, tpr))\n",
    "\n",
    "model_LR.fit(X_train, y_train)\n",
    "y_prob_LR = model_LR.predict_proba(X_test)[:, 1]\n",
    "fpr, tpr, threshold = roc_curve(y_score=y_prob_LR, y_true=y_test)\n",
    "print('(2)逻辑回归AUC值：', auc(fpr, tpr))"
   ]
  },
  {
   "cell_type": "code",
   "execution_count": 98,
   "metadata": {},
   "outputs": [
    {
     "name": "stdout",
     "output_type": "stream",
     "text": [
      "软投票AUC值： 0.8033405172413793\n"
     ]
    }
   ],
   "source": [
    "## 构建weights\n",
    "weights = [0.76, 0.73]\n",
    "\n",
    "## 构建加权的软投票器\n",
    "model_vote_soft = VotingClassifier(estimators=[('DF',model_DF), ('LR',model_LR)], voting='soft', weights=weights)\n",
    "\n",
    "## 训练投票器\n",
    "model_vote_soft.fit(X_train, y_train)\n",
    "\n",
    "# 得到预测概率\n",
    "y_prob_vote_soft = model_vote_soft.predict_proba(X_test)[:, 1]\n",
    "\n",
    "# 计算AUC\n",
    "fpr, tpr, threshold = roc_curve(y_score=y_prob_vote_soft, y_true=y_test)\n",
    "print('软投票AUC值：', auc(fpr, tpr))"
   ]
  },
  {
   "cell_type": "markdown",
   "metadata": {},
   "source": [
    "结论:与4.1结果持平，原因是weights = [0.76, 0.73]，差距较小。"
   ]
  },
  {
   "cell_type": "markdown",
   "metadata": {},
   "source": [
    "# 小结\n",
    "> 集成模型的应用场合：竞赛，工业应用场景 <br>\n",
    "> 集成模型大致可分为：\n",
    ">> bagging(并行思想): 各个基模型相互独立；从方差-偏差的角度看，可以有效减小方差,用于抑制模型过拟合，提升模型稳定性。\n",
    ">>> 典型1：随机森林RF\n",
    "\n",
    ">> boosting(串行思想): 各个基模型从前往后高度相关；从方差-偏差的角度看，可以有效减小偏差，提升模型精度。\n",
    ">>> 典型1：AdaBoost，常用于分类任务   <br>\n",
    ">>> 典型2：GDBT，常用于回归任务    <br>\n",
    "\n",
    ">> voting(堆叠思想):即可用于SingleModel亦可用于EnsembleModel\n",
    ">>> 硬投票   <br>\n",
    ">>> 软投票    <br>\n",
    ">>> 加权投票    <br>"
   ]
  }
 ],
 "metadata": {
  "kernelspec": {
   "display_name": "Python 3",
   "language": "python",
   "name": "python3"
  },
  "language_info": {
   "codemirror_mode": {
    "name": "ipython",
    "version": 3
   },
   "file_extension": ".py",
   "mimetype": "text/x-python",
   "name": "python",
   "nbconvert_exporter": "python",
   "pygments_lexer": "ipython3",
   "version": "3.7.4"
  },
  "latex_envs": {
   "LaTeX_envs_menu_present": true,
   "autoclose": false,
   "autocomplete": true,
   "bibliofile": "biblio.bib",
   "cite_by": "apalike",
   "current_citInitial": 1,
   "eqLabelWithNumbers": true,
   "eqNumInitial": 1,
   "hotkeys": {
    "equation": "Ctrl-E",
    "itemize": "Ctrl-I"
   },
   "labels_anchors": false,
   "latex_user_defs": false,
   "report_style_numbering": false,
   "user_envs_cfg": false
  },
  "toc": {
   "base_numbering": 1,
   "nav_menu": {},
   "number_sections": true,
   "sideBar": true,
   "skip_h1_title": false,
   "title_cell": "Table of Contents",
   "title_sidebar": "Contents",
   "toc_cell": false,
   "toc_position": {
    "height": "calc(100% - 180px)",
    "left": "10px",
    "top": "150px",
    "width": "367.642px"
   },
   "toc_section_display": true,
   "toc_window_display": false
  },
  "varInspector": {
   "cols": {
    "lenName": 16,
    "lenType": 16,
    "lenVar": 40
   },
   "kernels_config": {
    "python": {
     "delete_cmd_postfix": "",
     "delete_cmd_prefix": "del ",
     "library": "var_list.py",
     "varRefreshCmd": "print(var_dic_list())"
    },
    "r": {
     "delete_cmd_postfix": ") ",
     "delete_cmd_prefix": "rm(",
     "library": "var_list.r",
     "varRefreshCmd": "cat(var_dic_list()) "
    }
   },
   "types_to_exclude": [
    "module",
    "function",
    "builtin_function_or_method",
    "instance",
    "_Feature"
   ],
   "window_display": false
  }
 },
 "nbformat": 4,
 "nbformat_minor": 2
}
