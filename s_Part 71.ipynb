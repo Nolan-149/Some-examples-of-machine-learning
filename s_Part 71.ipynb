{
 "cells": [
  {
   "cell_type": "markdown",
   "metadata": {
    "toc": true
   },
   "source": [
    "<h1>Table of Contents<span class=\"tocSkip\"></span></h1>\n",
    "<div class=\"toc\"><ul class=\"toc-item\"><li><span><a href=\"#Part1\" data-toc-modified-id=\"Part1-1\"><span class=\"toc-item-num\">1&nbsp;&nbsp;</span>Part1</a></span></li><li><span><a href=\"#Part2\" data-toc-modified-id=\"Part2-2\"><span class=\"toc-item-num\">2&nbsp;&nbsp;</span>Part2</a></span></li><li><span><a href=\"#Part3\" data-toc-modified-id=\"Part3-3\"><span class=\"toc-item-num\">3&nbsp;&nbsp;</span>Part3</a></span></li><li><span><a href=\"#Part4\" data-toc-modified-id=\"Part4-4\"><span class=\"toc-item-num\">4&nbsp;&nbsp;</span>Part4</a></span></li><li><span><a href=\"#Part5\" data-toc-modified-id=\"Part5-5\"><span class=\"toc-item-num\">5&nbsp;&nbsp;</span>Part5</a></span></li><li><span><a href=\"#Part6\" data-toc-modified-id=\"Part6-6\"><span class=\"toc-item-num\">6&nbsp;&nbsp;</span>Part6</a></span></li><li><span><a href=\"#Part-7-模型预测及分析\" data-toc-modified-id=\"Part-7-模型预测及分析-7\"><span class=\"toc-item-num\">7&nbsp;&nbsp;</span>Part 7 模型预测及分析</a></span><ul class=\"toc-item\"><li><span><a href=\"#7.1-风险评估模型效果评价方法\" data-toc-modified-id=\"7.1-风险评估模型效果评价方法-7.1\"><span class=\"toc-item-num\">7.1&nbsp;&nbsp;</span>7.1 风险评估模型效果评价方法</a></span></li><li><span><a href=\"#7.2-利用ROC_-AUC评估逻辑回归模型准确性\" data-toc-modified-id=\"7.2-利用ROC_-AUC评估逻辑回归模型准确性-7.2\"><span class=\"toc-item-num\">7.2&nbsp;&nbsp;</span>7.2 利用ROC_ AUC评估逻辑回归模型准确性</a></span></li><li><span><a href=\"#7.3-利用ROC_-AUC评估随机森林模型准确性\" data-toc-modified-id=\"7.3-利用ROC_-AUC评估随机森林模型准确性-7.3\"><span class=\"toc-item-num\">7.3&nbsp;&nbsp;</span>7.3 利用ROC_ AUC评估随机森林模型准确性</a></span></li><li><span><a href=\"#7.4-利用KS值评估逻辑回归模型准确性\" data-toc-modified-id=\"7.4-利用KS值评估逻辑回归模型准确性-7.4\"><span class=\"toc-item-num\">7.4&nbsp;&nbsp;</span>7.4 利用KS值评估逻辑回归模型准确性</a></span></li><li><span><a href=\"#7.5-利用KS值评估随机森林模型准确性\" data-toc-modified-id=\"7.5-利用KS值评估随机森林模型准确性-7.5\"><span class=\"toc-item-num\">7.5&nbsp;&nbsp;</span>7.5 利用KS值评估随机森林模型准确性</a></span></li><li><span><a href=\"#7.6-利用PSI评估逻辑回归模型稳定性\" data-toc-modified-id=\"7.6-利用PSI评估逻辑回归模型稳定性-7.6\"><span class=\"toc-item-num\">7.6&nbsp;&nbsp;</span>7.6 利用PSI评估逻辑回归模型稳定性</a></span></li><li><span><a href=\"#7.7-利用PSI评估随机森林模型稳定性\" data-toc-modified-id=\"7.7-利用PSI评估随机森林模型稳定性-7.7\"><span class=\"toc-item-num\">7.7&nbsp;&nbsp;</span>7.7 利用PSI评估随机森林模型稳定性</a></span></li><li><span><a href=\"#7.8-计算逻辑回归的指标重要性\" data-toc-modified-id=\"7.8-计算逻辑回归的指标重要性-7.8\"><span class=\"toc-item-num\">7.8&nbsp;&nbsp;</span>7.8 计算逻辑回归的指标重要性</a></span></li><li><span><a href=\"#7.9-计算随机森林的指标重要性\" data-toc-modified-id=\"7.9-计算随机森林的指标重要性-7.9\"><span class=\"toc-item-num\">7.9&nbsp;&nbsp;</span>7.9 计算随机森林的指标重要性</a></span></li><li><span><a href=\"#7.10-指标重要度综合排序\" data-toc-modified-id=\"7.10-指标重要度综合排序-7.10\"><span class=\"toc-item-num\">7.10&nbsp;&nbsp;</span>7.10 指标重要度综合排序</a></span></li></ul></li></ul></div>"
   ]
  },
  {
   "cell_type": "markdown",
   "metadata": {},
   "source": [
    "# Part1\n",
    "# Part2\n",
    "# Part3\n",
    "# Part4\n",
    "# Part5\n",
    "# Part6"
   ]
  },
  {
   "cell_type": "markdown",
   "metadata": {},
   "source": [
    "**数据准备：**"
   ]
  },
  {
   "cell_type": "code",
   "execution_count": 2,
   "metadata": {},
   "outputs": [],
   "source": [
    "import numpy as np\n",
    "import pandas as pd\n",
    "import matplotlib.pyplot as plt\n",
    "%matplotlib inline\n",
    "import seaborn as sns\n",
    "plt.rcParams['font.sans-serif']=['SimHei']   #用来正常显示中文标签\n",
    "plt.rcParams['axes.unicode_minus']=False     #用来正常显示负号"
   ]
  },
  {
   "cell_type": "code",
   "execution_count": 3,
   "metadata": {},
   "outputs": [],
   "source": [
    "# 读取文件'./data/bank_risk6.csv'\n",
    "data_path = './data/bank_risk6.csv'\n",
    "data = _______________"
   ]
  },
  {
   "cell_type": "code",
   "execution_count": 4,
   "metadata": {},
   "outputs": [
    {
     "name": "stdout",
     "output_type": "stream",
     "text": [
      "x_train length: 37865, x_test length: 9467\n",
      "0.08995114221576654\n",
      "0.08989120101404881\n"
     ]
    }
   ],
   "source": [
    "# 导入模块\n",
    "from _______________ import train_test_split\n",
    "\n",
    "# s1: 分离出x与y\n",
    "## s1-1:  筛选data中的Default列的值，赋予变量y\n",
    "y = _______________\n",
    "## s1-2:  筛选除去Default列的其他列的值，赋予变量x\n",
    "x = _______________\n",
    "\n",
    "# s2: 划分训练集和测试集(8:2)，注意需分层采样,random_state=33\n",
    "_____________________________________________\n",
    "# s3:  查看划分后的x_train与x_test的长度\n",
    "len_x_train = _______________\n",
    "len_x_test = _______________\n",
    "print('x_train length: %d, x_test length: %d'%(len_x_train,len_x_test))\n",
    "\n",
    "# s4: 查看训练集中违约客户人数的占比\n",
    "train_ratio = _______________/len(y_train)\n",
    "print(train_ratio)\n",
    "\n",
    "# s5:  查看测试集中违约客户人数的占比\n",
    "test_ratio = _______________/len(y_test)\n",
    "print(test_ratio)\n"
   ]
  },
  {
   "cell_type": "markdown",
   "metadata": {},
   "source": [
    "# Part 7 模型预测及分析"
   ]
  },
  {
   "cell_type": "markdown",
   "metadata": {},
   "source": [
    ">在模型有效的前提下，需要用外推样本对模型进行评估。<br>本项目主要从准确性、稳定性和可解释性三个方面来评估模型。<br>其中准确性指标包括感受性曲线下面积(ROC_AUC)和区分度指标(KS)。\n",
    "> + ROC曲线示例如图所示：<img src=\"./imgs/7-01.png\" width=40%>\n",
    ">> + 测试集的AUC值代表ROC曲线下方区域的面积。\n",
    ">> + AUC数值范围为[0.5,1]，值越大表明模型相对越好。\n",
    "\n",
    "> + KS值通过测量模型对违约和未违约客户的区分能力来评估模型的准确性，示意图如下:<img src=\"./imgs/7-02.png\" width=40%>\n",
    "\n",
    "> + 稳定性指标主要参考群体稳定指数(PSI)，衡量测试样本及模型开发样本评分的分布差异，其值越小模型越稳定。\n",
    ">> + 两个分布的差异示意图如下:<img src=\"./imgs/7-03.png\" width=40%>\n",
    "\n",
    "> + 可解释性可通过指标重要度来进行评估，其中指标重要度用于衡量各个解释变量对算法预测结果影响的程度。"
   ]
  },
  {
   "cell_type": "markdown",
   "metadata": {},
   "source": [
    "## 7.1 风险评估模型效果评价方法"
   ]
  },
  {
   "cell_type": "markdown",
   "metadata": {},
   "source": [
    ">在这个项目中，我们将从准确性、稳定性、可解释性三个方面对模型进行评估。<br>\n",
    "> + **准确性**:准确性中包含两个指标，分别为受试者工作特征曲线(Receiver Operating Characteristic curve，简称ROC曲线)和柯尔莫可洛夫-斯米洛夫检验(Kolmogorov-Smirnov test，简称KS检验)，它们均为风控模型中的常用评估指标。\n",
    ">> + ROC&AUC\n",
    ">>> + ROC曲线通过真正率（True Positive Rate, TPR）和假正率(False Positive Rate, FPR)两个指标进行绘制。\n",
    ">>> + 并且它与横轴之间的面积(Area Under of Curve,简称AUC)可以给出一个具体的数值来度量模型的准确性。\n",
    ">>> + ROC曲线具有一定的稳定性，它不会因为正负样本分布的变化而产生不同的曲线。\n",
    ">> + KS\n",
    ">>> + 在统计学中，KS检验基于累计分布函数，用以检验两个经验分布是否不同或一个经验分布与另一个理想分布是否不同。\n",
    ">>> + 在风控模型的开发中，KS检验可以评估风控模型对正常和违约用户的区分能力，是一种区分度评价指标。\n",
    "> + **稳定性**:模型是在特定时间点开发的，是否对外部样本有效需要经过稳定性测试。\n",
    ">> + 群体稳定性指标(population stability index，PSI)是最常用的模型稳定性评价指标。\n",
    "> + **可解释性**∶在逻辑回归和随机森林模型中，考量各个解释变量对目标变量预测结果的影响程度，可以得到模型指标重要性\n",
    ">> + 特征重要性分析"
   ]
  },
  {
   "cell_type": "markdown",
   "metadata": {},
   "source": [
    "## 7.2 利用ROC_ AUC评估逻辑回归模型准确性"
   ]
  },
  {
   "cell_type": "markdown",
   "metadata": {},
   "source": [
    ">在7.1中，我们对ROC曲线和AUC进行了简单的介绍，并且在上一部分中已经通过调节参数得到了最优的逻辑回归模型。这一节我们首先绘制出这个最优模型的ROC曲线，然后计算出AUC值，以此来评估其准确性。\n",
    "> + (1) 从`sklearn`工具包中导入`metrics`函数，然后通过`metrics`中的`roc_curve()`计算绘制ROC曲线所必要的值，在括号内我们需填写测试集的真实标签和预测概率，最终这个函数将返回三部分内容，分别为:\n",
    ">>* `fpr`:假正(false positive)率\n",
    ">>* `tpr`:真正(true positive)率\n",
    ">>* `threshold`:用于计算fpr和tpr的阈值\n",
    "> + (2)接下来用`metrics` 中的`auc()`进行AUC值的计算，其中括号内需按先后顺序填入刚才求出的 `fpr`及`tpr`值，这个函数最终将返回浮点数形式的AUC值。\n",
    "> + (3)然后用`matplotlib`工具包中的`pyplot`模块进行画图:\n",
    ">> + 其中横坐标为假正率(false positive rate)，纵坐标为真正率(true positive rate)，设置图例打出AUC的结果值，将图例放在右下角。\n",
    ">> + 为了对ROC曲线进行更好的观察，我们还需要设置横纵坐标的范围(0-1)，并且还可以画一条红色的对角线(斜率）来与ROC曲线进行参照对比。\n",
    ">> + 最后设置横纵坐标的名称分别为`False Positive Rate`和 `True Positive Rate`，并将图形命名为`Receiver Operating Characteristic Curve` 。\n",
    "\n",
    ">下面我们就来先利用`GridSearchCV()`优化逻辑回归模型，然后用最优模型画出ROC曲线。"
   ]
  },
  {
   "cell_type": "markdown",
   "metadata": {},
   "source": [
    "※实训任务\n",
    ">* 使用`metrics.roc_curve`函数计算出fpr及tpr和threshold（测试集真实标签为`y_test`，已计算出测试集预测概率，保存在变量`y_predict_best`中)。\n",
    ">* 使用`metrics.auc`函数求出AUC的值(在函数括号中按顺序填入`fpr`及`tpr` )。\n",
    ">* 将画ROC曲线的代码 `plt.plot`填写完整(分别按顺序填入横坐标，纵坐标以及图例)。"
   ]
  },
  {
   "cell_type": "markdown",
   "metadata": {},
   "source": [
    "**逻辑回归优化调参**"
   ]
  },
  {
   "cell_type": "code",
   "execution_count": 5,
   "metadata": {},
   "outputs": [
    {
     "name": "stdout",
     "output_type": "stream",
     "text": [
      "参数网格:\n",
      "{'C': [0.2, 0.4, 0.6, 0.8, 1, 1.2, 1.4, 1.6, 1.8], 'penalty': ['l2'], 'class_weight': ['balanced', None]}\n"
     ]
    }
   ],
   "source": [
    "#s1:构建逻辑回归超参的网格列表（C，penalty,class_weight）\n",
    "\n",
    "##s1-1: 创建一个包含不同C取值的列表\n",
    "C_ = [0.2, 0.4, 0.6, 0.8, 1, 1.2, 1.4, 1.6, 1.8]\n",
    "\n",
    "##s1-2: 创建一个包含不同penalty取值的列表，注意sklearn0.22版本后，该参数有所改变，即\"solver='lbfgs'\"只能用l2\n",
    "# penalty_  = [\"l2\", \"l1\"]\n",
    "penalty_  = [\"l2\"]\n",
    "##s1-3:  创建一个包含不同class_weight取值的列表\n",
    "class_weight_ = ['balanced', None]\n",
    "\n",
    "##s1-4:构建param_grid_lr={K:V}\n",
    "param_grid_lr = {_______________,  _______________, _______________}\n",
    "print(\"参数网格:\\n{}\".format(param_grid_lr))"
   ]
  },
  {
   "cell_type": "markdown",
   "metadata": {},
   "source": [
    "**逻辑回归&网格搜索：**"
   ]
  },
  {
   "cell_type": "code",
   "execution_count": 6,
   "metadata": {},
   "outputs": [
    {
     "name": "stdout",
     "output_type": "stream",
     "text": [
      "随机森林模型test AUC:\n",
      "0.9138919939074355\n"
     ]
    },
    {
     "name": "stderr",
     "output_type": "stream",
     "text": [
      "D:\\virtualEnvs\\MLenv1\\lib\\site-packages\\sklearn\\linear_model\\_logistic.py:765: ConvergenceWarning: lbfgs failed to converge (status=1):\n",
      "STOP: TOTAL NO. of ITERATIONS REACHED LIMIT.\n",
      "\n",
      "Increase the number of iterations (max_iter) or scale the data as shown in:\n",
      "    https://scikit-learn.org/stable/modules/preprocessing.html\n",
      "Please also refer to the documentation for alternative solver options:\n",
      "    https://scikit-learn.org/stable/modules/linear_model.html#logistic-regression\n",
      "  extra_warning_msg=_LOGISTIC_SOLVER_CONVERGENCE_MSG)\n"
     ]
    }
   ],
   "source": [
    "# 导入模块\n",
    "from _______________ import GridSearchCV\n",
    "from _______________ import LogisticRegression\n",
    "from _______________ import roc_auc_score\n",
    "\n",
    "# s1: 构建逻辑回归模型\n",
    "lr = _______________\n",
    "\n",
    "# s2:设置需要调试的参数\n",
    "tuned_parameters = _______________\n",
    "\n",
    "# s3: 构造网格搜索并训练\n",
    "lr_clf = GridSearchCV(________, _______________,  cv=5,  n_jobs=5, scoring='roc_auc')\n",
    "lr_clf.fit(x_train, y_train)\n",
    "\n",
    "# s4:模型预测，获取预测结果,正样本(1)的概率估计\n",
    "y_predict_lr = _______________\n",
    "\n",
    "# s5: 计算auc\n",
    "test_auc_lr = _______________\n",
    "print ('随机森林模型test AUC:')\n",
    "print (test_auc_lr)"
   ]
  },
  {
   "cell_type": "code",
   "execution_count": 7,
   "metadata": {},
   "outputs": [],
   "source": [
    "# 保留lr模型的最优预测结果\n",
    "y_pre_best_lr = y_predict_lr"
   ]
  },
  {
   "cell_type": "markdown",
   "metadata": {},
   "source": [
    "**绘制ROC_逻辑回归模型:**"
   ]
  },
  {
   "cell_type": "code",
   "execution_count": 8,
   "metadata": {},
   "outputs": [
    {
     "data": {
      "image/png": "[encoded data removed]",
      "text/plain": [
       "<Figure size 576x432 with 1 Axes>"
      ]
     },
     "metadata": {
      "needs_background": "light"
     },
     "output_type": "display_data"
    }
   ],
   "source": [
    "# 导入模块\n",
    "from _____________ import metrics\n",
    "\n",
    "# S1:用metrics.roc_curve()求出 fpr, tpr, threshold\n",
    "fpr, tpr, threshold = _______________\n",
    "\n",
    "# S2:用metrics.auc()求出roc_auc的值\n",
    "roc_auc = _______________\n",
    "\n",
    "# S3:绘图ROC\n",
    "## S3-1:将图片大小设为8:6\n",
    "fig,ax = plt.subplots(figsize=(8,6))\n",
    "\n",
    "## S3-2:将plt.plot(f,t)里的内容填写完整\n",
    "plt.plot(____, ____ label = 'AUC = %0.2f' % roc_auc)\n",
    "\n",
    "## S3-3:将图例显示在右下方\n",
    "plt.legend(loc = 'lower right') \n",
    "\n",
    "## S3-4:画出一条红色对角虚线\n",
    "plt.plot([0, 1], [0, 1],'r--') \n",
    "\n",
    "## S3-5:设置横纵坐标轴范围\n",
    "plt.xlim([-0.01, 1.01]) \n",
    "plt.ylim([-0.01, 1.01])\n",
    "\n",
    "## S3-6:设置横纵名称以及图形名称\n",
    "plt.ylabel('True Positive Rate')\n",
    "plt.xlabel('False Positive Rate')\n",
    "plt.title('Receiver Operating Characteristic Curve_LogisticRegression')\n",
    "\n",
    "## S3-7:显示\n",
    "plt.show()"
   ]
  },
  {
   "cell_type": "markdown",
   "metadata": {},
   "source": [
    "## 7.3 利用ROC_ AUC评估随机森林模型准确性"
   ]
  },
  {
   "cell_type": "markdown",
   "metadata": {},
   "source": [
    ">接下来我们查看一下在随机森林模型中的ROC曲线和AUC值，方法与逻辑回归相同。<br>\n",
    "> + 利用`GridSearchCV()`优化随机森林模型，然后用最优模型画出ROC曲线。"
   ]
  },
  {
   "cell_type": "markdown",
   "metadata": {},
   "source": [
    "※实训任务\n",
    ">* 使用`metrics.roc_curve`函数计算出`fpr`及 `tpr`和`threshold`(测试集真实标签为`y_test `，已计算出测试集预测概率，保存在变量`y_predict_best` 中)。\n",
    ">* 使用`metrics.auc`函数求出AUC的值（在函数括号中按顺序填入`fpr`及`tpr` ) 。\n",
    ">* 将画ROC曲线的代码`plt.plot`填写完整分别按顺序填入横坐标，纵坐标以及图例。"
   ]
  },
  {
   "cell_type": "markdown",
   "metadata": {},
   "source": [
    "**随机森林&网格搜索：**"
   ]
  },
  {
   "cell_type": "code",
   "execution_count": 10,
   "metadata": {},
   "outputs": [
    {
     "name": "stdout",
     "output_type": "stream",
     "text": [
      "随机森林模型test AUC:\n",
      "0.917949157526183\n"
     ]
    }
   ],
   "source": [
    "#  导入模块\n",
    "from _______________ import GridSearchCV\n",
    "from _______________ import RandomForestClassifier\n",
    "from _______________ import roc_auc_score\n",
    "\n",
    "# s1: 构建随机森林模型\n",
    "rf = _______________\n",
    "\n",
    "# s2:设置需要调试的参数\n",
    "tuned_parameters = {'n_estimators':[100,110,120,130,140,150,160,180],'max_depth':[8,10]}\n",
    "\n",
    "# s3: 构造网格搜索并训练\n",
    "rf_clf = GridSearchCV(_____,_________,cv=5, n_jobs=5, scoring='roc_auc')\n",
    "rf_clf.fit(x_train, y_train)\n",
    "\n",
    "# s4:模型预测，获取预测结果,正样本(1)的概率估计\n",
    "y_predict_rf = ___________\n",
    "\n",
    "# s5: 计算auc\n",
    "test_auc_rf = ___________\n",
    "print ('随机森林模型test AUC:')\n",
    "print (test_auc_rf)"
   ]
  },
  {
   "cell_type": "code",
   "execution_count": 11,
   "metadata": {},
   "outputs": [],
   "source": [
    "# 保留rf模型的最优预测结果\n",
    "y_pre_best_rf = y_predict_rf"
   ]
  },
  {
   "cell_type": "markdown",
   "metadata": {},
   "source": [
    "**绘制ROC_随机森林:**"
   ]
  },
  {
   "cell_type": "code",
   "execution_count": 12,
   "metadata": {},
   "outputs": [
    {
     "data": {
      "image/png": "[encoded data removed]",
      "text/plain": [
       "<Figure size 576x432 with 1 Axes>"
      ]
     },
     "metadata": {
      "needs_background": "light"
     },
     "output_type": "display_data"
    }
   ],
   "source": [
    "# 导入模块\n",
    "from sklearn import metrics\n",
    "\n",
    "# S1:用metrics.roc_curve()求出 fpr, tpr, threshold\n",
    "fpr, tpr, threshold = ______________________\n",
    "\n",
    "# S2:用metrics.auc(f,t)求出roc_auc的值\n",
    "roc_auc = ___________\n",
    "\n",
    "# S3:绘图ROC\n",
    "## S3-1:将图片大小设为8:6\n",
    "fig,ax = plt.subplots(figsize=(8,6))\n",
    "\n",
    "## S3-2:将plt.plot(f,t)里的内容填写完整\n",
    "plt.plot(___, ____, label = 'AUC = %0.2f' % roc_auc)\n",
    "\n",
    "## S3-3:将图例显示在右下方\n",
    "plt.legend(loc = 'lower right') \n",
    "\n",
    "## S3-4:画出一条红色对角虚线\n",
    "plt.plot([0, 1], [0, 1],'r--') \n",
    "\n",
    "## S3-5:设置横纵坐标轴范围\n",
    "plt.xlim([-0.01, 1.01]) \n",
    "plt.ylim([-0.01, 1.01])\n",
    "\n",
    "## S3-6:设置横纵名称以及图形名称\n",
    "plt.ylabel('True Positive Rate')\n",
    "plt.xlabel('False Positive Rate')\n",
    "plt.title('Receiver Operating Characteristic Curve_RandomForestClassifier')\n",
    "\n",
    "## S3-7:显示\n",
    "plt.show()"
   ]
  },
  {
   "cell_type": "markdown",
   "metadata": {},
   "source": [
    "## 7.4 利用KS值评估逻辑回归模型准确性"
   ]
  },
  {
   "cell_type": "markdown",
   "metadata": {},
   "source": [
    ">接下来使用KS值来评估逻辑回归模型准确性。\n",
    "> + KS值通过测量模型对违约和未违约客户的区分能力来评估模型的准确性，计算公式如下:\n",
    "$$KS=max|TPR-FPR|$$\n",
    ">> + 其中`TPR`表示真正率，`FPR`表示假正率。\n",
    "> + KS值越大表示模型的风险区分能力越强，不同KS值的解释经验表如下:\n",
    "<img src=\"./imgs/7-04.png\" width=30%>\n",
    "> + 用`metric.roc_curve()`计算出了不同阈值 `threshold`下的`fpr`(假正率)和`tpr`(真正率)，然后绘制出KS曲线并用上述公式计算出KS值。\n",
    "<img src=\"./imgs/7-02.png\" width=40%>"
   ]
  },
  {
   "cell_type": "markdown",
   "metadata": {},
   "source": [
    "※实训任务\n",
    ">* 求出KS值`ks`和其所对应的阈值`thre`\n",
    ">* 将画两条曲线的代码`plt.plot`填写完整。"
   ]
  },
  {
   "cell_type": "markdown",
   "metadata": {},
   "source": [
    "**绘制KS图_逻辑回归**"
   ]
  },
  {
   "cell_type": "code",
   "execution_count": 13,
   "metadata": {},
   "outputs": [
    {
     "name": "stdout",
     "output_type": "stream",
     "text": [
      "KS值： 77.27 % 阈值： 0.67\n"
     ]
    },
    {
     "data": {
      "text/plain": [
       "Text(0.25, 0.43, 'KS值')"
      ]
     },
     "execution_count": 13,
     "metadata": {},
     "output_type": "execute_result"
    },
    {
     "data": {
      "image/png": "[encoded data removed]",
      "text/plain": [
       "<Figure size 576x432 with 1 Axes>"
      ]
     },
     "metadata": {
      "needs_background": "light"
     },
     "output_type": "display_data"
    }
   ],
   "source": [
    "# 绘制逻辑回归模型的ks\n",
    "#s1：用metric.roc_curve()求出 fpr, tpr, threshold\n",
    "fpr, tpr, threshold = ___________\n",
    "\n",
    "#s2：求出KS值和相应的阈值\n",
    "ks = max(abs(tpr-fpr))\n",
    "thre = threshold[abs(tpr-fpr).argmax()]\n",
    "\n",
    "ks = round(ks*100, 2)\n",
    "thre = round(thre, 2)\n",
    "print('KS值：', ks,  '%', '阈值：', thre)\n",
    "\n",
    "#s3：绘制ks图\n",
    "#s3-1：将图片大小设为8:6\n",
    "fig = plt.figure(figsize=(8,6))\n",
    "\n",
    "#s3-2：绘制，将plt.plot里的内容填写完整\n",
    "plt.plot(threshold[::-1], tpr[::-1], lw=1, alpha=1,label='真正率TPR')\n",
    "plt.plot(threshold[::-1], fpr[::-1], lw=1, alpha=1,label='假正率FPR')\n",
    "\n",
    "#s3-3：画出KS值的直线\n",
    "ks_tpr = tpr[abs(tpr-fpr).argmax()]\n",
    "ks_fpr = fpr[abs(tpr-fpr).argmax()]\n",
    "x1_2 = [thre, thre]\n",
    "y1_2 = [ks_fpr, ks_tpr]\n",
    "plt.plot(x1_2, y1_2)\n",
    "\n",
    "#s3-4：设置横纵名称以及图例\n",
    "plt.xlabel('阈值')\n",
    "plt.ylabel('真正率TPR/假正率FPR')\n",
    "plt.title('KS曲线_逻辑回归', fontsize=15)\n",
    "plt.legend(loc=\"upper right\")\n",
    "plt.grid(axis='x')\n",
    "\n",
    "#s3-5： 在图上标注ks值\n",
    "plt.annotate('KS值', xy=(0.18, 0.45), xytext=(0.25, 0.43),\n",
    "             fontsize=20,arrowprops=dict(facecolor='green', shrink=0.01))"
   ]
  },
  {
   "cell_type": "markdown",
   "metadata": {},
   "source": [
    "## 7.5 利用KS值评估随机森林模型准确性"
   ]
  },
  {
   "cell_type": "markdown",
   "metadata": {},
   "source": [
    ">接下来使用KS值来随机森林模型准确性。\n",
    "> + KS值通过测量模型对违约和未违约客户的区分能力来评估模型的准确性，计算公式如下:\n",
    "$$KS=max|TPR-FPR|$$\n",
    ">> + 其中`TPR`表示真正率，`FPR`表示假正率。\n",
    "> + KS值越大表示模型的风险区分能力越强，不同KS值的解释经验表如下:\n",
    "<img src=\"./imgs/7-05.png\" width=30%>\n",
    "> + 用`metric.roc_curve()`计算出了不同阈值 `threshold`下的`fpr`(假正率)和`tpr`(真正率)，然后绘制出KS曲线并用上述公式计算出KS值。"
   ]
  },
  {
   "cell_type": "markdown",
   "metadata": {},
   "source": [
    "※实训任务\n",
    ">* 求出KS值`ks`和其所对应的阈值`thre`\n",
    ">* 将画两条曲线的代码`plt.plot`填写完整。"
   ]
  },
  {
   "cell_type": "markdown",
   "metadata": {},
   "source": [
    "**绘制KS图_随机森林**"
   ]
  },
  {
   "cell_type": "code",
   "execution_count": 14,
   "metadata": {},
   "outputs": [
    {
     "name": "stdout",
     "output_type": "stream",
     "text": [
      "KS值： 79.98 % 阈值： 0.31\n"
     ]
    },
    {
     "data": {
      "text/plain": [
       "Text(0.25, 0.43, 'KS值')"
      ]
     },
     "execution_count": 14,
     "metadata": {},
     "output_type": "execute_result"
    },
    {
     "data": {
      "image/png": "[encoded data removed]",
      "text/plain": [
       "<Figure size 576x432 with 1 Axes>"
      ]
     },
     "metadata": {
      "needs_background": "light"
     },
     "output_type": "display_data"
    }
   ],
   "source": [
    "# 绘制随机森林模型的ks\n",
    "#s1：用metric.roc_curve()求出 fpr, tpr, threshold\n",
    "fpr, tpr, threshold =  ___________\n",
    "\n",
    "#s2：求出KS值和相应的阈值\n",
    "ks = ___________\n",
    "thre = ___________\n",
    "\n",
    "ks = round(ks*100, 2)\n",
    "thre = round(thre, 2)\n",
    "print('KS值：', ks,  '%', '阈值：', thre)\n",
    "\n",
    "#s3：绘制ks图\n",
    "#s3-1：将图片大小设为8:6\n",
    "fig = plt.figure(figsize=(8,6))\n",
    "\n",
    "#s3-2：绘制，将plt.plot里的内容填写完整\n",
    "plt.plot(threshold[::-1], tpr[::-1], lw=1, alpha=1,label='真正率TPR')\n",
    "plt.plot(threshold[::-1], fpr[::-1], lw=1, alpha=1,label='假正率FPR')\n",
    "\n",
    "#s3-3：画出KS值的直线\n",
    "ks_tpr = tpr[abs(tpr-fpr).argmax()]\n",
    "ks_fpr = fpr[abs(tpr-fpr).argmax()]\n",
    "x1_2 = [________,________]\n",
    "y1_2 = [________,________]\n",
    "plt.plot(x1_2, y1_2)\n",
    "\n",
    "#s3-4：设置横纵名称以及图例\n",
    "plt.xlabel('阈值')\n",
    "plt.ylabel('真正率TPR/假正率FPR')\n",
    "plt.title('KS曲线_逻辑回归', fontsize=15)\n",
    "plt.legend(loc=\"upper right\")\n",
    "plt.grid(axis='x')\n",
    "\n",
    "#s3-5： 在图上标注ks值\n",
    "plt.annotate('KS值', xy=(0.18, 0.45), xytext=(0.25, 0.43),\n",
    "             fontsize=20,arrowprops=dict(facecolor='green', shrink=0.01))"
   ]
  },
  {
   "cell_type": "markdown",
   "metadata": {},
   "source": [
    "## 7.6 利用PSI评估逻辑回归模型稳定性"
   ]
  },
  {
   "cell_type": "markdown",
   "metadata": {},
   "source": [
    ">由于模型是以特定时期的样本所开发的，此模型是否适用于开发样本之外的数据，必须经过稳定性测试才能得知。\n",
    "> + PSI是最常见的模型稳定性评估指标，它可以衡量测试样本及模型开发样本预测概率的分布差异，其**值越小模型越稳定**。\n",
    "> + PSI数值大小及其相应含义如下:\n",
    "<img src=\"./imgs/7-06.png\" width=20%>\n",
    "> + 由上表可知，一般认为PSI小于10%时模型稳定性很高；10%~25%则一般，需要进—步研究；大于25%表示模型稳定性差，建议修复。\n",
    "\n",
    "> + 通常PSI是使用不同时间段的数据来进行计算的，称为\"时间外测试”。而针对不同的样本测试模型稳定度，称为\"样本外测试”。\n",
    "> + 本项目中，由于数据没有时间段上的差异所以我们直接使用训练集与测试集来计算PSI\n",
    "> + PSI的计算方法如下:\n",
    ">>* 使用训练集训练模型后，在训练集上做预测，可以得到训练集上的预测概率，记为`p1`\n",
    ">>* 将`p1`从小到大排列，并等分为10组，如:0_0.1,0.1_0.2，......\n",
    ">>* 使用模型在测试集上做预测，得到测试集预测概率，记为`p2`\n",
    ">>* 将`p2`从小到大排列，并等分为10组，保持与`p1`分组一致\n",
    ">>* 计算实际占比( `p2`上个各组的样本占比)，预期占比( `p1`上个各组的样本占比)\n",
    ">>* 计算\n",
    "$$PSI=\\sum(实际占比-预期占比)*ln(\\frac{实际占比}{预期占比})$$\n",
    "> + 若模型更稳定，那么`p1`和`p2`上各区间样本占比应该是相近的，不会变动很大，也就是预测出来的概率不会差距很大。"
   ]
  },
  {
   "cell_type": "markdown",
   "metadata": {},
   "source": [
    "※实训任务\n",
    ">* 计算“预期占比”与“实际占比”步骤已给出，分别保存在`expect_prop`和`actual_prop`中，\n",
    ">* 请利用PSI的计算公式求出PSI值，结果保存在`psi`中。\n",
    ">* 运行函数`psi`，将代码补充完整，得到 `psi`、预期占比和实际占比。"
   ]
  },
  {
   "cell_type": "markdown",
   "metadata": {},
   "source": [
    "**PSI_逻辑回归**"
   ]
  },
  {
   "cell_type": "code",
   "execution_count": 15,
   "metadata": {},
   "outputs": [
    {
     "name": "stderr",
     "output_type": "stream",
     "text": [
      "D:\\virtualEnvs\\MLenv1\\lib\\site-packages\\sklearn\\linear_model\\_logistic.py:765: ConvergenceWarning: lbfgs failed to converge (status=1):\n",
      "STOP: TOTAL NO. of ITERATIONS REACHED LIMIT.\n",
      "\n",
      "Increase the number of iterations (max_iter) or scale the data as shown in:\n",
      "    https://scikit-learn.org/stable/modules/preprocessing.html\n",
      "Please also refer to the documentation for alternative solver options:\n",
      "    https://scikit-learn.org/stable/modules/linear_model.html#logistic-regression\n",
      "  extra_warning_msg=_LOGISTIC_SOLVER_CONVERGENCE_MSG)\n"
     ]
    },
    {
     "name": "stdout",
     "output_type": "stream",
     "text": [
      "psi= 0.001\n"
     ]
    },
    {
     "data": {
      "image/png": "[encoded data removed]",
      "text/plain": [
       "<Figure size 864x576 with 1 Axes>"
      ]
     },
     "metadata": {
      "needs_background": "light"
     },
     "output_type": "display_data"
    }
   ],
   "source": [
    "# 导入模块\n",
    "from __________ import LogisticRegression\n",
    "# SO: 构建逻辑回归模型并训练，参数：penalty='l2',C = 0.3, random_state=55\n",
    "lr = _____________________\n",
    "lr.fit(x_train, y_train)\n",
    "\n",
    "# S1: 求预测概率\n",
    "# S1-1: 训练集上\"1\"的预测概率\n",
    "y_train_probs = ______________________\n",
    "# S1-2: 测试集上\"1\"的预测概率\n",
    "y_test_probs = ______________________\n",
    "\n",
    "# S2： 定义psi函数\n",
    "def psi(y_train_probs, y_test_probs):\n",
    "    ##S2-1： 设定每组的分点，分10组\n",
    "    bins = np.arange(0, 1.1, 0.1)\n",
    "    ##S2-2： 将训练集预测概率分组\n",
    "    y_train_probs_cut = pd.cut(y_train_probs, bins=bins, labels=False)\n",
    "    ##S2-3：计算预期占比\n",
    "    expect_prop = (pd.Series(y_train_probs_cut).value_counts()/len(y_train_probs)).sort_index()\n",
    "    \n",
    "    ##S2-4： 将测试集预测概率分组\n",
    "    y_test_probs_cut = pd.cut(y_test_probs, bins=bins, labels=False)\n",
    "    ##S2-5：  计算实际占比\n",
    "    actual_prop = (pd.Series(y_test_probs_cut).value_counts()/len(y_test_probs)).sort_index()\n",
    "    \n",
    "    ##S2-6：计算PSI\n",
    "    psi = ((actual_prop - expect_prop) * np.log(actual_prop/expect_prop)).sum()\n",
    "    ##S2-7：返回psi，预期占比和实际占比\n",
    "    return psi, expect_prop, actual_prop\n",
    "\n",
    "\n",
    "# S3：运行函数得到psi、预期占比和实际占比\n",
    "psi, expect_prop, actual_prop = psi(___________, ___________)\n",
    "print('psi=', round(psi, 3))\n",
    "\n",
    "# S4：绘制每组中预期占比和实际占比的柱形图\n",
    "##S4-1： 创建(12, 8)的绘图框\n",
    "fig = plt.figure(figsize=(12, 8))\n",
    "\n",
    "##S4-2：设置中文字体\n",
    "plt.rcParams['font.sans-serif'] = ['SimHei'] \n",
    "plt.rcParams['axes.unicode_minus'] = False\n",
    "\n",
    "## S4-3：绘制条形图\n",
    "plt.bar(expect_prop.index + 0.2, expect_prop, width=0.4, label='预期占比')\n",
    "plt.bar(actual_prop.index - 0.2, actual_prop, width=0.4, label='实际占比')\n",
    "plt.legend()\n",
    "\n",
    "## S4-4：设置轴标签\n",
    "plt.xlabel('概率分组', fontsize=12)\n",
    "plt.ylabel('样本占比', fontsize=12)\n",
    "\n",
    "## S4-5：设置轴刻度\n",
    "plt.xticks([0, 1, 2, 3, 4, 5, 6, 7, 8, 9],\n",
    "           ['0-0.1', '0.1-0.2', '0.2-0.3', '0.3-0.4', '0.4-0.5', '0.5-0.6', '0.6-0.7', '0.7-0.8', '0.8-0.9', '0.9-1'])\n",
    "\n",
    "## S4-6：设置图标题\n",
    "plt.title('预期占比与实际占比对比条形图_逻辑回归', fontsize=15)\n",
    "\n",
    "## S4-7： 在图上添加文字\n",
    "for index, item1, item2 in zip(range(10), expect_prop.values, actual_prop.values): \n",
    "    plt.text(index+0.2, item1 + 0.01, '%.3f' % item1, ha=\"center\", va= \"bottom\",fontsize=10)\n",
    "    plt.text(index-0.2, item2 + 0.01, '%.3f' % item2, ha=\"center\", va= \"bottom\",fontsize=10)"
   ]
  },
  {
   "cell_type": "markdown",
   "metadata": {},
   "source": [
    "※结果分析\n",
    "> + 可以看到PSI值为0.001，也即0.1%，表明模型稳定性很高。"
   ]
  },
  {
   "cell_type": "markdown",
   "metadata": {},
   "source": [
    "## 7.7 利用PSI评估随机森林模型稳定性"
   ]
  },
  {
   "cell_type": "markdown",
   "metadata": {},
   "source": [
    ">下面评估随机森林模型的稳定性:\n",
    "$$PSI=\\sum(实际占比-预期占比)*ln(\\frac{实际占比}{预期占比})$$"
   ]
  },
  {
   "cell_type": "markdown",
   "metadata": {},
   "source": [
    "※实训任务\n",
    ">* 计算“预期占比”与“实际占比\"步骤已给出，分别保存在`expect_prop`和`actual_prop`中，\n",
    ">* 请利用PSI的计算公式求出PSI值，结果保存在`psi`中。\n",
    ">* 运行函数`psi`，将代码补充完整，得到`psi`、预期占比和实际占比。"
   ]
  },
  {
   "cell_type": "markdown",
   "metadata": {},
   "source": [
    "**PSI_随机森林**"
   ]
  },
  {
   "cell_type": "code",
   "execution_count": 16,
   "metadata": {},
   "outputs": [
    {
     "name": "stdout",
     "output_type": "stream",
     "text": [
      "psi= 0.001\n"
     ]
    },
    {
     "data": {
      "image/png": "[encoded data removed]",
      "text/plain": [
       "<Figure size 864x576 with 1 Axes>"
      ]
     },
     "metadata": {
      "needs_background": "light"
     },
     "output_type": "display_data"
    }
   ],
   "source": [
    "# 导入模块\n",
    "from ___________ import RandomForestClassifier\n",
    "# S0:构建rf模型\n",
    "rf = RandomForestClassifier(n_estimators=180, criterion='entropy', max_depth=5, min_samples_split=2, random_state=12)\n",
    "rf.fit(x_train, y_train)\n",
    "\n",
    "# S1: 求预测概率\n",
    "# S1-1: 训练集上\"1\"的预测概率\n",
    "y_train_probs = ___________\n",
    "# S1-2: 测试集上\"1\"的预测概率\n",
    "y_test_probs =  ___________\n",
    "\n",
    "# S2： 定义psi函数\n",
    "def psi(y_train_probs, y_test_probs):\n",
    "    ##S2-1： 设定每组的分点，分10组\n",
    "    bins = np.arange(0, 1.1, 0.1)\n",
    "    ##S2-2： 将训练集预测概率分组\n",
    "    y_train_probs_cut = pd.cut(y_train_probs, bins=bins, labels=False)\n",
    "    ##S2-3：计算预期占比\n",
    "    expect_prop = (pd.Series(y_train_probs_cut).value_counts()/len(y_train_probs)).sort_index()\n",
    "    \n",
    "    ##S2-4： 将测试集预测概率分组\n",
    "    y_test_probs_cut = pd.cut(y_test_probs, bins=bins, labels=False)\n",
    "    ##S2-5：  计算实际占比\n",
    "    actual_prop = (pd.Series(y_test_probs_cut).value_counts()/len(y_test_probs)).sort_index()\n",
    "    \n",
    "    ##S2-6：计算PSI\n",
    "    psi = ((actual_prop - expect_prop) * np.log(actual_prop/expect_prop)).sum()\n",
    "    ##S2-7：返回psi，预期占比和实际占比\n",
    "    return psi, expect_prop, actual_prop\n",
    "\n",
    "\n",
    "# S3：运行函数得到psi、预期占比和实际占比\n",
    "psi, expect_prop, actual_prop = psi(___________, ___________)\n",
    "print('psi=', round(psi, 3))\n",
    "\n",
    "# S4：绘制每组中预期占比和实际占比的柱形图\n",
    "##S4-1： 创建(12, 8)的绘图框\n",
    "fig = plt.figure(figsize=(12, 8))\n",
    "\n",
    "##S4-2：设置中文字体\n",
    "plt.rcParams['font.sans-serif'] = ['SimHei'] \n",
    "plt.rcParams['axes.unicode_minus'] = False\n",
    "\n",
    "## S4-3：绘制条形图\n",
    "plt.bar(expect_prop.index + 0.2, expect_prop, width=0.4, label='预期占比')\n",
    "plt.bar(actual_prop.index - 0.2, actual_prop, width=0.4, label='实际占比')\n",
    "plt.legend()\n",
    "\n",
    "## S4-4：设置轴标签\n",
    "plt.xlabel('概率分组', fontsize=12)\n",
    "plt.ylabel('样本占比', fontsize=12)\n",
    "\n",
    "## S4-5：设置轴刻度\n",
    "plt.xticks([0, 1, 2, 3, 4, 5, 6, 7, 8, 9],\n",
    "           ['0-0.1', '0.1-0.2', '0.2-0.3', '0.3-0.4', '0.4-0.5', '0.5-0.6', '0.6-0.7', '0.7-0.8', '0.8-0.9', '0.9-1'])\n",
    "\n",
    "## S4-6：设置图标题\n",
    "plt.title('预期占比与实际占比对比条形图_随机森林', fontsize=15)\n",
    "\n",
    "## S4-7： 在图上添加文字\n",
    "for index, item1, item2 in zip(range(10), expect_prop.values, actual_prop.values): \n",
    "    plt.text(index+0.2, item1 + 0.01, '%.3f' % item1, ha=\"center\", va= \"bottom\",fontsize=10)\n",
    "    plt.text(index-0.2, item2 + 0.01, '%.3f' % item2, ha=\"center\", va= \"bottom\",fontsize=10)\n"
   ]
  },
  {
   "cell_type": "markdown",
   "metadata": {},
   "source": [
    "※结果分析\n",
    ">+ 可以看到PSI值为0.001，也即0.1%，表明模型稳定性很高。"
   ]
  },
  {
   "cell_type": "markdown",
   "metadata": {},
   "source": [
    "## 7.8 计算逻辑回归的指标重要性"
   ]
  },
  {
   "cell_type": "markdown",
   "metadata": {},
   "source": [
    ">我们已经通过调参，得到了相对最好的逻辑回归模型，接下来我们利用这个最优模型，计算各个指标的重要性，并对其进行排序，然后查看前八个对模型影响最大的指标。\n",
    "> + 逻辑回归可以通过`coef_`方法得到各项指标系数，指标系数表示权重。\n",
    "> + 使用`'./data/bank_risk6(Z-score).csv'`数据进行指标重要性评估，数据已进行了标准化，消除了量纲影响。\n",
    "> + 然后再带入模型，则此时权重也可表示指标重要性。\n",
    "> + 指标系数为正代表正相关，反之代表负相关。\n",
    "> + 指标系数绝对值越大代表对模型影响越大。\n",
    "\n",
    ">下面我们计算出逻辑回归中的各项指标重要性(数据已标准化)，并通过图形的方式直观展现出来。"
   ]
  },
  {
   "cell_type": "markdown",
   "metadata": {},
   "source": [
    "※实训任务\n",
    ">* 通过`coef_`方法，查看逻辑回归中的各项指标系数，其返回的是一个NumPy数组，保存在`coefficient` 中。\n",
    ">* 使用`abs()`函数对`coefficient`求绝对值，保存在变量`importance` 中。"
   ]
  },
  {
   "cell_type": "markdown",
   "metadata": {},
   "source": [
    "**数据准备：**"
   ]
  },
  {
   "cell_type": "code",
   "execution_count": 17,
   "metadata": {},
   "outputs": [
    {
     "name": "stdout",
     "output_type": "stream",
     "text": [
      "x_train length: 37865, x_test length: 9467\n",
      "0.08995114221576654\n",
      "0.08989120101404881\n"
     ]
    }
   ],
   "source": [
    "#S0: 读取文件bank_risk6(Z-score).csv\n",
    "data_path = './data/bank_risk6(Z-score).csv'\n",
    "data = pd.read_csv(data_path)\n",
    "\n",
    "# 导入模块\n",
    "from ___________ import train_test_split\n",
    "# s1: 分离出x与y\n",
    "## s1-1:  筛选data中的Default列的值，赋予变量y\n",
    "y = ___________\n",
    "## s1-2:  筛选除去Default列的其他列的值，赋予变量x\n",
    "x = ___________\n",
    "\n",
    "# s2: 划分训练集和测试集(8:2)，注意需分层采样\n",
    "x_train, x_test, y_train, y_test = train_test_split(x,y,test_size=0.2,random_state=33,stratify=y)\n",
    "\n",
    "# s3:  查看划分后的x_train与x_test的长度\n",
    "len_x_train = len(x_train)\n",
    "len_x_test = len(x_test)\n",
    "print('x_train length: %d, x_test length: %d'%(len_x_train,len_x_test))\n",
    "\n",
    "# s4: 查看训练集中违约客户人数的占比\n",
    "train_ratio = ___________/len(y_train)\n",
    "print(train_ratio)\n",
    "\n",
    "# s5:  查看测试集中违约客户人数的占比\n",
    "test_ratio = ___________/len(y_test)\n",
    "print(test_ratio)\n"
   ]
  },
  {
   "cell_type": "markdown",
   "metadata": {},
   "source": [
    "**指标重要性_逻辑回归：**"
   ]
  },
  {
   "cell_type": "code",
   "execution_count": 18,
   "metadata": {},
   "outputs": [
    {
     "name": "stderr",
     "output_type": "stream",
     "text": [
      "D:\\virtualEnvs\\MLenv1\\lib\\site-packages\\sklearn\\linear_model\\_logistic.py:765: ConvergenceWarning: lbfgs failed to converge (status=1):\n",
      "STOP: TOTAL NO. of ITERATIONS REACHED LIMIT.\n",
      "\n",
      "Increase the number of iterations (max_iter) or scale the data as shown in:\n",
      "    https://scikit-learn.org/stable/modules/preprocessing.html\n",
      "Please also refer to the documentation for alternative solver options:\n",
      "    https://scikit-learn.org/stable/modules/linear_model.html#logistic-regression\n",
      "  extra_warning_msg=_LOGISTIC_SOLVER_CONVERGENCE_MSG)\n"
     ]
    },
    {
     "data": {
      "image/png": "[encoded data removed]",
      "text/plain": [
       "<Figure size 576x432 with 1 Axes>"
      ]
     },
     "metadata": {
      "needs_background": "light"
     },
     "output_type": "display_data"
    },
    {
     "data": {
      "text/html": [
       "<div>\n",
       "<style scoped>\n",
       "    .dataframe tbody tr th:only-of-type {\n",
       "        vertical-align: middle;\n",
       "    }\n",
       "\n",
       "    .dataframe tbody tr th {\n",
       "        vertical-align: top;\n",
       "    }\n",
       "\n",
       "    .dataframe thead th {\n",
       "        text-align: right;\n",
       "    }\n",
       "</style>\n",
       "<table border=\"1\" class=\"dataframe\">\n",
       "  <thead>\n",
       "    <tr style=\"text-align: right;\">\n",
       "      <th></th>\n",
       "      <th>fea_importances</th>\n",
       "    </tr>\n",
       "  </thead>\n",
       "  <tbody>\n",
       "    <tr>\n",
       "      <th>maritalStatus_0</th>\n",
       "      <td>0.014268</td>\n",
       "    </tr>\n",
       "    <tr>\n",
       "      <th>isCrime</th>\n",
       "      <td>0.016118</td>\n",
       "    </tr>\n",
       "    <tr>\n",
       "      <th>CityId_2</th>\n",
       "      <td>0.024809</td>\n",
       "    </tr>\n",
       "    <tr>\n",
       "      <th>inCourt</th>\n",
       "      <td>0.025835</td>\n",
       "    </tr>\n",
       "    <tr>\n",
       "      <th>maritalStatus_2</th>\n",
       "      <td>0.034808</td>\n",
       "    </tr>\n",
       "    <tr>\n",
       "      <th>idVerify_0</th>\n",
       "      <td>0.036357</td>\n",
       "    </tr>\n",
       "    <tr>\n",
       "      <th>bad_record</th>\n",
       "      <td>0.039544</td>\n",
       "    </tr>\n",
       "    <tr>\n",
       "      <th>threeVerify_0</th>\n",
       "      <td>0.045094</td>\n",
       "    </tr>\n",
       "    <tr>\n",
       "      <th>isDue</th>\n",
       "      <td>0.047065</td>\n",
       "    </tr>\n",
       "    <tr>\n",
       "      <th>education_1</th>\n",
       "      <td>0.048837</td>\n",
       "    </tr>\n",
       "    <tr>\n",
       "      <th>threeVerify_2</th>\n",
       "      <td>0.051291</td>\n",
       "    </tr>\n",
       "    <tr>\n",
       "      <th>CityId_3</th>\n",
       "      <td>0.055040</td>\n",
       "    </tr>\n",
       "    <tr>\n",
       "      <th>avg_per_withdraw</th>\n",
       "      <td>0.059069</td>\n",
       "    </tr>\n",
       "    <tr>\n",
       "      <th>avg_per_public_spend</th>\n",
       "      <td>0.077242</td>\n",
       "    </tr>\n",
       "    <tr>\n",
       "      <th>netLength_0</th>\n",
       "      <td>0.082586</td>\n",
       "    </tr>\n",
       "    <tr>\n",
       "      <th>cashTotalAmt</th>\n",
       "      <td>0.090360</td>\n",
       "    </tr>\n",
       "    <tr>\n",
       "      <th>education_0</th>\n",
       "      <td>0.093065</td>\n",
       "    </tr>\n",
       "    <tr>\n",
       "      <th>isBlackList</th>\n",
       "      <td>0.096482</td>\n",
       "    </tr>\n",
       "    <tr>\n",
       "      <th>card_age</th>\n",
       "      <td>0.099439</td>\n",
       "    </tr>\n",
       "    <tr>\n",
       "      <th>Han_0</th>\n",
       "      <td>0.101229</td>\n",
       "    </tr>\n",
       "    <tr>\n",
       "      <th>idVerify_1</th>\n",
       "      <td>0.102313</td>\n",
       "    </tr>\n",
       "    <tr>\n",
       "      <th>cashCnt_non_null_months</th>\n",
       "      <td>0.110876</td>\n",
       "    </tr>\n",
       "    <tr>\n",
       "      <th>maritalStatus_1</th>\n",
       "      <td>0.118859</td>\n",
       "    </tr>\n",
       "    <tr>\n",
       "      <th>transCnt_non_null_months</th>\n",
       "      <td>0.136598</td>\n",
       "    </tr>\n",
       "    <tr>\n",
       "      <th>CityId_1</th>\n",
       "      <td>0.137705</td>\n",
       "    </tr>\n",
       "    <tr>\n",
       "      <th>avg_per_online_spend</th>\n",
       "      <td>0.147967</td>\n",
       "    </tr>\n",
       "    <tr>\n",
       "      <th>education_4</th>\n",
       "      <td>0.152418</td>\n",
       "    </tr>\n",
       "    <tr>\n",
       "      <th>education_3</th>\n",
       "      <td>0.161414</td>\n",
       "    </tr>\n",
       "    <tr>\n",
       "      <th>threeVerify_1</th>\n",
       "      <td>0.161739</td>\n",
       "    </tr>\n",
       "    <tr>\n",
       "      <th>transAmt_non_null_months</th>\n",
       "      <td>0.175611</td>\n",
       "    </tr>\n",
       "    <tr>\n",
       "      <th>cashCnt_mean</th>\n",
       "      <td>0.175672</td>\n",
       "    </tr>\n",
       "    <tr>\n",
       "      <th>education_2</th>\n",
       "      <td>0.203168</td>\n",
       "    </tr>\n",
       "    <tr>\n",
       "      <th>sex_2</th>\n",
       "      <td>0.207703</td>\n",
       "    </tr>\n",
       "    <tr>\n",
       "      <th>cashAmt_non_null_months</th>\n",
       "      <td>0.232248</td>\n",
       "    </tr>\n",
       "    <tr>\n",
       "      <th>netLength_3</th>\n",
       "      <td>0.248064</td>\n",
       "    </tr>\n",
       "    <tr>\n",
       "      <th>Han_1</th>\n",
       "      <td>0.269164</td>\n",
       "    </tr>\n",
       "    <tr>\n",
       "      <th>publicPayCnt</th>\n",
       "      <td>0.286224</td>\n",
       "    </tr>\n",
       "    <tr>\n",
       "      <th>idVerify_2</th>\n",
       "      <td>0.306605</td>\n",
       "    </tr>\n",
       "    <tr>\n",
       "      <th>transCnt_mean</th>\n",
       "      <td>0.364826</td>\n",
       "    </tr>\n",
       "    <tr>\n",
       "      <th>noTransWeekPre</th>\n",
       "      <td>0.406801</td>\n",
       "    </tr>\n",
       "    <tr>\n",
       "      <th>publicPayAmt</th>\n",
       "      <td>0.465559</td>\n",
       "    </tr>\n",
       "    <tr>\n",
       "      <th>netLength_1</th>\n",
       "      <td>0.467561</td>\n",
       "    </tr>\n",
       "    <tr>\n",
       "      <th>sex_1</th>\n",
       "      <td>0.474689</td>\n",
       "    </tr>\n",
       "    <tr>\n",
       "      <th>sex_0</th>\n",
       "      <td>0.514457</td>\n",
       "    </tr>\n",
       "    <tr>\n",
       "      <th>netLength_4</th>\n",
       "      <td>0.523335</td>\n",
       "    </tr>\n",
       "    <tr>\n",
       "      <th>netLength_2</th>\n",
       "      <td>0.554358</td>\n",
       "    </tr>\n",
       "    <tr>\n",
       "      <th>age</th>\n",
       "      <td>0.631439</td>\n",
       "    </tr>\n",
       "    <tr>\n",
       "      <th>cashAmt_mean</th>\n",
       "      <td>0.960233</td>\n",
       "    </tr>\n",
       "    <tr>\n",
       "      <th>trans_total</th>\n",
       "      <td>0.981524</td>\n",
       "    </tr>\n",
       "    <tr>\n",
       "      <th>cashTotalCnt</th>\n",
       "      <td>1.289767</td>\n",
       "    </tr>\n",
       "    <tr>\n",
       "      <th>transTotalCnt</th>\n",
       "      <td>1.561490</td>\n",
       "    </tr>\n",
       "    <tr>\n",
       "      <th>monthCardLargeAmt</th>\n",
       "      <td>1.739086</td>\n",
       "    </tr>\n",
       "    <tr>\n",
       "      <th>onlineTransCnt</th>\n",
       "      <td>2.477219</td>\n",
       "    </tr>\n",
       "    <tr>\n",
       "      <th>onlineTransAmt</th>\n",
       "      <td>2.551735</td>\n",
       "    </tr>\n",
       "    <tr>\n",
       "      <th>transTotalAmt</th>\n",
       "      <td>2.659064</td>\n",
       "    </tr>\n",
       "    <tr>\n",
       "      <th>transAmt_mean</th>\n",
       "      <td>2.991680</td>\n",
       "    </tr>\n",
       "    <tr>\n",
       "      <th>total_withdraw</th>\n",
       "      <td>4.032173</td>\n",
       "    </tr>\n",
       "  </tbody>\n",
       "</table>\n",
       "</div>"
      ],
      "text/plain": [
       "                          fea_importances\n",
       "maritalStatus_0                  0.014268\n",
       "isCrime                          0.016118\n",
       "CityId_2                         0.024809\n",
       "inCourt                          0.025835\n",
       "maritalStatus_2                  0.034808\n",
       "idVerify_0                       0.036357\n",
       "bad_record                       0.039544\n",
       "threeVerify_0                    0.045094\n",
       "isDue                            0.047065\n",
       "education_1                      0.048837\n",
       "threeVerify_2                    0.051291\n",
       "CityId_3                         0.055040\n",
       "avg_per_withdraw                 0.059069\n",
       "avg_per_public_spend             0.077242\n",
       "netLength_0                      0.082586\n",
       "cashTotalAmt                     0.090360\n",
       "education_0                      0.093065\n",
       "isBlackList                      0.096482\n",
       "card_age                         0.099439\n",
       "Han_0                            0.101229\n",
       "idVerify_1                       0.102313\n",
       "cashCnt_non_null_months          0.110876\n",
       "maritalStatus_1                  0.118859\n",
       "transCnt_non_null_months         0.136598\n",
       "CityId_1                         0.137705\n",
       "avg_per_online_spend             0.147967\n",
       "education_4                      0.152418\n",
       "education_3                      0.161414\n",
       "threeVerify_1                    0.161739\n",
       "transAmt_non_null_months         0.175611\n",
       "cashCnt_mean                     0.175672\n",
       "education_2                      0.203168\n",
       "sex_2                            0.207703\n",
       "cashAmt_non_null_months          0.232248\n",
       "netLength_3                      0.248064\n",
       "Han_1                            0.269164\n",
       "publicPayCnt                     0.286224\n",
       "idVerify_2                       0.306605\n",
       "transCnt_mean                    0.364826\n",
       "noTransWeekPre                   0.406801\n",
       "publicPayAmt                     0.465559\n",
       "netLength_1                      0.467561\n",
       "sex_1                            0.474689\n",
       "sex_0                            0.514457\n",
       "netLength_4                      0.523335\n",
       "netLength_2                      0.554358\n",
       "age                              0.631439\n",
       "cashAmt_mean                     0.960233\n",
       "trans_total                      0.981524\n",
       "cashTotalCnt                     1.289767\n",
       "transTotalCnt                    1.561490\n",
       "monthCardLargeAmt                1.739086\n",
       "onlineTransCnt                   2.477219\n",
       "onlineTransAmt                   2.551735\n",
       "transTotalAmt                    2.659064\n",
       "transAmt_mean                    2.991680\n",
       "total_withdraw                   4.032173"
      ]
     },
     "execution_count": 18,
     "metadata": {},
     "output_type": "execute_result"
    }
   ],
   "source": [
    "# 导入模块\n",
    "from _______________ import LogisticRegression\n",
    "# S0: 构建最优逻辑回归模型\n",
    "lr_clf = LogisticRegression(penalty='l2',C = 0.3, random_state=55)\n",
    "lr_clf.fit(x_train, y_train)\n",
    "\n",
    "# S1:查看逻辑回归各项指标系数\n",
    "coefficient = __________\n",
    "\n",
    "# S2: 取出指标系数，并对其求绝对值\n",
    "importance = __________\n",
    "\n",
    "# S3:通过图形的方式直观展现前八名的重要指标\n",
    "## S3-1:构造指标重要度系数DF，先获取index\n",
    "index = data.drop('Default', axis=1).columns\n",
    "## S3-2:构造指标重要度系数DF，并升序排序\n",
    "feature_importance = pd.DataFrame(importance.T, \n",
    "                                  index=index, \n",
    "                                  columns=[\"fea_importances\"]).sort_values(by='fea_importances', ascending=True)\n",
    "## S3-4:绘制水平条形图绘制\n",
    "feature_importance.tail(8).plot(kind='barh', \n",
    "                                figsize=(8, 6), \n",
    "                                legend=False,\n",
    "                                title='Feature Importances_ LogisticRegression')\n",
    "## S3-5:图显\n",
    "plt.show()\n",
    "\n",
    "# S4:查看指标重要度\n",
    "feature_importance"
   ]
  },
  {
   "cell_type": "code",
   "execution_count": 19,
   "metadata": {},
   "outputs": [
    {
     "data": {
      "text/plain": [
       "Index(['cashTotalCnt', 'transTotalCnt', 'monthCardLargeAmt', 'onlineTransCnt',\n",
       "       'onlineTransAmt', 'transTotalAmt', 'transAmt_mean', 'total_withdraw'],\n",
       "      dtype='object')"
      ]
     },
     "execution_count": 19,
     "metadata": {},
     "output_type": "execute_result"
    }
   ],
   "source": [
    "# 逻辑回归最重要的8个特征\n",
    "feature_importance._____._______"
   ]
  },
  {
   "cell_type": "markdown",
   "metadata": {},
   "source": [
    "※结果分析\n",
    "> + 可以看到，对模型影响较大的前八个指标分别为: `total_withdraw`年取现总额，`transAmt_mean`年消费金额均值，`transTotalAmt`总消费金额， `onlineTransAmt`网上消费金额， `onlineTransCnt`网上消费笔数， `monthCardLargeAmt`月最大消费金额， `transTotalCnt`总消费笔数，`cashTotalCnt`总取现笔数。"
   ]
  },
  {
   "cell_type": "markdown",
   "metadata": {},
   "source": [
    "## 7.9 计算随机森林的指标重要性"
   ]
  },
  {
   "cell_type": "markdown",
   "metadata": {},
   "source": [
    ">在“构建风险评估模型\"这一步中，我们已经通过网格搜索等调参手段，得到了相对最好的随机森林模型，接下来我们利用这个最优模型，计算各个指标的重要性，并对其进行排序，查看前八个对模型影响最大的指标。\n",
    "> + 随机森林可以直接通过`feature_importances_`方法得到各项指标重要性，其通过Gini系数的减少量来计算重要性。\n",
    "> + 特征对Gini系数的减少程度贡献越大，则该特征的重要性越大。\n",
    "\n",
    ">下面我们计算出随机森林中的各项指标重要性，并通过图形的方式直观展现出来。"
   ]
  },
  {
   "cell_type": "markdown",
   "metadata": {},
   "source": [
    "※实训任务\n",
    ">通过`feature_importances_`的方法，查看随机森林模型下各项特征重要性，将结果保存在`importance` 中。"
   ]
  },
  {
   "cell_type": "code",
   "execution_count": 22,
   "metadata": {},
   "outputs": [
    {
     "data": {
      "image/png": "[encoded data removed]",
      "text/plain": [
       "<Figure size 576x432 with 1 Axes>"
      ]
     },
     "metadata": {
      "needs_background": "light"
     },
     "output_type": "display_data"
    },
    {
     "data": {
      "text/html": [
       "<div>\n",
       "<style scoped>\n",
       "    .dataframe tbody tr th:only-of-type {\n",
       "        vertical-align: middle;\n",
       "    }\n",
       "\n",
       "    .dataframe tbody tr th {\n",
       "        vertical-align: top;\n",
       "    }\n",
       "\n",
       "    .dataframe thead th {\n",
       "        text-align: right;\n",
       "    }\n",
       "</style>\n",
       "<table border=\"1\" class=\"dataframe\">\n",
       "  <thead>\n",
       "    <tr style=\"text-align: right;\">\n",
       "      <th></th>\n",
       "      <th>fea_importances</th>\n",
       "    </tr>\n",
       "  </thead>\n",
       "  <tbody>\n",
       "    <tr>\n",
       "      <th>isCrime</th>\n",
       "      <td>0.000014</td>\n",
       "    </tr>\n",
       "    <tr>\n",
       "      <th>education_0</th>\n",
       "      <td>0.000032</td>\n",
       "    </tr>\n",
       "    <tr>\n",
       "      <th>education_4</th>\n",
       "      <td>0.000034</td>\n",
       "    </tr>\n",
       "    <tr>\n",
       "      <th>maritalStatus_2</th>\n",
       "      <td>0.000036</td>\n",
       "    </tr>\n",
       "    <tr>\n",
       "      <th>inCourt</th>\n",
       "      <td>0.000037</td>\n",
       "    </tr>\n",
       "    <tr>\n",
       "      <th>CityId_3</th>\n",
       "      <td>0.000042</td>\n",
       "    </tr>\n",
       "    <tr>\n",
       "      <th>maritalStatus_1</th>\n",
       "      <td>0.000048</td>\n",
       "    </tr>\n",
       "    <tr>\n",
       "      <th>education_3</th>\n",
       "      <td>0.000049</td>\n",
       "    </tr>\n",
       "    <tr>\n",
       "      <th>isBlackList</th>\n",
       "      <td>0.000051</td>\n",
       "    </tr>\n",
       "    <tr>\n",
       "      <th>education_2</th>\n",
       "      <td>0.000052</td>\n",
       "    </tr>\n",
       "    <tr>\n",
       "      <th>isDue</th>\n",
       "      <td>0.000053</td>\n",
       "    </tr>\n",
       "    <tr>\n",
       "      <th>education_1</th>\n",
       "      <td>0.000058</td>\n",
       "    </tr>\n",
       "    <tr>\n",
       "      <th>threeVerify_2</th>\n",
       "      <td>0.000063</td>\n",
       "    </tr>\n",
       "    <tr>\n",
       "      <th>CityId_2</th>\n",
       "      <td>0.000065</td>\n",
       "    </tr>\n",
       "    <tr>\n",
       "      <th>CityId_1</th>\n",
       "      <td>0.000073</td>\n",
       "    </tr>\n",
       "    <tr>\n",
       "      <th>Han_1</th>\n",
       "      <td>0.000074</td>\n",
       "    </tr>\n",
       "    <tr>\n",
       "      <th>maritalStatus_0</th>\n",
       "      <td>0.000085</td>\n",
       "    </tr>\n",
       "    <tr>\n",
       "      <th>bad_record</th>\n",
       "      <td>0.000092</td>\n",
       "    </tr>\n",
       "    <tr>\n",
       "      <th>threeVerify_1</th>\n",
       "      <td>0.000093</td>\n",
       "    </tr>\n",
       "    <tr>\n",
       "      <th>Han_0</th>\n",
       "      <td>0.000110</td>\n",
       "    </tr>\n",
       "    <tr>\n",
       "      <th>sex_2</th>\n",
       "      <td>0.000117</td>\n",
       "    </tr>\n",
       "    <tr>\n",
       "      <th>threeVerify_0</th>\n",
       "      <td>0.000120</td>\n",
       "    </tr>\n",
       "    <tr>\n",
       "      <th>sex_0</th>\n",
       "      <td>0.000126</td>\n",
       "    </tr>\n",
       "    <tr>\n",
       "      <th>netLength_3</th>\n",
       "      <td>0.000156</td>\n",
       "    </tr>\n",
       "    <tr>\n",
       "      <th>idVerify_0</th>\n",
       "      <td>0.000164</td>\n",
       "    </tr>\n",
       "    <tr>\n",
       "      <th>netLength_1</th>\n",
       "      <td>0.000176</td>\n",
       "    </tr>\n",
       "    <tr>\n",
       "      <th>sex_1</th>\n",
       "      <td>0.000189</td>\n",
       "    </tr>\n",
       "    <tr>\n",
       "      <th>idVerify_1</th>\n",
       "      <td>0.000223</td>\n",
       "    </tr>\n",
       "    <tr>\n",
       "      <th>idVerify_2</th>\n",
       "      <td>0.000497</td>\n",
       "    </tr>\n",
       "    <tr>\n",
       "      <th>netLength_2</th>\n",
       "      <td>0.000523</td>\n",
       "    </tr>\n",
       "    <tr>\n",
       "      <th>netLength_0</th>\n",
       "      <td>0.000770</td>\n",
       "    </tr>\n",
       "    <tr>\n",
       "      <th>netLength_4</th>\n",
       "      <td>0.002251</td>\n",
       "    </tr>\n",
       "    <tr>\n",
       "      <th>cashAmt_mean</th>\n",
       "      <td>0.006469</td>\n",
       "    </tr>\n",
       "    <tr>\n",
       "      <th>cashAmt_non_null_months</th>\n",
       "      <td>0.007678</td>\n",
       "    </tr>\n",
       "    <tr>\n",
       "      <th>avg_per_public_spend</th>\n",
       "      <td>0.008126</td>\n",
       "    </tr>\n",
       "    <tr>\n",
       "      <th>card_age</th>\n",
       "      <td>0.008608</td>\n",
       "    </tr>\n",
       "    <tr>\n",
       "      <th>publicPayCnt</th>\n",
       "      <td>0.010959</td>\n",
       "    </tr>\n",
       "    <tr>\n",
       "      <th>cashCnt_non_null_months</th>\n",
       "      <td>0.011525</td>\n",
       "    </tr>\n",
       "    <tr>\n",
       "      <th>cashTotalAmt</th>\n",
       "      <td>0.011796</td>\n",
       "    </tr>\n",
       "    <tr>\n",
       "      <th>avg_per_withdraw</th>\n",
       "      <td>0.012010</td>\n",
       "    </tr>\n",
       "    <tr>\n",
       "      <th>total_withdraw</th>\n",
       "      <td>0.012566</td>\n",
       "    </tr>\n",
       "    <tr>\n",
       "      <th>publicPayAmt</th>\n",
       "      <td>0.015414</td>\n",
       "    </tr>\n",
       "    <tr>\n",
       "      <th>cashCnt_mean</th>\n",
       "      <td>0.017514</td>\n",
       "    </tr>\n",
       "    <tr>\n",
       "      <th>transCnt_mean</th>\n",
       "      <td>0.017607</td>\n",
       "    </tr>\n",
       "    <tr>\n",
       "      <th>transTotalCnt</th>\n",
       "      <td>0.017657</td>\n",
       "    </tr>\n",
       "    <tr>\n",
       "      <th>transAmt_non_null_months</th>\n",
       "      <td>0.019567</td>\n",
       "    </tr>\n",
       "    <tr>\n",
       "      <th>monthCardLargeAmt</th>\n",
       "      <td>0.022408</td>\n",
       "    </tr>\n",
       "    <tr>\n",
       "      <th>avg_per_online_spend</th>\n",
       "      <td>0.024786</td>\n",
       "    </tr>\n",
       "    <tr>\n",
       "      <th>transCnt_non_null_months</th>\n",
       "      <td>0.026317</td>\n",
       "    </tr>\n",
       "    <tr>\n",
       "      <th>trans_total</th>\n",
       "      <td>0.042167</td>\n",
       "    </tr>\n",
       "    <tr>\n",
       "      <th>transTotalAmt</th>\n",
       "      <td>0.044319</td>\n",
       "    </tr>\n",
       "    <tr>\n",
       "      <th>transAmt_mean</th>\n",
       "      <td>0.044962</td>\n",
       "    </tr>\n",
       "    <tr>\n",
       "      <th>onlineTransAmt</th>\n",
       "      <td>0.054774</td>\n",
       "    </tr>\n",
       "    <tr>\n",
       "      <th>age</th>\n",
       "      <td>0.086026</td>\n",
       "    </tr>\n",
       "    <tr>\n",
       "      <th>cashTotalCnt</th>\n",
       "      <td>0.096541</td>\n",
       "    </tr>\n",
       "    <tr>\n",
       "      <th>onlineTransCnt</th>\n",
       "      <td>0.097726</td>\n",
       "    </tr>\n",
       "    <tr>\n",
       "      <th>noTransWeekPre</th>\n",
       "      <td>0.276009</td>\n",
       "    </tr>\n",
       "  </tbody>\n",
       "</table>\n",
       "</div>"
      ],
      "text/plain": [
       "                          fea_importances\n",
       "isCrime                          0.000014\n",
       "education_0                      0.000032\n",
       "education_4                      0.000034\n",
       "maritalStatus_2                  0.000036\n",
       "inCourt                          0.000037\n",
       "CityId_3                         0.000042\n",
       "maritalStatus_1                  0.000048\n",
       "education_3                      0.000049\n",
       "isBlackList                      0.000051\n",
       "education_2                      0.000052\n",
       "isDue                            0.000053\n",
       "education_1                      0.000058\n",
       "threeVerify_2                    0.000063\n",
       "CityId_2                         0.000065\n",
       "CityId_1                         0.000073\n",
       "Han_1                            0.000074\n",
       "maritalStatus_0                  0.000085\n",
       "bad_record                       0.000092\n",
       "threeVerify_1                    0.000093\n",
       "Han_0                            0.000110\n",
       "sex_2                            0.000117\n",
       "threeVerify_0                    0.000120\n",
       "sex_0                            0.000126\n",
       "netLength_3                      0.000156\n",
       "idVerify_0                       0.000164\n",
       "netLength_1                      0.000176\n",
       "sex_1                            0.000189\n",
       "idVerify_1                       0.000223\n",
       "idVerify_2                       0.000497\n",
       "netLength_2                      0.000523\n",
       "netLength_0                      0.000770\n",
       "netLength_4                      0.002251\n",
       "cashAmt_mean                     0.006469\n",
       "cashAmt_non_null_months          0.007678\n",
       "avg_per_public_spend             0.008126\n",
       "card_age                         0.008608\n",
       "publicPayCnt                     0.010959\n",
       "cashCnt_non_null_months          0.011525\n",
       "cashTotalAmt                     0.011796\n",
       "avg_per_withdraw                 0.012010\n",
       "total_withdraw                   0.012566\n",
       "publicPayAmt                     0.015414\n",
       "cashCnt_mean                     0.017514\n",
       "transCnt_mean                    0.017607\n",
       "transTotalCnt                    0.017657\n",
       "transAmt_non_null_months         0.019567\n",
       "monthCardLargeAmt                0.022408\n",
       "avg_per_online_spend             0.024786\n",
       "transCnt_non_null_months         0.026317\n",
       "trans_total                      0.042167\n",
       "transTotalAmt                    0.044319\n",
       "transAmt_mean                    0.044962\n",
       "onlineTransAmt                   0.054774\n",
       "age                              0.086026\n",
       "cashTotalCnt                     0.096541\n",
       "onlineTransCnt                   0.097726\n",
       "noTransWeekPre                   0.276009"
      ]
     },
     "execution_count": 22,
     "metadata": {},
     "output_type": "execute_result"
    }
   ],
   "source": [
    "# 导入模块\n",
    "from ______________ import RandomForestClassifier\n",
    "\n",
    "# S1: 构建最优随机森林模型\n",
    "rf = RandomForestClassifier(n_estimators=180, criterion='entropy', max_depth=5, min_samples_split=2, random_state=12)\n",
    "rf.fit(x_train, y_train)\n",
    "\n",
    "\n",
    "# S2:查看随机森林模型的各项指标系数\n",
    "importance = ______________\n",
    "\n",
    "\n",
    "# S3:通过图形的方式直观展现前八名的重要指标\n",
    "## S3-1:构造指标重要度系数DF，先获取index\n",
    "index = ______________\n",
    "## S3-2:构造指标重要度系数DF，并升序排序\n",
    "feature_importance_rf = pd.DataFrame(______________, \n",
    "                                     ______________, \n",
    "                                     columns=[\"fea_importances\"]).sort_values(by='fea_importances', ascending=True)\n",
    "## S3-4:绘制水平条形图绘制\n",
    "feature_importance_rf.tail(8).plot(kind='barh', \n",
    "                                figsize=(8, 6), \n",
    "                                legend=False,\n",
    "                                title='Feature Importances_RandomForestClassifier')\n",
    "## S3-5:图显\n",
    "plt.show()\n",
    "\n",
    "# S4:查看指标重要度\n",
    "feature_importance_rf"
   ]
  },
  {
   "cell_type": "code",
   "execution_count": 23,
   "metadata": {},
   "outputs": [
    {
     "data": {
      "text/plain": [
       "Index(['trans_total', 'transTotalAmt', 'transAmt_mean', 'onlineTransAmt',\n",
       "       'age', 'cashTotalCnt', 'onlineTransCnt', 'noTransWeekPre'],\n",
       "      dtype='object')"
      ]
     },
     "execution_count": 23,
     "metadata": {},
     "output_type": "execute_result"
    }
   ],
   "source": [
    "# 随机森林最重要的8个特征\n",
    "feature_importance_rf.tail(8).index"
   ]
  },
  {
   "cell_type": "markdown",
   "metadata": {},
   "source": [
    "※结果分析\n",
    "> + 可以看到，对模型影响较大的前八个指标指标依次为: `noTransWeekPre`年无消费周数占比，`onlineTransCnt`网上消费笔数，`cashTotalCnt`总取现笔数，`age`年龄，`onlineTransAmt`网上消费金额， `transAmt_mean`年消费金额均值，`transTotalAmt`总消费金额，`trans_total`年消费总额。"
   ]
  },
  {
   "cell_type": "markdown",
   "metadata": {},
   "source": [
    "## 7.10 指标重要度综合排序"
   ]
  },
  {
   "cell_type": "markdown",
   "metadata": {},
   "source": [
    ">通过逻辑回归和随机森林各得到了指标重要度排序。接下来我们将指标重要度进行整合，综合考虑所有模型生成的指标重要度，得到—份综合排序，展示了重要度排在前十的指标。\n",
    "![7-08.png](imgs\\7-08.png)\n",
    "> + 从各模型指标重要度综合排序来看，对客户信用评估影响最大的因素分别是:年无消费周数占比、年消费金额均值、年取现金额均值、网上消费笔数、网上消费金额、总消费金额等。\n",
    "> + 在指标体系中多与客户的\"消费能力\"与\"偿债能力\"有关。"
   ]
  }
 ],
 "metadata": {
  "kernelspec": {
   "display_name": "Python 3",
   "language": "python",
   "name": "python3"
  },
  "language_info": {
   "codemirror_mode": {
    "name": "ipython",
    "version": 3
   },
   "file_extension": ".py",
   "mimetype": "text/x-python",
   "name": "python",
   "nbconvert_exporter": "python",
   "pygments_lexer": "ipython3",
   "version": "3.7.4"
  },
  "latex_envs": {
   "LaTeX_envs_menu_present": true,
   "autoclose": false,
   "autocomplete": true,
   "bibliofile": "biblio.bib",
   "cite_by": "apalike",
   "current_citInitial": 1,
   "eqLabelWithNumbers": true,
   "eqNumInitial": 1,
   "hotkeys": {
    "equation": "Ctrl-E",
    "itemize": "Ctrl-I"
   },
   "labels_anchors": false,
   "latex_user_defs": false,
   "report_style_numbering": false,
   "user_envs_cfg": false
  },
  "toc": {
   "base_numbering": 1,
   "nav_menu": {},
   "number_sections": true,
   "sideBar": true,
   "skip_h1_title": false,
   "title_cell": "Table of Contents",
   "title_sidebar": "Contents",
   "toc_cell": true,
   "toc_position": {
    "height": "calc(100% - 180px)",
    "left": "10px",
    "top": "150px",
    "width": "402.2px"
   },
   "toc_section_display": true,
   "toc_window_display": false
  },
  "varInspector": {
   "cols": {
    "lenName": 16,
    "lenType": 16,
    "lenVar": 40
   },
   "kernels_config": {
    "python": {
     "delete_cmd_postfix": "",
     "delete_cmd_prefix": "del ",
     "library": "var_list.py",
     "varRefreshCmd": "print(var_dic_list())"
    },
    "r": {
     "delete_cmd_postfix": ") ",
     "delete_cmd_prefix": "rm(",
     "library": "var_list.r",
     "varRefreshCmd": "cat(var_dic_list()) "
    }
   },
   "types_to_exclude": [
    "module",
    "function",
    "builtin_function_or_method",
    "instance",
    "_Feature"
   ],
   "window_display": false
  }
 },
 "nbformat": 4,
 "nbformat_minor": 2
}
