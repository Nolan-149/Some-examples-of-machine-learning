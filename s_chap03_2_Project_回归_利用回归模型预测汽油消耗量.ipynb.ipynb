{
 "cells": [
  {
   "cell_type": "markdown",
   "metadata": {},
   "source": [
    "**chap03_2_Project_回归_利用回归模型预测汽油消耗量**\n",
    "\n",
    "**案例描述**\n",
    "> + James一直开着同一辆车，而且几乎总是采用相同的路线。 他在加油站喜欢改变使用的汽油类型： 在SP98和SP95 E10之间转换。 \n",
    "> + E10的售价为1.38欧元/每升; SP98的售价为1.46欧元/每升。根据经验，车用E10汽油时消耗的油更多。\n",
    "> + 本案例要求基于以下数据，**根据汽油类型预测消耗量。**\n",
    "\n",
    "**数据描述**\n",
    "> +  1.样本数：388\n",
    "> +  2.特征数量：11个特征，1个目标特征（即consume，消耗量（L / 100km））。 \n",
    "\n",
    "| 列名          \t| 说明                   \t|\n",
    "|---------------\t|------------------------\t|\n",
    "| distance      \t| 行车距离（km）         \t|\n",
    "| consume       \t| 消耗量（L / 100km）    \t|\n",
    "| speed         \t| 平均速度（km / h）     \t|\n",
    "| temp_inside   \t| 车内温度（°C）         \t|\n",
    "| temp_outside  \t| 车外温度（°C）         \t|\n",
    "| specials      \t| 是否发生了什么特别的事 \t|\n",
    "| gas_type      \t| 使用的汽油类型         \t|\n",
    "| AC            \t| 是否开空调             \t|\n",
    "| rain          \t| 是否下雨               \t|\n",
    "| sun           \t| 是否阳光明媚           \t|\n",
    "| refill_liters \t| 补充的公升             \t|\n",
    "| refill_gas    \t| 补充的汽油类型         \t|"
   ]
  },
  {
   "cell_type": "markdown",
   "metadata": {
    "toc": true
   },
   "source": [
    "<h1>目录<span class=\"tocSkip\"></span></h1>\n",
    "<div class=\"toc\"><ul class=\"toc-item\"><li><ul class=\"toc-item\"><li><span><a href=\"#1.-读取数据\" data-toc-modified-id=\"1.-读取数据-0.1\">1. 读取数据</a></span></li><li><span><a href=\"#2.-数据预处理\" data-toc-modified-id=\"2.-数据预处理-0.2\">2. 数据预处理</a></span><ul class=\"toc-item\"><li><span><a href=\"#2.1-缺失值检测与处理\" data-toc-modified-id=\"2.1-缺失值检测与处理-0.2.1\">2.1 缺失值检测与处理</a></span></li><li><span><a href=\"#2.2-类别特征的数值编码\" data-toc-modified-id=\"2.2-类别特征的数值编码-0.2.2\">2.2 类别特征的数值编码</a></span></li><li><span><a href=\"#2.3-各特征相关性分析\" data-toc-modified-id=\"2.3-各特征相关性分析-0.2.3\">2.3 各特征相关性分析</a></span></li></ul></li><li><span><a href=\"#3.-建立模型并评估\" data-toc-modified-id=\"3.-建立模型并评估-0.3\">3. 建立模型并评估</a></span></li><li><span><a href=\"#3.1-线性回归\" data-toc-modified-id=\"3.1-线性回归-0.4\">3.1 线性回归</a></span></li><li><span><a href=\"#3.2-LASSO\" data-toc-modified-id=\"3.2-LASSO-0.5\">3.2 LASSO</a></span></li><li><span><a href=\"#3.2-岭回归\" data-toc-modified-id=\"3.2-岭回归-0.6\">3.2 岭回归</a></span></li><li><span><a href=\"#3.3-K近邻回归\" data-toc-modified-id=\"3.3-K近邻回归-0.7\">3.3 K近邻回归</a></span></li><li><span><a href=\"#3.4-决策树回归\" data-toc-modified-id=\"3.4-决策树回归-0.8\">3.4 决策树回归</a></span></li></ul></li><li><span><a href=\"#4-小结\" data-toc-modified-id=\"4-小结-1\">4 小结</a></span></li></ul></div>"
   ]
  },
  {
   "cell_type": "markdown",
   "metadata": {},
   "source": [
    "## 1. 读取数据"
   ]
  },
  {
   "cell_type": "code",
   "execution_count": 1,
   "metadata": {},
   "outputs": [],
   "source": [
    "# 导入基本库\n",
    "import numpy as np \n",
    "import pandas as pd"
   ]
  },
  {
   "cell_type": "code",
   "execution_count": 2,
   "metadata": {},
   "outputs": [],
   "source": [
    "# 设置pd最大显示行数为20\n",
    "pd.set_option(\"display.max_rows\",20)"
   ]
  },
  {
   "cell_type": "code",
   "execution_count": 3,
   "metadata": {},
   "outputs": [
    {
     "data": {
      "text/html": [
       "<div>\n",
       "<style scoped>\n",
       "    .dataframe tbody tr th:only-of-type {\n",
       "        vertical-align: middle;\n",
       "    }\n",
       "\n",
       "    .dataframe tbody tr th {\n",
       "        vertical-align: top;\n",
       "    }\n",
       "\n",
       "    .dataframe thead th {\n",
       "        text-align: right;\n",
       "    }\n",
       "</style>\n",
       "<table border=\"1\" class=\"dataframe\">\n",
       "  <thead>\n",
       "    <tr style=\"text-align: right;\">\n",
       "      <th></th>\n",
       "      <th>distance</th>\n",
       "      <th>consume</th>\n",
       "      <th>speed</th>\n",
       "      <th>temp_inside</th>\n",
       "      <th>temp_outside</th>\n",
       "      <th>specials</th>\n",
       "      <th>gas_type</th>\n",
       "      <th>AC</th>\n",
       "      <th>rain</th>\n",
       "      <th>sun</th>\n",
       "      <th>refill_liters</th>\n",
       "      <th>refill_gas</th>\n",
       "    </tr>\n",
       "  </thead>\n",
       "  <tbody>\n",
       "    <tr>\n",
       "      <td>0</td>\n",
       "      <td>28.0</td>\n",
       "      <td>5.0</td>\n",
       "      <td>26</td>\n",
       "      <td>21.5</td>\n",
       "      <td>12</td>\n",
       "      <td>NaN</td>\n",
       "      <td>E10</td>\n",
       "      <td>0</td>\n",
       "      <td>0</td>\n",
       "      <td>0</td>\n",
       "      <td>45.0</td>\n",
       "      <td>E10</td>\n",
       "    </tr>\n",
       "    <tr>\n",
       "      <td>1</td>\n",
       "      <td>12.0</td>\n",
       "      <td>4.2</td>\n",
       "      <td>30</td>\n",
       "      <td>21.5</td>\n",
       "      <td>13</td>\n",
       "      <td>NaN</td>\n",
       "      <td>E10</td>\n",
       "      <td>0</td>\n",
       "      <td>0</td>\n",
       "      <td>0</td>\n",
       "      <td>NaN</td>\n",
       "      <td>NaN</td>\n",
       "    </tr>\n",
       "    <tr>\n",
       "      <td>2</td>\n",
       "      <td>11.2</td>\n",
       "      <td>5.5</td>\n",
       "      <td>38</td>\n",
       "      <td>21.5</td>\n",
       "      <td>15</td>\n",
       "      <td>NaN</td>\n",
       "      <td>E10</td>\n",
       "      <td>0</td>\n",
       "      <td>0</td>\n",
       "      <td>0</td>\n",
       "      <td>NaN</td>\n",
       "      <td>NaN</td>\n",
       "    </tr>\n",
       "    <tr>\n",
       "      <td>3</td>\n",
       "      <td>12.9</td>\n",
       "      <td>3.9</td>\n",
       "      <td>36</td>\n",
       "      <td>21.5</td>\n",
       "      <td>14</td>\n",
       "      <td>NaN</td>\n",
       "      <td>E10</td>\n",
       "      <td>0</td>\n",
       "      <td>0</td>\n",
       "      <td>0</td>\n",
       "      <td>NaN</td>\n",
       "      <td>NaN</td>\n",
       "    </tr>\n",
       "    <tr>\n",
       "      <td>4</td>\n",
       "      <td>18.5</td>\n",
       "      <td>4.5</td>\n",
       "      <td>46</td>\n",
       "      <td>21.5</td>\n",
       "      <td>15</td>\n",
       "      <td>NaN</td>\n",
       "      <td>E10</td>\n",
       "      <td>0</td>\n",
       "      <td>0</td>\n",
       "      <td>0</td>\n",
       "      <td>NaN</td>\n",
       "      <td>NaN</td>\n",
       "    </tr>\n",
       "  </tbody>\n",
       "</table>\n",
       "</div>"
      ],
      "text/plain": [
       "   distance  consume  speed  temp_inside  temp_outside specials gas_type  AC  \\\n",
       "0      28.0      5.0     26         21.5            12      NaN      E10   0   \n",
       "1      12.0      4.2     30         21.5            13      NaN      E10   0   \n",
       "2      11.2      5.5     38         21.5            15      NaN      E10   0   \n",
       "3      12.9      3.9     36         21.5            14      NaN      E10   0   \n",
       "4      18.5      4.5     46         21.5            15      NaN      E10   0   \n",
       "\n",
       "   rain  sun  refill_liters refill_gas  \n",
       "0     0    0           45.0        E10  \n",
       "1     0    0            NaN        NaN  \n",
       "2     0    0            NaN        NaN  \n",
       "3     0    0            NaN        NaN  \n",
       "4     0    0            NaN        NaN  "
      ]
     },
     "execution_count": 3,
     "metadata": {},
     "output_type": "execute_result"
    }
   ],
   "source": [
    "## 读取数据\n",
    "file_path = './dataSets/data_chap3/measurements.xlsx'\n",
    "df = pd.read_excel(file_path)\n",
    "## 查看数据前5行\n",
    "df.head()"
   ]
  },
  {
   "cell_type": "code",
   "execution_count": 4,
   "metadata": {},
   "outputs": [
    {
     "data": {
      "text/html": [
       "<div>\n",
       "<style scoped>\n",
       "    .dataframe tbody tr th:only-of-type {\n",
       "        vertical-align: middle;\n",
       "    }\n",
       "\n",
       "    .dataframe tbody tr th {\n",
       "        vertical-align: top;\n",
       "    }\n",
       "\n",
       "    .dataframe thead th {\n",
       "        text-align: right;\n",
       "    }\n",
       "</style>\n",
       "<table border=\"1\" class=\"dataframe\">\n",
       "  <thead>\n",
       "    <tr style=\"text-align: right;\">\n",
       "      <th></th>\n",
       "      <th>distance</th>\n",
       "      <th>consume</th>\n",
       "      <th>speed</th>\n",
       "      <th>temp_inside</th>\n",
       "      <th>temp_outside</th>\n",
       "      <th>specials</th>\n",
       "      <th>gas_type</th>\n",
       "      <th>AC</th>\n",
       "      <th>rain</th>\n",
       "      <th>sun</th>\n",
       "      <th>refill_liters</th>\n",
       "      <th>refill_gas</th>\n",
       "    </tr>\n",
       "  </thead>\n",
       "  <tbody>\n",
       "    <tr>\n",
       "      <td>0</td>\n",
       "      <td>28.0</td>\n",
       "      <td>5.0</td>\n",
       "      <td>26</td>\n",
       "      <td>21.5</td>\n",
       "      <td>12</td>\n",
       "      <td>NaN</td>\n",
       "      <td>E10</td>\n",
       "      <td>0</td>\n",
       "      <td>0</td>\n",
       "      <td>0</td>\n",
       "      <td>45.0</td>\n",
       "      <td>E10</td>\n",
       "    </tr>\n",
       "    <tr>\n",
       "      <td>1</td>\n",
       "      <td>12.0</td>\n",
       "      <td>4.2</td>\n",
       "      <td>30</td>\n",
       "      <td>21.5</td>\n",
       "      <td>13</td>\n",
       "      <td>NaN</td>\n",
       "      <td>E10</td>\n",
       "      <td>0</td>\n",
       "      <td>0</td>\n",
       "      <td>0</td>\n",
       "      <td>NaN</td>\n",
       "      <td>NaN</td>\n",
       "    </tr>\n",
       "    <tr>\n",
       "      <td>2</td>\n",
       "      <td>11.2</td>\n",
       "      <td>5.5</td>\n",
       "      <td>38</td>\n",
       "      <td>21.5</td>\n",
       "      <td>15</td>\n",
       "      <td>NaN</td>\n",
       "      <td>E10</td>\n",
       "      <td>0</td>\n",
       "      <td>0</td>\n",
       "      <td>0</td>\n",
       "      <td>NaN</td>\n",
       "      <td>NaN</td>\n",
       "    </tr>\n",
       "    <tr>\n",
       "      <td>3</td>\n",
       "      <td>12.9</td>\n",
       "      <td>3.9</td>\n",
       "      <td>36</td>\n",
       "      <td>21.5</td>\n",
       "      <td>14</td>\n",
       "      <td>NaN</td>\n",
       "      <td>E10</td>\n",
       "      <td>0</td>\n",
       "      <td>0</td>\n",
       "      <td>0</td>\n",
       "      <td>NaN</td>\n",
       "      <td>NaN</td>\n",
       "    </tr>\n",
       "    <tr>\n",
       "      <td>4</td>\n",
       "      <td>18.5</td>\n",
       "      <td>4.5</td>\n",
       "      <td>46</td>\n",
       "      <td>21.5</td>\n",
       "      <td>15</td>\n",
       "      <td>NaN</td>\n",
       "      <td>E10</td>\n",
       "      <td>0</td>\n",
       "      <td>0</td>\n",
       "      <td>0</td>\n",
       "      <td>NaN</td>\n",
       "      <td>NaN</td>\n",
       "    </tr>\n",
       "    <tr>\n",
       "      <td>...</td>\n",
       "      <td>...</td>\n",
       "      <td>...</td>\n",
       "      <td>...</td>\n",
       "      <td>...</td>\n",
       "      <td>...</td>\n",
       "      <td>...</td>\n",
       "      <td>...</td>\n",
       "      <td>...</td>\n",
       "      <td>...</td>\n",
       "      <td>...</td>\n",
       "      <td>...</td>\n",
       "      <td>...</td>\n",
       "    </tr>\n",
       "    <tr>\n",
       "      <td>383</td>\n",
       "      <td>16.0</td>\n",
       "      <td>3.7</td>\n",
       "      <td>39</td>\n",
       "      <td>24.5</td>\n",
       "      <td>18</td>\n",
       "      <td>NaN</td>\n",
       "      <td>SP98</td>\n",
       "      <td>0</td>\n",
       "      <td>0</td>\n",
       "      <td>0</td>\n",
       "      <td>NaN</td>\n",
       "      <td>NaN</td>\n",
       "    </tr>\n",
       "    <tr>\n",
       "      <td>384</td>\n",
       "      <td>16.1</td>\n",
       "      <td>4.3</td>\n",
       "      <td>38</td>\n",
       "      <td>25.0</td>\n",
       "      <td>31</td>\n",
       "      <td>AC</td>\n",
       "      <td>SP98</td>\n",
       "      <td>1</td>\n",
       "      <td>0</td>\n",
       "      <td>0</td>\n",
       "      <td>NaN</td>\n",
       "      <td>NaN</td>\n",
       "    </tr>\n",
       "    <tr>\n",
       "      <td>385</td>\n",
       "      <td>16.0</td>\n",
       "      <td>3.8</td>\n",
       "      <td>45</td>\n",
       "      <td>25.0</td>\n",
       "      <td>19</td>\n",
       "      <td>NaN</td>\n",
       "      <td>SP98</td>\n",
       "      <td>0</td>\n",
       "      <td>0</td>\n",
       "      <td>0</td>\n",
       "      <td>NaN</td>\n",
       "      <td>NaN</td>\n",
       "    </tr>\n",
       "    <tr>\n",
       "      <td>386</td>\n",
       "      <td>15.4</td>\n",
       "      <td>4.6</td>\n",
       "      <td>42</td>\n",
       "      <td>25.0</td>\n",
       "      <td>31</td>\n",
       "      <td>AC</td>\n",
       "      <td>SP98</td>\n",
       "      <td>1</td>\n",
       "      <td>0</td>\n",
       "      <td>0</td>\n",
       "      <td>NaN</td>\n",
       "      <td>NaN</td>\n",
       "    </tr>\n",
       "    <tr>\n",
       "      <td>387</td>\n",
       "      <td>14.7</td>\n",
       "      <td>5.0</td>\n",
       "      <td>25</td>\n",
       "      <td>25.0</td>\n",
       "      <td>30</td>\n",
       "      <td>AC</td>\n",
       "      <td>SP98</td>\n",
       "      <td>1</td>\n",
       "      <td>0</td>\n",
       "      <td>0</td>\n",
       "      <td>NaN</td>\n",
       "      <td>NaN</td>\n",
       "    </tr>\n",
       "  </tbody>\n",
       "</table>\n",
       "<p>388 rows × 12 columns</p>\n",
       "</div>"
      ],
      "text/plain": [
       "     distance  consume  speed  temp_inside  temp_outside specials gas_type  \\\n",
       "0        28.0      5.0     26         21.5            12      NaN      E10   \n",
       "1        12.0      4.2     30         21.5            13      NaN      E10   \n",
       "2        11.2      5.5     38         21.5            15      NaN      E10   \n",
       "3        12.9      3.9     36         21.5            14      NaN      E10   \n",
       "4        18.5      4.5     46         21.5            15      NaN      E10   \n",
       "..        ...      ...    ...          ...           ...      ...      ...   \n",
       "383      16.0      3.7     39         24.5            18      NaN     SP98   \n",
       "384      16.1      4.3     38         25.0            31       AC     SP98   \n",
       "385      16.0      3.8     45         25.0            19      NaN     SP98   \n",
       "386      15.4      4.6     42         25.0            31       AC     SP98   \n",
       "387      14.7      5.0     25         25.0            30       AC     SP98   \n",
       "\n",
       "     AC  rain  sun  refill_liters refill_gas  \n",
       "0     0     0    0           45.0        E10  \n",
       "1     0     0    0            NaN        NaN  \n",
       "2     0     0    0            NaN        NaN  \n",
       "3     0     0    0            NaN        NaN  \n",
       "4     0     0    0            NaN        NaN  \n",
       "..   ..   ...  ...            ...        ...  \n",
       "383   0     0    0            NaN        NaN  \n",
       "384   1     0    0            NaN        NaN  \n",
       "385   0     0    0            NaN        NaN  \n",
       "386   1     0    0            NaN        NaN  \n",
       "387   1     0    0            NaN        NaN  \n",
       "\n",
       "[388 rows x 12 columns]"
      ]
     },
     "execution_count": 4,
     "metadata": {},
     "output_type": "execute_result"
    }
   ],
   "source": [
    "df"
   ]
  },
  {
   "cell_type": "code",
   "execution_count": 5,
   "metadata": {},
   "outputs": [
    {
     "name": "stdout",
     "output_type": "stream",
     "text": [
      "<class 'pandas.core.frame.DataFrame'>\n",
      "RangeIndex: 388 entries, 0 to 387\n",
      "Data columns (total 12 columns):\n",
      "distance         388 non-null float64\n",
      "consume          388 non-null float64\n",
      "speed            388 non-null int64\n",
      "temp_inside      376 non-null float64\n",
      "temp_outside     388 non-null int64\n",
      "specials         93 non-null object\n",
      "gas_type         388 non-null object\n",
      "AC               388 non-null int64\n",
      "rain             388 non-null int64\n",
      "sun              388 non-null int64\n",
      "refill_liters    13 non-null float64\n",
      "refill_gas       13 non-null object\n",
      "dtypes: float64(4), int64(5), object(3)\n",
      "memory usage: 36.5+ KB\n"
     ]
    }
   ],
   "source": [
    "## 查看数据集的info基本信息\n",
    "df.info()"
   ]
  },
  {
   "cell_type": "markdown",
   "metadata": {},
   "source": [
    "↑♎：分析有无缺失，各特征类型？"
   ]
  },
  {
   "cell_type": "markdown",
   "metadata": {},
   "source": [
    "## 2. 数据预处理\n",
    "\n",
    "### 2.1 缺失值检测与处理"
   ]
  },
  {
   "cell_type": "code",
   "execution_count": 6,
   "metadata": {},
   "outputs": [
    {
     "data": {
      "text/plain": [
       "distance           0\n",
       "consume            0\n",
       "speed              0\n",
       "temp_inside       12\n",
       "temp_outside       0\n",
       "specials         295\n",
       "gas_type           0\n",
       "AC                 0\n",
       "rain               0\n",
       "sun                0\n",
       "refill_liters    375\n",
       "refill_gas       375\n",
       "dtype: int64"
      ]
     },
     "execution_count": 6,
     "metadata": {},
     "output_type": "execute_result"
    }
   ],
   "source": [
    "#flase is 0\n",
    "#true is 1\n",
    "df.isnull().sum()"
   ]
  },
  {
   "cell_type": "code",
   "execution_count": 7,
   "metadata": {},
   "outputs": [
    {
     "data": {
      "text/plain": [
       "refill_gas       375\n",
       "refill_liters    375\n",
       "specials         295\n",
       "temp_inside       12\n",
       "sun                0\n",
       "rain               0\n",
       "AC                 0\n",
       "gas_type           0\n",
       "temp_outside       0\n",
       "speed              0\n",
       "consume            0\n",
       "distance           0\n",
       "dtype: int64"
      ]
     },
     "execution_count": 7,
     "metadata": {},
     "output_type": "execute_result"
    }
   ],
   "source": [
    "# 统计缺失值数量，并按降序排序\n",
    "df.isnull().sum().sort_values(ascending=False)"
   ]
  },
  {
   "cell_type": "markdown",
   "metadata": {},
   "source": [
    "↑♎：`refill_liters`,`refill_gas`,  `specials`缺失值很多，若补全对预测起不到任何效果，故删去这些特征。"
   ]
  },
  {
   "cell_type": "code",
   "execution_count": 8,
   "metadata": {},
   "outputs": [],
   "source": [
    "#原地删除'refill_gas','refill_liters','specials'特征 \n",
    "#inplace=True原地删除\n",
    "df.drop(['refill_gas','refill_liters','specials'],axis=1,inplace=True)"
   ]
  },
  {
   "cell_type": "markdown",
   "metadata": {},
   "source": [
    "而对于`temp_inside`特征，可以使用均值对其进行插补。"
   ]
  },
  {
   "cell_type": "code",
   "execution_count": 9,
   "metadata": {},
   "outputs": [],
   "source": [
    "# 导入Imputer\n",
    "from sklearn.preprocessing import Imputer"
   ]
  },
  {
   "cell_type": "code",
   "execution_count": 10,
   "metadata": {},
   "outputs": [
    {
     "data": {
      "text/plain": [
       "'0.21.3'"
      ]
     },
     "execution_count": 10,
     "metadata": {},
     "output_type": "execute_result"
    }
   ],
   "source": [
    "# 查看sklearn的版本\n",
    "import sklearn\n",
    "sklearn.__version__"
   ]
  },
  {
   "cell_type": "markdown",
   "metadata": {},
   "source": [
    "> **缺失值（NaN）处理**：\n",
    ">> + `from sklearn.preprocessing import Imputer`\n",
    ">> + `from sklearn.impute import SimpleImputer   # 0.22后的版本 ` "
   ]
  },
  {
   "cell_type": "code",
   "execution_count": 11,
   "metadata": {},
   "outputs": [],
   "source": [
    "# 缺失值插补\n",
    "## S0: 导入SimpleImputer\n",
    "from sklearn.impute import SimpleImputer"
   ]
  },
  {
   "cell_type": "code",
   "execution_count": 12,
   "metadata": {},
   "outputs": [],
   "source": [
    "SimpleImputer?"
   ]
  },
  {
   "cell_type": "code",
   "execution_count": 13,
   "metadata": {},
   "outputs": [
    {
     "data": {
      "text/plain": [
       "SimpleImputer(add_indicator=False, copy=True, fill_value=None,\n",
       "              missing_values=nan, strategy='mean', verbose=0)"
      ]
     },
     "execution_count": 13,
     "metadata": {},
     "output_type": "execute_result"
    }
   ],
   "source": [
    "# 对特征df[[\"temp_inside\"]]进行缺失值填充\n",
    "## s1: 构建模型\n",
    "imp = SimpleImputer(missing_values=np.nan,strategy=\"mean\")\n",
    "## s2: 训练\n",
    "imp.fit(df[[\"temp_inside\"]])"
   ]
  },
  {
   "cell_type": "code",
   "execution_count": 14,
   "metadata": {},
   "outputs": [],
   "source": [
    "## s3: 使用训练好的模型进行数据transform，添加新特征'age_imputed'\n",
    "df[\"temp_inside_imputed\"] = imp.transform(df[[\"temp_inside\"]])"
   ]
  },
  {
   "cell_type": "code",
   "execution_count": 15,
   "metadata": {},
   "outputs": [
    {
     "data": {
      "text/html": [
       "<div>\n",
       "<style scoped>\n",
       "    .dataframe tbody tr th:only-of-type {\n",
       "        vertical-align: middle;\n",
       "    }\n",
       "\n",
       "    .dataframe tbody tr th {\n",
       "        vertical-align: top;\n",
       "    }\n",
       "\n",
       "    .dataframe thead th {\n",
       "        text-align: right;\n",
       "    }\n",
       "</style>\n",
       "<table border=\"1\" class=\"dataframe\">\n",
       "  <thead>\n",
       "    <tr style=\"text-align: right;\">\n",
       "      <th></th>\n",
       "      <th>temp_inside</th>\n",
       "      <th>temp_inside_imputed</th>\n",
       "    </tr>\n",
       "  </thead>\n",
       "  <tbody>\n",
       "    <tr>\n",
       "      <td>93</td>\n",
       "      <td>NaN</td>\n",
       "      <td>21.929521</td>\n",
       "    </tr>\n",
       "    <tr>\n",
       "      <td>95</td>\n",
       "      <td>NaN</td>\n",
       "      <td>21.929521</td>\n",
       "    </tr>\n",
       "    <tr>\n",
       "      <td>97</td>\n",
       "      <td>NaN</td>\n",
       "      <td>21.929521</td>\n",
       "    </tr>\n",
       "    <tr>\n",
       "      <td>98</td>\n",
       "      <td>NaN</td>\n",
       "      <td>21.929521</td>\n",
       "    </tr>\n",
       "    <tr>\n",
       "      <td>99</td>\n",
       "      <td>NaN</td>\n",
       "      <td>21.929521</td>\n",
       "    </tr>\n",
       "    <tr>\n",
       "      <td>100</td>\n",
       "      <td>NaN</td>\n",
       "      <td>21.929521</td>\n",
       "    </tr>\n",
       "    <tr>\n",
       "      <td>102</td>\n",
       "      <td>NaN</td>\n",
       "      <td>21.929521</td>\n",
       "    </tr>\n",
       "    <tr>\n",
       "      <td>201</td>\n",
       "      <td>NaN</td>\n",
       "      <td>21.929521</td>\n",
       "    </tr>\n",
       "    <tr>\n",
       "      <td>203</td>\n",
       "      <td>NaN</td>\n",
       "      <td>21.929521</td>\n",
       "    </tr>\n",
       "    <tr>\n",
       "      <td>261</td>\n",
       "      <td>NaN</td>\n",
       "      <td>21.929521</td>\n",
       "    </tr>\n",
       "    <tr>\n",
       "      <td>267</td>\n",
       "      <td>NaN</td>\n",
       "      <td>21.929521</td>\n",
       "    </tr>\n",
       "    <tr>\n",
       "      <td>268</td>\n",
       "      <td>NaN</td>\n",
       "      <td>21.929521</td>\n",
       "    </tr>\n",
       "  </tbody>\n",
       "</table>\n",
       "</div>"
      ],
      "text/plain": [
       "     temp_inside  temp_inside_imputed\n",
       "93           NaN            21.929521\n",
       "95           NaN            21.929521\n",
       "97           NaN            21.929521\n",
       "98           NaN            21.929521\n",
       "99           NaN            21.929521\n",
       "100          NaN            21.929521\n",
       "102          NaN            21.929521\n",
       "201          NaN            21.929521\n",
       "203          NaN            21.929521\n",
       "261          NaN            21.929521\n",
       "267          NaN            21.929521\n",
       "268          NaN            21.929521"
      ]
     },
     "execution_count": 15,
     "metadata": {},
     "output_type": "execute_result"
    }
   ],
   "source": [
    "df[df[\"temp_inside\"].isnull()][['temp_inside','temp_inside_imputed']]"
   ]
  },
  {
   "cell_type": "code",
   "execution_count": 16,
   "metadata": {},
   "outputs": [
    {
     "data": {
      "text/plain": [
       "0    21.5\n",
       "1    21.5\n",
       "2    21.5\n",
       "3    21.5\n",
       "4    21.5\n",
       "Name: temp_inside, dtype: float64"
      ]
     },
     "execution_count": 16,
     "metadata": {},
     "output_type": "execute_result"
    }
   ],
   "source": [
    "# 显示原年龄缺失的行在插补缺失值之后的情况\n",
    "df[\"temp_inside\"].head()"
   ]
  },
  {
   "cell_type": "code",
   "execution_count": 17,
   "metadata": {},
   "outputs": [],
   "source": [
    "# drop掉\"temp_inside\"\n",
    "df = df.drop(\"temp_inside\",axis=1)"
   ]
  },
  {
   "cell_type": "code",
   "execution_count": 18,
   "metadata": {},
   "outputs": [
    {
     "name": "stdout",
     "output_type": "stream",
     "text": [
      "<class 'pandas.core.frame.DataFrame'>\n",
      "RangeIndex: 388 entries, 0 to 387\n",
      "Data columns (total 9 columns):\n",
      "distance               388 non-null float64\n",
      "consume                388 non-null float64\n",
      "speed                  388 non-null int64\n",
      "temp_outside           388 non-null int64\n",
      "gas_type               388 non-null object\n",
      "AC                     388 non-null int64\n",
      "rain                   388 non-null int64\n",
      "sun                    388 non-null int64\n",
      "temp_inside_imputed    388 non-null float64\n",
      "dtypes: float64(3), int64(5), object(1)\n",
      "memory usage: 27.4+ KB\n"
     ]
    }
   ],
   "source": [
    "# 再次查看info\n",
    "df.info()"
   ]
  },
  {
   "cell_type": "markdown",
   "metadata": {},
   "source": [
    "↑♎：没有缺失值了"
   ]
  },
  {
   "cell_type": "code",
   "execution_count": 19,
   "metadata": {},
   "outputs": [
    {
     "data": {
      "text/html": [
       "<div>\n",
       "<style scoped>\n",
       "    .dataframe tbody tr th:only-of-type {\n",
       "        vertical-align: middle;\n",
       "    }\n",
       "\n",
       "    .dataframe tbody tr th {\n",
       "        vertical-align: top;\n",
       "    }\n",
       "\n",
       "    .dataframe thead th {\n",
       "        text-align: right;\n",
       "    }\n",
       "</style>\n",
       "<table border=\"1\" class=\"dataframe\">\n",
       "  <thead>\n",
       "    <tr style=\"text-align: right;\">\n",
       "      <th></th>\n",
       "      <th>distance</th>\n",
       "      <th>consume</th>\n",
       "      <th>speed</th>\n",
       "      <th>temp_outside</th>\n",
       "      <th>gas_type</th>\n",
       "      <th>AC</th>\n",
       "      <th>rain</th>\n",
       "      <th>sun</th>\n",
       "      <th>temp_inside_imputed</th>\n",
       "    </tr>\n",
       "  </thead>\n",
       "  <tbody>\n",
       "    <tr>\n",
       "      <td>358</td>\n",
       "      <td>6.1</td>\n",
       "      <td>5.0</td>\n",
       "      <td>33</td>\n",
       "      <td>24</td>\n",
       "      <td>SP98</td>\n",
       "      <td>0</td>\n",
       "      <td>0</td>\n",
       "      <td>1</td>\n",
       "      <td>22.0</td>\n",
       "    </tr>\n",
       "    <tr>\n",
       "      <td>45</td>\n",
       "      <td>2.0</td>\n",
       "      <td>9.9</td>\n",
       "      <td>21</td>\n",
       "      <td>4</td>\n",
       "      <td>SP98</td>\n",
       "      <td>0</td>\n",
       "      <td>0</td>\n",
       "      <td>0</td>\n",
       "      <td>21.5</td>\n",
       "    </tr>\n",
       "    <tr>\n",
       "      <td>326</td>\n",
       "      <td>15.4</td>\n",
       "      <td>4.5</td>\n",
       "      <td>43</td>\n",
       "      <td>24</td>\n",
       "      <td>E10</td>\n",
       "      <td>0</td>\n",
       "      <td>0</td>\n",
       "      <td>0</td>\n",
       "      <td>22.0</td>\n",
       "    </tr>\n",
       "    <tr>\n",
       "      <td>342</td>\n",
       "      <td>15.4</td>\n",
       "      <td>3.8</td>\n",
       "      <td>47</td>\n",
       "      <td>24</td>\n",
       "      <td>E10</td>\n",
       "      <td>0</td>\n",
       "      <td>0</td>\n",
       "      <td>0</td>\n",
       "      <td>22.0</td>\n",
       "    </tr>\n",
       "    <tr>\n",
       "      <td>283</td>\n",
       "      <td>32.1</td>\n",
       "      <td>4.5</td>\n",
       "      <td>50</td>\n",
       "      <td>16</td>\n",
       "      <td>SP98</td>\n",
       "      <td>0</td>\n",
       "      <td>0</td>\n",
       "      <td>0</td>\n",
       "      <td>22.0</td>\n",
       "    </tr>\n",
       "  </tbody>\n",
       "</table>\n",
       "</div>"
      ],
      "text/plain": [
       "     distance  consume  speed  temp_outside gas_type  AC  rain  sun  \\\n",
       "358       6.1      5.0     33            24     SP98   0     0    1   \n",
       "45        2.0      9.9     21             4     SP98   0     0    0   \n",
       "326      15.4      4.5     43            24      E10   0     0    0   \n",
       "342      15.4      3.8     47            24      E10   0     0    0   \n",
       "283      32.1      4.5     50            16     SP98   0     0    0   \n",
       "\n",
       "     temp_inside_imputed  \n",
       "358                 22.0  \n",
       "45                  21.5  \n",
       "326                 22.0  \n",
       "342                 22.0  \n",
       "283                 22.0  "
      ]
     },
     "execution_count": 19,
     "metadata": {},
     "output_type": "execute_result"
    }
   ],
   "source": [
    "df.sample(5)"
   ]
  },
  {
   "cell_type": "code",
   "execution_count": 20,
   "metadata": {},
   "outputs": [
    {
     "data": {
      "text/plain": [
       "array(['E10', 'SP98'], dtype=object)"
      ]
     },
     "execution_count": 20,
     "metadata": {},
     "output_type": "execute_result"
    }
   ],
   "source": [
    "df[\"gas_type\"].unique()"
   ]
  },
  {
   "cell_type": "code",
   "execution_count": 21,
   "metadata": {},
   "outputs": [
    {
     "data": {
      "text/plain": [
       "SP98    228\n",
       "E10     160\n",
       "Name: gas_type, dtype: int64"
      ]
     },
     "execution_count": 21,
     "metadata": {},
     "output_type": "execute_result"
    }
   ],
   "source": [
    "df[\"gas_type\"].value_counts()"
   ]
  },
  {
   "cell_type": "markdown",
   "metadata": {},
   "source": [
    "↓为了方便后续数据处理，将特征名称'temp_inside_imputed'改成'temp_inside'"
   ]
  },
  {
   "cell_type": "code",
   "execution_count": 22,
   "metadata": {},
   "outputs": [],
   "source": [
    "# 为了后续使用方便，把`temp_inside_imputed`改成\"temp_inside\"\n",
    "df = df.rename({'temp_inside_imputed':'temp_inside'},axis=1)"
   ]
  },
  {
   "cell_type": "code",
   "execution_count": 23,
   "metadata": {},
   "outputs": [
    {
     "ename": "NameError",
     "evalue": "name '____________' is not defined",
     "output_type": "error",
     "traceback": [
      "\u001b[1;31m---------------------------------------------------------------------------\u001b[0m",
      "\u001b[1;31mNameError\u001b[0m                                 Traceback (most recent call last)",
      "\u001b[1;32m<ipython-input-23-331514f38540>\u001b[0m in \u001b[0;36m<module>\u001b[1;34m\u001b[0m\n\u001b[0;32m      1\u001b[0m \u001b[1;31m# 采用`df.rename()`改名\u001b[0m\u001b[1;33m\u001b[0m\u001b[1;33m\u001b[0m\u001b[1;33m\u001b[0m\u001b[0m\n\u001b[1;32m----> 2\u001b[1;33m \u001b[0mdf\u001b[0m\u001b[1;33m.\u001b[0m\u001b[0mrename\u001b[0m\u001b[1;33m(\u001b[0m\u001b[0m____________\u001b[0m\u001b[1;33m,\u001b[0m\u001b[0maxis\u001b[0m\u001b[1;33m=\u001b[0m\u001b[1;34m'columns'\u001b[0m\u001b[1;33m)\u001b[0m\u001b[1;33m\u001b[0m\u001b[1;33m\u001b[0m\u001b[0m\n\u001b[0m",
      "\u001b[1;31mNameError\u001b[0m: name '____________' is not defined"
     ]
    }
   ],
   "source": [
    "# 采用`df.rename()`改名\n",
    "df.rename(____________,axis='columns')"
   ]
  },
  {
   "cell_type": "code",
   "execution_count": 24,
   "metadata": {},
   "outputs": [
    {
     "data": {
      "text/html": [
       "<div>\n",
       "<style scoped>\n",
       "    .dataframe tbody tr th:only-of-type {\n",
       "        vertical-align: middle;\n",
       "    }\n",
       "\n",
       "    .dataframe tbody tr th {\n",
       "        vertical-align: top;\n",
       "    }\n",
       "\n",
       "    .dataframe thead th {\n",
       "        text-align: right;\n",
       "    }\n",
       "</style>\n",
       "<table border=\"1\" class=\"dataframe\">\n",
       "  <thead>\n",
       "    <tr style=\"text-align: right;\">\n",
       "      <th></th>\n",
       "      <th>distance</th>\n",
       "      <th>consume</th>\n",
       "      <th>speed</th>\n",
       "      <th>temp_outside</th>\n",
       "      <th>gas_type</th>\n",
       "      <th>AC</th>\n",
       "      <th>rain</th>\n",
       "      <th>sun</th>\n",
       "      <th>temp_inside</th>\n",
       "    </tr>\n",
       "  </thead>\n",
       "  <tbody>\n",
       "    <tr>\n",
       "      <td>116</td>\n",
       "      <td>11.8</td>\n",
       "      <td>5.1</td>\n",
       "      <td>26</td>\n",
       "      <td>4</td>\n",
       "      <td>SP98</td>\n",
       "      <td>0</td>\n",
       "      <td>1</td>\n",
       "      <td>0</td>\n",
       "      <td>23.0</td>\n",
       "    </tr>\n",
       "    <tr>\n",
       "      <td>64</td>\n",
       "      <td>12.4</td>\n",
       "      <td>5.4</td>\n",
       "      <td>24</td>\n",
       "      <td>7</td>\n",
       "      <td>SP98</td>\n",
       "      <td>0</td>\n",
       "      <td>0</td>\n",
       "      <td>0</td>\n",
       "      <td>21.5</td>\n",
       "    </tr>\n",
       "    <tr>\n",
       "      <td>332</td>\n",
       "      <td>4.8</td>\n",
       "      <td>4.7</td>\n",
       "      <td>26</td>\n",
       "      <td>18</td>\n",
       "      <td>E10</td>\n",
       "      <td>0</td>\n",
       "      <td>0</td>\n",
       "      <td>0</td>\n",
       "      <td>25.0</td>\n",
       "    </tr>\n",
       "    <tr>\n",
       "      <td>355</td>\n",
       "      <td>4.5</td>\n",
       "      <td>5.2</td>\n",
       "      <td>23</td>\n",
       "      <td>23</td>\n",
       "      <td>SP98</td>\n",
       "      <td>0</td>\n",
       "      <td>0</td>\n",
       "      <td>1</td>\n",
       "      <td>22.0</td>\n",
       "    </tr>\n",
       "    <tr>\n",
       "      <td>74</td>\n",
       "      <td>11.6</td>\n",
       "      <td>5.0</td>\n",
       "      <td>25</td>\n",
       "      <td>6</td>\n",
       "      <td>SP98</td>\n",
       "      <td>0</td>\n",
       "      <td>0</td>\n",
       "      <td>0</td>\n",
       "      <td>21.5</td>\n",
       "    </tr>\n",
       "  </tbody>\n",
       "</table>\n",
       "</div>"
      ],
      "text/plain": [
       "     distance  consume  speed  temp_outside gas_type  AC  rain  sun  \\\n",
       "116      11.8      5.1     26             4     SP98   0     1    0   \n",
       "64       12.4      5.4     24             7     SP98   0     0    0   \n",
       "332       4.8      4.7     26            18      E10   0     0    0   \n",
       "355       4.5      5.2     23            23     SP98   0     0    1   \n",
       "74       11.6      5.0     25             6     SP98   0     0    0   \n",
       "\n",
       "     temp_inside  \n",
       "116         23.0  \n",
       "64          21.5  \n",
       "332         25.0  \n",
       "355         22.0  \n",
       "74          21.5  "
      ]
     },
     "execution_count": 24,
     "metadata": {},
     "output_type": "execute_result"
    }
   ],
   "source": [
    "# 再次随机查看5行样本\n",
    "df.sample(5)"
   ]
  },
  {
   "cell_type": "markdown",
   "metadata": {},
   "source": [
    "### 2.2 类别特征的数值编码\n",
    "> 接下来我们需要对特征`gas_type`进行数值编码，首先观察特征的可能取值。"
   ]
  },
  {
   "cell_type": "code",
   "execution_count": 25,
   "metadata": {},
   "outputs": [
    {
     "data": {
      "text/plain": [
       "SP98    228\n",
       "E10     160\n",
       "Name: gas_type, dtype: int64"
      ]
     },
     "execution_count": 25,
     "metadata": {},
     "output_type": "execute_result"
    }
   ],
   "source": [
    "# 统计特征\"gas_type\"中的类别及每个类别中样本的数量\n",
    "df[\"gas_type\"].value_counts()"
   ]
  },
  {
   "cell_type": "markdown",
   "metadata": {},
   "source": [
    "↑♎分析：一共两类"
   ]
  },
  {
   "cell_type": "markdown",
   "metadata": {},
   "source": [
    "然后用Pandas中的`get_dummies`函数对汽油类型进行One-Hot编码。"
   ]
  },
  {
   "cell_type": "code",
   "execution_count": 26,
   "metadata": {},
   "outputs": [],
   "source": [
    "pd.get_dummies??"
   ]
  },
  {
   "cell_type": "code",
   "execution_count": 27,
   "metadata": {},
   "outputs": [
    {
     "data": {
      "text/html": [
       "<div>\n",
       "<style scoped>\n",
       "    .dataframe tbody tr th:only-of-type {\n",
       "        vertical-align: middle;\n",
       "    }\n",
       "\n",
       "    .dataframe tbody tr th {\n",
       "        vertical-align: top;\n",
       "    }\n",
       "\n",
       "    .dataframe thead th {\n",
       "        text-align: right;\n",
       "    }\n",
       "</style>\n",
       "<table border=\"1\" class=\"dataframe\">\n",
       "  <thead>\n",
       "    <tr style=\"text-align: right;\">\n",
       "      <th></th>\n",
       "      <th>distance</th>\n",
       "      <th>consume</th>\n",
       "      <th>speed</th>\n",
       "      <th>temp_outside</th>\n",
       "      <th>AC</th>\n",
       "      <th>rain</th>\n",
       "      <th>sun</th>\n",
       "      <th>temp_inside</th>\n",
       "      <th>get_type_E10</th>\n",
       "      <th>get_type_SP98</th>\n",
       "    </tr>\n",
       "  </thead>\n",
       "  <tbody>\n",
       "    <tr>\n",
       "      <td>0</td>\n",
       "      <td>28.0</td>\n",
       "      <td>5.0</td>\n",
       "      <td>26</td>\n",
       "      <td>12</td>\n",
       "      <td>0</td>\n",
       "      <td>0</td>\n",
       "      <td>0</td>\n",
       "      <td>21.5</td>\n",
       "      <td>1</td>\n",
       "      <td>0</td>\n",
       "    </tr>\n",
       "    <tr>\n",
       "      <td>1</td>\n",
       "      <td>12.0</td>\n",
       "      <td>4.2</td>\n",
       "      <td>30</td>\n",
       "      <td>13</td>\n",
       "      <td>0</td>\n",
       "      <td>0</td>\n",
       "      <td>0</td>\n",
       "      <td>21.5</td>\n",
       "      <td>1</td>\n",
       "      <td>0</td>\n",
       "    </tr>\n",
       "    <tr>\n",
       "      <td>2</td>\n",
       "      <td>11.2</td>\n",
       "      <td>5.5</td>\n",
       "      <td>38</td>\n",
       "      <td>15</td>\n",
       "      <td>0</td>\n",
       "      <td>0</td>\n",
       "      <td>0</td>\n",
       "      <td>21.5</td>\n",
       "      <td>1</td>\n",
       "      <td>0</td>\n",
       "    </tr>\n",
       "  </tbody>\n",
       "</table>\n",
       "</div>"
      ],
      "text/plain": [
       "   distance  consume  speed  temp_outside  AC  rain  sun  temp_inside  \\\n",
       "0      28.0      5.0     26            12   0     0    0         21.5   \n",
       "1      12.0      4.2     30            13   0     0    0         21.5   \n",
       "2      11.2      5.5     38            15   0     0    0         21.5   \n",
       "\n",
       "   get_type_E10  get_type_SP98  \n",
       "0             1              0  \n",
       "1             1              0  \n",
       "2             1              0  "
      ]
     },
     "execution_count": 27,
     "metadata": {},
     "output_type": "execute_result"
    }
   ],
   "source": [
    "# 进行哑变量转换，得到新的DF，df_new\n",
    "df_new = pd.get_dummies(df, ['get_type'])\n",
    "## 观察数据的前3行\n",
    "df_new.head(3)"
   ]
  },
  {
   "cell_type": "markdown",
   "metadata": {},
   "source": [
    "### 2.3 各特征相关性分析\n",
    "> 利用相关系数热图来初步观察特征之间的相关关系。"
   ]
  },
  {
   "cell_type": "code",
   "execution_count": 28,
   "metadata": {},
   "outputs": [
    {
     "data": {
      "text/plain": [
       "<matplotlib.axes._subplots.AxesSubplot at 0x199c430c448>"
      ]
     },
     "execution_count": 28,
     "metadata": {},
     "output_type": "execute_result"
    },
    {
     "data": {
      "image/png": "[encoded data removed]",
      "text/plain": [
       "<Figure size 576x432 with 2 Axes>"
      ]
     },
     "metadata": {
      "needs_background": "light"
     },
     "output_type": "display_data"
    }
   ],
   "source": [
    "import matplotlib.pyplot as plt\n",
    "import seaborn as sns\n",
    "%matplotlib inline\n",
    "plt.figure(figsize=(8,6))\n",
    "# 求df_new各个特征间的相关系数\n",
    "corr_ = df_new.corr()\n",
    "# 绘制热力图\n",
    "sns.heatmap(corr_, annot=True, cmap='rainbow')"
   ]
  },
  {
   "cell_type": "markdown",
   "metadata": {},
   "source": [
    "↑♎分析：从图中可以看到:\n",
    "> + 是否下雨和汽油消耗量有较为明显的正相关关系，\n",
    "> + 平均速度与车外温度与汽油消耗量有较为明显的负相关关系。"
   ]
  },
  {
   "cell_type": "markdown",
   "metadata": {},
   "source": [
    "## 3. 建立模型并评估\n",
    "> + 下面尝试建立不同的回归模型并评估其效果\n",
    "> + 首先分离特征`X`和目标`y`\n",
    "> + 然后分割训练集和测试集，80%作为训练集，20%作为测试集。"
   ]
  },
  {
   "cell_type": "code",
   "execution_count": 29,
   "metadata": {},
   "outputs": [],
   "source": [
    "## 将目标y与特征数据分离X，目标y为特征'consume'\n",
    "X = df_new.drop(['consume'],axis=1)  # 注意参数axis=\"columns\"或1\n",
    "y = df_new['consume']"
   ]
  },
  {
   "cell_type": "code",
   "execution_count": 30,
   "metadata": {},
   "outputs": [],
   "source": [
    "# 使用train_test_split划分train和test，\n",
    "## 导入train_test_split\n",
    "from sklearn.model_selection import train_test_split\n",
    "## 划分train和test,比例为8:2,random_state=10\n",
    "X_train, X_test, y_train, y_test = train_test_split(X, y, test_size=0.2, random_state=10)"
   ]
  },
  {
   "cell_type": "code",
   "execution_count": 31,
   "metadata": {},
   "outputs": [
    {
     "data": {
      "text/html": [
       "<div>\n",
       "<style scoped>\n",
       "    .dataframe tbody tr th:only-of-type {\n",
       "        vertical-align: middle;\n",
       "    }\n",
       "\n",
       "    .dataframe tbody tr th {\n",
       "        vertical-align: top;\n",
       "    }\n",
       "\n",
       "    .dataframe thead th {\n",
       "        text-align: right;\n",
       "    }\n",
       "</style>\n",
       "<table border=\"1\" class=\"dataframe\">\n",
       "  <thead>\n",
       "    <tr style=\"text-align: right;\">\n",
       "      <th></th>\n",
       "      <th>distance</th>\n",
       "      <th>speed</th>\n",
       "      <th>temp_outside</th>\n",
       "      <th>AC</th>\n",
       "      <th>rain</th>\n",
       "      <th>sun</th>\n",
       "      <th>temp_inside</th>\n",
       "      <th>get_type_E10</th>\n",
       "      <th>get_type_SP98</th>\n",
       "    </tr>\n",
       "  </thead>\n",
       "  <tbody>\n",
       "    <tr>\n",
       "      <td>345</td>\n",
       "      <td>16.0</td>\n",
       "      <td>42</td>\n",
       "      <td>15</td>\n",
       "      <td>0</td>\n",
       "      <td>0</td>\n",
       "      <td>0</td>\n",
       "      <td>22.0</td>\n",
       "      <td>1</td>\n",
       "      <td>0</td>\n",
       "    </tr>\n",
       "    <tr>\n",
       "      <td>331</td>\n",
       "      <td>21.5</td>\n",
       "      <td>47</td>\n",
       "      <td>27</td>\n",
       "      <td>1</td>\n",
       "      <td>0</td>\n",
       "      <td>1</td>\n",
       "      <td>25.0</td>\n",
       "      <td>1</td>\n",
       "      <td>0</td>\n",
       "    </tr>\n",
       "    <tr>\n",
       "      <td>10</td>\n",
       "      <td>12.4</td>\n",
       "      <td>42</td>\n",
       "      <td>4</td>\n",
       "      <td>0</td>\n",
       "      <td>0</td>\n",
       "      <td>0</td>\n",
       "      <td>21.5</td>\n",
       "      <td>1</td>\n",
       "      <td>0</td>\n",
       "    </tr>\n",
       "    <tr>\n",
       "      <td>76</td>\n",
       "      <td>11.8</td>\n",
       "      <td>39</td>\n",
       "      <td>6</td>\n",
       "      <td>0</td>\n",
       "      <td>0</td>\n",
       "      <td>0</td>\n",
       "      <td>21.5</td>\n",
       "      <td>0</td>\n",
       "      <td>1</td>\n",
       "    </tr>\n",
       "    <tr>\n",
       "      <td>149</td>\n",
       "      <td>36.9</td>\n",
       "      <td>52</td>\n",
       "      <td>5</td>\n",
       "      <td>0</td>\n",
       "      <td>0</td>\n",
       "      <td>0</td>\n",
       "      <td>21.5</td>\n",
       "      <td>1</td>\n",
       "      <td>0</td>\n",
       "    </tr>\n",
       "  </tbody>\n",
       "</table>\n",
       "</div>"
      ],
      "text/plain": [
       "     distance  speed  temp_outside  AC  rain  sun  temp_inside  get_type_E10  \\\n",
       "345      16.0     42            15   0     0    0         22.0             1   \n",
       "331      21.5     47            27   1     0    1         25.0             1   \n",
       "10       12.4     42             4   0     0    0         21.5             1   \n",
       "76       11.8     39             6   0     0    0         21.5             0   \n",
       "149      36.9     52             5   0     0    0         21.5             1   \n",
       "\n",
       "     get_type_SP98  \n",
       "345              0  \n",
       "331              0  \n",
       "10               0  \n",
       "76               1  \n",
       "149              0  "
      ]
     },
     "execution_count": 31,
     "metadata": {},
     "output_type": "execute_result"
    }
   ],
   "source": [
    "X_train.head()"
   ]
  },
  {
   "cell_type": "code",
   "execution_count": 32,
   "metadata": {},
   "outputs": [
    {
     "data": {
      "text/plain": [
       "345    4.0\n",
       "331    4.8\n",
       "10     5.6\n",
       "76     4.5\n",
       "149    4.8\n",
       "Name: consume, dtype: float64"
      ]
     },
     "execution_count": 32,
     "metadata": {},
     "output_type": "execute_result"
    }
   ],
   "source": [
    "y_train.head()"
   ]
  },
  {
   "cell_type": "markdown",
   "metadata": {},
   "source": [
    "## 3.1 线性回归\n",
    "> 先建立线性回归模型，并使用测试集上的均方误差`mean_squared_error`和决定系数`r2`来评估模型效果。"
   ]
  },
  {
   "cell_type": "code",
   "execution_count": 33,
   "metadata": {},
   "outputs": [
    {
     "name": "stdout",
     "output_type": "stream",
     "text": [
      "测试集均方误差: 0.9357889428317326\n",
      "测试集决定系数: 0.16191220282070262\n"
     ]
    }
   ],
   "source": [
    "#S0:导入LinearRegression和mean_squared_error\n",
    "from sklearn.linear_model import LinearRegression\n",
    "from sklearn.metrics import mean_squared_error\n",
    "#S1:构建模型\n",
    "lr = LinearRegression()\n",
    "#S2: 构建训练\n",
    "lr.fit(X_train,y_train)\n",
    "#S3: 模型预测\n",
    "lr_pred = lr.predict(X_test)\n",
    "#S4: 模型评价\n",
    "##S4_1: 测试集均方误差\n",
    "print(\"测试集均方误差:\", mean_squared_error(y_test, lr_pred)) \n",
    "\n",
    "##S4_2: 测试集决定系数\n",
    "print(\"测试集决定系数:\", lr.score(X_test, y_test))"
   ]
  },
  {
   "cell_type": "markdown",
   "metadata": {},
   "source": [
    "↑♎分析：根据上面的数据可知：\n",
    "> 线性回归的效果并不好，下面尝试引入正则化项，看看是否可以提高预测效果。\n",
    "\n",
    "## 3.2 LASSO\n",
    "> + LASSO有个超参--正则化强度`alpha`需要设置"
   ]
  },
  {
   "cell_type": "code",
   "execution_count": 34,
   "metadata": {},
   "outputs": [
    {
     "name": "stdout",
     "output_type": "stream",
     "text": [
      "            R^2\n",
      "alpha          \n",
      "0.001  0.158191\n",
      "0.010  0.128420\n",
      "0.050  0.080821\n",
      "0.100  0.068245\n",
      "0.200  0.069297\n",
      "0.500  0.073095\n",
      "1.000  0.071893\n"
     ]
    }
   ],
   "source": [
    "# 导入Lasso\n",
    "from sklearn.linear_model import Lasso\n",
    "\n",
    "## 建立正则化强度列表，即使用不同的正则化参数建立模型并评估模型\n",
    "alpha_grid = [0.001, 0.01, 0.05, 0.1, 0.2, 0.5, 1]\n",
    "\n",
    "## 获得不同alpha下的决定系数,将结果以列表形式保存\n",
    "result_R2 = [Lasso(alpha=item).fit(X_train, y_train).score(X_test,y_test) for item in alpha_grid]\n",
    "\n",
    "## 将以上r2构建DF，index=alpha_grid,columns=['R^2']\n",
    "lasso_result_R2 = pd.DataFrame(result_R2, index=alpha_grid, columns=['R^2'])\n",
    "lasso_result_R2.index.name = 'alpha'\n",
    "print(lasso_result_R2)"
   ]
  },
  {
   "cell_type": "markdown",
   "metadata": {},
   "source": [
    "↑♎分析：根据上面的数据可知：\n",
    "> 随着`alpha`的增大，决定系数在不断降低，且LASSO模型的整体效果不如线性回归。\n",
    "\n",
    "## 3.2 岭回归\n",
    "> + Ridge 也有个超参--正则化强度`alpha`需要设置"
   ]
  },
  {
   "cell_type": "code",
   "execution_count": 35,
   "metadata": {},
   "outputs": [
    {
     "name": "stdout",
     "output_type": "stream",
     "text": [
      "            R^2\n",
      "alpha          \n",
      "0.001  0.161910\n",
      "0.010  0.161891\n",
      "0.050  0.161804\n",
      "0.100  0.161697\n",
      "0.200  0.161483\n",
      "0.500  0.160845\n",
      "1.000  0.159800\n"
     ]
    }
   ],
   "source": [
    "# SO:导入Ridge\n",
    "from sklearn.linear_model import Ridge\n",
    "\n",
    "## 继续使用上面的alpha_grid建立不同模型并评估\n",
    "alpha_grid = [0.001, 0.01, 0.05, 0.1, 0.2, 0.5, 1]\n",
    "\n",
    "## 获得不同alpha下的决定系数\n",
    "result_R2 = [Ridge(alpha=item).fit(X_train,y_train).score(X_test,y_test) for item in alpha_grid]\n",
    "## 将以上r2构建DF，index=alpha_grid,columns=['R^2']\n",
    "ridge_result_R2 = pd.DataFrame(result_R2, index=alpha_grid, columns=['R^2'])\n",
    "ridge_result_R2.index.name = 'alpha'\n",
    "print(ridge_result_R2)"
   ]
  },
  {
   "cell_type": "markdown",
   "metadata": {},
   "source": [
    "↑♎分析：根据上面的数据可知：\n",
    "> + 随着`alpha`的增大，决定系数也在不断降低，且岭回归模型的效果也不如线性回归，说明线性回归拟合的模型不存在过拟合,而是有可能存在欠拟合\n",
    "> + 下面尝试使用非线性回归的方法来建模。"
   ]
  },
  {
   "cell_type": "markdown",
   "metadata": {},
   "source": [
    "## 3.3 K近邻回归\n",
    "> + 试试使用K近邻回归是否可以得到一个效果更好的模型。\n",
    "> + 对于K近邻，有个超参数`n_neighbors`，需要做一个选择，选择一个在测试集上表现最好的来建模。"
   ]
  },
  {
   "cell_type": "code",
   "execution_count": 39,
   "metadata": {
    "scrolled": true
   },
   "outputs": [
    {
     "name": "stdout",
     "output_type": "stream",
     "text": [
      "        R^2\n",
      "K          \n",
      "1  0.438646\n",
      "2  0.500189\n",
      "3  0.589162\n",
      "4  0.559723\n",
      "5  0.528063\n",
      "6  0.495322\n",
      "7  0.491048\n",
      "8  0.510957\n"
     ]
    }
   ],
   "source": [
    "# SO：导入KNeighborsRegressor\n",
    "from sklearn.neighbors import KNeighborsRegressor\n",
    "\n",
    "## 创建一个包含不同K取值的列表\n",
    "K_grid = [1, 2, 3, 4, 5, 6, 7, 8]\n",
    "\n",
    "## 获得不同K下的决定系数\n",
    "result_R2 = [KNeighborsRegressor(n_neighbors=item).fit(X_train,y_train).score(X_test,y_test) for item in K_grid]\n",
    "## 将以上r2构建DF，index=K_grid,columns=['R^2']\n",
    "knn_result_R2 = pd.DataFrame(result_R2, index=K_grid, columns=['R^2'])\n",
    "knn_result_R2.index.name = 'K'\n",
    "print(knn_result_R2)"
   ]
  },
  {
   "cell_type": "markdown",
   "metadata": {},
   "source": [
    "↑♎分析：根据上面的数据可知：\n",
    "> + 使用K近邻回归建模时，模型效果较线性回归而言提升了不少，\n",
    "> + 且当参数K取3时，决定系数最高约为0.59。"
   ]
  },
  {
   "cell_type": "markdown",
   "metadata": {},
   "source": [
    "## 3.4 决策树回归\n",
    "> + 最后使用决策树回归，来看看是否还可以进一步提升模型的效果，\n",
    "> + 首先我们不做任何参数设定，让树完全生长。"
   ]
  },
  {
   "cell_type": "code",
   "execution_count": 36,
   "metadata": {},
   "outputs": [
    {
     "name": "stdout",
     "output_type": "stream",
     "text": [
      "训练集R^2:  0.9980781456242872\n",
      "测试集R^2:  0.17662679866043496\n"
     ]
    }
   ],
   "source": [
    "#SO: 导入DecisionTreeRegressor\n",
    "from sklearn.tree import DecisionTreeRegressor\n",
    "\n",
    "#S1: 模型构建\n",
    "DFR = DecisionTreeRegressor(random_state=10)\n",
    "#S2: 模型训练 \n",
    "DFR.fit(X_train,y_train)\n",
    "#S3: 模型预测\n",
    "y_pred_DFR = DFR.predict(X_test)\n",
    "#S4: 模型评估\n",
    "#S4-1:训练集决定系数                                  \n",
    "print(\"训练集R^2: \", DFR.score(X_train,y_train))\n",
    "#S4-1:测试集决定系数   \n",
    "print(\"测试集R^2: \", DFR.score(X_test,y_test))"
   ]
  },
  {
   "cell_type": "markdown",
   "metadata": {},
   "source": [
    "↑♎分析：根据上面的数据可知：\n",
    "> + 训练集的决定系数很高但测试集的决定系数较低，说明模型存在过拟合现象;\n",
    "> + 下面通过模型超参调`max_depth`,即通过调整树的深度来减轻过拟合的现象。"
   ]
  },
  {
   "cell_type": "code",
   "execution_count": 37,
   "metadata": {},
   "outputs": [
    {
     "data": {
      "text/plain": [
       "[0.41689526255911746,\n",
       " 0.4146056507921598,\n",
       " 0.4455252661215399,\n",
       " 0.4075468289663944,\n",
       " 0.33193530291816953]"
      ]
     },
     "execution_count": 37,
     "metadata": {},
     "output_type": "execute_result"
    }
   ],
   "source": [
    "## 构建不同树深的列表\n",
    "depth_grid = [1, 2, 3, 4, 5]\n",
    "\n",
    "## 获得不同depth下的决定系数\n",
    "result_R2 = [DecisionTreeRegressor(max_depth=d).fit(X_train,y_train).score(X_test,y_test) for d in depth_grid]\n",
    "result_R2"
   ]
  },
  {
   "cell_type": "code",
   "execution_count": 38,
   "metadata": {},
   "outputs": [
    {
     "data": {
      "text/html": [
       "<div>\n",
       "<style scoped>\n",
       "    .dataframe tbody tr th:only-of-type {\n",
       "        vertical-align: middle;\n",
       "    }\n",
       "\n",
       "    .dataframe tbody tr th {\n",
       "        vertical-align: top;\n",
       "    }\n",
       "\n",
       "    .dataframe thead th {\n",
       "        text-align: right;\n",
       "    }\n",
       "</style>\n",
       "<table border=\"1\" class=\"dataframe\">\n",
       "  <thead>\n",
       "    <tr style=\"text-align: right;\">\n",
       "      <th></th>\n",
       "      <th>R^2</th>\n",
       "    </tr>\n",
       "    <tr>\n",
       "      <th>depth</th>\n",
       "      <th></th>\n",
       "    </tr>\n",
       "  </thead>\n",
       "  <tbody>\n",
       "    <tr>\n",
       "      <td>1</td>\n",
       "      <td>0.416895</td>\n",
       "    </tr>\n",
       "    <tr>\n",
       "      <td>2</td>\n",
       "      <td>0.414606</td>\n",
       "    </tr>\n",
       "    <tr>\n",
       "      <td>3</td>\n",
       "      <td>0.445525</td>\n",
       "    </tr>\n",
       "    <tr>\n",
       "      <td>4</td>\n",
       "      <td>0.407547</td>\n",
       "    </tr>\n",
       "    <tr>\n",
       "      <td>5</td>\n",
       "      <td>0.331935</td>\n",
       "    </tr>\n",
       "  </tbody>\n",
       "</table>\n",
       "</div>"
      ],
      "text/plain": [
       "            R^2\n",
       "depth          \n",
       "1      0.416895\n",
       "2      0.414606\n",
       "3      0.445525\n",
       "4      0.407547\n",
       "5      0.331935"
      ]
     },
     "execution_count": 38,
     "metadata": {},
     "output_type": "execute_result"
    }
   ],
   "source": [
    "## 将以上r2构建DF，index=depth_grid,columns=['R^2']\n",
    "DFR_result_R2 = pd.DataFrame(result_R2,index=depth_grid,columns=['R^2'])\n",
    "DFR_result_R2.index.name = 'depth'\n",
    "DFR_result_R2"
   ]
  },
  {
   "cell_type": "markdown",
   "metadata": {},
   "source": [
    "↑♎分析：根据上面的数据可知：\n",
    "> + 限定树的深度后，测试集的决定系数有所上升，证明过拟合现象有所减轻;\n",
    "> + 但整体的效果不如K近邻回归，其中树的深度为3时模型在测试集上的效果最佳;\n",
    "> + 所以再令树的深度为3建立模型并输出此时各特征的重要性。"
   ]
  },
  {
   "cell_type": "code",
   "execution_count": 39,
   "metadata": {},
   "outputs": [
    {
     "data": {
      "text/plain": [
       "Index(['distance', 'speed', 'temp_outside', 'AC', 'rain', 'sun', 'temp_inside',\n",
       "       'get_type_E10', 'get_type_SP98'],\n",
       "      dtype='object')"
      ]
     },
     "execution_count": 39,
     "metadata": {},
     "output_type": "execute_result"
    }
   ],
   "source": [
    "X.columns"
   ]
  },
  {
   "cell_type": "code",
   "execution_count": 40,
   "metadata": {},
   "outputs": [
    {
     "name": "stdout",
     "output_type": "stream",
     "text": [
      "distance         0.820998\n",
      "temp_outside     0.177857\n",
      "rain             0.001145\n",
      "get_type_SP98    0.000000\n",
      "get_type_E10     0.000000\n",
      "temp_inside      0.000000\n",
      "sun              0.000000\n",
      "AC               0.000000\n",
      "speed            0.000000\n",
      "dtype: float64\n"
     ]
    }
   ],
   "source": [
    "#S1: 模型构建,参数：max_depth=3,random_state=10\n",
    "DFR3 = DecisionTreeRegressor(max_depth=3)\n",
    "#S2: 模型训练\n",
    "DFR3.fit(X_train, y_train)\n",
    "#S3: 模型预测\n",
    "\n",
    "## 使用各特征的重要性系数构建一个Series,index=X_train.columns,并降序排序\n",
    "features_importances = pd.Series(DFR3.feature_importances_, index=X_train.columns).sort_values(ascending=False)\n",
    "print(features_importances)"
   ]
  },
  {
   "cell_type": "markdown",
   "metadata": {},
   "source": [
    "↑♎分析：根据上面的数据可知：\n",
    "> + 可以看出`distance`(行车距离)和`temp_outside`（车外温度）较为重要。\n",
    "> + 最后我们对建立的决策树模型进行可视化。"
   ]
  },
  {
   "cell_type": "code",
   "execution_count": 41,
   "metadata": {
    "code_folding": []
   },
   "outputs": [
    {
     "data": {
      "image/png": "[encoded data removed]",
      "text/plain": [
       "<IPython.core.display.Image object>"
      ]
     },
     "execution_count": 41,
     "metadata": {},
     "output_type": "execute_result"
    }
   ],
   "source": [
    "# 决策树可视化\n",
    "## 导入必要库\n",
    "from sklearn.tree import export_graphviz\n",
    "# from sklearn.externals.six import StringIO\n",
    "from six import StringIO\n",
    "from IPython.display import Image \n",
    "import pydotplus\n",
    "\n",
    "## 输出图片到dot文件\n",
    "export_graphviz(DFR3, out_file='tree.dot', \n",
    "                feature_names=X_train.columns,\n",
    "                rounded=True, precision = 1)\n",
    "\n",
    "## 使用dot文件构造图\n",
    "graph = pydotplus.graph_from_dot_file('tree.dot')\n",
    "Image(graph.create_png())"
   ]
  },
  {
   "cell_type": "markdown",
   "metadata": {},
   "source": [
    "# 4 小结\n",
    "> + 我们对数据建立了不同的回归模型，发现线性模型效果不佳，所以通过不同方法间的比较，选择了非线性的方法建立了K近邻回归模型来预测汽油消耗量。"
   ]
  },
  {
   "cell_type": "markdown",
   "metadata": {},
   "source": [
    "**后记：**\n",
    "> + 模块版本问题`from sklearn.externals.six import StringIO`无法导入\n",
    "> + `sklearn.externals.six` 模块在 `scikit-learn 0.23` 及以后的版本已经被删除。\n"
   ]
  },
  {
   "cell_type": "code",
   "execution_count": null,
   "metadata": {},
   "outputs": [],
   "source": [
    "import sklearn"
   ]
  },
  {
   "cell_type": "code",
   "execution_count": null,
   "metadata": {},
   "outputs": [],
   "source": [
    "sklearn.__version__"
   ]
  },
  {
   "cell_type": "markdown",
   "metadata": {},
   "source": [
    "sklearn.externals.six 模块在 scikit-learn 0.23 及以后的版本已经被删除。\n",
    "\n",
    "解决方法一\n",
    "无需降级 scikit-learn。直接安装six包：\n",
    "pip install six\n",
    "然后直接引入即可：\n",
    "from six import StringIO\n"
   ]
  },
  {
   "cell_type": "code",
   "execution_count": null,
   "metadata": {},
   "outputs": [],
   "source": [
    "!pip install six"
   ]
  },
  {
   "cell_type": "code",
   "execution_count": null,
   "metadata": {},
   "outputs": [],
   "source": [
    "from six import StringIO"
   ]
  },
  {
   "cell_type": "code",
   "execution_count": null,
   "metadata": {},
   "outputs": [],
   "source": [
    "!c:\\programdata\\anaconda3\\python.exe -m pip install --upgrade pip"
   ]
  },
  {
   "cell_type": "code",
   "execution_count": null,
   "metadata": {},
   "outputs": [],
   "source": [
    "#作业：自己绘制混淆矩阵"
   ]
  }
 ],
 "metadata": {
  "kernelspec": {
   "display_name": "Python 3",
   "language": "python",
   "name": "python3"
  },
  "language_info": {
   "codemirror_mode": {
    "name": "ipython",
    "version": 3
   },
   "file_extension": ".py",
   "mimetype": "text/x-python",
   "name": "python",
   "nbconvert_exporter": "python",
   "pygments_lexer": "ipython3",
   "version": "3.7.4"
  },
  "latex_envs": {
   "LaTeX_envs_menu_present": true,
   "autoclose": false,
   "autocomplete": true,
   "bibliofile": "biblio.bib",
   "cite_by": "apalike",
   "current_citInitial": 1,
   "eqLabelWithNumbers": true,
   "eqNumInitial": 1,
   "hotkeys": {
    "equation": "Ctrl-E",
    "itemize": "Ctrl-I"
   },
   "labels_anchors": false,
   "latex_user_defs": false,
   "report_style_numbering": false,
   "user_envs_cfg": false
  },
  "toc": {
   "base_numbering": 1,
   "nav_menu": {},
   "number_sections": false,
   "sideBar": true,
   "skip_h1_title": false,
   "title_cell": "目录",
   "title_sidebar": "Contents",
   "toc_cell": true,
   "toc_position": {
    "height": "calc(100% - 180px)",
    "left": "10px",
    "top": "150px",
    "width": "202.429px"
   },
   "toc_section_display": true,
   "toc_window_display": true
  },
  "varInspector": {
   "cols": {
    "lenName": 16,
    "lenType": 16,
    "lenVar": 40
   },
   "kernels_config": {
    "python": {
     "delete_cmd_postfix": "",
     "delete_cmd_prefix": "del ",
     "library": "var_list.py",
     "varRefreshCmd": "print(var_dic_list())"
    },
    "r": {
     "delete_cmd_postfix": ") ",
     "delete_cmd_prefix": "rm(",
     "library": "var_list.r",
     "varRefreshCmd": "cat(var_dic_list()) "
    }
   },
   "types_to_exclude": [
    "module",
    "function",
    "builtin_function_or_method",
    "instance",
    "_Feature"
   ],
   "window_display": false
  }
 },
 "nbformat": 4,
 "nbformat_minor": 2
}
