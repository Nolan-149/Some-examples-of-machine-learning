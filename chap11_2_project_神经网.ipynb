{
 "cells": [
  {
   "cell_type": "markdown",
   "metadata": {},
   "source": [
    "# 神经网络初步 \n",
    "> + 任务 5：使用神经网络解决实际问题\n",
    ">> + 本节我们利用神经网络擅长解决的图像识别问题来进行实践操作。\n",
    ">> + fashion-mnist  服饰数据集\n",
    "\n",
    ">> + <img src=\"./imgs/chap11/fig11_16.png\" width=80%>\n",
    "\n",
    "## 分析fashion-mnist数据集\n",
    ">> + fashion-mnist数据集是一个用来训练图像处理系统的服饰数据集，它共包含70000幅服饰的数字图像，\n",
    ">> + 其中60000幅是训练数据，10000幅是验证数据，\n",
    ">> + 另外它对衣服和鞋子等做了分类，并使用字段label作为分类标签，其值为0-9。                                   \n",
    "\n",
    ">> + <img src=\"./imgs/chap11/fig11_17.png\" width=80%>\n",
    "\n",
    "\n",
    "> * 【示例】加载数据集\n"
   ]
  },
  {
   "cell_type": "code",
   "execution_count": 1,
   "metadata": {},
   "outputs": [],
   "source": [
    "## 三剑客\n",
    "import numpy as np\n",
    "import pandas as pd\n",
    "import matplotlib.pyplot as plt\n",
    "\n",
    "%matplotlib inline\n",
    "plt.rcParams['font.sans-serif'] = ['SimHei']\n",
    "plt.rcParams['axes.unicode_minus'] = False"
   ]
  },
  {
   "cell_type": "code",
   "execution_count": 6,
   "metadata": {},
   "outputs": [
    {
     "data": {
      "text/plain": [
       "Index(['label', 'pixel1', 'pixel2', 'pixel3', 'pixel4', 'pixel5', 'pixel6',\n",
       "       'pixel7', 'pixel8', 'pixel9',\n",
       "       ...\n",
       "       'pixel775', 'pixel776', 'pixel777', 'pixel778', 'pixel779', 'pixel780',\n",
       "       'pixel781', 'pixel782', 'pixel783', 'pixel784'],\n",
       "      dtype='object', length=785)"
      ]
     },
     "execution_count": 6,
     "metadata": {},
     "output_type": "execute_result"
    }
   ],
   "source": [
    "#导入MLP神经网络\n",
    "from sklearn.neural_network import MLPClassifier\n",
    "\n",
    "#导入数据集拆分工具\n",
    "from sklearn.model_selection import train_test_split\n",
    "\n",
    "#使用pandas载入数据集，把路径替换为数据集存放路径\n",
    "data_path = \"./dataSets/fashion-mnist/fashion-mnist_train.csv\"\n",
    "data = pd.read_csv(data_path, sep = ',')\n",
    "#显示数据集key值\n",
    "data.keys()"
   ]
  },
  {
   "cell_type": "code",
   "execution_count": 7,
   "metadata": {},
   "outputs": [
    {
     "name": "stdout",
     "output_type": "stream",
     "text": [
      "样本数量：60000, 样本特征数：785\n"
     ]
    }
   ],
   "source": [
    "#打印样本数量和训练特征数\n",
    "print('样本数量：{}, 样本特征数：{}'.format(data.shape[0], data.shape[1]))"
   ]
  },
  {
   "cell_type": "code",
   "execution_count": 8,
   "metadata": {},
   "outputs": [
    {
     "data": {
      "text/html": [
       "<div>\n",
       "<style scoped>\n",
       "    .dataframe tbody tr th:only-of-type {\n",
       "        vertical-align: middle;\n",
       "    }\n",
       "\n",
       "    .dataframe tbody tr th {\n",
       "        vertical-align: top;\n",
       "    }\n",
       "\n",
       "    .dataframe thead th {\n",
       "        text-align: right;\n",
       "    }\n",
       "</style>\n",
       "<table border=\"1\" class=\"dataframe\">\n",
       "  <thead>\n",
       "    <tr style=\"text-align: right;\">\n",
       "      <th></th>\n",
       "      <th>label</th>\n",
       "      <th>pixel1</th>\n",
       "      <th>pixel2</th>\n",
       "      <th>pixel3</th>\n",
       "      <th>pixel4</th>\n",
       "      <th>pixel5</th>\n",
       "      <th>pixel6</th>\n",
       "      <th>pixel7</th>\n",
       "      <th>pixel8</th>\n",
       "      <th>pixel9</th>\n",
       "      <th>...</th>\n",
       "      <th>pixel775</th>\n",
       "      <th>pixel776</th>\n",
       "      <th>pixel777</th>\n",
       "      <th>pixel778</th>\n",
       "      <th>pixel779</th>\n",
       "      <th>pixel780</th>\n",
       "      <th>pixel781</th>\n",
       "      <th>pixel782</th>\n",
       "      <th>pixel783</th>\n",
       "      <th>pixel784</th>\n",
       "    </tr>\n",
       "  </thead>\n",
       "  <tbody>\n",
       "    <tr>\n",
       "      <th>0</th>\n",
       "      <td>2</td>\n",
       "      <td>0</td>\n",
       "      <td>0</td>\n",
       "      <td>0</td>\n",
       "      <td>0</td>\n",
       "      <td>0</td>\n",
       "      <td>0</td>\n",
       "      <td>0</td>\n",
       "      <td>0</td>\n",
       "      <td>0</td>\n",
       "      <td>...</td>\n",
       "      <td>0</td>\n",
       "      <td>0</td>\n",
       "      <td>0</td>\n",
       "      <td>0</td>\n",
       "      <td>0</td>\n",
       "      <td>0</td>\n",
       "      <td>0</td>\n",
       "      <td>0</td>\n",
       "      <td>0</td>\n",
       "      <td>0</td>\n",
       "    </tr>\n",
       "    <tr>\n",
       "      <th>1</th>\n",
       "      <td>9</td>\n",
       "      <td>0</td>\n",
       "      <td>0</td>\n",
       "      <td>0</td>\n",
       "      <td>0</td>\n",
       "      <td>0</td>\n",
       "      <td>0</td>\n",
       "      <td>0</td>\n",
       "      <td>0</td>\n",
       "      <td>0</td>\n",
       "      <td>...</td>\n",
       "      <td>0</td>\n",
       "      <td>0</td>\n",
       "      <td>0</td>\n",
       "      <td>0</td>\n",
       "      <td>0</td>\n",
       "      <td>0</td>\n",
       "      <td>0</td>\n",
       "      <td>0</td>\n",
       "      <td>0</td>\n",
       "      <td>0</td>\n",
       "    </tr>\n",
       "    <tr>\n",
       "      <th>2</th>\n",
       "      <td>6</td>\n",
       "      <td>0</td>\n",
       "      <td>0</td>\n",
       "      <td>0</td>\n",
       "      <td>0</td>\n",
       "      <td>0</td>\n",
       "      <td>0</td>\n",
       "      <td>0</td>\n",
       "      <td>5</td>\n",
       "      <td>0</td>\n",
       "      <td>...</td>\n",
       "      <td>0</td>\n",
       "      <td>0</td>\n",
       "      <td>0</td>\n",
       "      <td>30</td>\n",
       "      <td>43</td>\n",
       "      <td>0</td>\n",
       "      <td>0</td>\n",
       "      <td>0</td>\n",
       "      <td>0</td>\n",
       "      <td>0</td>\n",
       "    </tr>\n",
       "    <tr>\n",
       "      <th>3</th>\n",
       "      <td>0</td>\n",
       "      <td>0</td>\n",
       "      <td>0</td>\n",
       "      <td>0</td>\n",
       "      <td>1</td>\n",
       "      <td>2</td>\n",
       "      <td>0</td>\n",
       "      <td>0</td>\n",
       "      <td>0</td>\n",
       "      <td>0</td>\n",
       "      <td>...</td>\n",
       "      <td>3</td>\n",
       "      <td>0</td>\n",
       "      <td>0</td>\n",
       "      <td>0</td>\n",
       "      <td>0</td>\n",
       "      <td>1</td>\n",
       "      <td>0</td>\n",
       "      <td>0</td>\n",
       "      <td>0</td>\n",
       "      <td>0</td>\n",
       "    </tr>\n",
       "    <tr>\n",
       "      <th>4</th>\n",
       "      <td>3</td>\n",
       "      <td>0</td>\n",
       "      <td>0</td>\n",
       "      <td>0</td>\n",
       "      <td>0</td>\n",
       "      <td>0</td>\n",
       "      <td>0</td>\n",
       "      <td>0</td>\n",
       "      <td>0</td>\n",
       "      <td>0</td>\n",
       "      <td>...</td>\n",
       "      <td>0</td>\n",
       "      <td>0</td>\n",
       "      <td>0</td>\n",
       "      <td>0</td>\n",
       "      <td>0</td>\n",
       "      <td>0</td>\n",
       "      <td>0</td>\n",
       "      <td>0</td>\n",
       "      <td>0</td>\n",
       "      <td>0</td>\n",
       "    </tr>\n",
       "  </tbody>\n",
       "</table>\n",
       "<p>5 rows × 785 columns</p>\n",
       "</div>"
      ],
      "text/plain": [
       "   label  pixel1  pixel2  pixel3  pixel4  pixel5  pixel6  pixel7  pixel8  \\\n",
       "0      2       0       0       0       0       0       0       0       0   \n",
       "1      9       0       0       0       0       0       0       0       0   \n",
       "2      6       0       0       0       0       0       0       0       5   \n",
       "3      0       0       0       0       1       2       0       0       0   \n",
       "4      3       0       0       0       0       0       0       0       0   \n",
       "\n",
       "   pixel9  ...  pixel775  pixel776  pixel777  pixel778  pixel779  pixel780  \\\n",
       "0       0  ...         0         0         0         0         0         0   \n",
       "1       0  ...         0         0         0         0         0         0   \n",
       "2       0  ...         0         0         0        30        43         0   \n",
       "3       0  ...         3         0         0         0         0         1   \n",
       "4       0  ...         0         0         0         0         0         0   \n",
       "\n",
       "   pixel781  pixel782  pixel783  pixel784  \n",
       "0         0         0         0         0  \n",
       "1         0         0         0         0  \n",
       "2         0         0         0         0  \n",
       "3         0         0         0         0  \n",
       "4         0         0         0         0  \n",
       "\n",
       "[5 rows x 785 columns]"
      ]
     },
     "execution_count": 8,
     "metadata": {},
     "output_type": "execute_result"
    }
   ],
   "source": [
    "# 查看前5个样本\n",
    "data[:5]"
   ]
  },
  {
   "cell_type": "markdown",
   "metadata": {},
   "source": [
    "> * ↑ fashion-mnist数训练集包含两种数据：\n",
    ">> * 一种是数据的分类标签（`label`）\n",
    ">> * 一种是`[piexl1],......[piexl784]`数据特征，共784个（数据集图片信息：28像素×28像素=784）         \n",
    "\n",
    "> + 784个`[piexl1],......[piexl784]`数据特征存储的是无符号的8位整型数组（对应十进制0~255），用来表示灰度值。   \n",
    "> + 为了让特征的数值更利于建模，我们把特征向量的值全部除以255，这样全部数值范围为0~1。\n",
    "> + 同时为了控制训练时长，我们从训练集中随机选用6000个样本作为训练集，1200个样本作为验证集。\n",
    "\n",
    "> + 【示例】分割训练集和验证集并进行数据处理"
   ]
  },
  {
   "cell_type": "code",
   "execution_count": 9,
   "metadata": {},
   "outputs": [],
   "source": [
    "#将分类标签字段删除\n",
    "X = data.drop(['label'], axis = 1)\n",
    "y = data['label']\n",
    "\n",
    "#建立训练数据集和验证数据集\n",
    "X_train, X_test, y_train, y_test = train_test_split(X, y, \n",
    "                                                    train_size = 6000, \n",
    "                                                    test_size=1200, \n",
    "                                                    random_state=42)\n",
    "\n",
    "#特征向量的值全部除以255，使数值在0和1之间\n",
    "X_train = X_train / 255.\n",
    "X_test = X_test / 255."
   ]
  },
  {
   "cell_type": "markdown",
   "metadata": {},
   "source": [
    "## 训练MLP神经网络\n",
    "> * 【示例】训练神经网络模型并对模型进行评分"
   ]
  },
  {
   "cell_type": "code",
   "execution_count": 10,
   "metadata": {},
   "outputs": [
    {
     "name": "stdout",
     "output_type": "stream",
     "text": [
      "验证数据集得分：84.25%\n"
     ]
    }
   ],
   "source": [
    "#设置神经网络的隐藏层为两个100个节点\n",
    "mlp_2layers = MLPClassifier(solver='lbfgs',hidden_layer_sizes=[100,100],\n",
    "                            activation='relu', alpha = 1e-6,random_state=42)\n",
    "#使用数据训练神经网络模型\n",
    "mlp_2layers.fit(X_train,y_train)\n",
    "\n",
    "#打印模型分数\n",
    "print('验证数据集得分：{:.2f}%'.format(mlp_2layers.score(X_test,y_test)*100))"
   ]
  },
  {
   "cell_type": "code",
   "execution_count": 11,
   "metadata": {},
   "outputs": [
    {
     "name": "stdout",
     "output_type": "stream",
     "text": [
      "MLPClassifier:hidden_layer_sizes=[100,100] 得分：94.73%\n"
     ]
    }
   ],
   "source": [
    "print('MLPClassifier:hidden_layer_sizes=[100,100] 得分：{:.2f}%'.format(mlp_2layers.score(X_train,y_train)*100))"
   ]
  },
  {
   "cell_type": "markdown",
   "metadata": {},
   "source": [
    "↑ 对以上模型来讲，训练集得分为94.73%,而测试集上是84.25%，你如何对该模型评判？？ 如何调整呢？"
   ]
  },
  {
   "cell_type": "markdown",
   "metadata": {},
   "source": [
    "## 使用模型进行图像识别\n",
    "\n",
    "> * 【示例】将分类标签存储到字典并创建函数，获得测试对应结果"
   ]
  },
  {
   "cell_type": "code",
   "execution_count": 12,
   "metadata": {},
   "outputs": [
    {
     "data": {
      "text/plain": [
       "'4：Coat(外套)'"
      ]
     },
     "execution_count": 12,
     "metadata": {},
     "output_type": "execute_result"
    }
   ],
   "source": [
    "#建立分类标签描述字典\n",
    "class_t = [\n",
    "    \"0：T-shirt/top(T恤)\",\n",
    "    \"1：Trouser(裤子)\",\n",
    "    \"2：Pullover(套衫)\",\n",
    "    \"3：Dress(裙子)\",\n",
    "    \"4：Coat(外套)\",\n",
    "    \"5：Sandal(凉鞋)\",\n",
    "    \"6：Shirt(衬衫)\",\n",
    "    \"7：Sneaker(运动鞋)\",\n",
    "    \"8：Bag(包)\",\n",
    "    \"9：AnkleBoot(踝靴)\"\n",
    "]\n",
    "\n",
    "#根据输入的衣物数字，返回衣物的分类描述，可以显示分类后的衣物描述\n",
    "def get_label_class(label):\n",
    "    return class_t[label]\n",
    "\n",
    "#测试分类描述结果\n",
    "get_label_class(4)"
   ]
  },
  {
   "cell_type": "markdown",
   "metadata": {},
   "source": [
    "> * 【示例】在训练集中随机选择一个样本，并图显，做为验证模型的样本"
   ]
  },
  {
   "cell_type": "code",
   "execution_count": 19,
   "metadata": {},
   "outputs": [
    {
     "name": "stdout",
     "output_type": "stream",
     "text": [
      "测试数据集的大小(shape)： (10000, 785)\n",
      "随机选取第493个样本\n"
     ]
    },
    {
     "data": {
      "text/plain": [
       "<matplotlib.image.AxesImage at 0x198c1286ba8>"
      ]
     },
     "execution_count": 19,
     "metadata": {},
     "output_type": "execute_result"
    },
    {
     "data": {
      "image/png": "[encoded data removed]",
      "text/plain": [
       "<Figure size 432x288 with 1 Axes>"
      ]
     },
     "metadata": {
      "needs_background": "light"
     },
     "output_type": "display_data"
    }
   ],
   "source": [
    "import matplotlib.pyplot as plt\n",
    "import random\n",
    "\n",
    "# 打开test文件\n",
    "data_test_path = \"./dataSets/fashion-mnist/fashion-mnist_test.csv\"\n",
    "test_data = pd.read_csv(data_test_path)\n",
    "\n",
    "# 打印test_data形状\n",
    "print(\"测试数据集的大小(shape)：\",test_data.shape)\n",
    "\n",
    "# 随机从test_data中取个样本\n",
    "tst_idx = random.randint(0, test_data.shape[1])\n",
    "print(\"随机选取第{}个样本\".format(tst_idx))\n",
    "sample = np.reshape(test_data[test_data.columns[1:]].iloc[tst_idx].values, (28,28))\n",
    "\n",
    "# 进行图显\n",
    "plt.figure()\n",
    "plt.title(\"labeled class: {}\".format(get_label_class(test_data[\"label\"].iloc[tst_idx])))\n",
    "plt.imshow(sample, 'gray')"
   ]
  },
  {
   "cell_type": "markdown",
   "metadata": {},
   "source": [
    "> * 【示例】利用以上图像进行模型验证\n",
    ">> + 注意：需要将待验证的图像转换为模型可以读取的numpy数组，并进行归一处理"
   ]
  },
  {
   "cell_type": "code",
   "execution_count": 21,
   "metadata": {},
   "outputs": [
    {
     "data": {
      "text/plain": [
       "<matplotlib.image.AxesImage at 0x198c17f0780>"
      ]
     },
     "execution_count": 21,
     "metadata": {},
     "output_type": "execute_result"
    },
    {
     "data": {
      "image/png": "[encoded data removed]",
      "text/plain": [
       "<Figure size 432x288 with 1 Axes>"
      ]
     },
     "metadata": {
      "needs_background": "light"
     },
     "output_type": "display_data"
    }
   ],
   "source": [
    "# 进行归一化处理\n",
    "#sample = np.reshape(test_data[test_data.columns[1:]].iloc[tst_idx].values/255, (28,28))\n",
    "sample = sample/255\n",
    "plt.figure()\n",
    "plt.title(\"labeled class: {}\".format(get_label_class(test_data[\"label\"].iloc[tst_idx])))\n",
    "plt.imshow(sample, 'gray')"
   ]
  },
  {
   "cell_type": "code",
   "execution_count": 22,
   "metadata": {},
   "outputs": [
    {
     "data": {
      "text/plain": [
       "numpy.ndarray"
      ]
     },
     "execution_count": 22,
     "metadata": {},
     "output_type": "execute_result"
    }
   ],
   "source": [
    "type(sample)"
   ]
  },
  {
   "cell_type": "code",
   "execution_count": 23,
   "metadata": {},
   "outputs": [
    {
     "data": {
      "text/plain": [
       "(28, 28)"
      ]
     },
     "execution_count": 23,
     "metadata": {},
     "output_type": "execute_result"
    }
   ],
   "source": [
    "sample.shape"
   ]
  },
  {
   "cell_type": "code",
   "execution_count": 24,
   "metadata": {},
   "outputs": [
    {
     "name": "stdout",
     "output_type": "stream",
     "text": [
      "对图片中识别出的分类是：[8：Bag(包)]\n"
     ]
    }
   ],
   "source": [
    "# 以需要进行reshape操作,转成一维数组arr，输入到预测模型中\n",
    "arr1 = np.array(sample).reshape(1,-1)\n",
    "\n",
    "#进行图像识别\n",
    "ret_class = mlp_2layers.predict(arr1)[0]\n",
    "print('对图片中识别出的分类是：[{}]'.format(get_label_class(ret_class)))"
   ]
  },
  {
   "cell_type": "markdown",
   "metadata": {},
   "source": [
    "↑ 以上是从验证集中随机选取的一个样本，从数据验证数据集上的准确率得分：84.25%看，效果一般般，但随机选择的绝大部分都能判断对。抛开测试集，用一张独立的图片来测试一下，看模型的预测效果。"
   ]
  },
  {
   "cell_type": "markdown",
   "metadata": {},
   "source": [
    "> * 【示例】利用训练好的模型对自定义的图片进行预测"
   ]
  },
  {
   "cell_type": "code",
   "execution_count": 27,
   "metadata": {},
   "outputs": [
    {
     "name": "stdout",
     "output_type": "stream",
     "text": [
      "对图片中识别出的分类是：[9：AnkleBoot(踝靴)]\n"
     ]
    },
    {
     "data": {
      "text/plain": [
       "<matplotlib.image.AxesImage at 0x198c1443080>"
      ]
     },
     "execution_count": 27,
     "metadata": {},
     "output_type": "execute_result"
    },
    {
     "data": {
      "image/png": "[encoded data removed]",
      "text/plain": [
       "<Figure size 432x288 with 1 Axes>"
      ]
     },
     "metadata": {
      "needs_background": "light"
     },
     "output_type": "display_data"
    }
   ],
   "source": [
    "#导入numpy\n",
    "import numpy as np\n",
    "\n",
    "#导入图像处理工具\n",
    "from PIL import Image\n",
    "\n",
    "#打开图像\n",
    "imag_path = \"./dataSets/fashion-mnist/test/9/AnkleBoot2.png\"\n",
    "image=Image.open(imag_path).convert('F')\n",
    "\n",
    "#调整图像的大小\n",
    "image = image.resize((28,28))\n",
    "arr=[]\n",
    "#将图像中的像素作为预测数据点的特征\n",
    "for i in range(28):\n",
    "    for j in range(28):\n",
    "        pixel = float(image.getpixel((j,i)))/255.\n",
    "        arr.append(pixel)\n",
    "\n",
    "#将以上二维数组，进行reshape操作后，将数据输入到预测模型中\n",
    "arr1 = np.array(arr).reshape(1,-1)\n",
    "\n",
    "#进行图像识别\n",
    "ret_class=mlp_2layers.predict(arr1)[0]\n",
    "print('对图片中识别出的分类是：[{}]'.format(get_label_class(ret_class)))\n",
    "\n",
    "# 显示图片image\n",
    "plt.figure()\n",
    "plt.imshow(image, 'gray')"
   ]
  },
  {
   "cell_type": "code",
   "execution_count": 29,
   "metadata": {},
   "outputs": [
    {
     "data": {
      "text/plain": [
       "'D:\\\\JupyterProjects\\\\00_sklearn202209'"
      ]
     },
     "execution_count": 29,
     "metadata": {},
     "output_type": "execute_result"
    }
   ],
   "source": [
    "# 查看当前路径\n",
    "import os\n",
    "os.getcwd()"
   ]
  },
  {
   "cell_type": "code",
   "execution_count": 31,
   "metadata": {},
   "outputs": [
    {
     "data": {
      "text/plain": [
       "['AnkleBoot1.png', 'AnkleBoot2.png']"
      ]
     },
     "execution_count": 31,
     "metadata": {},
     "output_type": "execute_result"
    }
   ],
   "source": [
    "# 查看路径下的文件\n",
    "imag_path = \"./dataSets/fashion-mnist/test/9\"\n",
    "os.listdir(imag_path)"
   ]
  },
  {
   "cell_type": "markdown",
   "metadata": {},
   "source": [
    "## 小结\n",
    "> + 1、神经网络是一种算法结构，它让机器能够进行自我学习。\n",
    "> + 2、神经网络可以从超大数据集中读取信息并且能够建立非常复杂的模型，因此在计算能力充足并且参数设置合适的情况下，神经网络可以比其他的机器学习算法表现的更优异。\n",
    "> + 3、神经网络的缺点有模型训练的时间相对更长、对计算性能的要求相对更高。\n",
    "> + 4、神经网络模型中的参数调节是常用的优化手段，尤其是调整隐藏层的数量和隐藏层中节点的数量。\n"
   ]
  }
 ],
 "metadata": {
  "kernelspec": {
   "display_name": "Python 3",
   "language": "python",
   "name": "python3"
  },
  "language_info": {
   "codemirror_mode": {
    "name": "ipython",
    "version": 3
   },
   "file_extension": ".py",
   "mimetype": "text/x-python",
   "name": "python",
   "nbconvert_exporter": "python",
   "pygments_lexer": "ipython3",
   "version": "3.7.4"
  },
  "latex_envs": {
   "LaTeX_envs_menu_present": true,
   "autoclose": false,
   "autocomplete": true,
   "bibliofile": "biblio.bib",
   "cite_by": "apalike",
   "current_citInitial": 1,
   "eqLabelWithNumbers": true,
   "eqNumInitial": 1,
   "hotkeys": {
    "equation": "Ctrl-E",
    "itemize": "Ctrl-I"
   },
   "labels_anchors": false,
   "latex_user_defs": false,
   "report_style_numbering": false,
   "user_envs_cfg": false
  },
  "toc": {
   "base_numbering": 1,
   "nav_menu": {},
   "number_sections": true,
   "sideBar": true,
   "skip_h1_title": false,
   "title_cell": "Table of Contents",
   "title_sidebar": "Contents",
   "toc_cell": false,
   "toc_position": {},
   "toc_section_display": true,
   "toc_window_display": false
  },
  "varInspector": {
   "cols": {
    "lenName": 16,
    "lenType": 16,
    "lenVar": 40
   },
   "kernels_config": {
    "python": {
     "delete_cmd_postfix": "",
     "delete_cmd_prefix": "del ",
     "library": "var_list.py",
     "varRefreshCmd": "print(var_dic_list())"
    },
    "r": {
     "delete_cmd_postfix": ") ",
     "delete_cmd_prefix": "rm(",
     "library": "var_list.r",
     "varRefreshCmd": "cat(var_dic_list()) "
    }
   },
   "types_to_exclude": [
    "module",
    "function",
    "builtin_function_or_method",
    "instance",
    "_Feature"
   ],
   "window_display": false
  }
 },
 "nbformat": 4,
 "nbformat_minor": 2
}
